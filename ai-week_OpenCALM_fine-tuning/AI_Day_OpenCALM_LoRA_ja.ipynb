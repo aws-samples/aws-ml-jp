{
 "cells": [
  {
   "cell_type": "markdown",
   "id": "9b262721-9ba7-40c2-acc4-96c41cf9230a",
   "metadata": {},
   "source": [
    "# AWS AI Week : OpenCALM SageMaker Fine-tuning\n",
    "\n",
    "SageMaker上でLoRAにより [OpenCALM](https://huggingface.co/cyberagent/open-calm-7b) を Fine-tuning し、デプロイするサンプルコードです。\n",
    "- このデモでは、Instruction tuning 形式で Fine-tuning を行います。\n",
    "- [Databricks Dolly 15k](https://github.com/databrickslabs/dolly/tree/master/data) データセットを日本語に翻訳したものを利用します。　(License: [Creative Commons Attribution-ShareAlike 3.0 Unported License](https://creativecommons.org/licenses/by-sa/3.0/legalcode))。\n",
    "- Dolly dataset は、質問への回答(オープン/クローズ)、分類、要約、情報抽出、ブレインストーミングなど、約 15,000 のさまざまなカテゴリの Instruction レコードを含んでいます。\n",
    "- ユースケースに対応するために、category が 「closed_qa」(与えた input を元にした質問の回答)、「information_extraction」(与えた input から情報を抽出), 「summarization」(要約) であるデータを抽出したデータセットを学習に使用します。\n",
    "\n",
    "- 以下のようなユースケースを想定しています。\n",
    "  - 日本語対応の大規模言語モデルを使いたい\n",
    "  - 情報はあるがあまり貯めてない\n",
    "  - 情報の種類はバラバラ (ニュース、フィードバック、議事録、顧客情報など)\n",
    "  - やることは「情報を抜き出す」「まとめる」\n",
    "  - 小さく始めたい\n",
    "\n",
    "SageMaker Studio のノートブックカーネルは、 Data Science 2.0、Python 3 で動作確認済みです。\n",
    "\n",
    "---\n",
    "\n",
    "まず、必要なパッケージをインストールしてアップグレードします。以下のセルを初回に実行したら、カーネルを再起動します。\n",
    "\n",
    "---"
   ]
  },
  {
   "cell_type": "code",
   "execution_count": null,
   "id": "32904a97-bedb-451a-b2cc-ac691f7708de",
   "metadata": {
    "scrolled": true,
    "tags": []
   },
   "outputs": [],
   "source": [
    "!pip install -U \"sagemaker>=2.143.0\""
   ]
  },
  {
   "cell_type": "code",
   "execution_count": null,
   "id": "2edc8a17-9a6b-4dd6-823e-878f6b950ea2",
   "metadata": {
    "tags": []
   },
   "outputs": [],
   "source": [
    "import sagemaker, boto3, json\n",
    "from sagemaker import get_execution_role\n",
    "from sagemaker.pytorch.model import PyTorchModel\n",
    "from sagemaker.huggingface import HuggingFace\n",
    "\n",
    "role = get_execution_role()\n",
    "region = boto3.Session().region_name\n",
    "sess = sagemaker.Session()\n",
    "bucket = sess.default_bucket()\n",
    "\n",
    "sagemaker.__version__"
   ]
  },
  {
   "cell_type": "markdown",
   "id": "bc1b5fe7-9ed9-4d24-b344-a40a781a24a1",
   "metadata": {
    "tags": []
   },
   "source": [
    "## 学習用データセットの準備\n",
    "---\n",
    "Fine-Tuning 用の日本語データをダウンロードします。\n",
    "\n",
    "---"
   ]
  },
  {
   "cell_type": "code",
   "execution_count": null,
   "id": "2ef68da3-a2d6-4f18-9803-d87f4687c9dd",
   "metadata": {
    "scrolled": true,
    "tags": []
   },
   "outputs": [],
   "source": [
    "!curl -L https://huggingface.co/datasets/kunishou/databricks-dolly-15k-ja/resolve/main/databricks-dolly-15k-ja.json --create-dirs -o ./data/databricks-dolly-15k-ja.json"
   ]
  },
  {
   "cell_type": "code",
   "execution_count": null,
   "id": "0f432997-71eb-4fb2-9aa2-ba51ffd243c8",
   "metadata": {
    "tags": []
   },
   "outputs": [],
   "source": [
    "!head ./data/databricks-dolly-15k-ja.json"
   ]
  },
  {
   "cell_type": "markdown",
   "id": "22dd631f-5d99-42fd-b944-6210d574440a",
   "metadata": {},
   "source": [
    "---\n",
    "\n",
    "データセットをS3へアップロードします。\n",
    "\n",
    "- 以下を実行したら、直接作成した json ファイルの内容も確認してみてください。\n",
    "- 元データ (databricks-dolly-15k-ja.json)、および、作成済みデータ (databricks-dolly-15k-ja_extracted.json) は、「data」フォルダに格納されます。\n",
    "\n",
    "---"
   ]
  },
  {
   "cell_type": "code",
   "execution_count": null,
   "id": "56a10d5f-733e-4505-8224-1cd622f8a4fc",
   "metadata": {
    "tags": []
   },
   "outputs": [],
   "source": [
    "# jsonの要素数を確認\n",
    "with open('./data/databricks-dolly-15k-ja.json') as f:\n",
    "    jsondata = json.load(f)\n",
    "print(\"もとの要素数：\", len(jsondata))\n",
    "\n",
    "# categoryを指定してデータを抽出する\n",
    "extracted_data = []\n",
    "for d in jsondata:\n",
    "    if d['category'] in ['closed_qa', 'information_extraction', 'summarization']:\n",
    "        extracted_data.append(d)\n",
    "        \n",
    "with open('./data/databricks-dolly-15k-ja_extracted.json', 'w') as f:\n",
    "    json.dump(extracted_data, f, ensure_ascii=False, indent=2)      \n",
    "\n",
    "print(\"抽出後の要素数：\", len(extracted＿data))\n",
    "    \n",
    "# 最初の5000件のインデックスの要素を保存する場合\n",
    "# with open('./data/databricks-dolly-15k-ja_first_5000.json', 'w') as f:\n",
    "#    json.dump(jsondata[:5000], f, ensure_ascii=False)\n",
    "    \n",
    "# 最初の5000件を除いたインデックスの要素を保存する場合\n",
    "# with open('./data/databricks-dolly-15k-ja_after_5000.json', 'w') as f:\n",
    "#    json.dump(jsondata[5000:], f, ensure_ascii=False)"
   ]
  },
  {
   "cell_type": "code",
   "execution_count": null,
   "id": "014e57f3-9435-490c-b9d9-0fa5a6a8a6a9",
   "metadata": {
    "tags": []
   },
   "outputs": [],
   "source": [
    "# 学習させるデータを指定してS3へアップロード\n",
    "input_train = sess.upload_data(\n",
    "    # path=\"./data/databricks-dolly-15k-ja.json\",\n",
    "    path=\"./data/databricks-dolly-15k-ja_extracted.json\",\n",
    "    key_prefix=\"Dolly\"\n",
    ")\n",
    "input_train"
   ]
  },
  {
   "cell_type": "markdown",
   "id": "07b5098b-1ea9-4b85-88ee-9297d5e00c09",
   "metadata": {},
   "source": [
    "## Fine-tuning を実行\n",
    "---\n",
    "作成したデータセットを使用して、Fine-tuning を行います。\n",
    "\n",
    "今回は、[HuggingFace estimator](https://sagemaker.readthedocs.io/en/stable/frameworks/huggingface/sagemaker.huggingface.html#hugging-face-estimator) (推定器) を使用して、学習を行います。\n",
    "\n",
    "- entry_point : 学習のエントリポイントとして実行する Python ソースファイルへのパス(source＿dir)\n",
    "- instance_type : 学習で使用するインスタンスタイプを指定\n",
    "\n",
    "主なハイパーパラメータを説明します。\n",
    "- base_model : Fine-tuning に使用するモデルを指定\n",
    "- data_path : Fine-tuning に使用するデータを指定\n",
    "- num_epochs : 1 epochは、データセット全体が1回だけ渡される(小さなバッチに分割して送信される)\n",
    "- LoRA (Low Rank Adapter)\n",
    "  凍結した事前学習済みモデルに低ランク行列を追加し、低ランク行列に対してパラメータ更新する手法。\n",
    "  - lora_target_modules : チューニング用のパラメーターを用意する\n",
    "  - lora_r : LoRA の行列ランクであり、小さいほど学習によって更新されるパラメータは少なくなる。\n",
    "- prompt_template_name : プロンプトのテンプレートを指定(scripts/code/templates/)\n",
    "\n",
    "---"
   ]
  },
  {
   "cell_type": "code",
   "execution_count": null,
   "id": "1cb98557-3a3f-40ef-baf3-538c4ee4aa8a",
   "metadata": {
    "tags": []
   },
   "outputs": [],
   "source": [
    "base_job_name=\"OpenCALM\"\n",
    "hyperparameters={\n",
    "    'base_model':'cyberagent/open-calm-7b', # OpenCALM 7B モデルを使用\n",
    "    # 'load_in_8bit': True,\n",
    "    'load_in_4bit': True,\n",
    "    'pad_token_id': 1,\n",
    "    'data_path': '/opt/ml/input/data/train/databricks-dolly-15k-ja_extracted.json', # 要素を調整したデータセットを指定\n",
    "    'num_epochs': 1, # default 3\n",
    "    'cutoff_len': 512,\n",
    "    'group_by_length': False,\n",
    "    'output_dir': '/opt/ml/model',\n",
    "    # 'resume_from_checkpoint': '/opt/ml/checkpoints',\n",
    "    'lora_target_modules': '[query_key_value]',\n",
    "    'lora_r': 16,\n",
    "    'batch_size': 32,\n",
    "    'micro_batch_size': 4,\n",
    "    'prompt_template_name': 'alpaca',\n",
    "}"
   ]
  },
  {
   "cell_type": "code",
   "execution_count": null,
   "id": "e4a8d836-d44f-4bdc-8d87-cff90f9f6ea7",
   "metadata": {
    "scrolled": true,
    "tags": []
   },
   "outputs": [],
   "source": [
    "huggingface_estimator = HuggingFace(\n",
    "    base_job_name=base_job_name,\n",
    "    role=role,\n",
    "    entry_point='finetune.py',\n",
    "    source_dir='./scripts/code',\n",
    "    # instance_type='ml.g5.2xlarge',\n",
    "    instance_type='ml.p3.2xlarge', # 小さい GPU インスタンスに変更\n",
    "    instance_count=1,\n",
    "    volume_size=200,\n",
    "    transformers_version='4.26',\n",
    "    pytorch_version='1.13',\n",
    "    py_version='py39',\n",
    "    use_spot_instances=False,\n",
    "    # use_spot_instances=True, # スポットインスタンスを利用する場合は True にし、max_wait を有効にする。\n",
    "    # max_wait=86400,\n",
    "    hyperparameters=hyperparameters,\n",
    "    metric_definitions=[{'Name': 'eval_loss', 'Regex': \"'eval_loss': (\\d\\.\\d+)\"},\n",
    "                        {'Name': 'train_loss', 'Regex': \"'loss': (\\d\\.\\d+)\"}],\n",
    "    # checkpoint_s3_uri=f\"s3://{bucket}/{base_job_name}/checkpoint/\",\n",
    ")\n",
    "huggingface_estimator.fit({'train': input_train})"
   ]
  },
  {
   "cell_type": "markdown",
   "id": "e8df141b-86f8-4eff-8ba5-129b78d3efd4",
   "metadata": {
    "tags": []
   },
   "source": [
    "## トレーニングされたモデルを取得\n",
    "---"
   ]
  },
  {
   "cell_type": "code",
   "execution_count": null,
   "id": "a02eb6aa-b4c3-4d60-a3fc-94f394df7ac1",
   "metadata": {
    "tags": []
   },
   "outputs": [],
   "source": [
    "import boto3\n",
    "import sagemaker\n",
    "\n",
    "# 最後に実行されたトレーニングジョブで出力されたアーティファクトを取得して S3 に保存\n",
    "def get_latest_training_job_artifact(base_job_name):\n",
    "    sagemaker_client = boto3.client('sagemaker')\n",
    "    response = sagemaker_client.list_training_jobs(NameContains=base_job_name, SortBy='CreationTime', SortOrder='Descending')\n",
    "    training_job_arn = response['TrainingJobSummaries'][0]['TrainingJobArn']\n",
    "    training_job_description = sagemaker_client.describe_training_job(TrainingJobName=training_job_arn.split('/')[-1])\n",
    "    return training_job_description['ModelArtifacts']['S3ModelArtifacts']\n",
    "\n",
    "try:\n",
    "    model_data = huggingface_estimator.model_data\n",
    "except:\n",
    "    # カーネルがリスタートした時にアーティファクトの　URL を取得\n",
    "    model_data = get_latest_training_job_artifact('OpenCALM')\n",
    "    \n",
    "!aws s3 cp {model_data} opencalm.tar.gz"
   ]
  },
  {
   "cell_type": "code",
   "execution_count": null,
   "id": "8e23bbc7-6038-4dfd-a632-21b38be59e78",
   "metadata": {
    "tags": []
   },
   "outputs": [],
   "source": [
    "!rm -rf scripts/model && mkdir scripts/model\n",
    "!tar -xvf opencalm.tar.gz -C scripts/model --no-same-owner --wildcards adapter_*\n",
    "!ls -l scripts/model"
   ]
  },
  {
   "cell_type": "markdown",
   "id": "44bf1cde-57d4-43f6-be6b-b09bd942219f",
   "metadata": {},
   "source": [
    "## モデルをパッケージして S3 へアップロード\n",
    "---"
   ]
  },
  {
   "cell_type": "code",
   "execution_count": null,
   "id": "916cee87-d530-4e67-8fa6-18550ff92532",
   "metadata": {
    "scrolled": true,
    "tags": []
   },
   "outputs": [],
   "source": [
    "%cd scripts\n",
    "!tar -czvf ../package.tar.gz *\n",
    "%cd -"
   ]
  },
  {
   "cell_type": "code",
   "execution_count": null,
   "id": "e252d1ba-c402-4352-a0f5-c59dc51d6fc9",
   "metadata": {
    "tags": []
   },
   "outputs": [],
   "source": [
    "model_path = sess.upload_data('package.tar.gz', bucket=bucket, key_prefix=f\"OpenCALM\")\n",
    "model_path"
   ]
  },
  {
   "cell_type": "markdown",
   "id": "cee0a96e-b185-4e2f-a8dd-75cbb086abfa",
   "metadata": {},
   "source": [
    "## パッケージ化された Fine-tuning 済みのモデルをデプロイする\n",
    "---\n",
    "リアルタイムエンドポイントを作成し、エンドポイント経由で推論できるようにデプロイします。\n",
    "\n",
    "[リアルタイム推論](https://docs.aws.amazon.com/ja_jp/sagemaker/latest/dg/realtime-endpoints.html)は、リアルタイム、インタラクティブ、ミリ秒オーダーの低レイテンシーが要求されるワークロードに最適です。ペイロードサイズは最大 6 MB です。\n",
    "\n",
    "デプロイオプションとして、[非同期推論 (async inference)](https://docs.aws.amazon.com/ja_jp/sagemaker/latest/dg/async-inference.html) を行うこともできます。\n",
    "\n",
    "非同期推論もエンドポイント経由でモデルへアクセスしますが、リクエストをキューに配置して非同期で処理します。ペイロードサイズがリアルタイム推論よりも大きい(最大 1 GB )、処理時間が長い(最大 1 時間)、ほぼリアルタイムの要求に最適です。処理するリクエストがない場合は、オートスケーリングで最少インスタンス数をゼロにすることができるため、コストを節約する事ができます。\n",
    "\n",
    "---"
   ]
  },
  {
   "cell_type": "code",
   "execution_count": null,
   "id": "e8232665-f10e-4a74-84d6-d5c87640d1f2",
   "metadata": {
    "tags": []
   },
   "outputs": [],
   "source": [
    "from sagemaker.async_inference import AsyncInferenceConfig\n",
    "from sagemaker.serializers import JSONSerializer\n",
    "\n",
    "endpoint_name = \"OpenCALM\"\n",
    "\n",
    "huggingface_model = PyTorchModel(\n",
    "    model_data=model_path,\n",
    "    framework_version=\"1.13\",\n",
    "    py_version='py39',\n",
    "    role=role,\n",
    "    name=endpoint_name,\n",
    "    env={\n",
    "        \"model_params\": json.dumps({\n",
    "            \"base_model\": \"cyberagent/open-calm-7b\", # モデルを指定\n",
    "            \"lora_weights\": \"model\", # モデルパッケージを取得するためのパス\n",
    "            \"peft\": True,\n",
    "            \"load_4bit\": True,\n",
    "            \"prompt_template\": \"alpaca\",\n",
    "        }),\n",
    "        \"SAGEMAKER_MODEL_SERVER_TIMEOUT\": \"3600\"\n",
    "    }\n",
    ")\n",
    "\n",
    "# SageMaker 推論として、モデルをデプロイする\n",
    "predictor = huggingface_model.deploy(\n",
    "    initial_instance_count=1,\n",
    "    instance_type='ml.g5.2xlarge',\n",
    "    endpoint_name=endpoint_name,\n",
    "    serializer=JSONSerializer(),\n",
    "    # 非同期推論の場合は、以下オプションを使用する\n",
    "    # async_inference_config=AsyncInferenceConfig()\n",
    ")"
   ]
  },
  {
   "cell_type": "markdown",
   "id": "fb4f6d9f-666d-40d6-b2c3-93ec553dded1",
   "metadata": {},
   "source": [
    "## 推論を実行\n",
    "---\n",
    "実際に推論を行なってみます。\n",
    "SageMaker SDK と Boto3 でのサンプルコードを用意していますが、セルをコピーし、様々な入力を試してください。\n",
    "- max_new_tokens: モデルは、出力長 (入力コンテキストの長さを除く) が max_new_tokens に達するまでテキストを生成する。指定する場合は正の整数でなければならない。\n",
    "- temperature: 出力のランダム性を制御する。temperature が高いと確率の低い単語での出力になり(より創造的)、temperature が低いと確率の高いワードで出力される。\n",
    "- top_p: テキスト生成の各ステップで、累積確率が top_p をもつ最小の単語セットからサンプリングする。(0.1の場合は、確率が上位10%を考慮。) 値は、0〜1 の浮動小数点数。\n",
    "- return_full_text: True の場合、入力テキストが出力テキストの一部として出力される。\n",
    "\n",
    "---"
   ]
  },
  {
   "cell_type": "code",
   "execution_count": null,
   "id": "0c7c7ff4-74bb-42a4-bf96-c1e14b1af1e2",
   "metadata": {
    "tags": []
   },
   "outputs": [],
   "source": [
    "# With SageMaker SDK\n",
    "\n",
    "from sagemaker.predictor import Predictor\n",
    "from sagemaker.predictor_async import AsyncPredictor\n",
    "from sagemaker.serializers import JSONSerializer\n",
    "from sagemaker.deserializers import JSONDeserializer\n",
    "\n",
    "predictor_client = Predictor(\n",
    "    endpoint_name=endpoint_name,\n",
    "    sagemaker_session=sess,\n",
    "    serializer=JSONSerializer(),\n",
    "    deserializer=JSONDeserializer()\n",
    ")\n",
    "# predictor_client = AsyncPredictor(\n",
    "#     predictor=predictor_client,\n",
    "#     name=endpoint_name\n",
    "# )\n",
    "data = {\n",
    "    \"instruction\": \"ヴァージン・オーストラリアはいつから運航を開始したのですか？\",\n",
    "    \"input\": \"ヴァージン・オーストラリア航空（Virgin Australia Airlines Pty Ltd）の商号で、オーストラリアを拠点とする航空会社です。ヴァージン・ブランドを使用する航空会社の中で、保有機材数では最大の航空会社である。2000年8月31日にヴァージン・ブルーとして、2機の航空機で単一路線で運航を開始した[3]。2001年9月のアンセット・オーストラリアの破綻後、突然オーストラリア国内市場の大手航空会社としての地位を確立した。その後、ブリスベン、メルボルン、シドニーをハブとして、オーストラリア国内の32都市に直接乗り入れるまでに成長した[4]。\",\n",
    "    \"max_new_tokens\": 256,\n",
    "    \"temperature\": 0.3,\n",
    "    \"do_sample\": True,\n",
    "    \"pad_token_id\": 1,\n",
    "    \"bos_token_id\": 0,\n",
    "    \"eos_token_is\": 0,\n",
    "    # \"repetition_penalty\": 1.05,\n",
    "    # \"top_p\": 0.75,\n",
    "    # \"top_k\": 40,\n",
    "    # \"no_repeat_ngram_size\": 2,\n",
    "    \"stop_ids\": [1, 0],\n",
    "}\n",
    "response = predictor_client.predict(\n",
    "    data=data\n",
    ")\n",
    "print(response)"
   ]
  },
  {
   "cell_type": "code",
   "execution_count": null,
   "id": "94610911-2fa9-46c2-a619-dcf80b4f63da",
   "metadata": {
    "tags": []
   },
   "outputs": [],
   "source": [
    "# With Boto3\n",
    "\n",
    "import boto3\n",
    "import json\n",
    "\n",
    "endpoint_name = \"OpenCALM\"\n",
    "sagemaker_client = boto3.client('sagemaker-runtime')\n",
    "\n",
    "data = {\n",
    "    \"instruction\": \"ヴァージン・オーストラリアはいつから運航を開始したのですか？\",\n",
    "    \"input\": \"ヴァージン・オーストラリア航空（Virgin Australia Airlines Pty Ltd）の商号で、オーストラリアを拠点とする航空会社です。ヴァージン・ブランドを使用する航空会社の中で、保有機材数では最大の航空会社である。2000年8月31日にヴァージン・ブルーとして、2機の航空機で単一路線で運航を開始した[3]。2001年9月のアンセット・オーストラリアの破綻後、突然オーストラリア国内市場の大手航空会社としての地位を確立した。その後、ブリスベン、メルボルン、シドニーをハブとして、オーストラリア国内の32都市に直接乗り入れるまでに成長した[4]。\",\n",
    "    \"max_new_tokens\": 128,\n",
    "    \"temperature\": 0.7,\n",
    "    \"do_sample\": True,\n",
    "    \"pad_token_id\": 1,\n",
    "    \"bos_token_id\": 0,\n",
    "    \"eos_token_is\": 0,\n",
    "    # \"top_p\": 0.9,\n",
    "    # \"repetition_penalty\": 1.05,\n",
    "    \"stop_ids\": [50278, 50279, 50277, 1, 0],\n",
    "}\n",
    "\n",
    "response = sagemaker_client.invoke_endpoint(\n",
    "    EndpointName=endpoint_name,\n",
    "    ContentType='application/json',\n",
    "    Accept='application/json',\n",
    "    Body=json.dumps(data)\n",
    ")\n",
    "\n",
    "result = json.loads(response['Body'].read())\n",
    "print(result)"
   ]
  },
  {
   "cell_type": "markdown",
   "id": "09b584fd-9b18-43c8-aed5-7b80abeb478b",
   "metadata": {},
   "source": [
    "- インプット例 (SageMaker SDK)："
   ]
  },
  {
   "cell_type": "code",
   "execution_count": null,
   "id": "b3f3f388-3261-4d27-bb3e-54368fac266f",
   "metadata": {
    "tags": []
   },
   "outputs": [],
   "source": [
    "# サンプルのインプット With SageMaker SDK\n",
    "#　長文を元に、指定の内容を抽出する、文書を要約する\n",
    "\n",
    "data = {\n",
    "    \"instruction\": \"カナダについて簡単に説明してください\",\n",
    "    \"input\": \"カナダは、北米に位置する国である。10の州と3つの準州が大西洋から太平洋、北極海まで広がり、総面積は世界第2位で、世界最長の海岸線を持つ国である。気象学的にも地質学的にも幅広い地域があることが特徴である。人口は少なく、大半は55度線以南の都市部に住んでいます。首都はオタワ、三大都市圏はトロント、モントリオール、バンクーバーです。\\n\\n現在のカナダには、何千年もの間、先住民族が住み続けています。16世紀に入ると、イギリスとフランスの探検隊が大西洋岸を探検し、後に定住しました。様々な武力衝突の結果、フランスは1763年に北米のほぼすべての植民地を割譲しました。1867年、北アメリカの3つのイギリス植民地が連合し、4つの州からなる連邦制のカナダが誕生しました。1931年に制定されたウェストミンスター憲章に端を発し、1982年に制定されたカナダ法によって、英国議会への法的依存は解消されました。\\n\\nカナダは、議会制自由民主主義国家であり、ウェストミンスターの伝統を受け継ぐ立憲君主制国家でもあります。首相は、選挙で選ばれた下院の信任を得る能力によって就任し、国家元首であるカナダ君主を代表する総督によって「召集」される。英連邦の領域であり、連邦管区では公式に英語とフランス語の2ヶ国語表記となっています。政府の透明性、生活の質、経済競争力、イノベーション、教育などの国際的な測定において、非常に高い評価を得ている。また、大規模な移民の受け入れにより、世界で最も民族的多様性に富んだ多文化国家のひとつとなっています。米国との長く複雑な関係は、カナダの歴史、経済、文化に大きな影響を及ぼしています。\\n\\n先進国であるカナダは、一人当たりの名目所得が世界最高水準にあり、豊富な天然資源と整備された国際貿易網を主な財源とする先進国として、世界最大級の経済規模を誇っています。カナダは、国連、NATO、G7、G10、G20、経済協力開発機構（OECD）、世界貿易機関（WTO）、英連邦、北極評議会、国際フランコフォニー機関、アジア太平洋経済協力フォーラム、アメリカ国家機構などの主要国際機関や政府間組織に加盟しています。\",\n",
    "    \"max_new_tokens\": 256,\n",
    "    \"temperature\": 0.3,\n",
    "    \"do_sample\": True,\n",
    "    \"pad_token_id\": 1,\n",
    "    \"bos_token_id\": 0,\n",
    "    \"eos_token_is\": 0,\n",
    "    # \"repetition_penalty\": 1.05,\n",
    "    # \"top_p\": 0.75,\n",
    "    # \"top_k\": 40,\n",
    "    # \"no_repeat_ngram_size\": 2,\n",
    "    \"stop_ids\": [1, 0],\n",
    "}\n",
    "response = predictor_client.predict(\n",
    "    data=data\n",
    ")\n",
    "print(response)\n"
   ]
  },
  {
   "cell_type": "markdown",
   "id": "ae16c211-5f6a-4dc4-bbc3-b8f9b07666a0",
   "metadata": {},
   "source": [
    "## ベンチマーク： Speed"
   ]
  },
  {
   "cell_type": "code",
   "execution_count": null,
   "id": "d1c9ddd3-76ee-4f71-8888-4ae51069a967",
   "metadata": {
    "tags": []
   },
   "outputs": [],
   "source": [
    "%timeit response = predictor_client.predict(data=data)"
   ]
  },
  {
   "cell_type": "markdown",
   "id": "39737593-7053-4dbb-b39b-112e27d228a1",
   "metadata": {},
   "source": [
    "## エンドポイントを削除 (クリーニング)"
   ]
  },
  {
   "cell_type": "code",
   "execution_count": null,
   "id": "82559f16-10f8-4573-91d7-e0b85cb7d0de",
   "metadata": {
    "tags": []
   },
   "outputs": [],
   "source": [
    "predictor.delete_model()\n",
    "predictor.delete_endpoint()"
   ]
  }
 ],
 "metadata": {
  "availableInstances": [
   {
    "_defaultOrder": 0,
    "_isFastLaunch": true,
    "category": "General purpose",
    "gpuNum": 0,
    "hideHardwareSpecs": false,
    "memoryGiB": 4,
    "name": "ml.t3.medium",
    "vcpuNum": 2
   },
   {
    "_defaultOrder": 1,
    "_isFastLaunch": false,
    "category": "General purpose",
    "gpuNum": 0,
    "hideHardwareSpecs": false,
    "memoryGiB": 8,
    "name": "ml.t3.large",
    "vcpuNum": 2
   },
   {
    "_defaultOrder": 2,
    "_isFastLaunch": false,
    "category": "General purpose",
    "gpuNum": 0,
    "hideHardwareSpecs": false,
    "memoryGiB": 16,
    "name": "ml.t3.xlarge",
    "vcpuNum": 4
   },
   {
    "_defaultOrder": 3,
    "_isFastLaunch": false,
    "category": "General purpose",
    "gpuNum": 0,
    "hideHardwareSpecs": false,
    "memoryGiB": 32,
    "name": "ml.t3.2xlarge",
    "vcpuNum": 8
   },
   {
    "_defaultOrder": 4,
    "_isFastLaunch": true,
    "category": "General purpose",
    "gpuNum": 0,
    "hideHardwareSpecs": false,
    "memoryGiB": 8,
    "name": "ml.m5.large",
    "vcpuNum": 2
   },
   {
    "_defaultOrder": 5,
    "_isFastLaunch": false,
    "category": "General purpose",
    "gpuNum": 0,
    "hideHardwareSpecs": false,
    "memoryGiB": 16,
    "name": "ml.m5.xlarge",
    "vcpuNum": 4
   },
   {
    "_defaultOrder": 6,
    "_isFastLaunch": false,
    "category": "General purpose",
    "gpuNum": 0,
    "hideHardwareSpecs": false,
    "memoryGiB": 32,
    "name": "ml.m5.2xlarge",
    "vcpuNum": 8
   },
   {
    "_defaultOrder": 7,
    "_isFastLaunch": false,
    "category": "General purpose",
    "gpuNum": 0,
    "hideHardwareSpecs": false,
    "memoryGiB": 64,
    "name": "ml.m5.4xlarge",
    "vcpuNum": 16
   },
   {
    "_defaultOrder": 8,
    "_isFastLaunch": false,
    "category": "General purpose",
    "gpuNum": 0,
    "hideHardwareSpecs": false,
    "memoryGiB": 128,
    "name": "ml.m5.8xlarge",
    "vcpuNum": 32
   },
   {
    "_defaultOrder": 9,
    "_isFastLaunch": false,
    "category": "General purpose",
    "gpuNum": 0,
    "hideHardwareSpecs": false,
    "memoryGiB": 192,
    "name": "ml.m5.12xlarge",
    "vcpuNum": 48
   },
   {
    "_defaultOrder": 10,
    "_isFastLaunch": false,
    "category": "General purpose",
    "gpuNum": 0,
    "hideHardwareSpecs": false,
    "memoryGiB": 256,
    "name": "ml.m5.16xlarge",
    "vcpuNum": 64
   },
   {
    "_defaultOrder": 11,
    "_isFastLaunch": false,
    "category": "General purpose",
    "gpuNum": 0,
    "hideHardwareSpecs": false,
    "memoryGiB": 384,
    "name": "ml.m5.24xlarge",
    "vcpuNum": 96
   },
   {
    "_defaultOrder": 12,
    "_isFastLaunch": false,
    "category": "General purpose",
    "gpuNum": 0,
    "hideHardwareSpecs": false,
    "memoryGiB": 8,
    "name": "ml.m5d.large",
    "vcpuNum": 2
   },
   {
    "_defaultOrder": 13,
    "_isFastLaunch": false,
    "category": "General purpose",
    "gpuNum": 0,
    "hideHardwareSpecs": false,
    "memoryGiB": 16,
    "name": "ml.m5d.xlarge",
    "vcpuNum": 4
   },
   {
    "_defaultOrder": 14,
    "_isFastLaunch": false,
    "category": "General purpose",
    "gpuNum": 0,
    "hideHardwareSpecs": false,
    "memoryGiB": 32,
    "name": "ml.m5d.2xlarge",
    "vcpuNum": 8
   },
   {
    "_defaultOrder": 15,
    "_isFastLaunch": false,
    "category": "General purpose",
    "gpuNum": 0,
    "hideHardwareSpecs": false,
    "memoryGiB": 64,
    "name": "ml.m5d.4xlarge",
    "vcpuNum": 16
   },
   {
    "_defaultOrder": 16,
    "_isFastLaunch": false,
    "category": "General purpose",
    "gpuNum": 0,
    "hideHardwareSpecs": false,
    "memoryGiB": 128,
    "name": "ml.m5d.8xlarge",
    "vcpuNum": 32
   },
   {
    "_defaultOrder": 17,
    "_isFastLaunch": false,
    "category": "General purpose",
    "gpuNum": 0,
    "hideHardwareSpecs": false,
    "memoryGiB": 192,
    "name": "ml.m5d.12xlarge",
    "vcpuNum": 48
   },
   {
    "_defaultOrder": 18,
    "_isFastLaunch": false,
    "category": "General purpose",
    "gpuNum": 0,
    "hideHardwareSpecs": false,
    "memoryGiB": 256,
    "name": "ml.m5d.16xlarge",
    "vcpuNum": 64
   },
   {
    "_defaultOrder": 19,
    "_isFastLaunch": false,
    "category": "General purpose",
    "gpuNum": 0,
    "hideHardwareSpecs": false,
    "memoryGiB": 384,
    "name": "ml.m5d.24xlarge",
    "vcpuNum": 96
   },
   {
    "_defaultOrder": 20,
    "_isFastLaunch": false,
    "category": "General purpose",
    "gpuNum": 0,
    "hideHardwareSpecs": true,
    "memoryGiB": 0,
    "name": "ml.geospatial.interactive",
    "supportedImageNames": [
     "sagemaker-geospatial-v1-0"
    ],
    "vcpuNum": 0
   },
   {
    "_defaultOrder": 21,
    "_isFastLaunch": true,
    "category": "Compute optimized",
    "gpuNum": 0,
    "hideHardwareSpecs": false,
    "memoryGiB": 4,
    "name": "ml.c5.large",
    "vcpuNum": 2
   },
   {
    "_defaultOrder": 22,
    "_isFastLaunch": false,
    "category": "Compute optimized",
    "gpuNum": 0,
    "hideHardwareSpecs": false,
    "memoryGiB": 8,
    "name": "ml.c5.xlarge",
    "vcpuNum": 4
   },
   {
    "_defaultOrder": 23,
    "_isFastLaunch": false,
    "category": "Compute optimized",
    "gpuNum": 0,
    "hideHardwareSpecs": false,
    "memoryGiB": 16,
    "name": "ml.c5.2xlarge",
    "vcpuNum": 8
   },
   {
    "_defaultOrder": 24,
    "_isFastLaunch": false,
    "category": "Compute optimized",
    "gpuNum": 0,
    "hideHardwareSpecs": false,
    "memoryGiB": 32,
    "name": "ml.c5.4xlarge",
    "vcpuNum": 16
   },
   {
    "_defaultOrder": 25,
    "_isFastLaunch": false,
    "category": "Compute optimized",
    "gpuNum": 0,
    "hideHardwareSpecs": false,
    "memoryGiB": 72,
    "name": "ml.c5.9xlarge",
    "vcpuNum": 36
   },
   {
    "_defaultOrder": 26,
    "_isFastLaunch": false,
    "category": "Compute optimized",
    "gpuNum": 0,
    "hideHardwareSpecs": false,
    "memoryGiB": 96,
    "name": "ml.c5.12xlarge",
    "vcpuNum": 48
   },
   {
    "_defaultOrder": 27,
    "_isFastLaunch": false,
    "category": "Compute optimized",
    "gpuNum": 0,
    "hideHardwareSpecs": false,
    "memoryGiB": 144,
    "name": "ml.c5.18xlarge",
    "vcpuNum": 72
   },
   {
    "_defaultOrder": 28,
    "_isFastLaunch": false,
    "category": "Compute optimized",
    "gpuNum": 0,
    "hideHardwareSpecs": false,
    "memoryGiB": 192,
    "name": "ml.c5.24xlarge",
    "vcpuNum": 96
   },
   {
    "_defaultOrder": 29,
    "_isFastLaunch": true,
    "category": "Accelerated computing",
    "gpuNum": 1,
    "hideHardwareSpecs": false,
    "memoryGiB": 16,
    "name": "ml.g4dn.xlarge",
    "vcpuNum": 4
   },
   {
    "_defaultOrder": 30,
    "_isFastLaunch": false,
    "category": "Accelerated computing",
    "gpuNum": 1,
    "hideHardwareSpecs": false,
    "memoryGiB": 32,
    "name": "ml.g4dn.2xlarge",
    "vcpuNum": 8
   },
   {
    "_defaultOrder": 31,
    "_isFastLaunch": false,
    "category": "Accelerated computing",
    "gpuNum": 1,
    "hideHardwareSpecs": false,
    "memoryGiB": 64,
    "name": "ml.g4dn.4xlarge",
    "vcpuNum": 16
   },
   {
    "_defaultOrder": 32,
    "_isFastLaunch": false,
    "category": "Accelerated computing",
    "gpuNum": 1,
    "hideHardwareSpecs": false,
    "memoryGiB": 128,
    "name": "ml.g4dn.8xlarge",
    "vcpuNum": 32
   },
   {
    "_defaultOrder": 33,
    "_isFastLaunch": false,
    "category": "Accelerated computing",
    "gpuNum": 4,
    "hideHardwareSpecs": false,
    "memoryGiB": 192,
    "name": "ml.g4dn.12xlarge",
    "vcpuNum": 48
   },
   {
    "_defaultOrder": 34,
    "_isFastLaunch": false,
    "category": "Accelerated computing",
    "gpuNum": 1,
    "hideHardwareSpecs": false,
    "memoryGiB": 256,
    "name": "ml.g4dn.16xlarge",
    "vcpuNum": 64
   },
   {
    "_defaultOrder": 35,
    "_isFastLaunch": false,
    "category": "Accelerated computing",
    "gpuNum": 1,
    "hideHardwareSpecs": false,
    "memoryGiB": 61,
    "name": "ml.p3.2xlarge",
    "vcpuNum": 8
   },
   {
    "_defaultOrder": 36,
    "_isFastLaunch": false,
    "category": "Accelerated computing",
    "gpuNum": 4,
    "hideHardwareSpecs": false,
    "memoryGiB": 244,
    "name": "ml.p3.8xlarge",
    "vcpuNum": 32
   },
   {
    "_defaultOrder": 37,
    "_isFastLaunch": false,
    "category": "Accelerated computing",
    "gpuNum": 8,
    "hideHardwareSpecs": false,
    "memoryGiB": 488,
    "name": "ml.p3.16xlarge",
    "vcpuNum": 64
   },
   {
    "_defaultOrder": 38,
    "_isFastLaunch": false,
    "category": "Accelerated computing",
    "gpuNum": 8,
    "hideHardwareSpecs": false,
    "memoryGiB": 768,
    "name": "ml.p3dn.24xlarge",
    "vcpuNum": 96
   },
   {
    "_defaultOrder": 39,
    "_isFastLaunch": false,
    "category": "Memory Optimized",
    "gpuNum": 0,
    "hideHardwareSpecs": false,
    "memoryGiB": 16,
    "name": "ml.r5.large",
    "vcpuNum": 2
   },
   {
    "_defaultOrder": 40,
    "_isFastLaunch": false,
    "category": "Memory Optimized",
    "gpuNum": 0,
    "hideHardwareSpecs": false,
    "memoryGiB": 32,
    "name": "ml.r5.xlarge",
    "vcpuNum": 4
   },
   {
    "_defaultOrder": 41,
    "_isFastLaunch": false,
    "category": "Memory Optimized",
    "gpuNum": 0,
    "hideHardwareSpecs": false,
    "memoryGiB": 64,
    "name": "ml.r5.2xlarge",
    "vcpuNum": 8
   },
   {
    "_defaultOrder": 42,
    "_isFastLaunch": false,
    "category": "Memory Optimized",
    "gpuNum": 0,
    "hideHardwareSpecs": false,
    "memoryGiB": 128,
    "name": "ml.r5.4xlarge",
    "vcpuNum": 16
   },
   {
    "_defaultOrder": 43,
    "_isFastLaunch": false,
    "category": "Memory Optimized",
    "gpuNum": 0,
    "hideHardwareSpecs": false,
    "memoryGiB": 256,
    "name": "ml.r5.8xlarge",
    "vcpuNum": 32
   },
   {
    "_defaultOrder": 44,
    "_isFastLaunch": false,
    "category": "Memory Optimized",
    "gpuNum": 0,
    "hideHardwareSpecs": false,
    "memoryGiB": 384,
    "name": "ml.r5.12xlarge",
    "vcpuNum": 48
   },
   {
    "_defaultOrder": 45,
    "_isFastLaunch": false,
    "category": "Memory Optimized",
    "gpuNum": 0,
    "hideHardwareSpecs": false,
    "memoryGiB": 512,
    "name": "ml.r5.16xlarge",
    "vcpuNum": 64
   },
   {
    "_defaultOrder": 46,
    "_isFastLaunch": false,
    "category": "Memory Optimized",
    "gpuNum": 0,
    "hideHardwareSpecs": false,
    "memoryGiB": 768,
    "name": "ml.r5.24xlarge",
    "vcpuNum": 96
   },
   {
    "_defaultOrder": 47,
    "_isFastLaunch": false,
    "category": "Accelerated computing",
    "gpuNum": 1,
    "hideHardwareSpecs": false,
    "memoryGiB": 16,
    "name": "ml.g5.xlarge",
    "vcpuNum": 4
   },
   {
    "_defaultOrder": 48,
    "_isFastLaunch": false,
    "category": "Accelerated computing",
    "gpuNum": 1,
    "hideHardwareSpecs": false,
    "memoryGiB": 32,
    "name": "ml.g5.2xlarge",
    "vcpuNum": 8
   },
   {
    "_defaultOrder": 49,
    "_isFastLaunch": false,
    "category": "Accelerated computing",
    "gpuNum": 1,
    "hideHardwareSpecs": false,
    "memoryGiB": 64,
    "name": "ml.g5.4xlarge",
    "vcpuNum": 16
   },
   {
    "_defaultOrder": 50,
    "_isFastLaunch": false,
    "category": "Accelerated computing",
    "gpuNum": 1,
    "hideHardwareSpecs": false,
    "memoryGiB": 128,
    "name": "ml.g5.8xlarge",
    "vcpuNum": 32
   },
   {
    "_defaultOrder": 51,
    "_isFastLaunch": false,
    "category": "Accelerated computing",
    "gpuNum": 1,
    "hideHardwareSpecs": false,
    "memoryGiB": 256,
    "name": "ml.g5.16xlarge",
    "vcpuNum": 64
   },
   {
    "_defaultOrder": 52,
    "_isFastLaunch": false,
    "category": "Accelerated computing",
    "gpuNum": 4,
    "hideHardwareSpecs": false,
    "memoryGiB": 192,
    "name": "ml.g5.12xlarge",
    "vcpuNum": 48
   },
   {
    "_defaultOrder": 53,
    "_isFastLaunch": false,
    "category": "Accelerated computing",
    "gpuNum": 4,
    "hideHardwareSpecs": false,
    "memoryGiB": 384,
    "name": "ml.g5.24xlarge",
    "vcpuNum": 96
   },
   {
    "_defaultOrder": 54,
    "_isFastLaunch": false,
    "category": "Accelerated computing",
    "gpuNum": 8,
    "hideHardwareSpecs": false,
    "memoryGiB": 768,
    "name": "ml.g5.48xlarge",
    "vcpuNum": 192
   },
   {
    "_defaultOrder": 55,
    "_isFastLaunch": false,
    "category": "Accelerated computing",
    "gpuNum": 8,
    "hideHardwareSpecs": false,
    "memoryGiB": 1152,
    "name": "ml.p4d.24xlarge",
    "vcpuNum": 96
   },
   {
    "_defaultOrder": 56,
    "_isFastLaunch": false,
    "category": "Accelerated computing",
    "gpuNum": 8,
    "hideHardwareSpecs": false,
    "memoryGiB": 1152,
    "name": "ml.p4de.24xlarge",
    "vcpuNum": 96
   }
  ],
  "kernelspec": {
   "display_name": "Python 3 (Data Science 2.0)",
   "language": "python",
   "name": "python3__SAGEMAKER_INTERNAL__arn:aws:sagemaker:us-west-2:236514542706:image/sagemaker-data-science-38"
  },
  "language_info": {
   "codemirror_mode": {
    "name": "ipython",
    "version": 3
   },
   "file_extension": ".py",
   "mimetype": "text/x-python",
   "name": "python",
   "nbconvert_exporter": "python",
   "pygments_lexer": "ipython3",
   "version": "3.8.13"
  }
 },
 "nbformat": 4,
 "nbformat_minor": 5
}
