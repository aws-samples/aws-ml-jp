{
 "cells": [
  {
   "cell_type": "markdown",
   "id": "d63ccadd",
   "metadata": {
    "tags": []
   },
   "source": [
    "# Time-Series Forecasting with Amazon SageMaker Autopilot"
   ]
  },
  {
   "cell_type": "markdown",
   "id": "0949bb79",
   "metadata": {},
   "source": [
    "### Contents\n",
    "\n",
    "- [1. Introduction](#introduction)\n",
    "- [2. Setup](#setup)\n",
    "- [3. 学習](#training)\n",
    "- [4. 予測](#forecast)\n",
    "  - [4.1. リアルタイム推論を利用する場合](#realtime)\n",
    "  - [4.2. バッチ推論 を利用する場合](#batch)"
   ]
  },
  {
   "cell_type": "markdown",
   "id": "666cd636",
   "metadata": {
    "tags": []
   },
   "source": [
    "## 1. Introduction <a name='introduction'>"
   ]
  },
  {
   "cell_type": "markdown",
   "id": "c17c742a",
   "metadata": {},
   "source": [
    "このノートブックでは、Amazon SageMaker Autopilot を使用して時系列モデルを作成し、時系列予測を生成する過程を体験できます。まず初めに S3 上に格納されている表形式の履歴データを使ってモデルを学習するための API を作成します。モデルを学習した後は、予測を生成する際にバッチ推論を実施するか、リアルタイムエンドポイントを作成したリアルタイム推論を実施するかをオプションとして選択することができます。</n></n>\n",
    "\n",
    "モデルを作成する過程において、 SageMaker Autopilot は複数の時系列モデルを同時に作成します。これらのモデルはすべて、予測誤差を最小限に抑えるように複数の学習モデルをブレンドし、単一のアンサンブルモデルとして結合されます。結合された単一のアンサンブルモデルと作成された複数の学習モデルのメタデータとモデルの詳細をユーザーは入手することができます。SageMaker Autopilot はこの一連のプロセスをオーケストレーションし、いくつものアーティファクトをユーザーに提供します。\n",
    "\n",
    "アーティファクトには以下が含まれます。 \n",
    "- 複数の時間 Window にわたるモデルごとのバックテスト（ホールドアウト）テスト\n",
    "- モデルごとの精度指標\n",
    "- アンサンブルモデルのバックテスト結果と精度指標\n",
    "- 各説明変数および静的メタデータの重要性を示す説明可能性レポート\n",
    "- バッチ推論・リアルタイム推論に使用できる全てのモデルのアーティファクト"
   ]
  },
  {
   "cell_type": "markdown",
   "id": "576f1626",
   "metadata": {},
   "source": [
    "## 2. セットアップ <a name='setup'>"
   ]
  },
  {
   "cell_type": "code",
   "execution_count": null,
   "id": "a6da4f17",
   "metadata": {},
   "outputs": [],
   "source": [
    "# Update boto3 using this method, or your preferred method\n",
    "!pip install --upgrade boto3 --quiet\n",
    "!pip install --upgrade sagemaker --quiet\n",
    "!pip install --upgrade stepfunctions --quiet"
   ]
  },
  {
   "cell_type": "code",
   "execution_count": null,
   "id": "8e2e8926",
   "metadata": {},
   "outputs": [],
   "source": [
    "import sagemaker\n",
    "import boto3\n",
    "from sagemaker import get_execution_role\n",
    "from time import gmtime, strftime, sleep\n",
    "import datetime\n",
    "import pandas as pd\n",
    "import os\n",
    "\n",
    "region = boto3.Session().region_name\n",
    "session = sagemaker.Session()\n",
    "\n",
    "# Modify the following default_bucket to use a bucket of your choosing\n",
    "bucket = session.default_bucket()\n",
    "#bucket = 'my-bucket'\n",
    "prefix = 'demo-autopilot-forecast'\n",
    "\n",
    "role = get_execution_role()\n",
    "\n",
    "# This is the client we will use to interact with SageMaker Autopilot\n",
    "sm = boto3.Session().client(service_name=\"sagemaker\", region_name=region)"
   ]
  },
  {
   "cell_type": "markdown",
   "id": "125be8a7",
   "metadata": {},
   "source": [
    "本ノートブックでは以下のコードで出力したダミーのデータセットを使用します。サンプルのデータセットではなく、ご自身のデータセットを利用するようにノートブックの内容を変更することも可能です。\n",
    "以下のコードで出力される CSV ファイルの構造は次のとおりです。\n",
    "- time (必須: 日時)\n",
    "- measure_name (必須：製品の唯一の属性を示す)\n",
    "- region (静的：product_code のカテゴリを示す)\n",
    "- sales (必須: 予測対象列)"
   ]
  },
  {
   "cell_type": "code",
   "execution_count": null,
   "id": "5d2e4718",
   "metadata": {},
   "outputs": [],
   "source": [
    "import random\n",
    "import datetime\n",
    "import csv\n",
    "import math\n",
    "\n",
    "# 開始日時と終了日時を設定\n",
    "start_date = datetime.datetime(2021, 1, 1, 0, 0, 0)\n",
    "end_date = datetime.datetime(2024, 4, 30, 23, 59, 59)\n",
    "\n",
    "\n",
    "# 商品ごとの季節係数を設定\n",
    "product_seasonal_factors = {\n",
    "    'product_a': { 1: 0.85, 2: 0.90, 3: 1.00, 4: 1.03, 5: 1.06, 6: 1.10,7: 1.15, 8: 1.10, 9: 1.06, 10: 1.03, 11: 1.00, 12: 0.90},\n",
    "    'product_b': {1: 1.0, 2: 1.0, 3: 1.1, 4: 1.2, 5: 1.3, 6: 1.4, 7: 1.5, 8: 1.4, 9: 1.3, 10: 1.2, 11: 1.1, 12: 1.0},\n",
    "    'product_c': {1: 1.2, 2: 1.1, 3: 1.0, 4: 0.9, 5: 0.8, 6: 0.7, 7: 0.6, 8: 0.7, 9: 0.8, 10: 0.9, 11: 1.0, 12: 1.1}\n",
    "}\n",
    "\n",
    "## 商品ごとの曜日係数を設定\n",
    "product_weekday_factors = {\n",
    "    'product_a': {0: 1.0, 1: 0.7, 2: 0.7, 3: 0.7, 4: 0.7, 5: 0.7, 6: 1.0},\n",
    "    'product_b': {0: 1.2, 1: 1.0, 2: 0.9, 3: 0.9, 4: 1.0, 5: 1.1, 6: 1.3},\n",
    "    'product_c': {0: 0.9, 1: 0.7, 2: 0.6, 3: 0.6, 4: 0.7, 5: 0.8, 6: 1.0}\n",
    "}\n",
    "\n",
    "# 商品ごとの時間帯係数を設定\n",
    "product_hour_factors = {\n",
    "    'product_a': {0: 0.05, 1: 0.05, 2: 0.05, 3: 0.05, 4: 0.05, 5: 0.05, 6: 0.1, 7: 0.2, 8: 0.3,9: 0.5, 10: 0.7, 11: 0.8, 12: 0.9, 13: 1.0, 14: 1.1, 15: 1.2, 16: 1.3, 17: 1.3, 18: 1.2, 19: 1.1, 20: 1.0, 21: 0.8, 22: 0.5, 23: 0.2},\n",
    "    'product_b': {0: 0.2, 1: 0.2, 2: 0.2, 3: 0.2, 4: 0.2, 5: 0.3, 6: 0.4, 7: 0.6, 8: 0.8, 9: 1.0, 10: 1.1, 11: 1.2, 12: 1.3, 13: 1.4, 14: 1.5, 15: 1.6, 16: 1.7, 17: 1.8, 18: 1.7, 19: 1.6, 20: 1.4, 21: 1.2, 22: 0.9, 23: 0.6},\n",
    "    'product_c': {0: 0.3, 1: 0.3, 2: 0.3, 3: 0.3, 4: 0.3, 5: 0.4, 6: 0.5, 7: 0.7, 8: 0.9, 9: 1.1, 10: 1.2, 11: 1.3, 12: 1.4, 13: 1.5, 14: 1.6, 15: 1.7, 16: 1.8, 17: 1.9, 18: 1.8, 19: 1.7, 20: 1.5, 21: 1.3, 22: 1.0, 23: 0.7}\n",
    "}\n",
    "\n",
    "# 場所ファクターを設定\n",
    "location_factor = {\n",
    "    'location_a': 1.2,\n",
    "    'location_b': 1.0,\n",
    "    'location_c': 0.8\n",
    "}\n",
    "\n",
    "# 1時間ごとのループ\n",
    "current_date = start_date\n",
    "sales_list = []\n",
    "while current_date <= end_date:\n",
    "    for product in ['product_a', 'product_b', 'product_c']:\n",
    "        for location in ['location_a', 'location_b', 'location_c']:\n",
    "            # 季節による売上係数を取得\n",
    "            month = current_date.month\n",
    "            seasonal_factor = product_seasonal_factors[product][month]\n",
    "\n",
    "            # 曜日による売上係数を取得\n",
    "            weekday = current_date.weekday()\n",
    "            weekday_factor = product_weekday_factors[product][weekday]\n",
    "\n",
    "            # 時間帯による売上係数を取得\n",
    "            hour = current_date.hour\n",
    "            hour_factor = product_hour_factors[product][hour]\n",
    "\n",
    "            # 場所による売上係数を取得\n",
    "            location_factor_value = location_factor[location]\n",
    "\n",
    "            # 年単位の増加率を計算（年ごとに5~10%増加）\n",
    "            year_factor = 1 + random.uniform(0.05, 0.1) * (current_date.year - start_date.year)\n",
    "\n",
    "            # 基本売上を設定\n",
    "            base_sales = 100 * seasonal_factor * weekday_factor * hour_factor * year_factor * location_factor_value\n",
    "\n",
    "            # ランダムな揺れを加える（10~30%の揺れ）\n",
    "            sales = base_sales * (1 + random.uniform(-0.3, 0.3))\n",
    "\n",
    "            # 売上を整数に丸める\n",
    "            sales = round(sales)\n",
    "\n",
    "            # 現在の日時をUNIX時間のミリ秒に変換\n",
    "            #timestamp_ms = int(current_date.timestamp() * 1000)\n",
    "\n",
    "            # リストにUNIX時間と売上を追加\n",
    "            sales_list.append([current_date, location, product, sales])\n",
    "\n",
    "    # 1日進める\n",
    "    current_date += datetime.timedelta(hours=1)\n",
    "\n",
    "sales_data = pd.DataFrame(sales_list,columns=['time','region','measure_name','sales'])"
   ]
  },
  {
   "cell_type": "markdown",
   "id": "894f07b0",
   "metadata": {},
   "source": [
    "上記のセルで2021/1/1から2024/4/30までの売り上げデータを作成しました。  \n",
    "この売り上げデータから、時系列予測の学習モデルを作成するために用いる学習データを作成します。\n",
    "学習データは2021/1/1から2024/4/23まで、推論用データは2024/4/1から2024/4/23までとし、2024/4/24から2024/4/30までを予測期間と設定します。"
   ]
  },
  {
   "cell_type": "code",
   "execution_count": null,
   "id": "f305676a",
   "metadata": {},
   "outputs": [],
   "source": [
    "train_data = sales_data.query('time <= \"2024-04-23\"')\n",
    "\n",
    "# data ディレクトリがなければ作成\n",
    "if not os.path.exists('data') :\n",
    "    os.makedirs('data')\n",
    "\n",
    "train_data_path='./data/train_data.csv'\n",
    "train_data.to_csv(train_data_path, index=False)"
   ]
  },
  {
   "cell_type": "code",
   "execution_count": null,
   "id": "3bc452b7",
   "metadata": {},
   "outputs": [],
   "source": [
    "train_data.head(10)"
   ]
  },
  {
   "cell_type": "markdown",
   "id": "1541ed97",
   "metadata": {},
   "source": [
    "## 3. 学習 <a name='training'>"
   ]
  },
  {
   "cell_type": "markdown",
   "id": "4636e2d2",
   "metadata": {},
   "source": [
    "AutoML トレーニングジョブ名を設定します。\n"
   ]
  },
  {
   "cell_type": "code",
   "execution_count": null,
   "id": "823ea45d",
   "metadata": {},
   "outputs": [],
   "source": [
    "timestamp_suffix = strftime(\"%Y%m%d-%H%M%S\", gmtime())\n",
    "auto_ml_job_name = \"ts-\" + timestamp_suffix\n",
    "print(\"AutoMLJobName: \" + auto_ml_job_name)"
   ]
  },
  {
   "cell_type": "markdown",
   "id": "b46c340a",
   "metadata": {},
   "source": [
    "トレーニングジョブの詳細を定義します。より詳細な情報は [AutoMLV2](https://sagemaker.readthedocs.io/en/v2.212.0/api/training/automlv2.html) をご覧ください。</n></n>  \n",
    "この JSON はサンプルデータのスキーマについて示しています。独自のデータを用いる場合はドキュメントを参照し、パラメータを設定してください。  \n",
    "以下のセルでSageMaker Autopilotで時系列予測を実行するために必要な設定を行います。トレーニングに使用するデータは1時間ごとのデータですが、今回は日次での予測を実行してみましょう。SageMaker Autopilot では時間頻度が異なるデータであっても集約の設定を行うことで内部で自動的に集約し、予測を生成することができます。"
   ]
  },
  {
   "cell_type": "code",
   "execution_count": null,
   "id": "80ce70b8",
   "metadata": {},
   "outputs": [],
   "source": [
    "from sagemaker.automl import automlv2\n",
    "\n",
    "# 予測する頻度の設定\n",
    "forecast_frequency = 'D'\n",
    "\n",
    "# 予測するデータポイント数の設定\n",
    "forecast_horizon = 7\n",
    "\n",
    "# CSVファイルの各列の属性を設定\n",
    "item_identifier_attribute_name = 'measure_name'\n",
    "target_attribute_name = 'sales'\n",
    "timestamp_attribute_name = 'time'\n",
    "grouping_attribute_names = ['region']\n",
    "# 1時間ごとのデータを日次に集約する際、合計値を算出するように設定\n",
    "aggrecation ={'sales':'sum'}\n",
    "\n",
    "# 予測結果で取得したい分位数を設定\n",
    "forecast_quantiles = ['p10', 'p30', 'p50', 'p70', 'p90']\n",
    "\n",
    "# 祝日のデータセットを用いるため国名コードを設定\n",
    "holiday_config = 'JP'\n",
    "\n",
    "# Autopilotで時系列予測を実行するための設定オブジェクトを作成\n",
    "ts_config = automlv2.AutoMLTimeSeriesForecastingConfig(forecast_frequency=forecast_frequency,\n",
    "                                                       forecast_horizon=forecast_horizon,\n",
    "                                                       item_identifier_attribute_name=item_identifier_attribute_name,\n",
    "                                                       target_attribute_name=target_attribute_name,\n",
    "                                                       timestamp_attribute_name=timestamp_attribute_name,\n",
    "                                                       grouping_attribute_names=grouping_attribute_names,\n",
    "                                                       forecast_quantiles=forecast_quantiles,\n",
    "                                                       holiday_config=holiday_config)"
   ]
  },
  {
   "cell_type": "markdown",
   "id": "d07c4119",
   "metadata": {},
   "source": [
    "次にAutoMLクラスを作成し、学習を実行します。学習は約15分ほどで終了します。"
   ]
  },
  {
   "cell_type": "code",
   "execution_count": null,
   "id": "1675dcfe",
   "metadata": {},
   "outputs": [],
   "source": [
    "# S3にアップロードされるローカルにあるデータを表すクラス\n",
    "inputs = automlv2.LocalAutoMLDataChannel('S3Prefix',train_data_path)\n",
    "\n",
    "# 学習結果の出力S3先\n",
    "output_path = 's3://{}/{}/train_output'.format(bucket, prefix)\n",
    "\n",
    "# automlクラスの作成\n",
    "automl = automlv2.AutoMLV2(ts_config,\n",
    "                  base_job_name=auto_ml_job_name,\n",
    "                  output_path=output_path,\n",
    "                  role=role)"
   ]
  },
  {
   "cell_type": "code",
   "execution_count": null,
   "id": "742ea08f",
   "metadata": {},
   "outputs": [],
   "source": [
    "# 学習を実行\n",
    "automl.fit(inputs, job_name=auto_ml_job_name, wait=False, logs=False)"
   ]
  },
  {
   "cell_type": "markdown",
   "id": "e44d869b",
   "metadata": {},
   "source": [
    "次のセルではジョブのステータスを監視します。ステータスが ```Completed``` になったらモデルの Accurancy を確認し、バッチ推論もしくはリアルタイム推論を実施するのかどうかを決定することができます。必要に応じて、 [AutoMLV2](https://sagemaker.readthedocs.io/en/v2.212.0/api/training/automlv2.html) のドキュメントを参照して下さい。"
   ]
  },
  {
   "cell_type": "code",
   "execution_count": null,
   "id": "27516fde",
   "metadata": {},
   "outputs": [],
   "source": [
    "# AutoML Job が終了するまで待つ\n",
    "describe_response = automl.describe_auto_ml_job(job_name=auto_ml_job_name)\n",
    "job_run_status = describe_response[\"AutoMLJobStatus\"]\n",
    "\n",
    "if job_run_status not in (\"Failed\", \"Completed\", \"Stopped\"):\n",
    "   print(datetime.datetime.now(), describe_response[\"AutoMLJobStatus\"] + \" - \" + describe_response[\"AutoMLJobSecondaryStatus\"])\n",
    "   print('現在学習中です。学習が終了するまでお待ち下さい。')\n",
    "elif job_run_status in (\"Failed\", \"Stopped\"):\n",
    "   print(datetime.datetime.now(), describe_response[\"AutoMLJobStatus\"] + \" - \" + describe_response[\"AutoMLJobSecondaryStatus\"])\n",
    "   print('学習が正常に終了しませんでした。ログを確認して下さい。')\n",
    "elif job_run_status in \"Completed\":\n",
    "   print(datetime.datetime.now(), describe_response[\"AutoMLJobStatus\"] + \" - \" + describe_response[\"AutoMLJobSecondaryStatus\"])\n",
    "   print('学習が正常に終了しました。次のセルを実行して下さい。')\n"
   ]
  },
  {
   "cell_type": "markdown",
   "id": "c808bf64",
   "metadata": {},
   "source": [
    "学習が完了したら、describe 関数を使ってモデルリーダーボードの結果を反復処理できます。以下は、この後の推論フェーズで最適な候補を使用する例となります。必要に応じて、 [create_model](https://boto3.amazonaws.com/v1/documentation/api/latest/reference/services/sagemaker/client/create_model.html) にあるドキュメントを参照して下さい。"
   ]
  },
  {
   "cell_type": "code",
   "execution_count": null,
   "id": "449d2998",
   "metadata": {},
   "outputs": [],
   "source": [
    "# AutoML を実施した結果を確認\n",
    "automl.describe_auto_ml_job(job_name=auto_ml_job_name)"
   ]
  },
  {
   "cell_type": "code",
   "execution_count": null,
   "id": "366934c7",
   "metadata": {},
   "outputs": [],
   "source": [
    "# AutoML で作成された最適なモデル名とコンテナイメージが格納されたECRのURLを取得する\n",
    "best_candidate = automl.describe_auto_ml_job(job_name=auto_ml_job_name)['BestCandidate']\n",
    "best_candidate_containers = best_candidate['InferenceContainers'] \n",
    "best_candidate_name = best_candidate['CandidateName']\n",
    "\n",
    "print('BestCandidateName:',best_candidate_name)\n",
    "print('BestCandidateContainers:',best_candidate_containers)"
   ]
  },
  {
   "cell_type": "code",
   "execution_count": null,
   "id": "fa7a3f84",
   "metadata": {},
   "outputs": [],
   "source": [
    "# SageMaker にモデルを登録\n",
    "reponse = sm.create_model(\n",
    "    ModelName = best_candidate_name,\n",
    "    ExecutionRoleArn = role,\n",
    "    Containers = best_candidate_containers\n",
    ")"
   ]
  },
  {
   "cell_type": "markdown",
   "id": "ef6ba51a",
   "metadata": {},
   "source": [
    "## 4. 予測 <a name='forecast'>"
   ]
  },
  {
   "cell_type": "markdown",
   "id": "1e81b7b7",
   "metadata": {},
   "source": [
    "本章では作成した学習モデルを用いて、時系列予測を実施します。\n",
    "\n",
    "まずは推論に必要な CSV ファイルを作成します。\n",
    "[SageMaker Autopilot のドキュメント](https://docs.aws.amazon.com/ja_jp/sagemaker/latest/dg/autopilot-create-experiment-timeseries-forecasting.html#autopilot-timeseries-forecasting-prerequisites) に記載されている通り、予測したいデータポイント1つにき、少なくとも3 - 5 個の履歴データポイントを提供することが推奨されています。  \n",
    "\n",
    "今回は7日間の予測を取得しようとしているので、推論時に入力するデータには少なくとも21-35日前までのデータが含まれていることが推奨されます。  \n",
    "\n",
    "2024/4/24から2024/4/30までの予測を実行しようとしているので、推論時に入力するデータは2024/4/1から2024/4/23までのデータを利用することとします。"
   ]
  },
  {
   "cell_type": "code",
   "execution_count": null,
   "id": "919260c4",
   "metadata": {},
   "outputs": [],
   "source": [
    "# 2024/4/1 - 4/23 までの\n",
    "# region = location_a, \n",
    "# measure_name = product_a\n",
    "# であるデータを抽出\n",
    "inference_data = sales_data.query('\"2024-04-01\" <= time  and time <= \"2024-04-23\" and region == \"location_a\" and measure_name == \"product_a\"')\n",
    "\n",
    "# 1時間ごとのデータを日次に変換\n",
    "inference_data = pd.DataFrame(inference_data.set_index('time')['sales'].resample('D').sum()).assign(region=\"location_a\",measure_name=\"product_a\")\n",
    "inference_path = './data/inference_data.csv'\n",
    "\n",
    "# CSVファイルを出力\n",
    "inference_data.to_csv(inference_path)"
   ]
  },
  {
   "cell_type": "markdown",
   "id": "cf9f9de6",
   "metadata": {},
   "source": [
    "ここからは２種類の推論方法をご紹介します。"
   ]
  },
  {
   "cell_type": "markdown",
   "id": "6dfc32bd",
   "metadata": {},
   "source": [
    "### 4.1.   リアルタイム推論を利用する場合<a name='realtime'>"
   ]
  },
  {
   "cell_type": "markdown",
   "id": "45c714ab",
   "metadata": {},
   "source": [
    "リアルタイム予測を実行したい場合はこちらのセクションのセルを実行して下さい。もしバッチ予測を実行したい場合、このセクションを飛ばして [4.2 バッチ予測](#batch) を参照して下さい。 "
   ]
  },
  {
   "cell_type": "markdown",
   "id": "79ffa207",
   "metadata": {},
   "source": [
    "リアルタイム予測を実現するために、SageMaker の Real-Time Inference というオプションを使ってエンドポイントを作成します。\n",
    "Real-Time Inference はリアルタイム性、インタラクティブ性、低レイテンシでの応答が必要な場合に用いられるデプロイ方法です。\n",
    "\n",
    "このセル以降で、候補となるメタデータを使ってモデル、エンドポイント構成、およびエンドポイント名を定義します。詳細は [create_endpoint_config](https://boto3.amazonaws.com/v1/documentation/api/latest/reference/services/sagemaker/client/create_endpoint_config.html) ドキュメントを参照して下さい。また、必要に応じて ```InstanceType``` と ```InitialInstanceCount``` を設定して下さい。 "
   ]
  },
  {
   "cell_type": "markdown",
   "id": "ca8ac0fc",
   "metadata": {},
   "source": [
    "<span style=\"color: red; \">IMPORTANT</span>: 本ノートブックではサンプルのため、推論用インスタンスサイズに　```ml.m5.2xlarge``` を指定していますが、推奨は ```ml.m5.12xlarge``` となります。詳細は [ドキュメント](https://docs.aws.amazon.com/sagemaker/latest/dg/timeseries-forecasting-deploy-models.html) を参照して下さい。\n"
   ]
  },
  {
   "cell_type": "code",
   "execution_count": null,
   "id": "e3e66f8c",
   "metadata": {},
   "outputs": [],
   "source": [
    "endpoint_config_name = f\"epc-{best_candidate_name}\"\n",
    "endpoint_name = f\"ep-{best_candidate_name}\"\n",
    "\n",
    "production_variants = [\n",
    "        {\n",
    "            \"InstanceType\": \"ml.m5.2xlarge\",\n",
    "            \"InitialInstanceCount\": 1,\n",
    "            \"ModelName\": best_candidate_name,\n",
    "            \"VariantName\": \"AllTraffic\",\n",
    "        }\n",
    "    ]\n",
    "\n",
    "epc_response = sm.create_endpoint_config(\n",
    "    EndpointConfigName=endpoint_config_name,\n",
    "    ProductionVariants=production_variants\n",
    ")"
   ]
  },
  {
   "cell_type": "markdown",
   "id": "29071ec1",
   "metadata": {},
   "source": [
    "次に [create_endpoint](https://boto3.amazonaws.com/v1/documentation/api/latest/reference/services/sagemaker/client/create_endpoint.html\n",
    ") API を使ってリアルタイム推論用のエンドポイントをデプロイすることができます。詳細やオプションについてはドキュメントを参照してください。"
   ]
  },
  {
   "cell_type": "code",
   "execution_count": null,
   "id": "f01071fb",
   "metadata": {},
   "outputs": [],
   "source": [
    "sm.create_endpoint(\n",
    "    EndpointName=endpoint_name, \n",
    "    EndpointConfigName=endpoint_config_name)"
   ]
  },
  {
   "cell_type": "markdown",
   "id": "c052e7c4",
   "metadata": {},
   "source": [
    "Status が InService になるまでエンドポイントをポーリングします。"
   ]
  },
  {
   "cell_type": "code",
   "execution_count": null,
   "id": "ac4c6690",
   "metadata": {},
   "outputs": [],
   "source": [
    "describe_response = sm.describe_endpoint(EndpointName=endpoint_name)\n",
    "\n",
    "job_run_status = describe_response[\"EndpointStatus\"]\n",
    "\n",
    "while job_run_status not in (\"Failed\", \"InService\", \"Stopped\"):\n",
    "    describe_response = sm.describe_endpoint(EndpointName=endpoint_name)\n",
    "    job_run_status = describe_response[\"EndpointStatus\"]\n",
    "\n",
    "    print(datetime.datetime.now(), describe_response[\"EndpointStatus\"])\n",
    "    sleep(60)"
   ]
  },
  {
   "cell_type": "markdown",
   "id": "ba320c36",
   "metadata": {},
   "source": [
    "推論用データを Python メモリオブジェクト上にロードします。"
   ]
  },
  {
   "cell_type": "code",
   "execution_count": null,
   "id": "a312362b",
   "metadata": {},
   "outputs": [],
   "source": [
    "f=open(inference_path,'r')\n",
    "inference_data = f.read()\n",
    "f.close()"
   ]
  },
  {
   "cell_type": "markdown",
   "id": "d280cd27",
   "metadata": {},
   "source": [
    "SageMaker ランタイムクライアントをインスタンス化し、[invoke endpoint](https://boto3.amazonaws.com/v1/documentation/api/latest/reference/services/sagemaker-runtime/client/invoke_endpoint.html) する方法を以下に示します。ドキュメントに記載されているガイドには、エンドポイントの呼び出しから 60 秒以内に応答する必要があると記載されていることに注意して下さい。応答時間はペイロードサイズに依存します。本番環境でリアルタイム推論を実行する際は、単一の時系列データを使うようにして下さい。リアルタイム推論で一度に複数の時系列データの予測を実行したい場合は、応答時間を超えないように注意深くテストを実施してください。"
   ]
  },
  {
   "cell_type": "code",
   "execution_count": null,
   "id": "a984a711",
   "metadata": {},
   "outputs": [],
   "source": [
    "sm_client = boto3.client('sagemaker-runtime')"
   ]
  },
  {
   "cell_type": "code",
   "execution_count": null,
   "id": "c9982711",
   "metadata": {},
   "outputs": [],
   "source": [
    "response = sm_client.invoke_endpoint(\n",
    "    EndpointName= endpoint_name,\n",
    "    Body= inference_data,\n",
    "    ContentType = 'text/csv')\n",
    "\n",
    "prediction = response['Body'].read().decode()"
   ]
  },
  {
   "cell_type": "markdown",
   "id": "98990d62",
   "metadata": {},
   "source": [
    "この時点で、リアルタイム API からの呼び出し結果が ```prediction``` へロードされます。結果をどう処理するかについてはいくつか選択肢をとることができます。その例をいくつか示します。"
   ]
  },
  {
   "cell_type": "markdown",
   "id": "110b874a",
   "metadata": {},
   "source": [
    "Optional: リアルタイム予測結果をローカルファイルシステムに保存する例。命名規則は慎重に設定してください。"
   ]
  },
  {
   "cell_type": "code",
   "execution_count": null,
   "id": "08fbc707",
   "metadata": {},
   "outputs": [],
   "source": [
    "output_file = './data/real-time-prediction-output.csv'\n",
    "f=open(output_file,'w')\n",
    "f.write(prediction)\n",
    "f.close()"
   ]
  },
  {
   "cell_type": "markdown",
   "id": "24cdbf0b",
   "metadata": {},
   "source": [
    "Optional: リアルタイム予測結果を S3 オブジェクトに保存する例。命名規則は慎重に設定してください。"
   ]
  },
  {
   "cell_type": "code",
   "execution_count": null,
   "id": "0fa46e88",
   "metadata": {},
   "outputs": [],
   "source": [
    "output_file = 'real-time-prediction-output.csv'\n",
    "key='s3://{}/{}/realtime_inference/{}'.format(bucket, prefix, output_file)\n",
    "\n",
    "s3_client = boto3.client('s3')\n",
    "s3_client.put_object(Body=prediction, Bucket=bucket, Key=key)"
   ]
  },
  {
   "cell_type": "markdown",
   "id": "4a201597",
   "metadata": {},
   "source": [
    "Optional: リアルタイム予測結果を Pandas の DataFrame 化する例"
   ]
  },
  {
   "cell_type": "code",
   "execution_count": null,
   "id": "aec89df5",
   "metadata": {},
   "outputs": [],
   "source": [
    "import pandas as pd\n",
    "from io import StringIO\n",
    "df = pd.read_csv(StringIO(prediction), sep=',')\n",
    "df.head(5)"
   ]
  },
  {
   "cell_type": "markdown",
   "id": "7a131588",
   "metadata": {},
   "source": [
    "最終的に必要に応じて、予測を SQS キューに入れたり、ストリームに投稿したり、別のリアルタイム API に POST することも可能です。"
   ]
  },
  {
   "cell_type": "markdown",
   "id": "dbeab012",
   "metadata": {},
   "source": [
    "#### 予測結果の可視化  \n",
    "では、予測した結果を可視化してみましょう。以下のセルでは、ある一つの商品に着目し、予測結果と実データを可視化します。"
   ]
  },
  {
   "cell_type": "code",
   "execution_count": null,
   "id": "459d9da3",
   "metadata": {},
   "outputs": [],
   "source": [
    "import pandas as pd\n",
    "import matplotlib\n",
    "import matplotlib.pyplot as plt                   # For charts and visualizations\n",
    "from IPython.display import Image                 # For displaying images in the notebook\n",
    "from IPython.display import display               # For displaying outputs in the notebook\n",
    "%matplotlib inline"
   ]
  },
  {
   "cell_type": "code",
   "execution_count": null,
   "id": "eed429db",
   "metadata": {},
   "outputs": [],
   "source": [
    "FROM_DATE = pd.to_datetime(\"2024-04-01 00:00:00\",utc=True)\n",
    "TO_DATE = pd.to_datetime(\"2024-04-30 23:30:00\",utc=True)\n",
    "product_location_a = sales_data[(sales_data['measure_name'] == 'product_a') &(sales_data['region']=='location_a')].query('time >= \"2024-04-01\"')\n",
    "product_location_a = product_location_a.set_index('time')\n",
    "# 1時間ごとのデータを日次に変換\n",
    "product_location_a = product_location_a.resample('D').sum()['sales']"
   ]
  },
  {
   "cell_type": "code",
   "execution_count": null,
   "id": "ea03d951",
   "metadata": {},
   "outputs": [],
   "source": [
    "df['time'] = pd.to_datetime(df['time'])\n",
    "df = df.set_index('time')\n",
    "results = df[(df['measure_name'] == 'product_a') &(df['region']=='location_a')]"
   ]
  },
  {
   "cell_type": "code",
   "execution_count": null,
   "id": "26546af5",
   "metadata": {},
   "outputs": [],
   "source": [
    "color_a = 'C0'\n",
    "color_b = 'C1'\n",
    "color_c = 'C2'\n",
    "color_d = 'C3'\n",
    "\n",
    "fig, ax1 = plt.subplots()\n",
    "ax1.set_title(\"Forecast TTS only\", fontsize = 14)\n",
    "ax1.plot(product_location_a, color=color_a)\n",
    "ax1.plot(results.loc[:,\"p50\"],color=color_b, alpha=0.4)\n",
    "ax1.plot(results.loc[:,\"p90\"],color=color_c, alpha=0.4)\n",
    "ax1.plot(results.loc[:,\"p10\"],color=color_d, alpha=0.4)\n",
    "\n",
    "ax1.grid(which=\"major\", axis=\"both\")\n",
    "fig.set_figwidth(15)\n",
    "fig.set_figheight(10)"
   ]
  },
  {
   "cell_type": "markdown",
   "id": "d9dc834c",
   "metadata": {},
   "source": [
    "時系列予測の精度を確認する際は、予測した期間のデータとその期間の実データと照らし合わせることが重要です。"
   ]
  },
  {
   "cell_type": "markdown",
   "id": "96068098",
   "metadata": {},
   "source": [
    "#### リアルタイムエンドポイントを削除する\n",
    "\n",
    "必要に応じて、エンドポイントを削除して下さい、再度エンドポイントをデプロイする必要になった場合は、再度本節のステップに従いコードを実行してください。その場合、別の新しいモデルをトレーニングしてデプロイすることが望ましいです。"
   ]
  },
  {
   "cell_type": "code",
   "execution_count": null,
   "id": "b9b05f05",
   "metadata": {},
   "outputs": [],
   "source": [
    "sm.delete_endpoint(EndpointName=endpoint_name)"
   ]
  },
  {
   "cell_type": "code",
   "execution_count": null,
   "id": "e3ae9de4",
   "metadata": {},
   "outputs": [],
   "source": [
    "sm.delete_endpoint_config(EndpointConfigName=endpoint_config_name)"
   ]
  },
  {
   "cell_type": "markdown",
   "id": "add1c170",
   "metadata": {},
   "source": [
    "<span style=\"color: red; \">CAUTION:</span> バッチ変換も実行する予定の場合は、以下のセルを実行してモデルを削除しないようにしてください。モデルを削除してもモデルアーティファクトが S3 にある限り、モデルを再デプロイすることは可能です。次のセルを実行することで最適な候補モデルのコンテナと S3 の場所が表示されます。"
   ]
  },
  {
   "cell_type": "code",
   "execution_count": null,
   "id": "6a090cd5",
   "metadata": {},
   "outputs": [],
   "source": [
    "print('BestCandidateContainers:',best_candidate_containers)"
   ]
  },
  {
   "cell_type": "code",
   "execution_count": null,
   "id": "a9c4614a",
   "metadata": {},
   "outputs": [],
   "source": [
    "sm.delete_model(ModelName=best_candidate_name)"
   ]
  },
  {
   "cell_type": "markdown",
   "id": "0d2dd2af",
   "metadata": {},
   "source": [
    "### 4.2 バッチ推論を利用する場合<a name='batch'>"
   ]
  },
  {
   "cell_type": "markdown",
   "id": "b62a6c20",
   "metadata": {},
   "source": [
    "[service limits](https://docs.aws.amazon.com/marketplace/latest/userguide/ml-service-restrictions-and-limits.html) ページで Batch Transform に関連する箇所を確認して下さい。2024/02/06 現在、ドキュメントには１回の呼び出しあたりの入力データの最大サイズは 100MB であると記載されています。データセットが 100MB を超える場合は複数のファイルに分割/シャーディングして下さい。Item ID などでデータを分割し、各ファイルに時系列データの全体が含まれていることを確認してください。"
   ]
  },
  {
   "cell_type": "markdown",
   "id": "c459b34b",
   "metadata": {},
   "source": [
    "[create_transform_job] (https://boto3.amazonaws.com/v1/documentation/api/latest/reference/services/sagemaker/client/create_transform_job.html) を使用して Batch Tranform ジョブを起動します。ジョブの実行時間はデータサイズやインスタンスタイプ、インスタンス数に依存します。タスクが完了すると、実行結果は ```S3OutputPath``` で指定された場所にデータが出力されます。これより、Event hundler やその他のメカニズムを利用して予測結果を処理することができます。"
   ]
  },
  {
   "cell_type": "code",
   "execution_count": null,
   "id": "e267c9cd",
   "metadata": {},
   "outputs": [],
   "source": [
    "timestamp_suffix = strftime(\"%Y%m%d-%H%M%S\", gmtime())\n",
    "transform_job_name=f'{best_candidate_name}-' + timestamp_suffix\n",
    "print(\"BatchTransformJob: \" + transform_job_name)"
   ]
  },
  {
   "cell_type": "markdown",
   "id": "98a05a2a",
   "metadata": {},
   "source": [
    "次のセルはデータセットを再度ダウンロードし、```batch_transform/input``` フォルダにデータセットを格納します。"
   ]
  },
  {
   "cell_type": "markdown",
   "id": "ed318d36",
   "metadata": {},
   "source": [
    "<span style=\"color: red; \">IMPORTANT:</span> 推論のために提供するデータは、各時系列について少なくとも4つの有効な履歴値を持っていなければなりません。"
   ]
  },
  {
   "cell_type": "code",
   "execution_count": null,
   "id": "790ee4bc",
   "metadata": {},
   "outputs": [],
   "source": [
    "s3 = boto3.client('s3')\n",
    "object_inference_key = '{}/batch_transform/input/batch_transform.csv'.format(prefix)\n",
    "s3.upload_file(inference_path, bucket, object_inference_key)"
   ]
  },
  {
   "cell_type": "code",
   "execution_count": null,
   "id": "5d74e0ac",
   "metadata": {},
   "outputs": [],
   "source": [
    "response = sm.create_transform_job(\n",
    "    TransformJobName=transform_job_name, \n",
    "    ModelName=best_candidate_name,\n",
    "    MaxPayloadInMB=0,\n",
    "    ModelClientConfig={\n",
    "        'InvocationsTimeoutInSeconds': 3600\n",
    "    },\n",
    "    TransformInput={\n",
    "        'DataSource': {\n",
    "            'S3DataSource': {\n",
    "                'S3DataType': 'S3Prefix',\n",
    "                'S3Uri': 's3://{}/{}/batch_transform/input/'.format(bucket, prefix)\n",
    "            }\n",
    "        },\n",
    "        'ContentType': 'text/csv',\n",
    "        'SplitType': 'None'\n",
    "    },\n",
    "    TransformOutput={\n",
    "        'S3OutputPath': 's3://{}/{}/batch_transform/output/'.format(bucket, prefix),\n",
    "        'AssembleWith': 'Line',\n",
    "    },\n",
    "    TransformResources={\n",
    "        'InstanceType': 'ml.m5.12xlarge',\n",
    "        'InstanceCount': 1\n",
    "    }\n",
    "    )"
   ]
  },
  {
   "cell_type": "markdown",
   "id": "fbdddf5e",
   "metadata": {},
   "source": [
    "バッチ変換ジョブが完了するまでポーリングします。完了すると、結果の予測ファイルは前のセルで示したURI ``S3OutputPath`` で利用できるようになります。このステップを完了するために、APIメソッド[describe_transform_job](https://boto3.amazonaws.com/v1/documentation/api/latest/reference/services/sagemaker/client/describe_transform_job.html)を使用します。"
   ]
  },
  {
   "cell_type": "code",
   "execution_count": null,
   "id": "356f1c07",
   "metadata": {},
   "outputs": [],
   "source": [
    "describe_response = sm.describe_transform_job(TransformJobName=transform_job_name)\n",
    "\n",
    "job_run_status = describe_response[\"TransformJobStatus\"]\n",
    "\n",
    "while job_run_status not in (\"Failed\", \"Completed\", \"Stopped\"):\n",
    "    describe_response = sm.describe_transform_job(TransformJobName=transform_job_name)\n",
    "    job_run_status = describe_response[\"TransformJobStatus\"]\n",
    "\n",
    "    print(\n",
    "       datetime.datetime.now(), describe_response[\"TransformJobStatus\"]\n",
    "    )\n",
    "    sleep(60)"
   ]
  }
 ],
 "metadata": {
  "availableInstances": [
   {
    "_defaultOrder": 0,
    "_isFastLaunch": true,
    "category": "General purpose",
    "gpuNum": 0,
    "hideHardwareSpecs": false,
    "memoryGiB": 4,
    "name": "ml.t3.medium",
    "vcpuNum": 2
   },
   {
    "_defaultOrder": 1,
    "_isFastLaunch": false,
    "category": "General purpose",
    "gpuNum": 0,
    "hideHardwareSpecs": false,
    "memoryGiB": 8,
    "name": "ml.t3.large",
    "vcpuNum": 2
   },
   {
    "_defaultOrder": 2,
    "_isFastLaunch": false,
    "category": "General purpose",
    "gpuNum": 0,
    "hideHardwareSpecs": false,
    "memoryGiB": 16,
    "name": "ml.t3.xlarge",
    "vcpuNum": 4
   },
   {
    "_defaultOrder": 3,
    "_isFastLaunch": false,
    "category": "General purpose",
    "gpuNum": 0,
    "hideHardwareSpecs": false,
    "memoryGiB": 32,
    "name": "ml.t3.2xlarge",
    "vcpuNum": 8
   },
   {
    "_defaultOrder": 4,
    "_isFastLaunch": true,
    "category": "General purpose",
    "gpuNum": 0,
    "hideHardwareSpecs": false,
    "memoryGiB": 8,
    "name": "ml.m5.large",
    "vcpuNum": 2
   },
   {
    "_defaultOrder": 5,
    "_isFastLaunch": false,
    "category": "General purpose",
    "gpuNum": 0,
    "hideHardwareSpecs": false,
    "memoryGiB": 16,
    "name": "ml.m5.xlarge",
    "vcpuNum": 4
   },
   {
    "_defaultOrder": 6,
    "_isFastLaunch": false,
    "category": "General purpose",
    "gpuNum": 0,
    "hideHardwareSpecs": false,
    "memoryGiB": 32,
    "name": "ml.m5.2xlarge",
    "vcpuNum": 8
   },
   {
    "_defaultOrder": 7,
    "_isFastLaunch": false,
    "category": "General purpose",
    "gpuNum": 0,
    "hideHardwareSpecs": false,
    "memoryGiB": 64,
    "name": "ml.m5.4xlarge",
    "vcpuNum": 16
   },
   {
    "_defaultOrder": 8,
    "_isFastLaunch": false,
    "category": "General purpose",
    "gpuNum": 0,
    "hideHardwareSpecs": false,
    "memoryGiB": 128,
    "name": "ml.m5.8xlarge",
    "vcpuNum": 32
   },
   {
    "_defaultOrder": 9,
    "_isFastLaunch": false,
    "category": "General purpose",
    "gpuNum": 0,
    "hideHardwareSpecs": false,
    "memoryGiB": 192,
    "name": "ml.m5.12xlarge",
    "vcpuNum": 48
   },
   {
    "_defaultOrder": 10,
    "_isFastLaunch": false,
    "category": "General purpose",
    "gpuNum": 0,
    "hideHardwareSpecs": false,
    "memoryGiB": 256,
    "name": "ml.m5.16xlarge",
    "vcpuNum": 64
   },
   {
    "_defaultOrder": 11,
    "_isFastLaunch": false,
    "category": "General purpose",
    "gpuNum": 0,
    "hideHardwareSpecs": false,
    "memoryGiB": 384,
    "name": "ml.m5.24xlarge",
    "vcpuNum": 96
   },
   {
    "_defaultOrder": 12,
    "_isFastLaunch": false,
    "category": "General purpose",
    "gpuNum": 0,
    "hideHardwareSpecs": false,
    "memoryGiB": 8,
    "name": "ml.m5d.large",
    "vcpuNum": 2
   },
   {
    "_defaultOrder": 13,
    "_isFastLaunch": false,
    "category": "General purpose",
    "gpuNum": 0,
    "hideHardwareSpecs": false,
    "memoryGiB": 16,
    "name": "ml.m5d.xlarge",
    "vcpuNum": 4
   },
   {
    "_defaultOrder": 14,
    "_isFastLaunch": false,
    "category": "General purpose",
    "gpuNum": 0,
    "hideHardwareSpecs": false,
    "memoryGiB": 32,
    "name": "ml.m5d.2xlarge",
    "vcpuNum": 8
   },
   {
    "_defaultOrder": 15,
    "_isFastLaunch": false,
    "category": "General purpose",
    "gpuNum": 0,
    "hideHardwareSpecs": false,
    "memoryGiB": 64,
    "name": "ml.m5d.4xlarge",
    "vcpuNum": 16
   },
   {
    "_defaultOrder": 16,
    "_isFastLaunch": false,
    "category": "General purpose",
    "gpuNum": 0,
    "hideHardwareSpecs": false,
    "memoryGiB": 128,
    "name": "ml.m5d.8xlarge",
    "vcpuNum": 32
   },
   {
    "_defaultOrder": 17,
    "_isFastLaunch": false,
    "category": "General purpose",
    "gpuNum": 0,
    "hideHardwareSpecs": false,
    "memoryGiB": 192,
    "name": "ml.m5d.12xlarge",
    "vcpuNum": 48
   },
   {
    "_defaultOrder": 18,
    "_isFastLaunch": false,
    "category": "General purpose",
    "gpuNum": 0,
    "hideHardwareSpecs": false,
    "memoryGiB": 256,
    "name": "ml.m5d.16xlarge",
    "vcpuNum": 64
   },
   {
    "_defaultOrder": 19,
    "_isFastLaunch": false,
    "category": "General purpose",
    "gpuNum": 0,
    "hideHardwareSpecs": false,
    "memoryGiB": 384,
    "name": "ml.m5d.24xlarge",
    "vcpuNum": 96
   },
   {
    "_defaultOrder": 20,
    "_isFastLaunch": false,
    "category": "General purpose",
    "gpuNum": 0,
    "hideHardwareSpecs": true,
    "memoryGiB": 0,
    "name": "ml.geospatial.interactive",
    "supportedImageNames": [
     "sagemaker-geospatial-v1-0"
    ],
    "vcpuNum": 0
   },
   {
    "_defaultOrder": 21,
    "_isFastLaunch": true,
    "category": "Compute optimized",
    "gpuNum": 0,
    "hideHardwareSpecs": false,
    "memoryGiB": 4,
    "name": "ml.c5.large",
    "vcpuNum": 2
   },
   {
    "_defaultOrder": 22,
    "_isFastLaunch": false,
    "category": "Compute optimized",
    "gpuNum": 0,
    "hideHardwareSpecs": false,
    "memoryGiB": 8,
    "name": "ml.c5.xlarge",
    "vcpuNum": 4
   },
   {
    "_defaultOrder": 23,
    "_isFastLaunch": false,
    "category": "Compute optimized",
    "gpuNum": 0,
    "hideHardwareSpecs": false,
    "memoryGiB": 16,
    "name": "ml.c5.2xlarge",
    "vcpuNum": 8
   },
   {
    "_defaultOrder": 24,
    "_isFastLaunch": false,
    "category": "Compute optimized",
    "gpuNum": 0,
    "hideHardwareSpecs": false,
    "memoryGiB": 32,
    "name": "ml.c5.4xlarge",
    "vcpuNum": 16
   },
   {
    "_defaultOrder": 25,
    "_isFastLaunch": false,
    "category": "Compute optimized",
    "gpuNum": 0,
    "hideHardwareSpecs": false,
    "memoryGiB": 72,
    "name": "ml.c5.9xlarge",
    "vcpuNum": 36
   },
   {
    "_defaultOrder": 26,
    "_isFastLaunch": false,
    "category": "Compute optimized",
    "gpuNum": 0,
    "hideHardwareSpecs": false,
    "memoryGiB": 96,
    "name": "ml.c5.12xlarge",
    "vcpuNum": 48
   },
   {
    "_defaultOrder": 27,
    "_isFastLaunch": false,
    "category": "Compute optimized",
    "gpuNum": 0,
    "hideHardwareSpecs": false,
    "memoryGiB": 144,
    "name": "ml.c5.18xlarge",
    "vcpuNum": 72
   },
   {
    "_defaultOrder": 28,
    "_isFastLaunch": false,
    "category": "Compute optimized",
    "gpuNum": 0,
    "hideHardwareSpecs": false,
    "memoryGiB": 192,
    "name": "ml.c5.24xlarge",
    "vcpuNum": 96
   },
   {
    "_defaultOrder": 29,
    "_isFastLaunch": true,
    "category": "Accelerated computing",
    "gpuNum": 1,
    "hideHardwareSpecs": false,
    "memoryGiB": 16,
    "name": "ml.g4dn.xlarge",
    "vcpuNum": 4
   },
   {
    "_defaultOrder": 30,
    "_isFastLaunch": false,
    "category": "Accelerated computing",
    "gpuNum": 1,
    "hideHardwareSpecs": false,
    "memoryGiB": 32,
    "name": "ml.g4dn.2xlarge",
    "vcpuNum": 8
   },
   {
    "_defaultOrder": 31,
    "_isFastLaunch": false,
    "category": "Accelerated computing",
    "gpuNum": 1,
    "hideHardwareSpecs": false,
    "memoryGiB": 64,
    "name": "ml.g4dn.4xlarge",
    "vcpuNum": 16
   },
   {
    "_defaultOrder": 32,
    "_isFastLaunch": false,
    "category": "Accelerated computing",
    "gpuNum": 1,
    "hideHardwareSpecs": false,
    "memoryGiB": 128,
    "name": "ml.g4dn.8xlarge",
    "vcpuNum": 32
   },
   {
    "_defaultOrder": 33,
    "_isFastLaunch": false,
    "category": "Accelerated computing",
    "gpuNum": 4,
    "hideHardwareSpecs": false,
    "memoryGiB": 192,
    "name": "ml.g4dn.12xlarge",
    "vcpuNum": 48
   },
   {
    "_defaultOrder": 34,
    "_isFastLaunch": false,
    "category": "Accelerated computing",
    "gpuNum": 1,
    "hideHardwareSpecs": false,
    "memoryGiB": 256,
    "name": "ml.g4dn.16xlarge",
    "vcpuNum": 64
   },
   {
    "_defaultOrder": 35,
    "_isFastLaunch": false,
    "category": "Accelerated computing",
    "gpuNum": 1,
    "hideHardwareSpecs": false,
    "memoryGiB": 61,
    "name": "ml.p3.2xlarge",
    "vcpuNum": 8
   },
   {
    "_defaultOrder": 36,
    "_isFastLaunch": false,
    "category": "Accelerated computing",
    "gpuNum": 4,
    "hideHardwareSpecs": false,
    "memoryGiB": 244,
    "name": "ml.p3.8xlarge",
    "vcpuNum": 32
   },
   {
    "_defaultOrder": 37,
    "_isFastLaunch": false,
    "category": "Accelerated computing",
    "gpuNum": 8,
    "hideHardwareSpecs": false,
    "memoryGiB": 488,
    "name": "ml.p3.16xlarge",
    "vcpuNum": 64
   },
   {
    "_defaultOrder": 38,
    "_isFastLaunch": false,
    "category": "Accelerated computing",
    "gpuNum": 8,
    "hideHardwareSpecs": false,
    "memoryGiB": 768,
    "name": "ml.p3dn.24xlarge",
    "vcpuNum": 96
   },
   {
    "_defaultOrder": 39,
    "_isFastLaunch": false,
    "category": "Memory Optimized",
    "gpuNum": 0,
    "hideHardwareSpecs": false,
    "memoryGiB": 16,
    "name": "ml.r5.large",
    "vcpuNum": 2
   },
   {
    "_defaultOrder": 40,
    "_isFastLaunch": false,
    "category": "Memory Optimized",
    "gpuNum": 0,
    "hideHardwareSpecs": false,
    "memoryGiB": 32,
    "name": "ml.r5.xlarge",
    "vcpuNum": 4
   },
   {
    "_defaultOrder": 41,
    "_isFastLaunch": false,
    "category": "Memory Optimized",
    "gpuNum": 0,
    "hideHardwareSpecs": false,
    "memoryGiB": 64,
    "name": "ml.r5.2xlarge",
    "vcpuNum": 8
   },
   {
    "_defaultOrder": 42,
    "_isFastLaunch": false,
    "category": "Memory Optimized",
    "gpuNum": 0,
    "hideHardwareSpecs": false,
    "memoryGiB": 128,
    "name": "ml.r5.4xlarge",
    "vcpuNum": 16
   },
   {
    "_defaultOrder": 43,
    "_isFastLaunch": false,
    "category": "Memory Optimized",
    "gpuNum": 0,
    "hideHardwareSpecs": false,
    "memoryGiB": 256,
    "name": "ml.r5.8xlarge",
    "vcpuNum": 32
   },
   {
    "_defaultOrder": 44,
    "_isFastLaunch": false,
    "category": "Memory Optimized",
    "gpuNum": 0,
    "hideHardwareSpecs": false,
    "memoryGiB": 384,
    "name": "ml.r5.12xlarge",
    "vcpuNum": 48
   },
   {
    "_defaultOrder": 45,
    "_isFastLaunch": false,
    "category": "Memory Optimized",
    "gpuNum": 0,
    "hideHardwareSpecs": false,
    "memoryGiB": 512,
    "name": "ml.r5.16xlarge",
    "vcpuNum": 64
   },
   {
    "_defaultOrder": 46,
    "_isFastLaunch": false,
    "category": "Memory Optimized",
    "gpuNum": 0,
    "hideHardwareSpecs": false,
    "memoryGiB": 768,
    "name": "ml.r5.24xlarge",
    "vcpuNum": 96
   },
   {
    "_defaultOrder": 47,
    "_isFastLaunch": false,
    "category": "Accelerated computing",
    "gpuNum": 1,
    "hideHardwareSpecs": false,
    "memoryGiB": 16,
    "name": "ml.g5.xlarge",
    "vcpuNum": 4
   },
   {
    "_defaultOrder": 48,
    "_isFastLaunch": false,
    "category": "Accelerated computing",
    "gpuNum": 1,
    "hideHardwareSpecs": false,
    "memoryGiB": 32,
    "name": "ml.g5.2xlarge",
    "vcpuNum": 8
   },
   {
    "_defaultOrder": 49,
    "_isFastLaunch": false,
    "category": "Accelerated computing",
    "gpuNum": 1,
    "hideHardwareSpecs": false,
    "memoryGiB": 64,
    "name": "ml.g5.4xlarge",
    "vcpuNum": 16
   },
   {
    "_defaultOrder": 50,
    "_isFastLaunch": false,
    "category": "Accelerated computing",
    "gpuNum": 1,
    "hideHardwareSpecs": false,
    "memoryGiB": 128,
    "name": "ml.g5.8xlarge",
    "vcpuNum": 32
   },
   {
    "_defaultOrder": 51,
    "_isFastLaunch": false,
    "category": "Accelerated computing",
    "gpuNum": 1,
    "hideHardwareSpecs": false,
    "memoryGiB": 256,
    "name": "ml.g5.16xlarge",
    "vcpuNum": 64
   },
   {
    "_defaultOrder": 52,
    "_isFastLaunch": false,
    "category": "Accelerated computing",
    "gpuNum": 4,
    "hideHardwareSpecs": false,
    "memoryGiB": 192,
    "name": "ml.g5.12xlarge",
    "vcpuNum": 48
   },
   {
    "_defaultOrder": 53,
    "_isFastLaunch": false,
    "category": "Accelerated computing",
    "gpuNum": 4,
    "hideHardwareSpecs": false,
    "memoryGiB": 384,
    "name": "ml.g5.24xlarge",
    "vcpuNum": 96
   },
   {
    "_defaultOrder": 54,
    "_isFastLaunch": false,
    "category": "Accelerated computing",
    "gpuNum": 8,
    "hideHardwareSpecs": false,
    "memoryGiB": 768,
    "name": "ml.g5.48xlarge",
    "vcpuNum": 192
   },
   {
    "_defaultOrder": 55,
    "_isFastLaunch": false,
    "category": "Accelerated computing",
    "gpuNum": 8,
    "hideHardwareSpecs": false,
    "memoryGiB": 1152,
    "name": "ml.p4d.24xlarge",
    "vcpuNum": 96
   },
   {
    "_defaultOrder": 56,
    "_isFastLaunch": false,
    "category": "Accelerated computing",
    "gpuNum": 8,
    "hideHardwareSpecs": false,
    "memoryGiB": 1152,
    "name": "ml.p4de.24xlarge",
    "vcpuNum": 96
   }
  ],
  "instance_type": "ml.t3.medium",
  "kernelspec": {
   "display_name": "conda_python3",
   "language": "python",
   "name": "conda_python3"
  },
  "language_info": {
   "codemirror_mode": {
    "name": "ipython",
    "version": 3
   },
   "file_extension": ".py",
   "mimetype": "text/x-python",
   "name": "python",
   "nbconvert_exporter": "python",
   "pygments_lexer": "ipython3",
   "version": "3.10.14"
  }
 },
 "nbformat": 4,
 "nbformat_minor": 5
}
