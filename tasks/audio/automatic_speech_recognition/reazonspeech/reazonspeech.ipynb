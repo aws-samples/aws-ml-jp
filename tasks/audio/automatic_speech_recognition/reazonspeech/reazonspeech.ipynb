{
 "cells": [
  {
   "cell_type": "markdown",
   "id": "e289098e-b8e3-4923-85c1-692f0fe7a085",
   "metadata": {},
   "source": [
    "# 音声認識モデル ReaonSpeech を SageMaker の推論エンドポイントにデプロイする"
   ]
  },
  {
   "cell_type": "markdown",
   "id": "4b13a7d4",
   "metadata": {},
   "source": [
    "本チュートリアルでは、音声認識モデルである [ReazonSpeech](https://research.reazon.jp/projects/ReazonSpeech/index.html) を Amazon SageMaker 上にデプロイする流れを体験してみます。"
   ]
  },
  {
   "cell_type": "markdown",
   "id": "3d6f69f4-a757-48fb-80d1-5ad418e80478",
   "metadata": {},
   "source": [
    "## 準備"
   ]
  },
  {
   "cell_type": "markdown",
   "id": "179d8f2d",
   "metadata": {},
   "source": [
    "### モジュールのインポート、定数の設定、boto3 クライアントの設定、ロールの取得"
   ]
  },
  {
   "cell_type": "code",
   "execution_count": null,
   "id": "27e75a13",
   "metadata": {},
   "outputs": [],
   "source": [
    "import sagemaker\n",
    "from typing import Final\n",
    "import boto3\n",
    "import os\n",
    "from time import sleep\n",
    "from huggingface_hub import hf_hub_download\n",
    "smr_client:Final = boto3.client('sagemaker-runtime')\n",
    "sm_client:Final = boto3.client('sagemaker')\n",
    "s3_client:Final = boto3.client('s3')\n",
    "ecr_client:Final = boto3.client('ecr')\n",
    "endpoint_inservice_waiter:Final = sm_client.get_waiter('endpoint_in_service')\n",
    "role: Final[str] = sagemaker.get_execution_role()\n",
    "region: Final[str] = sagemaker.Session().boto_region_name\n",
    "bucket: Final[str] = sagemaker.Session().default_bucket()"
   ]
  },
  {
   "cell_type": "markdown",
   "id": "a59f7d0d",
   "metadata": {},
   "source": [
    "## モデルの作成"
   ]
  },
  {
   "cell_type": "markdown",
   "id": "eaddf001-17e0-4fc3-8f17-21b285a9e9dd",
   "metadata": {},
   "source": [
    "### モデルと推論コードを保存するディレクトリの作成"
   ]
  },
  {
   "cell_type": "code",
   "execution_count": null,
   "id": "94ac0361-8b56-4561-abc2-05fa69a744cf",
   "metadata": {},
   "outputs": [],
   "source": [
    "model_dir: Final[str] = 'model'\n",
    "!if [ -d ./{model_dir} ]; then rm -rf ./{model_dir}/;fi\n",
    "!mkdir -p ./{model_dir}/code"
   ]
  },
  {
   "cell_type": "markdown",
   "id": "d3ab3fcf-534f-4d5b-8716-61d10e58083a",
   "metadata": {},
   "source": [
    "### モデルのダウンロード"
   ]
  },
  {
   "cell_type": "code",
   "execution_count": null,
   "id": "1eb120a9-d91e-4f75-ab8e-c3f864a954a3",
   "metadata": {},
   "outputs": [],
   "source": [
    "hf_hub_download(repo_id='reazon-research/reazonspeech-nemo-v2',\n",
    "                filename='reazonspeech-nemo-v2.nemo',\n",
    "                revision='33693408be76b7cba9fd4a7546a0a8772430211b', local_dir=model_dir)"
   ]
  },
  {
   "cell_type": "markdown",
   "id": "ddc97969",
   "metadata": {},
   "source": [
    "### 推論コードの作成"
   ]
  },
  {
   "cell_type": "code",
   "execution_count": null,
   "id": "d9f2b3fb",
   "metadata": {},
   "outputs": [],
   "source": [
    "%%writefile ./{model_dir}/code/inference.py\n",
    "import json\n",
    "import logging\n",
    "import sys\n",
    "import os\n",
    "import io\n",
    "from reazonspeech.nemo.asr import transcribe, audio_from_numpy, TranscribeConfig\n",
    "import torch\n",
    "import soundfile as sf\n",
    "\n",
    "\n",
    "logger = logging.getLogger(__name__)\n",
    "logger.setLevel(logging.DEBUG)\n",
    "device = torch.device(\"cuda\" if torch.cuda.is_available() else \"cpu\")\n",
    "transcribe_config = TranscribeConfig(verbose=False)\n",
    "\n",
    "def parse_transcribe_result(transcribe_result):\n",
    "    text = transcribe_result.text\n",
    "    segments = []\n",
    "    subwords = []\n",
    "    for subword in transcribe_result.subwords:\n",
    "        s = {\"seconds\": subword.seconds, \"token_id\": subword.token_id, \"text\": subword.token}\n",
    "        subwords.append(s)\n",
    "    for segment in transcribe_result.segments:\n",
    "        s = {\"start_seconds\": segment.start_seconds, \"end_seconds\": segment.end_seconds, \"text\": segment.text}\n",
    "        segments.append(s)\n",
    "    return {\"text\": text, \"subwords\": subwords, \"segments\": segments}\n",
    "\n",
    "def model_fn(model_dir):\n",
    "    from nemo.collections.asr.models import EncDecRNNTBPEModel\n",
    "    model_path = os.path.join(model_dir, 'reazonspeech-nemo-v2.nemo')\n",
    "    model = EncDecRNNTBPEModel.restore_from(restore_path=model_path, map_location=device)\n",
    "    \n",
    "    return model\n",
    "\n",
    "def input_fn(request_body, request_content_type):\n",
    "    if not request_content_type.startswith('audio'):\n",
    "        raise ValueError('Content type: audio/ is only accepted.')\n",
    "    data = io.BytesIO(request_body)\n",
    "    audio_array, sampling_rate = sf.read(data)\n",
    "    data = {\"array\": audio_array, \"sr\": sampling_rate}\n",
    "    \n",
    "    return data\n",
    "\n",
    "def predict_fn(input_object, model):\n",
    "    audio = audio_from_numpy(input_object[\"array\"], input_object[\"sr\"])\n",
    "    ret = transcribe(model, audio, transcribe_config)\n",
    "    return ret\n",
    "\n",
    "def output_fn(predictions, content_type):\n",
    "    return json.dumps(parse_transcribe_result(predictions), ensure_ascii=False)"
   ]
  },
  {
   "cell_type": "markdown",
   "id": "93d9c52b",
   "metadata": {},
   "source": [
    "### モデルと推論コードを `model.tar.gz` に固める"
   ]
  },
  {
   "cell_type": "code",
   "execution_count": null,
   "id": "4eefcc94",
   "metadata": {},
   "outputs": [],
   "source": [
    "%cd {model_dir}\n",
    "!tar zcvf model.tar.gz ./*\n",
    "!mv model.tar.gz ../\n",
    "%cd .."
   ]
  },
  {
   "cell_type": "markdown",
   "id": "b6cda830",
   "metadata": {},
   "source": [
    "###　`model.tar.gz` を S3 にアップロード"
   ]
  },
  {
   "cell_type": "code",
   "execution_count": null,
   "id": "ea954fbc-9329-4921-8600-93fd9e0f05bd",
   "metadata": {},
   "outputs": [],
   "source": [
    "print(sagemaker.Session().default_bucket())"
   ]
  },
  {
   "cell_type": "code",
   "execution_count": null,
   "id": "634aeb6e",
   "metadata": {},
   "outputs": [],
   "source": [
    "s3_key_prefix: Final[str] = 'reazonspeech'\n",
    "model_s3_uri:Final[str] = sagemaker.session.Session().upload_data(\n",
    "    f'./model.tar.gz',\n",
    "    key_prefix = s3_key_prefix\n",
    ")\n",
    "print(model_s3_uri)"
   ]
  },
  {
   "cell_type": "markdown",
   "id": "1815b5ad-6bec-44bf-ab90-4fdc5f7da749",
   "metadata": {},
   "source": [
    "## 推論用コンテナの作成"
   ]
  },
  {
   "cell_type": "markdown",
   "id": "5f632b13-30a7-4ccc-a783-ab197787b5b1",
   "metadata": {},
   "source": [
    "### ECR リポジトリを作成"
   ]
  },
  {
   "cell_type": "code",
   "execution_count": null,
   "id": "5a773070-024b-4d70-8513-f4f9fff081b8",
   "metadata": {},
   "outputs": [],
   "source": [
    "repo_name: Final[str] = 'sagemaker-reazonspeech'\n",
    "repo_uri: Final[str] = ecr_client.create_repository(repositoryName=repo_name)['repository']['repositoryUri']"
   ]
  },
  {
   "cell_type": "markdown",
   "id": "91f1bae4-239d-449d-b5a3-4a99e3043c68",
   "metadata": {},
   "source": [
    "### `Dockerfile` の作成"
   ]
  },
  {
   "cell_type": "code",
   "execution_count": null,
   "id": "9c720a58-4fa2-4f20-94e4-b1b28042ef20",
   "metadata": {},
   "outputs": [],
   "source": [
    "%%writefile ./Dockerfile\n",
    "ARG BASE_IMAGE=\"763104351884.dkr.ecr.BASE_IMAGE_REGION.amazonaws.com/pytorch-inference:2.3.0-gpu-py311-cu121-ubuntu20.04-sagemaker\"\n",
    "FROM ${BASE_IMAGE}\n",
    "ARG REAZONSPEECH_RELEASE=\"2.0.0\"\n",
    "ARG HUGGINGFACE_HUB_RELEASE=\"0.23.2\"\n",
    "RUN apt update && apt install -y ffmpeg\n",
    "RUN pip install Cython\n",
    "RUN wget https://github.com/reazon-research/ReazonSpeech/archive/refs/tags/v${REAZONSPEECH_RELEASE}.tar.gz && \\\n",
    "    tar -zxvf v${REAZONSPEECH_RELEASE}.tar.gz && \\\n",
    "    pip install ReazonSpeech-${REAZONSPEECH_RELEASE}/pkg/nemo-asr\n",
    "RUN pip install huggingface-hub==${HUGGINGFACE_HUB_RELEASE}"
   ]
  },
  {
   "cell_type": "code",
   "execution_count": null,
   "id": "b49d0d89",
   "metadata": {},
   "outputs": [],
   "source": [
    "!sed -i \"s/BASE_IMAGE_REGION/{region}/\" Dockerfile"
   ]
  },
  {
   "cell_type": "markdown",
   "id": "a4189e13-13ca-4a00-9b49-ceefce05bc1e",
   "metadata": {},
   "source": [
    "### コンテナイメージのビルド"
   ]
  },
  {
   "cell_type": "code",
   "execution_count": null,
   "id": "0838b34f-5e9a-4500-b48c-3f92522c82d0",
   "metadata": {},
   "outputs": [],
   "source": [
    "image_tag: Final[str] = 'gpu'\n",
    "image_uri: Final[str] = '{}:{}'.format(repo_uri, image_tag)"
   ]
  },
  {
   "cell_type": "code",
   "execution_count": null,
   "id": "f79faa32",
   "metadata": {},
   "outputs": [],
   "source": [
    "if os.environ.get('SAGEMAKER_SPACE_NAME'):\n",
    "    docker_options: Final[str] = '--network sagemaker'\n",
    "else:\n",
    "    docker_options: Final[str] = ''"
   ]
  },
  {
   "cell_type": "code",
   "execution_count": null,
   "id": "0c6caf78-4334-419b-89ae-392f609d52fb",
   "metadata": {},
   "outputs": [],
   "source": [
    "!aws ecr get-login-password --region {region} | docker login --username AWS --password-stdin 763104351884.dkr.ecr.{region}.amazonaws.com\n",
    "!docker build {docker_options} -t {image_uri} ."
   ]
  },
  {
   "cell_type": "markdown",
   "id": "accab58b-1ec7-473c-9311-94972dcafcf7",
   "metadata": {},
   "source": [
    "### コンテナイメージを ECR リポジトリにプッシュ"
   ]
  },
  {
   "cell_type": "code",
   "execution_count": null,
   "id": "34a50f82-8c97-4dda-992a-45a7b5d96f69",
   "metadata": {},
   "outputs": [],
   "source": [
    "\n",
    "!aws ecr get-login-password --region {region} | docker login --username AWS --password-stdin {repo_uri}\n",
    "!docker push {image_uri}"
   ]
  },
  {
   "cell_type": "markdown",
   "id": "0b991cb5",
   "metadata": {},
   "source": [
    "## AWS SDK for Python でモデルをデプロイしてリアルタイム推論"
   ]
  },
  {
   "cell_type": "markdown",
   "id": "0ccd8fef-fc77-41e5-9f7b-b38e54af216d",
   "metadata": {},
   "source": [
    "### 推論エンドポイントのデプロイ"
   ]
  },
  {
   "cell_type": "code",
   "execution_count": null,
   "id": "84481baa",
   "metadata": {},
   "outputs": [],
   "source": [
    "# 名前の設定\n",
    "model_name: Final[str] = 'ReazonSpeech'\n",
    "endpoint_config_name: Final[str] = model_name + 'EndpointConfig'\n",
    "endpoint_name: Final[str] = model_name + 'Endpoint'"
   ]
  },
  {
   "cell_type": "code",
   "execution_count": null,
   "id": "815c582a",
   "metadata": {},
   "outputs": [],
   "source": [
    "# Model 作成\n",
    "response = sm_client.create_model(\n",
    "    ModelName=model_name,\n",
    "    PrimaryContainer={\n",
    "        'Image': image_uri,\n",
    "        'ModelDataUrl': model_s3_uri\n",
    "    },\n",
    "    ExecutionRoleArn=role,\n",
    ")\n",
    "# EndpointConfig 作成\n",
    "response = sm_client.create_endpoint_config(\n",
    "    EndpointConfigName=endpoint_config_name,\n",
    "    ProductionVariants=[\n",
    "        {\n",
    "            'VariantName': 'AllTrafic',\n",
    "            'ModelName': model_name,\n",
    "            'InitialInstanceCount': 1,\n",
    "            'InstanceType': 'ml.p3.2xlarge',\n",
    "        },\n",
    "    ],\n",
    ")\n",
    "# Endpoint 作成\n",
    "response = sm_client.create_endpoint(\n",
    "    EndpointName=endpoint_name,\n",
    "    EndpointConfigName=endpoint_config_name,\n",
    ")\n",
    "# Endpoint が有効化されるまで待つ\n",
    "endpoint_inservice_waiter.wait(\n",
    "    EndpointName=endpoint_name,\n",
    "    WaiterConfig={'Delay': 5,}\n",
    ")"
   ]
  },
  {
   "cell_type": "markdown",
   "id": "9c7af2ef-9c6d-40d0-8a7b-f1b28f341dbb",
   "metadata": {},
   "source": [
    "### 推論の実行"
   ]
  },
  {
   "cell_type": "markdown",
   "id": "d1ee939d-f987-46ce-866e-f324eea62856",
   "metadata": {},
   "source": [
    "事前に任意の WAV ファイルをダウンロードして、下記コード内の `file_name` にファイルパスを指定してください。"
   ]
  },
  {
   "cell_type": "code",
   "execution_count": null,
   "id": "6f0dd52c",
   "metadata": {},
   "outputs": [],
   "source": [
    "file_name = 'path/your-audio-data.wav'\n",
    "with open(file_name, 'rb') as audio_data:\n",
    "    f = audio_data.read() \n",
    "    b = bytearray(f)\n",
    "    response = smr_client.invoke_endpoint(\n",
    "        EndpointName=endpoint_name,\n",
    "        ContentType='audio/wav',\n",
    "        Accept='application/json',\n",
    "        Body=b\n",
    "    )\n",
    "    predictions = response['Body'].read().decode('utf-8')\n",
    "    print(predictions)"
   ]
  },
  {
   "cell_type": "markdown",
   "id": "46037062-0b3f-4c27-9771-ed4fc0a41eeb",
   "metadata": {},
   "source": [
    "## ECR リポジトリ, Model, EndpointConfig, Endpoint を削除"
   ]
  },
  {
   "cell_type": "code",
   "execution_count": null,
   "id": "09a0a167-ccfd-4365-b7ee-dba152adad08",
   "metadata": {},
   "outputs": [],
   "source": [
    "sm_client.delete_endpoint(EndpointName=endpoint_name)\n",
    "sm_client.delete_endpoint_config(EndpointConfigName=endpoint_config_name)\n",
    "sm_client.delete_model(ModelName=model_name)\n",
    "ecr_client.delete_repository(repositoryName=repo_name, force=True)"
   ]
  },
  {
   "cell_type": "code",
   "execution_count": null,
   "id": "854d1e11-c526-4804-ae2a-cd4b1c2e0f7d",
   "metadata": {},
   "outputs": [],
   "source": [
    "sleep(5)"
   ]
  }
 ],
 "metadata": {
  "kernelspec": {
   "display_name": "Python 3 (ipykernel)",
   "language": "python",
   "name": "python3"
  },
  "language_info": {
   "codemirror_mode": {
    "name": "ipython",
    "version": 3
   },
   "file_extension": ".py",
   "mimetype": "text/x-python",
   "name": "python",
   "nbconvert_exporter": "python",
   "pygments_lexer": "ipython3",
   "version": "3.10.14"
  }
 },
 "nbformat": 4,
 "nbformat_minor": 5
}
