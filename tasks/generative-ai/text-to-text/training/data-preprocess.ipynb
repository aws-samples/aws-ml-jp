{
 "cells": [
  {
   "cell_type": "markdown",
   "id": "15022ff1-8f6b-4f80-9857-6d6011919a2c",
   "metadata": {},
   "source": [
    "# Data Preprocessing\n",
    "\n",
    "事前学習のためにデータを前処理して FSx for Lustre に保存するサンプルコード。\n",
    "\n",
    "## 事前準備\n",
    "\n",
    "1. FSx for Lustre の作成\n",
    "2. SageMaker Notebook を立ち上げてこのノートブックを開く。（トークナイズは CPU Intensive なため c5,4xlarge 以上推奨）"
   ]
  },
  {
   "cell_type": "markdown",
   "id": "caf52268-f50b-4301-a693-39f88b6dc40c",
   "metadata": {},
   "source": [
    "## FSx for Lustre のマウント"
   ]
  },
  {
   "cell_type": "code",
   "execution_count": null,
   "id": "657906b6-d5d0-4b07-aed6-8fd8c90a956c",
   "metadata": {
    "scrolled": true,
    "tags": []
   },
   "outputs": [],
   "source": [
    "# Ubuntu\n",
    "# !sudo yum install -y lustre-client\n",
    "\n",
    "# Amazon Linux\n",
    "# !sudo amazon-linux-extras install  -y lustre"
   ]
  },
  {
   "cell_type": "code",
   "execution_count": null,
   "id": "2df86fc0-d6cf-4e43-a358-3cedf7fbd0ec",
   "metadata": {
    "tags": []
   },
   "outputs": [],
   "source": [
    "# TODO: Replace Here\n",
    "file_system_dns_name = \"<dns.name>\"\n",
    "mountname = \"<mountname>\""
   ]
  },
  {
   "cell_type": "code",
   "execution_count": null,
   "id": "d5bd2fc1-9954-435e-b547-e81af8126be8",
   "metadata": {
    "tags": []
   },
   "outputs": [],
   "source": [
    "!sudo mkdir -p /fsx\n",
    "!sudo mount -t lustre -o noatime,flock {file_system_dns_name}@tcp:/{mountname} /fsx\n",
    "!sudo chmod go+rw /fsx"
   ]
  },
  {
   "cell_type": "code",
   "execution_count": null,
   "id": "91fc2db0-d27f-476f-b2e5-e1e0bbc6d5a2",
   "metadata": {
    "tags": []
   },
   "outputs": [],
   "source": [
    "!touch /fsx/test.txt\n",
    "!ls -l /fsx"
   ]
  },
  {
   "cell_type": "markdown",
   "id": "3d040487-31e0-49ed-b9e1-9930e6bbd164",
   "metadata": {},
   "source": [
    "## データの前処理"
   ]
  },
  {
   "cell_type": "code",
   "execution_count": null,
   "id": "ec78d44b-65a7-4303-974d-4b7685cd113d",
   "metadata": {
    "scrolled": true,
    "tags": []
   },
   "outputs": [],
   "source": [
    "!pip install transformers datasets sentencepiece"
   ]
  },
  {
   "cell_type": "code",
   "execution_count": null,
   "id": "872c12d3-0c29-4f85-bb3a-a1108161f013",
   "metadata": {
    "tags": []
   },
   "outputs": [],
   "source": [
    "from itertools import chain\n",
    "\n",
    "from datasets import load_dataset\n",
    "from transformers import AutoTokenizer"
   ]
  },
  {
   "cell_type": "code",
   "execution_count": null,
   "id": "803b7ce1-6d8d-4f1a-8974-7dcebadf618b",
   "metadata": {
    "tags": []
   },
   "outputs": [],
   "source": [
    "TOKENIZER_NAME = \"rinna/japanese-gpt-neox-3.6b\"\n",
    "TOKENIZER_PREFIX = TOKENIZER_NAME.split(\"/\")[0]\n",
    "\n",
    "# max_context_width に合わせて、結合する長さのサイズを指定。\n",
    "BLOCK_SIZE = 2048\n",
    "\n",
    "# ディレクトリを指定\n",
    "RAW_DATA_DIR = \"/fsx/original_datasets/ja_raw_data\"\n",
    "SAVE_DIR = f\"/fsx/datasets/ja_{TOKENIZER_PREFIX}_preprocessed_{BLOCK_SIZE}\"\n",
    "\n",
    "# データ前処理用の設定\n",
    "# 処理する学習データのファイル数\n",
    "JSON_NUM_TRAIN = 1024\n",
    "# 処理する評価データのファイル数\n",
    "JSON_NUM_VAL = 8\n",
    "# 並列処理実行時のプロセスの数\n",
    "NUM_PROC = 8"
   ]
  },
  {
   "cell_type": "code",
   "execution_count": null,
   "id": "bd802733-b92a-473e-ac01-f603bf65d2db",
   "metadata": {
    "scrolled": true,
    "tags": []
   },
   "outputs": [],
   "source": [
    "tokenizer = AutoTokenizer.from_pretrained(TOKENIZER_NAME, use_fast=False)\n",
    "\n",
    "\n",
    "def group_texts(examples, block_size):\n",
    "    # Concatenate all texts.\n",
    "    concatenated_examples = {k: list(chain(*examples[k])) for k in examples.keys()}\n",
    "    total_length = len(concatenated_examples[list(examples.keys())[0]])\n",
    "    if total_length >= block_size:\n",
    "        total_length = (total_length // block_size) * block_size\n",
    "\n",
    "    # Split by chunks of max_len.\n",
    "    result = {\n",
    "        k: [t[i:i + block_size] for i in range(0, total_length, block_size)]\n",
    "        for k, t in concatenated_examples.items()\n",
    "    }\n",
    "    return result"
   ]
  },
  {
   "cell_type": "code",
   "execution_count": null,
   "id": "ae4a05a6-4bd2-41fb-a603-a2505fc41294",
   "metadata": {
    "tags": []
   },
   "outputs": [],
   "source": [
    "# Preprocess C4 dataset: 830 GB\n",
    "# https://huggingface.co/datasets/allenai/c4\n",
    "\n",
    "def convert_c4():\n",
    "    for i in range(JSON_NUM_TRAIN):\n",
    "        train_data_file = 'multilingual/c4-ja.tfrecord-%05d-of-01024.json.gz' % (i)\n",
    "        dataset = load_dataset('allenai/c4', data_files=train_data_file, cache_dir=RAW_DATA_DIR)\n",
    "        print(dataset)\n",
    "\n",
    "        dataset = dataset.map(lambda e: tokenizer(e['text']), num_proc=NUM_PROC)\n",
    "        columns = dataset['train'].column_names\n",
    "        columns.remove('input_ids')\n",
    "        columns.remove('attention_mask')\n",
    "        dataset = dataset['train'].remove_columns(columns)\n",
    "        print(dataset)\n",
    "\n",
    "        dataset = dataset.map(group_texts, fn_kwargs={\"block_size\": BLOCK_SIZE}, batched=True, num_proc=NUM_PROC)\n",
    "        print(dataset)\n",
    "\n",
    "        # Remove samples that length is less than BLOCK_SIZE\n",
    "        dataset = dataset.filter(lambda e: len(e['input_ids']) >= BLOCK_SIZE, num_proc=NUM_PROC)\n",
    "        print(dataset)\n",
    "\n",
    "        dataset = dataset.shuffle(seed=42)\n",
    "        train_path = SAVE_DIR + \"/train\"\n",
    "        save_path = f\"{train_path}/c4_train_dataset_2048_filtered_{train_data_file[-22:-3]}\"\n",
    "        dataset.to_json(save_path, orient=\"records\", lines=True, num_proc=4)\n",
    "\n",
    "    # for validation_data_file in validation_data_files:\n",
    "    for i in range(JSON_NUM_VAL):\n",
    "        validation_data_file = 'multilingual/c4-ja-validation.tfrecord-%05d-of-00008.json.gz' % (i)\n",
    "        dataset = load_dataset('allenai/c4', data_files=validation_data_file, cache_dir=RAW_DATA_DIR)\n",
    "        print(dataset)\n",
    "\n",
    "        dataset = dataset.map(lambda e: tokenizer(e['text']), num_proc=NUM_PROC)\n",
    "        dataset = dataset['train'].remove_columns(['text', 'timestamp'])\n",
    "        print(dataset)\n",
    "\n",
    "        dataset = dataset.map(group_texts, fn_kwargs={\"block_size\": BLOCK_SIZE}, batched=True, num_proc=NUM_PROC)\n",
    "        print(dataset)\n",
    "\n",
    "        # Remove samples that length is less than BLOCK_SIZE\n",
    "        dataset = dataset.filter(lambda e: len(e['input_ids']) >= BLOCK_SIZE, num_proc=NUM_PROC)\n",
    "        print(dataset)\n",
    "\n",
    "        dataset = dataset.shuffle(seed=42)\n",
    "        validation_path = SAVE_DIR + \"/validation\"\n",
    "        save_path = f\"{validation_path}/c4_validation_dataset_2048_filtered_{validation_data_file[-22:-3]}\"\n",
    "        dataset.to_json(save_path, orient=\"records\", lines=True, num_proc=4)\n",
    "\n",
    "\n",
    "convert_c4()"
   ]
  },
  {
   "cell_type": "code",
   "execution_count": null,
   "id": "32ef8291-4397-46bb-b720-d2e101eff9c2",
   "metadata": {},
   "outputs": [],
   "source": []
  }
 ],
 "metadata": {
  "availableInstances": [
   {
    "_defaultOrder": 0,
    "_isFastLaunch": true,
    "category": "General purpose",
    "gpuNum": 0,
    "memoryGiB": 4,
    "name": "ml.t3.medium",
    "vcpuNum": 2
   },
   {
    "_defaultOrder": 1,
    "_isFastLaunch": false,
    "category": "General purpose",
    "gpuNum": 0,
    "memoryGiB": 8,
    "name": "ml.t3.large",
    "vcpuNum": 2
   },
   {
    "_defaultOrder": 2,
    "_isFastLaunch": false,
    "category": "General purpose",
    "gpuNum": 0,
    "memoryGiB": 16,
    "name": "ml.t3.xlarge",
    "vcpuNum": 4
   },
   {
    "_defaultOrder": 3,
    "_isFastLaunch": false,
    "category": "General purpose",
    "gpuNum": 0,
    "memoryGiB": 32,
    "name": "ml.t3.2xlarge",
    "vcpuNum": 8
   },
   {
    "_defaultOrder": 4,
    "_isFastLaunch": true,
    "category": "General purpose",
    "gpuNum": 0,
    "memoryGiB": 8,
    "name": "ml.m5.large",
    "vcpuNum": 2
   },
   {
    "_defaultOrder": 5,
    "_isFastLaunch": false,
    "category": "General purpose",
    "gpuNum": 0,
    "memoryGiB": 16,
    "name": "ml.m5.xlarge",
    "vcpuNum": 4
   },
   {
    "_defaultOrder": 6,
    "_isFastLaunch": false,
    "category": "General purpose",
    "gpuNum": 0,
    "memoryGiB": 32,
    "name": "ml.m5.2xlarge",
    "vcpuNum": 8
   },
   {
    "_defaultOrder": 7,
    "_isFastLaunch": false,
    "category": "General purpose",
    "gpuNum": 0,
    "memoryGiB": 64,
    "name": "ml.m5.4xlarge",
    "vcpuNum": 16
   },
   {
    "_defaultOrder": 8,
    "_isFastLaunch": false,
    "category": "General purpose",
    "gpuNum": 0,
    "memoryGiB": 128,
    "name": "ml.m5.8xlarge",
    "vcpuNum": 32
   },
   {
    "_defaultOrder": 9,
    "_isFastLaunch": false,
    "category": "General purpose",
    "gpuNum": 0,
    "memoryGiB": 192,
    "name": "ml.m5.12xlarge",
    "vcpuNum": 48
   },
   {
    "_defaultOrder": 10,
    "_isFastLaunch": false,
    "category": "General purpose",
    "gpuNum": 0,
    "memoryGiB": 256,
    "name": "ml.m5.16xlarge",
    "vcpuNum": 64
   },
   {
    "_defaultOrder": 11,
    "_isFastLaunch": false,
    "category": "General purpose",
    "gpuNum": 0,
    "memoryGiB": 384,
    "name": "ml.m5.24xlarge",
    "vcpuNum": 96
   },
   {
    "_defaultOrder": 12,
    "_isFastLaunch": false,
    "category": "General purpose",
    "gpuNum": 0,
    "memoryGiB": 8,
    "name": "ml.m5d.large",
    "vcpuNum": 2
   },
   {
    "_defaultOrder": 13,
    "_isFastLaunch": false,
    "category": "General purpose",
    "gpuNum": 0,
    "memoryGiB": 16,
    "name": "ml.m5d.xlarge",
    "vcpuNum": 4
   },
   {
    "_defaultOrder": 14,
    "_isFastLaunch": false,
    "category": "General purpose",
    "gpuNum": 0,
    "memoryGiB": 32,
    "name": "ml.m5d.2xlarge",
    "vcpuNum": 8
   },
   {
    "_defaultOrder": 15,
    "_isFastLaunch": false,
    "category": "General purpose",
    "gpuNum": 0,
    "memoryGiB": 64,
    "name": "ml.m5d.4xlarge",
    "vcpuNum": 16
   },
   {
    "_defaultOrder": 16,
    "_isFastLaunch": false,
    "category": "General purpose",
    "gpuNum": 0,
    "memoryGiB": 128,
    "name": "ml.m5d.8xlarge",
    "vcpuNum": 32
   },
   {
    "_defaultOrder": 17,
    "_isFastLaunch": false,
    "category": "General purpose",
    "gpuNum": 0,
    "memoryGiB": 192,
    "name": "ml.m5d.12xlarge",
    "vcpuNum": 48
   },
   {
    "_defaultOrder": 18,
    "_isFastLaunch": false,
    "category": "General purpose",
    "gpuNum": 0,
    "memoryGiB": 256,
    "name": "ml.m5d.16xlarge",
    "vcpuNum": 64
   },
   {
    "_defaultOrder": 19,
    "_isFastLaunch": false,
    "category": "General purpose",
    "gpuNum": 0,
    "memoryGiB": 384,
    "name": "ml.m5d.24xlarge",
    "vcpuNum": 96
   },
   {
    "_defaultOrder": 20,
    "_isFastLaunch": true,
    "category": "Compute optimized",
    "gpuNum": 0,
    "memoryGiB": 4,
    "name": "ml.c5.large",
    "vcpuNum": 2
   },
   {
    "_defaultOrder": 21,
    "_isFastLaunch": false,
    "category": "Compute optimized",
    "gpuNum": 0,
    "memoryGiB": 8,
    "name": "ml.c5.xlarge",
    "vcpuNum": 4
   },
   {
    "_defaultOrder": 22,
    "_isFastLaunch": false,
    "category": "Compute optimized",
    "gpuNum": 0,
    "memoryGiB": 16,
    "name": "ml.c5.2xlarge",
    "vcpuNum": 8
   },
   {
    "_defaultOrder": 23,
    "_isFastLaunch": false,
    "category": "Compute optimized",
    "gpuNum": 0,
    "memoryGiB": 32,
    "name": "ml.c5.4xlarge",
    "vcpuNum": 16
   },
   {
    "_defaultOrder": 24,
    "_isFastLaunch": false,
    "category": "Compute optimized",
    "gpuNum": 0,
    "memoryGiB": 72,
    "name": "ml.c5.9xlarge",
    "vcpuNum": 36
   },
   {
    "_defaultOrder": 25,
    "_isFastLaunch": false,
    "category": "Compute optimized",
    "gpuNum": 0,
    "memoryGiB": 96,
    "name": "ml.c5.12xlarge",
    "vcpuNum": 48
   },
   {
    "_defaultOrder": 26,
    "_isFastLaunch": false,
    "category": "Compute optimized",
    "gpuNum": 0,
    "memoryGiB": 144,
    "name": "ml.c5.18xlarge",
    "vcpuNum": 72
   },
   {
    "_defaultOrder": 27,
    "_isFastLaunch": false,
    "category": "Compute optimized",
    "gpuNum": 0,
    "memoryGiB": 192,
    "name": "ml.c5.24xlarge",
    "vcpuNum": 96
   },
   {
    "_defaultOrder": 28,
    "_isFastLaunch": true,
    "category": "Accelerated computing",
    "gpuNum": 1,
    "memoryGiB": 16,
    "name": "ml.g4dn.xlarge",
    "vcpuNum": 4
   },
   {
    "_defaultOrder": 29,
    "_isFastLaunch": false,
    "category": "Accelerated computing",
    "gpuNum": 1,
    "memoryGiB": 32,
    "name": "ml.g4dn.2xlarge",
    "vcpuNum": 8
   },
   {
    "_defaultOrder": 30,
    "_isFastLaunch": false,
    "category": "Accelerated computing",
    "gpuNum": 1,
    "memoryGiB": 64,
    "name": "ml.g4dn.4xlarge",
    "vcpuNum": 16
   },
   {
    "_defaultOrder": 31,
    "_isFastLaunch": false,
    "category": "Accelerated computing",
    "gpuNum": 1,
    "memoryGiB": 128,
    "name": "ml.g4dn.8xlarge",
    "vcpuNum": 32
   },
   {
    "_defaultOrder": 32,
    "_isFastLaunch": false,
    "category": "Accelerated computing",
    "gpuNum": 4,
    "memoryGiB": 192,
    "name": "ml.g4dn.12xlarge",
    "vcpuNum": 48
   },
   {
    "_defaultOrder": 33,
    "_isFastLaunch": false,
    "category": "Accelerated computing",
    "gpuNum": 1,
    "memoryGiB": 256,
    "name": "ml.g4dn.16xlarge",
    "vcpuNum": 64
   },
   {
    "_defaultOrder": 34,
    "_isFastLaunch": false,
    "category": "Accelerated computing",
    "gpuNum": 1,
    "memoryGiB": 61,
    "name": "ml.p3.2xlarge",
    "vcpuNum": 8
   },
   {
    "_defaultOrder": 35,
    "_isFastLaunch": false,
    "category": "Accelerated computing",
    "gpuNum": 4,
    "memoryGiB": 244,
    "name": "ml.p3.8xlarge",
    "vcpuNum": 32
   },
   {
    "_defaultOrder": 36,
    "_isFastLaunch": false,
    "category": "Accelerated computing",
    "gpuNum": 8,
    "memoryGiB": 488,
    "name": "ml.p3.16xlarge",
    "vcpuNum": 64
   },
   {
    "_defaultOrder": 37,
    "_isFastLaunch": false,
    "category": "Accelerated computing",
    "gpuNum": 8,
    "memoryGiB": 768,
    "name": "ml.p3dn.24xlarge",
    "vcpuNum": 96
   },
   {
    "_defaultOrder": 38,
    "_isFastLaunch": false,
    "category": "Memory Optimized",
    "gpuNum": 0,
    "memoryGiB": 16,
    "name": "ml.r5.large",
    "vcpuNum": 2
   },
   {
    "_defaultOrder": 39,
    "_isFastLaunch": false,
    "category": "Memory Optimized",
    "gpuNum": 0,
    "memoryGiB": 32,
    "name": "ml.r5.xlarge",
    "vcpuNum": 4
   },
   {
    "_defaultOrder": 40,
    "_isFastLaunch": false,
    "category": "Memory Optimized",
    "gpuNum": 0,
    "memoryGiB": 64,
    "name": "ml.r5.2xlarge",
    "vcpuNum": 8
   },
   {
    "_defaultOrder": 41,
    "_isFastLaunch": false,
    "category": "Memory Optimized",
    "gpuNum": 0,
    "memoryGiB": 128,
    "name": "ml.r5.4xlarge",
    "vcpuNum": 16
   },
   {
    "_defaultOrder": 42,
    "_isFastLaunch": false,
    "category": "Memory Optimized",
    "gpuNum": 0,
    "memoryGiB": 256,
    "name": "ml.r5.8xlarge",
    "vcpuNum": 32
   },
   {
    "_defaultOrder": 43,
    "_isFastLaunch": false,
    "category": "Memory Optimized",
    "gpuNum": 0,
    "memoryGiB": 384,
    "name": "ml.r5.12xlarge",
    "vcpuNum": 48
   },
   {
    "_defaultOrder": 44,
    "_isFastLaunch": false,
    "category": "Memory Optimized",
    "gpuNum": 0,
    "memoryGiB": 512,
    "name": "ml.r5.16xlarge",
    "vcpuNum": 64
   },
   {
    "_defaultOrder": 45,
    "_isFastLaunch": false,
    "category": "Memory Optimized",
    "gpuNum": 0,
    "memoryGiB": 768,
    "name": "ml.r5.24xlarge",
    "vcpuNum": 96
   },
   {
    "_defaultOrder": 46,
    "_isFastLaunch": false,
    "category": "Accelerated computing",
    "gpuNum": 1,
    "memoryGiB": 16,
    "name": "ml.g5.xlarge",
    "vcpuNum": 4
   },
   {
    "_defaultOrder": 47,
    "_isFastLaunch": false,
    "category": "Accelerated computing",
    "gpuNum": 1,
    "memoryGiB": 32,
    "name": "ml.g5.2xlarge",
    "vcpuNum": 8
   },
   {
    "_defaultOrder": 48,
    "_isFastLaunch": false,
    "category": "Accelerated computing",
    "gpuNum": 1,
    "memoryGiB": 64,
    "name": "ml.g5.4xlarge",
    "vcpuNum": 16
   },
   {
    "_defaultOrder": 49,
    "_isFastLaunch": false,
    "category": "Accelerated computing",
    "gpuNum": 1,
    "memoryGiB": 128,
    "name": "ml.g5.8xlarge",
    "vcpuNum": 32
   },
   {
    "_defaultOrder": 50,
    "_isFastLaunch": false,
    "category": "Accelerated computing",
    "gpuNum": 1,
    "memoryGiB": 256,
    "name": "ml.g5.16xlarge",
    "vcpuNum": 64
   },
   {
    "_defaultOrder": 51,
    "_isFastLaunch": false,
    "category": "Accelerated computing",
    "gpuNum": 4,
    "memoryGiB": 192,
    "name": "ml.g5.12xlarge",
    "vcpuNum": 48
   },
   {
    "_defaultOrder": 52,
    "_isFastLaunch": false,
    "category": "Accelerated computing",
    "gpuNum": 4,
    "memoryGiB": 384,
    "name": "ml.g5.24xlarge",
    "vcpuNum": 96
   },
   {
    "_defaultOrder": 53,
    "_isFastLaunch": false,
    "category": "Accelerated computing",
    "gpuNum": 8,
    "memoryGiB": 768,
    "name": "ml.g5.48xlarge",
    "vcpuNum": 192
   }
  ],
  "instance_type": "ml.m5.xlarge",
  "kernelspec": {
   "display_name": "Python 3 (Data Science)",
   "language": "python",
   "name": "python3__SAGEMAKER_INTERNAL__arn:aws:sagemaker:us-east-1:081325390199:image/datascience-1.0"
  },
  "language_info": {
   "codemirror_mode": {
    "name": "ipython",
    "version": 3
   },
   "file_extension": ".py",
   "mimetype": "text/x-python",
   "name": "python",
   "nbconvert_exporter": "python",
   "pygments_lexer": "ipython3",
   "version": "3.7.10"
  }
 },
 "nbformat": 4,
 "nbformat_minor": 5
}
