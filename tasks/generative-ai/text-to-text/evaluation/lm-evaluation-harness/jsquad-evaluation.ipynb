{
 "cells": [
  {
   "cell_type": "code",
   "execution_count": 19,
   "id": "dd7f8872-a3ba-4505-a354-b599a0c1827a",
   "metadata": {
    "tags": []
   },
   "outputs": [],
   "source": [
    "import json\n",
    "from pathlib import Path\n",
    "import sagemaker\n",
    "import boto3\n",
    "sm_client = boto3.client('sagemaker')"
   ]
  },
  {
   "cell_type": "markdown",
   "id": "c06a58a9-11cb-460d-b69d-95eacdcda10d",
   "metadata": {},
   "source": [
    "## 事前準備\n",
    "\n",
    "スクリプト、データセットをコピーする。詳細は `jsquad_preparation.py` を参照。"
   ]
  },
  {
   "cell_type": "code",
   "execution_count": 2,
   "id": "2913e542-fe24-45da-8519-586aa2923877",
   "metadata": {
    "tags": []
   },
   "outputs": [
    {
     "name": "stdout",
     "output_type": "stream",
     "text": [
      "Copy fine tuning code from the fine-tuning/instruction-tuning.\n",
      "\tDelete existing scripts folder.\n",
      "Prepare JSQuAD dataset to data.\n",
      "\tDownload train-v1.1.json.\n",
      "\tDownload valid-v1.1.json.\n",
      "Convert train-v1.1.json to instruction format.\n",
      "\tThere are 710 titles (samples).\n",
      "Split 62859 instruction data.\n",
      "\t 8 data is saved.\n",
      "\t 16 data is saved.\n",
      "\t 32 data is saved.\n",
      "\t 64 data is saved.\n",
      "\t 128 data is saved.\n",
      "\t 256 data is saved.\n",
      "\t 512 data is saved.\n",
      "\t 1024 data is saved.\n",
      "\t 2048 data is saved.\n",
      "\t 4096 data is saved.\n",
      "\t 15652 data is saved.\n",
      "\t 31105 data is saved.\n",
      "\t 45576 data is saved.\n",
      "\t 57086 data is saved.\n",
      "\t 62859 data is saved.\n",
      "15 files are created.\n"
     ]
    }
   ],
   "source": [
    "!python jsquad_preparation.py"
   ]
  },
  {
   "cell_type": "code",
   "execution_count": 12,
   "id": "6925ed7b",
   "metadata": {},
   "outputs": [
    {
     "name": "stdout",
     "output_type": "stream",
     "text": [
      "title_index:19\n",
      "paragraph_index:16\n",
      "question_index:0\n",
      "question_id:a10807p23q0\n",
      "input:工学 [SEP] コンピュータを利用することで、製品や部品の欠点を調べたり、部品同士のかみ合わせを調べたり、人間工学的な面を研究したり、圧力・温度・電磁波・電流と電圧・デジタル論理レベル・流体の流れ・動きなどシステムの静的および動的特性を解析できる。これらの情報を総合的に関するソフトウェアとして製品情報管理がある。\n",
      "instruction:何を利用することで、製品や部品の欠点を調べたりできるか？\n",
      "output:コンピュータ\n"
     ]
    }
   ],
   "source": [
    "with open(\"data/jsquad-00008.json\", \"r\") as f:\n",
    "    instructions = json.load(f)\n",
    "    for key in instructions[0]:\n",
    "        print(f\"{key}:{instructions[0][key]}\")"
   ]
  },
  {
   "cell_type": "markdown",
   "id": "df13b802-6fb9-4ce1-85a0-8d610fd74e77",
   "metadata": {},
   "source": [
    "## training job 起動"
   ]
  },
  {
   "cell_type": "code",
   "execution_count": 13,
   "id": "5c4adfff-3abb-4ce8-a53e-f1e84cadd593",
   "metadata": {
    "tags": []
   },
   "outputs": [
    {
     "name": "stdout",
     "output_type": "stream",
     "text": [
      "sagemaker.config INFO - Not applying SDK defaults from location: /etc/xdg/sagemaker/config.yaml\n",
      "sagemaker.config INFO - Not applying SDK defaults from location: /home/sagemaker-user/.config/sagemaker/config.yaml\n",
      "sagemaker.config INFO - Not applying SDK defaults from location: /etc/xdg/sagemaker/config.yaml\n",
      "sagemaker.config INFO - Not applying SDK defaults from location: /home/sagemaker-user/.config/sagemaker/config.yaml\n"
     ]
    },
    {
     "data": {
      "text/plain": [
       "'2.197.0'"
      ]
     },
     "execution_count": 13,
     "metadata": {},
     "output_type": "execute_result"
    }
   ],
   "source": [
    "import sagemaker, boto3, json\n",
    "from sagemaker import get_execution_role\n",
    "from sagemaker.pytorch.model import PyTorchModel\n",
    "from sagemaker.huggingface import HuggingFace\n",
    "\n",
    "role = get_execution_role()\n",
    "region = boto3.Session().region_name\n",
    "sess = sagemaker.Session()\n",
    "bucket = sess.default_bucket()\n",
    "\n",
    "sagemaker.__version__"
   ]
  },
  {
   "cell_type": "code",
   "execution_count": 22,
   "id": "0c848f9f-cd8d-4aa5-811a-519512244299",
   "metadata": {
    "tags": []
   },
   "outputs": [
    {
     "name": "stdout",
     "output_type": "stream",
     "text": [
      "jsquad-00008.json\n",
      "jsquad-00016.json\n",
      "jsquad-00032.json\n",
      "jsquad-00064.json\n",
      "jsquad-00128.json\n",
      "jsquad-00256.json\n",
      "jsquad-00512.json\n",
      "jsquad-01024.json\n",
      "jsquad-02048.json\n",
      "jsquad-04096.json\n",
      "jsquad-15652.json\n",
      "jsquad-31105.json\n",
      "jsquad-45576.json\n",
      "jsquad-57086.json\n",
      "jsquad-62859.json\n"
     ]
    }
   ],
   "source": [
    "train_json_list = sorted(Path(\"data\").glob(\"jsquad-*.json\"))\n",
    "for f in train_json_list:\n",
    "    print(f.name)"
   ]
  },
  {
   "cell_type": "code",
   "execution_count": 23,
   "id": "a4901bdb-1ac8-4f8f-bfce-e4e77c377617",
   "metadata": {
    "tags": []
   },
   "outputs": [],
   "source": [
    "input_s3_list = []\n",
    "for train_json in train_json_list:\n",
    "    input_train = sess.upload_data(\n",
    "        path=str(train_json),\n",
    "        key_prefix=\"jsquad\"\n",
    "    )\n",
    "    input_s3_list.append(input_train)"
   ]
  },
  {
   "cell_type": "markdown",
   "id": "4e02d03a-4d15-4bbc-a61b-96afdc80b82b",
   "metadata": {},
   "source": [
    "training script はこちらを使用  \n",
    "https://github.com/aws-samples/aws-ml-jp/tree/main/tasks/generative-ai/text-to-text/fine-tuning/instruction-tuning/Transformers/scripts"
   ]
  },
  {
   "cell_type": "code",
   "execution_count": 25,
   "id": "b7095ad0-63fd-4815-b440-9df0d6d4b023",
   "metadata": {
    "scrolled": true,
    "tags": []
   },
   "outputs": [
    {
     "name": "stdout",
     "output_type": "stream",
     "text": [
      "sagemaker.config INFO - Not applying SDK defaults from location: /etc/xdg/sagemaker/config.yaml\n",
      "sagemaker.config INFO - Not applying SDK defaults from location: /home/sagemaker-user/.config/sagemaker/config.yaml\n",
      "Using provided s3_resource\n"
     ]
    },
    {
     "name": "stderr",
     "output_type": "stream",
     "text": [
      "INFO:sagemaker.image_uris:image_uri is not presented, retrieving image_uri based on instance_type, framework etc.\n",
      "INFO:sagemaker:Creating training-job with name: ft-rinna-00008-2023-12-21-09-24-05-544\n"
     ]
    }
   ],
   "source": [
    "for s3_uri in input_s3_list[:1]:\n",
    "    data_num = (s3_uri.split('/')[-1].split('.')[0]).split('-')[1]\n",
    "    base_job_name=f\"ft-rinna-{data_num}\"\n",
    "    hyperparameters={\n",
    "        'base_model':'rinna/japanese-gpt-neox-3.6b-instruction-ppo',\n",
    "        # 'load_in_8bit': True,\n",
    "        # 'load_in_4bit': True,\n",
    "        'data_path': f\"/opt/ml/input/data/train/{s3_uri.split('/')[-1]}\",\n",
    "        'num_epochs': 3,\n",
    "        'cutoff_len': 512,\n",
    "        'group_by_length': False,\n",
    "        'output_dir': '/opt/ml/model',\n",
    "        'val_set_size':int(data_num)//8,\n",
    "        # 'resume_from_checkpoint': '/opt/ml/checkpoints',\n",
    "        'lora_target_modules': '[query_key_value]',\n",
    "        'lora_r': 16,\n",
    "        'batch_size': 8,\n",
    "        'micro_batch_size': 8,\n",
    "        'prompt_template_name': 'rinna',\n",
    "        ## wandb setting\n",
    "        'wandb_project': 'rinna-jsquad-finetune',\n",
    "        'wandb_run_name': base_job_name,\n",
    "        'wandb_watch': \"gradients\",  # options: false | gradients | all\n",
    "        'wandb_log_model': \"false\",  # options: false | true\n",
    "    }\n",
    "    environment = {\n",
    "        'WANDB_API_KEY': '(your_key)'\n",
    "    }\n",
    "    huggingface_estimator = HuggingFace(\n",
    "        base_job_name=base_job_name,\n",
    "        role=role,\n",
    "        entry_point='finetune.py',\n",
    "        source_dir='./scripts/code',\n",
    "        instance_type='ml.g5.2xlarge',\n",
    "        instance_count=1,\n",
    "        volume_size=200,\n",
    "        transformers_version='4.26',\n",
    "        pytorch_version='1.13',\n",
    "        py_version='py39',\n",
    "        # use_spot_instances=True,\n",
    "        # max_wait=86400,\n",
    "        hyperparameters=hyperparameters,\n",
    "        environment=environment,\n",
    "        metric_definitions=[{'Name': 'eval_loss', 'Regex': \"'eval_loss': (\\d\\.\\d+)\"},\n",
    "                            {'Name': 'train_loss', 'Regex': \"'loss': (\\d\\.\\d+)\"}],\n",
    "        # checkpoint_s3_uri=f\"s3://{bucket}/{base_job_name}/checkpoint/\",\n",
    "    )\n",
    "    huggingface_estimator.fit({'train': s3_uri},wait=False)"
   ]
  },
  {
   "cell_type": "markdown",
   "id": "4da2bced-bf47-403b-91ad-8b68a63190b8",
   "metadata": {},
   "source": [
    "---\n",
    "## 出来上がったモデルを評価\n",
    "## 以下は、全トレーニングジョブが終わってから実行のこと"
   ]
  },
  {
   "cell_type": "code",
   "execution_count": 63,
   "id": "dd42782b-5bb3-4c9c-9126-790f40ddfbbb",
   "metadata": {
    "scrolled": true,
    "tags": []
   },
   "outputs": [],
   "source": [
    "paginator = sm_client.get_paginator('list_training_jobs')\n",
    "training_jobs = []\n",
    "for i, page in enumerate(paginator.paginate()):\n",
    "    tmp_training_jobs = [{'TrainingJobName':training_job['TrainingJobName']} for training_job in page['TrainingJobSummaries']]    \n",
    "    training_jobs = [*training_jobs, *tmp_training_jobs]\n",
    "    if len(training_jobs) > 20:\n",
    "        break"
   ]
  },
  {
   "cell_type": "code",
   "execution_count": 64,
   "id": "57717a3e-721c-45d3-8652-c3c89da4f208",
   "metadata": {
    "tags": []
   },
   "outputs": [
    {
     "name": "stdout",
     "output_type": "stream",
     "text": [
      "[{'TrainingJobName': 'ft-rinna-62859-2023-12-10-08-15-15-471'}, {'TrainingJobName': 'ft-rinna-57086-2023-12-10-08-15-14-664'}, {'TrainingJobName': 'ft-rinna-45576-2023-12-10-08-15-12-610'}, {'TrainingJobName': 'ft-rinna-31105-2023-12-10-08-15-11-784'}, {'TrainingJobName': 'ft-rinna-15652-2023-12-10-08-15-11-001'}, {'TrainingJobName': 'ft-rinna-08192-2023-12-10-08-15-10-270'}, {'TrainingJobName': 'ft-rinna-04096-2023-12-10-08-15-07-287'}, {'TrainingJobName': 'ft-rinna-02048-2023-12-10-08-15-06-553'}, {'TrainingJobName': 'ft-rinna-01024-2023-12-10-08-15-05-753'}, {'TrainingJobName': 'ft-rinna-00512-2023-12-10-08-15-05-068'}, {'TrainingJobName': 'ft-rinna-00256-2023-12-10-08-15-04-216'}, {'TrainingJobName': 'ft-rinna-00128-2023-12-10-08-15-03-457'}, {'TrainingJobName': 'ft-rinna-00064-2023-12-10-08-15-01-610'}, {'TrainingJobName': 'ft-rinna-00032-2023-12-10-08-15-00-667'}, {'TrainingJobName': 'ft-rinna-00016-2023-12-10-08-14-59-184'}, {'TrainingJobName': 'ft-rinna-00008-2023-12-10-08-14-58-158'}]\n"
     ]
    }
   ],
   "source": [
    "training_jobs = training_jobs[:16]\n",
    "print(training_jobs)"
   ]
  },
  {
   "cell_type": "code",
   "execution_count": 67,
   "id": "2f096213-54cb-4b1d-86af-ecf56b87c306",
   "metadata": {
    "tags": []
   },
   "outputs": [],
   "source": [
    "for i, training_job in enumerate(training_jobs):\n",
    "    training_jobs[i]['S3ModelArtifacts'] = sm_client.describe_training_job(\n",
    "        TrainingJobName=training_job['TrainingJobName'],\n",
    "    )['ModelArtifacts']['S3ModelArtifacts']"
   ]
  },
  {
   "cell_type": "code",
   "execution_count": 68,
   "id": "6b158b9c-908f-46f3-9efb-18dc861b11f3",
   "metadata": {
    "scrolled": true,
    "tags": []
   },
   "outputs": [
    {
     "data": {
      "text/plain": [
       "[{'TrainingJobName': 'ft-rinna-62859-2023-12-10-08-15-15-471',\n",
       "  'S3ModelArtifacts': 's3://sagemaker-us-east-1-290000338583/ft-rinna-62859-2023-12-10-08-15-15-471/output/model.tar.gz'},\n",
       " {'TrainingJobName': 'ft-rinna-57086-2023-12-10-08-15-14-664',\n",
       "  'S3ModelArtifacts': 's3://sagemaker-us-east-1-290000338583/ft-rinna-57086-2023-12-10-08-15-14-664/output/model.tar.gz'},\n",
       " {'TrainingJobName': 'ft-rinna-45576-2023-12-10-08-15-12-610',\n",
       "  'S3ModelArtifacts': 's3://sagemaker-us-east-1-290000338583/ft-rinna-45576-2023-12-10-08-15-12-610/output/model.tar.gz'},\n",
       " {'TrainingJobName': 'ft-rinna-31105-2023-12-10-08-15-11-784',\n",
       "  'S3ModelArtifacts': 's3://sagemaker-us-east-1-290000338583/ft-rinna-31105-2023-12-10-08-15-11-784/output/model.tar.gz'},\n",
       " {'TrainingJobName': 'ft-rinna-15652-2023-12-10-08-15-11-001',\n",
       "  'S3ModelArtifacts': 's3://sagemaker-us-east-1-290000338583/ft-rinna-15652-2023-12-10-08-15-11-001/output/model.tar.gz'},\n",
       " {'TrainingJobName': 'ft-rinna-08192-2023-12-10-08-15-10-270',\n",
       "  'S3ModelArtifacts': 's3://sagemaker-us-east-1-290000338583/ft-rinna-08192-2023-12-10-08-15-10-270/output/model.tar.gz'},\n",
       " {'TrainingJobName': 'ft-rinna-04096-2023-12-10-08-15-07-287',\n",
       "  'S3ModelArtifacts': 's3://sagemaker-us-east-1-290000338583/ft-rinna-04096-2023-12-10-08-15-07-287/output/model.tar.gz'},\n",
       " {'TrainingJobName': 'ft-rinna-02048-2023-12-10-08-15-06-553',\n",
       "  'S3ModelArtifacts': 's3://sagemaker-us-east-1-290000338583/ft-rinna-02048-2023-12-10-08-15-06-553/output/model.tar.gz'},\n",
       " {'TrainingJobName': 'ft-rinna-01024-2023-12-10-08-15-05-753',\n",
       "  'S3ModelArtifacts': 's3://sagemaker-us-east-1-290000338583/ft-rinna-01024-2023-12-10-08-15-05-753/output/model.tar.gz'},\n",
       " {'TrainingJobName': 'ft-rinna-00512-2023-12-10-08-15-05-068',\n",
       "  'S3ModelArtifacts': 's3://sagemaker-us-east-1-290000338583/ft-rinna-00512-2023-12-10-08-15-05-068/output/model.tar.gz'},\n",
       " {'TrainingJobName': 'ft-rinna-00256-2023-12-10-08-15-04-216',\n",
       "  'S3ModelArtifacts': 's3://sagemaker-us-east-1-290000338583/ft-rinna-00256-2023-12-10-08-15-04-216/output/model.tar.gz'},\n",
       " {'TrainingJobName': 'ft-rinna-00128-2023-12-10-08-15-03-457',\n",
       "  'S3ModelArtifacts': 's3://sagemaker-us-east-1-290000338583/ft-rinna-00128-2023-12-10-08-15-03-457/output/model.tar.gz'},\n",
       " {'TrainingJobName': 'ft-rinna-00064-2023-12-10-08-15-01-610',\n",
       "  'S3ModelArtifacts': 's3://sagemaker-us-east-1-290000338583/ft-rinna-00064-2023-12-10-08-15-01-610/output/model.tar.gz'},\n",
       " {'TrainingJobName': 'ft-rinna-00032-2023-12-10-08-15-00-667',\n",
       "  'S3ModelArtifacts': 's3://sagemaker-us-east-1-290000338583/ft-rinna-00032-2023-12-10-08-15-00-667/output/model.tar.gz'},\n",
       " {'TrainingJobName': 'ft-rinna-00016-2023-12-10-08-14-59-184',\n",
       "  'S3ModelArtifacts': 's3://sagemaker-us-east-1-290000338583/ft-rinna-00016-2023-12-10-08-14-59-184/output/model.tar.gz'},\n",
       " {'TrainingJobName': 'ft-rinna-00008-2023-12-10-08-14-58-158',\n",
       "  'S3ModelArtifacts': 's3://sagemaker-us-east-1-290000338583/ft-rinna-00008-2023-12-10-08-14-58-158/output/model.tar.gz'}]"
      ]
     },
     "execution_count": 68,
     "metadata": {},
     "output_type": "execute_result"
    }
   ],
   "source": [
    "training_jobs"
   ]
  },
  {
   "cell_type": "code",
   "execution_count": 69,
   "id": "52f424c0-8398-4fee-8a46-41633b805fc6",
   "metadata": {
    "scrolled": true,
    "tags": []
   },
   "outputs": [
    {
     "name": "stdout",
     "output_type": "stream",
     "text": [
      "download: s3://sagemaker-us-east-1-290000338583/ft-rinna-62859-2023-12-10-08-15-15-471/output/model.tar.gz to 62859/model.tar.gz\n",
      "tar: Ignoring unknown extended header keyword 'LIBARCHIVE.creationtime'\n",
      "adapter_config.json\n",
      "tar: Ignoring unknown extended header keyword 'LIBARCHIVE.creationtime'\n",
      "checkpoint-41200/\n",
      "tar: Ignoring unknown extended header keyword 'LIBARCHIVE.creationtime'\n",
      "checkpoint-41200/adapter_config.json\n",
      "tar: Ignoring unknown extended header keyword 'LIBARCHIVE.creationtime'\n",
      "checkpoint-41200/optimizer.pt\n",
      "tar: Ignoring unknown extended header keyword 'LIBARCHIVE.creationtime'\n",
      "checkpoint-41200/rng_state.pth\n",
      "tar: Ignoring unknown extended header keyword 'LIBARCHIVE.creationtime'\n",
      "checkpoint-41200/adapter_model.bin\n",
      "tar: Ignoring unknown extended header keyword 'LIBARCHIVE.creationtime'\n",
      "checkpoint-41200/training_args.bin\n",
      "tar: Ignoring unknown extended header keyword 'LIBARCHIVE.creationtime'\n",
      "checkpoint-41200/trainer_state.json\n",
      "tar: Ignoring unknown extended header keyword 'LIBARCHIVE.creationtime'\n",
      "checkpoint-41200/adapter_model/\n",
      "tar: Ignoring unknown extended header keyword 'LIBARCHIVE.creationtime'\n",
      "checkpoint-41200/adapter_model/adapter_config.json\n",
      "tar: Ignoring unknown extended header keyword 'LIBARCHIVE.creationtime'\n",
      "checkpoint-41200/adapter_model/adapter_model.bin\n",
      "tar: Ignoring unknown extended header keyword 'LIBARCHIVE.creationtime'\n",
      "checkpoint-41200/scheduler.pt\n",
      "tar: Ignoring unknown extended header keyword 'LIBARCHIVE.creationtime'\n",
      "checkpoint-40800/\n",
      "tar: Ignoring unknown extended header keyword 'LIBARCHIVE.creationtime'\n",
      "checkpoint-40800/adapter_config.json\n",
      "tar: Ignoring unknown extended header keyword 'LIBARCHIVE.creationtime'\n",
      "checkpoint-40800/optimizer.pt\n",
      "tar: Ignoring unknown extended header keyword 'LIBARCHIVE.creationtime'\n",
      "checkpoint-40800/rng_state.pth\n",
      "tar: Ignoring unknown extended header keyword 'LIBARCHIVE.creationtime'\n",
      "checkpoint-40800/adapter_model.bin\n",
      "tar: Ignoring unknown extended header keyword 'LIBARCHIVE.creationtime'\n",
      "checkpoint-40800/training_args.bin\n",
      "tar: Ignoring unknown extended header keyword 'LIBARCHIVE.creationtime'\n",
      "checkpoint-40800/trainer_state.json\n",
      "tar: Ignoring unknown extended header keyword 'LIBARCHIVE.creationtime'\n",
      "checkpoint-40800/adapter_model/\n",
      "tar: Ignoring unknown extended header keyword 'LIBARCHIVE.creationtime'\n",
      "checkpoint-40800/adapter_model/adapter_config.json\n",
      "tar: Ignoring unknown extended header keyword 'LIBARCHIVE.creationtime'\n",
      "checkpoint-40800/adapter_model/adapter_model.bin\n",
      "tar: Ignoring unknown extended header keyword 'LIBARCHIVE.creationtime'\n",
      "checkpoint-40800/scheduler.pt\n",
      "tar: Ignoring unknown extended header keyword 'LIBARCHIVE.creationtime'\n",
      "checkpoint-41000/\n",
      "tar: Ignoring unknown extended header keyword 'LIBARCHIVE.creationtime'\n",
      "checkpoint-41000/adapter_config.json\n",
      "tar: Ignoring unknown extended header keyword 'LIBARCHIVE.creationtime'\n",
      "checkpoint-41000/optimizer.pt\n",
      "tar: Ignoring unknown extended header keyword 'LIBARCHIVE.creationtime'\n",
      "checkpoint-41000/rng_state.pth\n",
      "tar: Ignoring unknown extended header keyword 'LIBARCHIVE.creationtime'\n",
      "checkpoint-41000/adapter_model.bin\n",
      "tar: Ignoring unknown extended header keyword 'LIBARCHIVE.creationtime'\n",
      "checkpoint-41000/training_args.bin\n",
      "tar: Ignoring unknown extended header keyword 'LIBARCHIVE.creationtime'\n",
      "checkpoint-41000/trainer_state.json\n",
      "tar: Ignoring unknown extended header keyword 'LIBARCHIVE.creationtime'\n",
      "checkpoint-41000/adapter_model/\n",
      "tar: Ignoring unknown extended header keyword 'LIBARCHIVE.creationtime'\n",
      "checkpoint-41000/adapter_model/adapter_config.json\n",
      "tar: Ignoring unknown extended header keyword 'LIBARCHIVE.creationtime'\n",
      "checkpoint-41000/adapter_model/adapter_model.bin\n",
      "tar: Ignoring unknown extended header keyword 'LIBARCHIVE.creationtime'\n",
      "checkpoint-41000/scheduler.pt\n",
      "tar: Ignoring unknown extended header keyword 'LIBARCHIVE.creationtime'\n",
      "adapter_model.bin\n",
      "download: s3://sagemaker-us-east-1-290000338583/ft-rinna-57086-2023-12-10-08-15-14-664/output/model.tar.gz to 57086/model.tar.gz\n",
      "tar: Ignoring unknown extended header keyword 'LIBARCHIVE.creationtime'\n",
      "adapter_model.bin\n",
      "tar: Ignoring unknown extended header keyword 'LIBARCHIVE.creationtime'\n",
      "adapter_config.json\n",
      "tar: Ignoring unknown extended header keyword 'LIBARCHIVE.creationtime'\n",
      "checkpoint-37400/\n",
      "tar: Ignoring unknown extended header keyword 'LIBARCHIVE.creationtime'\n",
      "checkpoint-37400/adapter_model.bin\n",
      "tar: Ignoring unknown extended header keyword 'LIBARCHIVE.creationtime'\n",
      "checkpoint-37400/adapter_model/\n",
      "tar: Ignoring unknown extended header keyword 'LIBARCHIVE.creationtime'\n",
      "checkpoint-37400/adapter_model/adapter_model.bin\n",
      "tar: Ignoring unknown extended header keyword 'LIBARCHIVE.creationtime'\n",
      "checkpoint-37400/adapter_model/adapter_config.json\n",
      "tar: Ignoring unknown extended header keyword 'LIBARCHIVE.creationtime'\n",
      "checkpoint-37400/adapter_config.json\n",
      "tar: Ignoring unknown extended header keyword 'LIBARCHIVE.creationtime'\n",
      "checkpoint-37400/training_args.bin\n",
      "tar: Ignoring unknown extended header keyword 'LIBARCHIVE.creationtime'\n",
      "checkpoint-37400/rng_state.pth\n",
      "tar: Ignoring unknown extended header keyword 'LIBARCHIVE.creationtime'\n",
      "checkpoint-37400/trainer_state.json\n",
      "tar: Ignoring unknown extended header keyword 'LIBARCHIVE.creationtime'\n",
      "checkpoint-37400/scheduler.pt\n",
      "tar: Ignoring unknown extended header keyword 'LIBARCHIVE.creationtime'\n",
      "checkpoint-37400/optimizer.pt\n",
      "tar: Ignoring unknown extended header keyword 'LIBARCHIVE.creationtime'\n",
      "checkpoint-37200/\n",
      "tar: Ignoring unknown extended header keyword 'LIBARCHIVE.creationtime'\n",
      "checkpoint-37200/adapter_model.bin\n",
      "tar: Ignoring unknown extended header keyword 'LIBARCHIVE.creationtime'\n",
      "checkpoint-37200/adapter_model/\n",
      "tar: Ignoring unknown extended header keyword 'LIBARCHIVE.creationtime'\n",
      "checkpoint-37200/adapter_model/adapter_model.bin\n",
      "tar: Ignoring unknown extended header keyword 'LIBARCHIVE.creationtime'\n",
      "checkpoint-37200/adapter_model/adapter_config.json\n",
      "tar: Ignoring unknown extended header keyword 'LIBARCHIVE.creationtime'\n",
      "checkpoint-37200/adapter_config.json\n",
      "tar: Ignoring unknown extended header keyword 'LIBARCHIVE.creationtime'\n",
      "checkpoint-37200/training_args.bin\n",
      "tar: Ignoring unknown extended header keyword 'LIBARCHIVE.creationtime'\n",
      "checkpoint-37200/rng_state.pth\n",
      "tar: Ignoring unknown extended header keyword 'LIBARCHIVE.creationtime'\n",
      "checkpoint-37200/trainer_state.json\n",
      "tar: Ignoring unknown extended header keyword 'LIBARCHIVE.creationtime'\n",
      "checkpoint-37200/scheduler.pt\n",
      "tar: Ignoring unknown extended header keyword 'LIBARCHIVE.creationtime'\n",
      "checkpoint-37200/optimizer.pt\n",
      "tar: Ignoring unknown extended header keyword 'LIBARCHIVE.creationtime'\n",
      "checkpoint-37000/\n",
      "tar: Ignoring unknown extended header keyword 'LIBARCHIVE.creationtime'\n",
      "checkpoint-37000/adapter_model.bin\n",
      "tar: Ignoring unknown extended header keyword 'LIBARCHIVE.creationtime'\n",
      "checkpoint-37000/adapter_model/\n",
      "tar: Ignoring unknown extended header keyword 'LIBARCHIVE.creationtime'\n",
      "checkpoint-37000/adapter_model/adapter_model.bin\n",
      "tar: Ignoring unknown extended header keyword 'LIBARCHIVE.creationtime'\n",
      "checkpoint-37000/adapter_model/adapter_config.json\n",
      "tar: Ignoring unknown extended header keyword 'LIBARCHIVE.creationtime'\n",
      "checkpoint-37000/adapter_config.json\n",
      "tar: Ignoring unknown extended header keyword 'LIBARCHIVE.creationtime'\n",
      "checkpoint-37000/training_args.bin\n",
      "tar: Ignoring unknown extended header keyword 'LIBARCHIVE.creationtime'\n",
      "checkpoint-37000/rng_state.pth\n",
      "tar: Ignoring unknown extended header keyword 'LIBARCHIVE.creationtime'\n",
      "checkpoint-37000/trainer_state.json\n",
      "tar: Ignoring unknown extended header keyword 'LIBARCHIVE.creationtime'\n",
      "checkpoint-37000/scheduler.pt\n",
      "tar: Ignoring unknown extended header keyword 'LIBARCHIVE.creationtime'\n",
      "checkpoint-37000/optimizer.pt\n",
      "download: s3://sagemaker-us-east-1-290000338583/ft-rinna-45576-2023-12-10-08-15-12-610/output/model.tar.gz to 45576/model.tar.gz\n",
      "tar: Ignoring unknown extended header keyword 'LIBARCHIVE.creationtime'\n",
      "checkpoint-29400/\n",
      "tar: Ignoring unknown extended header keyword 'LIBARCHIVE.creationtime'\n",
      "checkpoint-29400/training_args.bin\n",
      "tar: Ignoring unknown extended header keyword 'LIBARCHIVE.creationtime'\n",
      "checkpoint-29400/adapter_model.bin\n",
      "tar: Ignoring unknown extended header keyword 'LIBARCHIVE.creationtime'\n",
      "checkpoint-29400/adapter_model/\n",
      "tar: Ignoring unknown extended header keyword 'LIBARCHIVE.creationtime'\n",
      "checkpoint-29400/adapter_model/adapter_model.bin\n",
      "tar: Ignoring unknown extended header keyword 'LIBARCHIVE.creationtime'\n",
      "checkpoint-29400/adapter_model/adapter_config.json\n",
      "tar: Ignoring unknown extended header keyword 'LIBARCHIVE.creationtime'\n",
      "checkpoint-29400/trainer_state.json\n",
      "tar: Ignoring unknown extended header keyword 'LIBARCHIVE.creationtime'\n",
      "checkpoint-29400/optimizer.pt\n",
      "tar: Ignoring unknown extended header keyword 'LIBARCHIVE.creationtime'\n",
      "checkpoint-29400/scheduler.pt\n",
      "tar: Ignoring unknown extended header keyword 'LIBARCHIVE.creationtime'\n",
      "checkpoint-29400/adapter_config.json\n",
      "tar: Ignoring unknown extended header keyword 'LIBARCHIVE.creationtime'\n",
      "checkpoint-29400/rng_state.pth\n",
      "tar: Ignoring unknown extended header keyword 'LIBARCHIVE.creationtime'\n",
      "adapter_model.bin\n",
      "tar: Ignoring unknown extended header keyword 'LIBARCHIVE.creationtime'\n",
      "checkpoint-29800/\n",
      "tar: Ignoring unknown extended header keyword 'LIBARCHIVE.creationtime'\n",
      "checkpoint-29800/training_args.bin\n",
      "tar: Ignoring unknown extended header keyword 'LIBARCHIVE.creationtime'\n",
      "checkpoint-29800/adapter_model.bin\n",
      "tar: Ignoring unknown extended header keyword 'LIBARCHIVE.creationtime'\n",
      "checkpoint-29800/adapter_model/\n",
      "tar: Ignoring unknown extended header keyword 'LIBARCHIVE.creationtime'\n",
      "checkpoint-29800/adapter_model/adapter_model.bin\n",
      "tar: Ignoring unknown extended header keyword 'LIBARCHIVE.creationtime'\n",
      "checkpoint-29800/adapter_model/adapter_config.json\n",
      "tar: Ignoring unknown extended header keyword 'LIBARCHIVE.creationtime'\n",
      "checkpoint-29800/trainer_state.json\n",
      "tar: Ignoring unknown extended header keyword 'LIBARCHIVE.creationtime'\n",
      "checkpoint-29800/optimizer.pt\n",
      "tar: Ignoring unknown extended header keyword 'LIBARCHIVE.creationtime'\n",
      "checkpoint-29800/scheduler.pt\n",
      "tar: Ignoring unknown extended header keyword 'LIBARCHIVE.creationtime'\n",
      "checkpoint-29800/adapter_config.json\n",
      "tar: Ignoring unknown extended header keyword 'LIBARCHIVE.creationtime'\n",
      "checkpoint-29800/rng_state.pth\n",
      "tar: Ignoring unknown extended header keyword 'LIBARCHIVE.creationtime'\n",
      "checkpoint-29600/\n",
      "tar: Ignoring unknown extended header keyword 'LIBARCHIVE.creationtime'\n",
      "checkpoint-29600/training_args.bin\n",
      "tar: Ignoring unknown extended header keyword 'LIBARCHIVE.creationtime'\n",
      "checkpoint-29600/adapter_model.bin\n",
      "tar: Ignoring unknown extended header keyword 'LIBARCHIVE.creationtime'\n",
      "checkpoint-29600/adapter_model/\n",
      "tar: Ignoring unknown extended header keyword 'LIBARCHIVE.creationtime'\n",
      "checkpoint-29600/adapter_model/adapter_model.bin\n",
      "tar: Ignoring unknown extended header keyword 'LIBARCHIVE.creationtime'\n",
      "checkpoint-29600/adapter_model/adapter_config.json\n",
      "tar: Ignoring unknown extended header keyword 'LIBARCHIVE.creationtime'\n",
      "checkpoint-29600/trainer_state.json\n",
      "tar: Ignoring unknown extended header keyword 'LIBARCHIVE.creationtime'\n",
      "checkpoint-29600/optimizer.pt\n",
      "tar: Ignoring unknown extended header keyword 'LIBARCHIVE.creationtime'\n",
      "checkpoint-29600/scheduler.pt\n",
      "tar: Ignoring unknown extended header keyword 'LIBARCHIVE.creationtime'\n",
      "checkpoint-29600/adapter_config.json\n",
      "tar: Ignoring unknown extended header keyword 'LIBARCHIVE.creationtime'\n",
      "checkpoint-29600/rng_state.pth\n",
      "tar: Ignoring unknown extended header keyword 'LIBARCHIVE.creationtime'\n",
      "adapter_config.json\n",
      "download: s3://sagemaker-us-east-1-290000338583/ft-rinna-31105-2023-12-10-08-15-11-784/output/model.tar.gz to 31105/model.tar.gz\n",
      "tar: Ignoring unknown extended header keyword 'LIBARCHIVE.creationtime'\n",
      "checkpoint-20200/\n",
      "tar: Ignoring unknown extended header keyword 'LIBARCHIVE.creationtime'\n",
      "checkpoint-20200/trainer_state.json\n",
      "tar: Ignoring unknown extended header keyword 'LIBARCHIVE.creationtime'\n",
      "checkpoint-20200/optimizer.pt\n",
      "tar: Ignoring unknown extended header keyword 'LIBARCHIVE.creationtime'\n",
      "checkpoint-20200/training_args.bin\n",
      "tar: Ignoring unknown extended header keyword 'LIBARCHIVE.creationtime'\n",
      "checkpoint-20200/scheduler.pt\n",
      "tar: Ignoring unknown extended header keyword 'LIBARCHIVE.creationtime'\n",
      "checkpoint-20200/rng_state.pth\n",
      "tar: Ignoring unknown extended header keyword 'LIBARCHIVE.creationtime'\n",
      "checkpoint-20200/adapter_config.json\n",
      "tar: Ignoring unknown extended header keyword 'LIBARCHIVE.creationtime'\n",
      "checkpoint-20200/adapter_model/\n",
      "tar: Ignoring unknown extended header keyword 'LIBARCHIVE.creationtime'\n",
      "checkpoint-20200/adapter_model/adapter_config.json\n",
      "tar: Ignoring unknown extended header keyword 'LIBARCHIVE.creationtime'\n",
      "checkpoint-20200/adapter_model/adapter_model.bin\n",
      "tar: Ignoring unknown extended header keyword 'LIBARCHIVE.creationtime'\n",
      "checkpoint-20200/adapter_model.bin\n",
      "tar: Ignoring unknown extended header keyword 'LIBARCHIVE.creationtime'\n",
      "adapter_config.json\n",
      "tar: Ignoring unknown extended header keyword 'LIBARCHIVE.creationtime'\n",
      "checkpoint-20400/\n",
      "tar: Ignoring unknown extended header keyword 'LIBARCHIVE.creationtime'\n",
      "checkpoint-20400/trainer_state.json\n",
      "tar: Ignoring unknown extended header keyword 'LIBARCHIVE.creationtime'\n",
      "checkpoint-20400/optimizer.pt\n",
      "tar: Ignoring unknown extended header keyword 'LIBARCHIVE.creationtime'\n",
      "checkpoint-20400/training_args.bin\n",
      "tar: Ignoring unknown extended header keyword 'LIBARCHIVE.creationtime'\n",
      "checkpoint-20400/scheduler.pt\n",
      "tar: Ignoring unknown extended header keyword 'LIBARCHIVE.creationtime'\n",
      "checkpoint-20400/rng_state.pth\n",
      "tar: Ignoring unknown extended header keyword 'LIBARCHIVE.creationtime'\n",
      "checkpoint-20400/adapter_config.json\n",
      "tar: Ignoring unknown extended header keyword 'LIBARCHIVE.creationtime'\n",
      "checkpoint-20400/adapter_model/\n",
      "tar: Ignoring unknown extended header keyword 'LIBARCHIVE.creationtime'\n",
      "checkpoint-20400/adapter_model/adapter_config.json\n",
      "tar: Ignoring unknown extended header keyword 'LIBARCHIVE.creationtime'\n",
      "checkpoint-20400/adapter_model/adapter_model.bin\n",
      "tar: Ignoring unknown extended header keyword 'LIBARCHIVE.creationtime'\n",
      "checkpoint-20400/adapter_model.bin\n",
      "tar: Ignoring unknown extended header keyword 'LIBARCHIVE.creationtime'\n",
      "checkpoint-20000/\n",
      "tar: Ignoring unknown extended header keyword 'LIBARCHIVE.creationtime'\n",
      "checkpoint-20000/trainer_state.json\n",
      "tar: Ignoring unknown extended header keyword 'LIBARCHIVE.creationtime'\n",
      "checkpoint-20000/optimizer.pt\n",
      "tar: Ignoring unknown extended header keyword 'LIBARCHIVE.creationtime'\n",
      "checkpoint-20000/training_args.bin\n",
      "tar: Ignoring unknown extended header keyword 'LIBARCHIVE.creationtime'\n",
      "checkpoint-20000/scheduler.pt\n",
      "tar: Ignoring unknown extended header keyword 'LIBARCHIVE.creationtime'\n",
      "checkpoint-20000/rng_state.pth\n",
      "tar: Ignoring unknown extended header keyword 'LIBARCHIVE.creationtime'\n",
      "checkpoint-20000/adapter_config.json\n",
      "tar: Ignoring unknown extended header keyword 'LIBARCHIVE.creationtime'\n",
      "checkpoint-20000/adapter_model/\n",
      "tar: Ignoring unknown extended header keyword 'LIBARCHIVE.creationtime'\n",
      "checkpoint-20000/adapter_model/adapter_config.json\n",
      "tar: Ignoring unknown extended header keyword 'LIBARCHIVE.creationtime'\n",
      "checkpoint-20000/adapter_model/adapter_model.bin\n",
      "tar: Ignoring unknown extended header keyword 'LIBARCHIVE.creationtime'\n",
      "checkpoint-20000/adapter_model.bin\n",
      "tar: Ignoring unknown extended header keyword 'LIBARCHIVE.creationtime'\n",
      "adapter_model.bin\n",
      "download: s3://sagemaker-us-east-1-290000338583/ft-rinna-15652-2023-12-10-08-15-11-001/output/model.tar.gz to 15652/model.tar.gz\n",
      "tar: Ignoring unknown extended header keyword 'LIBARCHIVE.creationtime'\n",
      "checkpoint-10200/\n",
      "tar: Ignoring unknown extended header keyword 'LIBARCHIVE.creationtime'\n",
      "checkpoint-10200/training_args.bin\n",
      "tar: Ignoring unknown extended header keyword 'LIBARCHIVE.creationtime'\n",
      "checkpoint-10200/adapter_model/\n",
      "tar: Ignoring unknown extended header keyword 'LIBARCHIVE.creationtime'\n",
      "checkpoint-10200/adapter_model/adapter_model.bin\n",
      "tar: Ignoring unknown extended header keyword 'LIBARCHIVE.creationtime'\n",
      "checkpoint-10200/adapter_model/adapter_config.json\n",
      "tar: Ignoring unknown extended header keyword 'LIBARCHIVE.creationtime'\n",
      "checkpoint-10200/scheduler.pt\n",
      "tar: Ignoring unknown extended header keyword 'LIBARCHIVE.creationtime'\n",
      "checkpoint-10200/rng_state.pth\n",
      "tar: Ignoring unknown extended header keyword 'LIBARCHIVE.creationtime'\n",
      "checkpoint-10200/optimizer.pt\n",
      "tar: Ignoring unknown extended header keyword 'LIBARCHIVE.creationtime'\n",
      "checkpoint-10200/adapter_model.bin\n",
      "tar: Ignoring unknown extended header keyword 'LIBARCHIVE.creationtime'\n",
      "checkpoint-10200/trainer_state.json\n",
      "tar: Ignoring unknown extended header keyword 'LIBARCHIVE.creationtime'\n",
      "checkpoint-10200/adapter_config.json\n",
      "tar: Ignoring unknown extended header keyword 'LIBARCHIVE.creationtime'\n",
      "checkpoint-6800/\n",
      "tar: Ignoring unknown extended header keyword 'LIBARCHIVE.creationtime'\n",
      "checkpoint-6800/training_args.bin\n",
      "tar: Ignoring unknown extended header keyword 'LIBARCHIVE.creationtime'\n",
      "checkpoint-6800/adapter_model/\n",
      "tar: Ignoring unknown extended header keyword 'LIBARCHIVE.creationtime'\n",
      "checkpoint-6800/adapter_model/adapter_model.bin\n",
      "tar: Ignoring unknown extended header keyword 'LIBARCHIVE.creationtime'\n",
      "checkpoint-6800/adapter_model/adapter_config.json\n",
      "tar: Ignoring unknown extended header keyword 'LIBARCHIVE.creationtime'\n",
      "checkpoint-6800/scheduler.pt\n",
      "tar: Ignoring unknown extended header keyword 'LIBARCHIVE.creationtime'\n",
      "checkpoint-6800/rng_state.pth\n",
      "tar: Ignoring unknown extended header keyword 'LIBARCHIVE.creationtime'\n",
      "checkpoint-6800/optimizer.pt\n",
      "tar: Ignoring unknown extended header keyword 'LIBARCHIVE.creationtime'\n",
      "checkpoint-6800/adapter_model.bin\n",
      "tar: Ignoring unknown extended header keyword 'LIBARCHIVE.creationtime'\n",
      "checkpoint-6800/trainer_state.json\n",
      "tar: Ignoring unknown extended header keyword 'LIBARCHIVE.creationtime'\n",
      "checkpoint-6800/adapter_config.json\n",
      "tar: Ignoring unknown extended header keyword 'LIBARCHIVE.creationtime'\n",
      "adapter_model.bin\n",
      "tar: Ignoring unknown extended header keyword 'LIBARCHIVE.creationtime'\n",
      "adapter_config.json\n",
      "tar: Ignoring unknown extended header keyword 'LIBARCHIVE.creationtime'\n",
      "checkpoint-10000/\n",
      "tar: Ignoring unknown extended header keyword 'LIBARCHIVE.creationtime'\n",
      "checkpoint-10000/training_args.bin\n",
      "tar: Ignoring unknown extended header keyword 'LIBARCHIVE.creationtime'\n",
      "checkpoint-10000/adapter_model/\n",
      "tar: Ignoring unknown extended header keyword 'LIBARCHIVE.creationtime'\n",
      "checkpoint-10000/adapter_model/adapter_model.bin\n",
      "tar: Ignoring unknown extended header keyword 'LIBARCHIVE.creationtime'\n",
      "checkpoint-10000/adapter_model/adapter_config.json\n",
      "tar: Ignoring unknown extended header keyword 'LIBARCHIVE.creationtime'\n",
      "checkpoint-10000/scheduler.pt\n",
      "tar: Ignoring unknown extended header keyword 'LIBARCHIVE.creationtime'\n",
      "checkpoint-10000/rng_state.pth\n",
      "tar: Ignoring unknown extended header keyword 'LIBARCHIVE.creationtime'\n",
      "checkpoint-10000/optimizer.pt\n",
      "tar: Ignoring unknown extended header keyword 'LIBARCHIVE.creationtime'\n",
      "checkpoint-10000/adapter_model.bin\n",
      "tar: Ignoring unknown extended header keyword 'LIBARCHIVE.creationtime'\n",
      "checkpoint-10000/trainer_state.json\n",
      "tar: Ignoring unknown extended header keyword 'LIBARCHIVE.creationtime'\n",
      "checkpoint-10000/adapter_config.json\n",
      "download: s3://sagemaker-us-east-1-290000338583/ft-rinna-08192-2023-12-10-08-15-10-270/output/model.tar.gz to 08192/model.tar.gz\n",
      "tar: Ignoring unknown extended header keyword 'LIBARCHIVE.creationtime'\n",
      "adapter_model.bin\n",
      "tar: Ignoring unknown extended header keyword 'LIBARCHIVE.creationtime'\n",
      "checkpoint-5000/\n",
      "tar: Ignoring unknown extended header keyword 'LIBARCHIVE.creationtime'\n",
      "checkpoint-5000/adapter_model.bin\n",
      "tar: Ignoring unknown extended header keyword 'LIBARCHIVE.creationtime'\n",
      "checkpoint-5000/scheduler.pt\n",
      "tar: Ignoring unknown extended header keyword 'LIBARCHIVE.creationtime'\n",
      "checkpoint-5000/adapter_model/\n",
      "tar: Ignoring unknown extended header keyword 'LIBARCHIVE.creationtime'\n",
      "checkpoint-5000/adapter_model/adapter_model.bin\n",
      "tar: Ignoring unknown extended header keyword 'LIBARCHIVE.creationtime'\n",
      "checkpoint-5000/adapter_model/adapter_config.json\n",
      "tar: Ignoring unknown extended header keyword 'LIBARCHIVE.creationtime'\n",
      "checkpoint-5000/trainer_state.json\n",
      "tar: Ignoring unknown extended header keyword 'LIBARCHIVE.creationtime'\n",
      "checkpoint-5000/adapter_config.json\n",
      "tar: Ignoring unknown extended header keyword 'LIBARCHIVE.creationtime'\n",
      "checkpoint-5000/rng_state.pth\n",
      "tar: Ignoring unknown extended header keyword 'LIBARCHIVE.creationtime'\n",
      "checkpoint-5000/optimizer.pt\n",
      "tar: Ignoring unknown extended header keyword 'LIBARCHIVE.creationtime'\n",
      "checkpoint-5000/training_args.bin\n",
      "tar: Ignoring unknown extended header keyword 'LIBARCHIVE.creationtime'\n",
      "checkpoint-3400/\n",
      "tar: Ignoring unknown extended header keyword 'LIBARCHIVE.creationtime'\n",
      "checkpoint-3400/adapter_model.bin\n",
      "tar: Ignoring unknown extended header keyword 'LIBARCHIVE.creationtime'\n",
      "checkpoint-3400/scheduler.pt\n",
      "tar: Ignoring unknown extended header keyword 'LIBARCHIVE.creationtime'\n",
      "checkpoint-3400/adapter_model/\n",
      "tar: Ignoring unknown extended header keyword 'LIBARCHIVE.creationtime'\n",
      "checkpoint-3400/adapter_model/adapter_model.bin\n",
      "tar: Ignoring unknown extended header keyword 'LIBARCHIVE.creationtime'\n",
      "checkpoint-3400/adapter_model/adapter_config.json\n",
      "tar: Ignoring unknown extended header keyword 'LIBARCHIVE.creationtime'\n",
      "checkpoint-3400/trainer_state.json\n",
      "tar: Ignoring unknown extended header keyword 'LIBARCHIVE.creationtime'\n",
      "checkpoint-3400/adapter_config.json\n",
      "tar: Ignoring unknown extended header keyword 'LIBARCHIVE.creationtime'\n",
      "checkpoint-3400/rng_state.pth\n",
      "tar: Ignoring unknown extended header keyword 'LIBARCHIVE.creationtime'\n",
      "checkpoint-3400/optimizer.pt\n",
      "tar: Ignoring unknown extended header keyword 'LIBARCHIVE.creationtime'\n",
      "checkpoint-3400/training_args.bin\n",
      "tar: Ignoring unknown extended header keyword 'LIBARCHIVE.creationtime'\n",
      "adapter_config.json\n",
      "tar: Ignoring unknown extended header keyword 'LIBARCHIVE.creationtime'\n",
      "checkpoint-5200/\n",
      "tar: Ignoring unknown extended header keyword 'LIBARCHIVE.creationtime'\n",
      "checkpoint-5200/adapter_model.bin\n",
      "tar: Ignoring unknown extended header keyword 'LIBARCHIVE.creationtime'\n",
      "checkpoint-5200/scheduler.pt\n",
      "tar: Ignoring unknown extended header keyword 'LIBARCHIVE.creationtime'\n",
      "checkpoint-5200/adapter_model/\n",
      "tar: Ignoring unknown extended header keyword 'LIBARCHIVE.creationtime'\n",
      "checkpoint-5200/adapter_model/adapter_model.bin\n",
      "tar: Ignoring unknown extended header keyword 'LIBARCHIVE.creationtime'\n",
      "checkpoint-5200/adapter_model/adapter_config.json\n",
      "tar: Ignoring unknown extended header keyword 'LIBARCHIVE.creationtime'\n",
      "checkpoint-5200/trainer_state.json\n",
      "tar: Ignoring unknown extended header keyword 'LIBARCHIVE.creationtime'\n",
      "checkpoint-5200/adapter_config.json\n",
      "tar: Ignoring unknown extended header keyword 'LIBARCHIVE.creationtime'\n",
      "checkpoint-5200/rng_state.pth\n",
      "tar: Ignoring unknown extended header keyword 'LIBARCHIVE.creationtime'\n",
      "checkpoint-5200/optimizer.pt\n",
      "tar: Ignoring unknown extended header keyword 'LIBARCHIVE.creationtime'\n",
      "checkpoint-5200/training_args.bin\n",
      "download: s3://sagemaker-us-east-1-290000338583/ft-rinna-04096-2023-12-10-08-15-07-287/output/model.tar.gz to 04096/model.tar.gz\n",
      "tar: Ignoring unknown extended header keyword 'LIBARCHIVE.creationtime'\n",
      "checkpoint-1800/\n",
      "tar: Ignoring unknown extended header keyword 'LIBARCHIVE.creationtime'\n",
      "checkpoint-1800/training_args.bin\n",
      "tar: Ignoring unknown extended header keyword 'LIBARCHIVE.creationtime'\n",
      "checkpoint-1800/adapter_config.json\n",
      "tar: Ignoring unknown extended header keyword 'LIBARCHIVE.creationtime'\n",
      "checkpoint-1800/adapter_model.bin\n",
      "tar: Ignoring unknown extended header keyword 'LIBARCHIVE.creationtime'\n",
      "checkpoint-1800/scheduler.pt\n",
      "tar: Ignoring unknown extended header keyword 'LIBARCHIVE.creationtime'\n",
      "checkpoint-1800/trainer_state.json\n",
      "tar: Ignoring unknown extended header keyword 'LIBARCHIVE.creationtime'\n",
      "checkpoint-1800/optimizer.pt\n",
      "tar: Ignoring unknown extended header keyword 'LIBARCHIVE.creationtime'\n",
      "checkpoint-1800/adapter_model/\n",
      "tar: Ignoring unknown extended header keyword 'LIBARCHIVE.creationtime'\n",
      "checkpoint-1800/adapter_model/adapter_config.json\n",
      "tar: Ignoring unknown extended header keyword 'LIBARCHIVE.creationtime'\n",
      "checkpoint-1800/adapter_model/adapter_model.bin\n",
      "tar: Ignoring unknown extended header keyword 'LIBARCHIVE.creationtime'\n",
      "checkpoint-1800/rng_state.pth\n",
      "tar: Ignoring unknown extended header keyword 'LIBARCHIVE.creationtime'\n",
      "checkpoint-2400/\n",
      "tar: Ignoring unknown extended header keyword 'LIBARCHIVE.creationtime'\n",
      "checkpoint-2400/training_args.bin\n",
      "tar: Ignoring unknown extended header keyword 'LIBARCHIVE.creationtime'\n",
      "checkpoint-2400/adapter_config.json\n",
      "tar: Ignoring unknown extended header keyword 'LIBARCHIVE.creationtime'\n",
      "checkpoint-2400/adapter_model.bin\n",
      "tar: Ignoring unknown extended header keyword 'LIBARCHIVE.creationtime'\n",
      "checkpoint-2400/scheduler.pt\n",
      "tar: Ignoring unknown extended header keyword 'LIBARCHIVE.creationtime'\n",
      "checkpoint-2400/trainer_state.json\n",
      "tar: Ignoring unknown extended header keyword 'LIBARCHIVE.creationtime'\n",
      "checkpoint-2400/optimizer.pt\n",
      "tar: Ignoring unknown extended header keyword 'LIBARCHIVE.creationtime'\n",
      "checkpoint-2400/adapter_model/\n",
      "tar: Ignoring unknown extended header keyword 'LIBARCHIVE.creationtime'\n",
      "checkpoint-2400/adapter_model/adapter_config.json\n",
      "tar: Ignoring unknown extended header keyword 'LIBARCHIVE.creationtime'\n",
      "checkpoint-2400/adapter_model/adapter_model.bin\n",
      "tar: Ignoring unknown extended header keyword 'LIBARCHIVE.creationtime'\n",
      "checkpoint-2400/rng_state.pth\n",
      "tar: Ignoring unknown extended header keyword 'LIBARCHIVE.creationtime'\n",
      "adapter_config.json\n",
      "tar: Ignoring unknown extended header keyword 'LIBARCHIVE.creationtime'\n",
      "adapter_model.bin\n",
      "tar: Ignoring unknown extended header keyword 'LIBARCHIVE.creationtime'\n",
      "checkpoint-2600/\n",
      "tar: Ignoring unknown extended header keyword 'LIBARCHIVE.creationtime'\n",
      "checkpoint-2600/training_args.bin\n",
      "tar: Ignoring unknown extended header keyword 'LIBARCHIVE.creationtime'\n",
      "checkpoint-2600/adapter_config.json\n",
      "tar: Ignoring unknown extended header keyword 'LIBARCHIVE.creationtime'\n",
      "checkpoint-2600/adapter_model.bin\n",
      "tar: Ignoring unknown extended header keyword 'LIBARCHIVE.creationtime'\n",
      "checkpoint-2600/scheduler.pt\n",
      "tar: Ignoring unknown extended header keyword 'LIBARCHIVE.creationtime'\n",
      "checkpoint-2600/trainer_state.json\n",
      "tar: Ignoring unknown extended header keyword 'LIBARCHIVE.creationtime'\n",
      "checkpoint-2600/optimizer.pt\n",
      "tar: Ignoring unknown extended header keyword 'LIBARCHIVE.creationtime'\n",
      "checkpoint-2600/adapter_model/\n",
      "tar: Ignoring unknown extended header keyword 'LIBARCHIVE.creationtime'\n",
      "checkpoint-2600/adapter_model/adapter_config.json\n",
      "tar: Ignoring unknown extended header keyword 'LIBARCHIVE.creationtime'\n",
      "checkpoint-2600/adapter_model/adapter_model.bin\n",
      "tar: Ignoring unknown extended header keyword 'LIBARCHIVE.creationtime'\n",
      "checkpoint-2600/rng_state.pth\n",
      "download: s3://sagemaker-us-east-1-290000338583/ft-rinna-02048-2023-12-10-08-15-06-553/output/model.tar.gz to 02048/model.tar.gz\n",
      "tar: Ignoring unknown extended header keyword 'LIBARCHIVE.creationtime'\n",
      "checkpoint-800/\n",
      "tar: Ignoring unknown extended header keyword 'LIBARCHIVE.creationtime'\n",
      "checkpoint-800/scheduler.pt\n",
      "tar: Ignoring unknown extended header keyword 'LIBARCHIVE.creationtime'\n",
      "checkpoint-800/adapter_config.json\n",
      "tar: Ignoring unknown extended header keyword 'LIBARCHIVE.creationtime'\n",
      "checkpoint-800/adapter_model.bin\n",
      "tar: Ignoring unknown extended header keyword 'LIBARCHIVE.creationtime'\n",
      "checkpoint-800/adapter_model/\n",
      "tar: Ignoring unknown extended header keyword 'LIBARCHIVE.creationtime'\n",
      "checkpoint-800/adapter_model/adapter_config.json\n",
      "tar: Ignoring unknown extended header keyword 'LIBARCHIVE.creationtime'\n",
      "checkpoint-800/adapter_model/adapter_model.bin\n",
      "tar: Ignoring unknown extended header keyword 'LIBARCHIVE.creationtime'\n",
      "checkpoint-800/trainer_state.json\n",
      "tar: Ignoring unknown extended header keyword 'LIBARCHIVE.creationtime'\n",
      "checkpoint-800/rng_state.pth\n",
      "tar: Ignoring unknown extended header keyword 'LIBARCHIVE.creationtime'\n",
      "checkpoint-800/optimizer.pt\n",
      "tar: Ignoring unknown extended header keyword 'LIBARCHIVE.creationtime'\n",
      "checkpoint-800/training_args.bin\n",
      "tar: Ignoring unknown extended header keyword 'LIBARCHIVE.creationtime'\n",
      "adapter_config.json\n",
      "tar: Ignoring unknown extended header keyword 'LIBARCHIVE.creationtime'\n",
      "adapter_model.bin\n",
      "tar: Ignoring unknown extended header keyword 'LIBARCHIVE.creationtime'\n",
      "checkpoint-1200/\n",
      "tar: Ignoring unknown extended header keyword 'LIBARCHIVE.creationtime'\n",
      "checkpoint-1200/scheduler.pt\n",
      "tar: Ignoring unknown extended header keyword 'LIBARCHIVE.creationtime'\n",
      "checkpoint-1200/adapter_config.json\n",
      "tar: Ignoring unknown extended header keyword 'LIBARCHIVE.creationtime'\n",
      "checkpoint-1200/adapter_model.bin\n",
      "tar: Ignoring unknown extended header keyword 'LIBARCHIVE.creationtime'\n",
      "checkpoint-1200/adapter_model/\n",
      "tar: Ignoring unknown extended header keyword 'LIBARCHIVE.creationtime'\n",
      "checkpoint-1200/adapter_model/adapter_config.json\n",
      "tar: Ignoring unknown extended header keyword 'LIBARCHIVE.creationtime'\n",
      "checkpoint-1200/adapter_model/adapter_model.bin\n",
      "tar: Ignoring unknown extended header keyword 'LIBARCHIVE.creationtime'\n",
      "checkpoint-1200/trainer_state.json\n",
      "tar: Ignoring unknown extended header keyword 'LIBARCHIVE.creationtime'\n",
      "checkpoint-1200/rng_state.pth\n",
      "tar: Ignoring unknown extended header keyword 'LIBARCHIVE.creationtime'\n",
      "checkpoint-1200/optimizer.pt\n",
      "tar: Ignoring unknown extended header keyword 'LIBARCHIVE.creationtime'\n",
      "checkpoint-1200/training_args.bin\n",
      "tar: Ignoring unknown extended header keyword 'LIBARCHIVE.creationtime'\n",
      "checkpoint-1000/\n",
      "tar: Ignoring unknown extended header keyword 'LIBARCHIVE.creationtime'\n",
      "checkpoint-1000/scheduler.pt\n",
      "tar: Ignoring unknown extended header keyword 'LIBARCHIVE.creationtime'\n",
      "checkpoint-1000/adapter_config.json\n",
      "tar: Ignoring unknown extended header keyword 'LIBARCHIVE.creationtime'\n",
      "checkpoint-1000/adapter_model.bin\n",
      "tar: Ignoring unknown extended header keyword 'LIBARCHIVE.creationtime'\n",
      "checkpoint-1000/adapter_model/\n",
      "tar: Ignoring unknown extended header keyword 'LIBARCHIVE.creationtime'\n",
      "checkpoint-1000/adapter_model/adapter_config.json\n",
      "tar: Ignoring unknown extended header keyword 'LIBARCHIVE.creationtime'\n",
      "checkpoint-1000/adapter_model/adapter_model.bin\n",
      "tar: Ignoring unknown extended header keyword 'LIBARCHIVE.creationtime'\n",
      "checkpoint-1000/trainer_state.json\n",
      "tar: Ignoring unknown extended header keyword 'LIBARCHIVE.creationtime'\n",
      "checkpoint-1000/rng_state.pth\n",
      "tar: Ignoring unknown extended header keyword 'LIBARCHIVE.creationtime'\n",
      "checkpoint-1000/optimizer.pt\n",
      "tar: Ignoring unknown extended header keyword 'LIBARCHIVE.creationtime'\n",
      "checkpoint-1000/training_args.bin\n",
      "download: s3://sagemaker-us-east-1-290000338583/ft-rinna-01024-2023-12-10-08-15-05-753/output/model.tar.gz to 01024/model.tar.gz\n",
      "tar: Ignoring unknown extended header keyword 'LIBARCHIVE.creationtime'\n",
      "checkpoint-200/\n",
      "tar: Ignoring unknown extended header keyword 'LIBARCHIVE.creationtime'\n",
      "checkpoint-200/trainer_state.json\n",
      "tar: Ignoring unknown extended header keyword 'LIBARCHIVE.creationtime'\n",
      "checkpoint-200/training_args.bin\n",
      "tar: Ignoring unknown extended header keyword 'LIBARCHIVE.creationtime'\n",
      "checkpoint-200/adapter_model/\n",
      "tar: Ignoring unknown extended header keyword 'LIBARCHIVE.creationtime'\n",
      "checkpoint-200/adapter_model/adapter_config.json\n",
      "tar: Ignoring unknown extended header keyword 'LIBARCHIVE.creationtime'\n",
      "checkpoint-200/adapter_model/adapter_model.bin\n",
      "tar: Ignoring unknown extended header keyword 'LIBARCHIVE.creationtime'\n",
      "checkpoint-200/optimizer.pt\n",
      "tar: Ignoring unknown extended header keyword 'LIBARCHIVE.creationtime'\n",
      "checkpoint-200/rng_state.pth\n",
      "tar: Ignoring unknown extended header keyword 'LIBARCHIVE.creationtime'\n",
      "checkpoint-200/adapter_config.json\n",
      "tar: Ignoring unknown extended header keyword 'LIBARCHIVE.creationtime'\n",
      "checkpoint-200/scheduler.pt\n",
      "tar: Ignoring unknown extended header keyword 'LIBARCHIVE.creationtime'\n",
      "checkpoint-200/adapter_model.bin\n",
      "tar: Ignoring unknown extended header keyword 'LIBARCHIVE.creationtime'\n",
      "adapter_config.json\n",
      "tar: Ignoring unknown extended header keyword 'LIBARCHIVE.creationtime'\n",
      "adapter_model.bin\n",
      "download: s3://sagemaker-us-east-1-290000338583/ft-rinna-00512-2023-12-10-08-15-05-068/output/model.tar.gz to 00512/model.tar.gz\n",
      "tar: Ignoring unknown extended header keyword 'LIBARCHIVE.creationtime'\n",
      "adapter_config.json\n",
      "tar: Ignoring unknown extended header keyword 'LIBARCHIVE.creationtime'\n",
      "adapter_model.bin\n",
      "tar: Ignoring unknown extended header keyword 'LIBARCHIVE.creationtime'\n",
      "checkpoint-200/\n",
      "tar: Ignoring unknown extended header keyword 'LIBARCHIVE.creationtime'\n",
      "checkpoint-200/rng_state.pth\n",
      "tar: Ignoring unknown extended header keyword 'LIBARCHIVE.creationtime'\n",
      "checkpoint-200/adapter_config.json\n",
      "tar: Ignoring unknown extended header keyword 'LIBARCHIVE.creationtime'\n",
      "checkpoint-200/adapter_model.bin\n",
      "tar: Ignoring unknown extended header keyword 'LIBARCHIVE.creationtime'\n",
      "checkpoint-200/optimizer.pt\n",
      "tar: Ignoring unknown extended header keyword 'LIBARCHIVE.creationtime'\n",
      "checkpoint-200/trainer_state.json\n",
      "tar: Ignoring unknown extended header keyword 'LIBARCHIVE.creationtime'\n",
      "checkpoint-200/adapter_model/\n",
      "tar: Ignoring unknown extended header keyword 'LIBARCHIVE.creationtime'\n",
      "checkpoint-200/adapter_model/adapter_config.json\n",
      "tar: Ignoring unknown extended header keyword 'LIBARCHIVE.creationtime'\n",
      "checkpoint-200/adapter_model/adapter_model.bin\n",
      "tar: Ignoring unknown extended header keyword 'LIBARCHIVE.creationtime'\n",
      "checkpoint-200/scheduler.pt\n",
      "tar: Ignoring unknown extended header keyword 'LIBARCHIVE.creationtime'\n",
      "checkpoint-200/training_args.bin\n",
      "download: s3://sagemaker-us-east-1-290000338583/ft-rinna-00256-2023-12-10-08-15-04-216/output/model.tar.gz to 00256/model.tar.gz\n",
      "tar: Ignoring unknown extended header keyword 'LIBARCHIVE.creationtime'\n",
      "adapter_config.json\n",
      "tar: Ignoring unknown extended header keyword 'LIBARCHIVE.creationtime'\n",
      "adapter_model.bin\n",
      "rm: cannot remove './00256/checkpoint-*': No such file or directory\n",
      "download: s3://sagemaker-us-east-1-290000338583/ft-rinna-00128-2023-12-10-08-15-03-457/output/model.tar.gz to 00128/model.tar.gz\n",
      "tar: Ignoring unknown extended header keyword 'LIBARCHIVE.creationtime'\n",
      "adapter_model.bin\n",
      "tar: Ignoring unknown extended header keyword 'LIBARCHIVE.creationtime'\n",
      "adapter_config.json\n",
      "rm: cannot remove './00128/checkpoint-*': No such file or directory\n",
      "download: s3://sagemaker-us-east-1-290000338583/ft-rinna-00064-2023-12-10-08-15-01-610/output/model.tar.gz to 00064/model.tar.gz\n",
      "tar: Ignoring unknown extended header keyword 'LIBARCHIVE.creationtime'\n",
      "adapter_model.bin\n",
      "tar: Ignoring unknown extended header keyword 'LIBARCHIVE.creationtime'\n",
      "adapter_config.json\n",
      "rm: cannot remove './00064/checkpoint-*': No such file or directory\n",
      "download: s3://sagemaker-us-east-1-290000338583/ft-rinna-00032-2023-12-10-08-15-00-667/output/model.tar.gz to 00032/model.tar.gz\n",
      "tar: Ignoring unknown extended header keyword 'LIBARCHIVE.creationtime'\n",
      "adapter_model.bin\n",
      "tar: Ignoring unknown extended header keyword 'LIBARCHIVE.creationtime'\n",
      "adapter_config.json\n",
      "rm: cannot remove './00032/checkpoint-*': No such file or directory\n",
      "download: s3://sagemaker-us-east-1-290000338583/ft-rinna-00016-2023-12-10-08-14-59-184/output/model.tar.gz to 00016/model.tar.gz\n",
      "tar: Ignoring unknown extended header keyword 'LIBARCHIVE.creationtime'\n",
      "adapter_model.bin\n",
      "tar: Ignoring unknown extended header keyword 'LIBARCHIVE.creationtime'\n",
      "adapter_config.json\n",
      "rm: cannot remove './00016/checkpoint-*': No such file or directory\n",
      "download: s3://sagemaker-us-east-1-290000338583/ft-rinna-00008-2023-12-10-08-14-58-158/output/model.tar.gz to 00008/model.tar.gz\n",
      "tar: Ignoring unknown extended header keyword 'LIBARCHIVE.creationtime'\n",
      "adapter_model.bin\n",
      "tar: Ignoring unknown extended header keyword 'LIBARCHIVE.creationtime'\n",
      "adapter_config.json\n",
      "rm: cannot remove './00008/checkpoint-*': No such file or directory\n"
     ]
    }
   ],
   "source": [
    "peft_path_list = []\n",
    "for i, training_job in enumerate(training_jobs):\n",
    "    model_uri = training_job['S3ModelArtifacts']\n",
    "    peft_path = training_job['TrainingJobName'].split('-')[2]\n",
    "    peft_path_list.append(peft_path)\n",
    "    !mkdir -p {peft_path}\n",
    "    !aws s3 cp {model_uri} ./{peft_path}\n",
    "    !tar zxvf ./{peft_path}/model.tar.gz -C ./{peft_path}/\n",
    "    !rm ./{peft_path}/model.tar.gz\n",
    "    !rm -r ./{peft_path}/checkpoint-*"
   ]
  },
  {
   "cell_type": "code",
   "execution_count": 70,
   "id": "fb1db5f8-771b-4d07-b451-eb436da6aebe",
   "metadata": {
    "scrolled": true,
    "tags": []
   },
   "outputs": [
    {
     "name": "stdout",
     "output_type": "stream",
     "text": [
      "sagemaker.config INFO - Not applying SDK defaults from location: /etc/xdg/sagemaker/config.yaml\n",
      "sagemaker.config INFO - Not applying SDK defaults from location: /root/.config/sagemaker/config.yaml\n",
      "delete: s3://sagemaker-us-east-1-290000338583/jsquad/peft/00008/adapter_config.json\n",
      "delete: s3://sagemaker-us-east-1-290000338583/jsquad/peft/00008/adapter_model.bin\n",
      "delete: s3://sagemaker-us-east-1-290000338583/jsquad/peft/00016/adapter_config.json\n",
      "delete: s3://sagemaker-us-east-1-290000338583/jsquad/peft/00064/adapter_config.json\n",
      "delete: s3://sagemaker-us-east-1-290000338583/jsquad/peft/00064/adapter_model.bin\n",
      "delete: s3://sagemaker-us-east-1-290000338583/jsquad/peft/01024/adapter_model.bin\n",
      "delete: s3://sagemaker-us-east-1-290000338583/jsquad/peft/04096/adapter_config.json\n",
      "delete: s3://sagemaker-us-east-1-290000338583/jsquad/peft/00016/adapter_model.bin\n",
      "delete: s3://sagemaker-us-east-1-290000338583/jsquad/peft/04096/adapter_model.bin\n",
      "delete: s3://sagemaker-us-east-1-290000338583/jsquad/peft/02048/adapter_config.json\n",
      "delete: s3://sagemaker-us-east-1-290000338583/jsquad/peft/00032/adapter_model.bin\n",
      "delete: s3://sagemaker-us-east-1-290000338583/jsquad/peft/00032/adapter_config.json\n",
      "delete: s3://sagemaker-us-east-1-290000338583/jsquad/peft/31105/adapter_config.json\n",
      "delete: s3://sagemaker-us-east-1-290000338583/jsquad/peft/15652/adapter_config.json\n",
      "delete: s3://sagemaker-us-east-1-290000338583/jsquad/peft/00128/adapter_config.json\n",
      "delete: s3://sagemaker-us-east-1-290000338583/jsquad/peft/31105/adapter_model.bin\n",
      "delete: s3://sagemaker-us-east-1-290000338583/jsquad/peft/01024/adapter_config.json\n",
      "delete: s3://sagemaker-us-east-1-290000338583/jsquad/peft/00256/adapter_config.json\n",
      "delete: s3://sagemaker-us-east-1-290000338583/jsquad/peft/00512/adapter_config.json\n",
      "delete: s3://sagemaker-us-east-1-290000338583/jsquad/peft/57086/adapter_model.bin\n",
      "delete: s3://sagemaker-us-east-1-290000338583/jsquad/peft/00256/adapter_model.bin\n",
      "delete: s3://sagemaker-us-east-1-290000338583/jsquad/peft/45576/adapter_config.json\n",
      "delete: s3://sagemaker-us-east-1-290000338583/jsquad/peft/15652/adapter_model.bin\n",
      "delete: s3://sagemaker-us-east-1-290000338583/jsquad/peft/57086/adapter_config.json\n",
      "delete: s3://sagemaker-us-east-1-290000338583/jsquad/peft/62859/adapter_model.bin\n",
      "delete: s3://sagemaker-us-east-1-290000338583/jsquad/peft/00512/adapter_model.bin\n",
      "delete: s3://sagemaker-us-east-1-290000338583/jsquad/peft/62859/adapter_config.json\n",
      "delete: s3://sagemaker-us-east-1-290000338583/jsquad/peft/02048/adapter_model.bin\n",
      "delete: s3://sagemaker-us-east-1-290000338583/jsquad/peft/45576/adapter_model.bin\n",
      "delete: s3://sagemaker-us-east-1-290000338583/jsquad/peft/00128/adapter_model.bin\n"
     ]
    }
   ],
   "source": [
    "bucket = sagemaker.session.Session().default_bucket()\n",
    "peft_prefix = 'jsquad/peft'\n",
    "!aws s3 rm --recursive s3://{bucket}/{peft_prefix}\n",
    "peft_s3_list = []\n",
    "for peft_path in peft_path_list:\n",
    "    peft_s3_uri = sess.upload_data(\n",
    "        path=peft_path,\n",
    "        key_prefix=f'/{peft_prefix}/{peft_path}'\n",
    "    )\n",
    "    peft_s3_list.append(peft_s3_uri)"
   ]
  },
  {
   "cell_type": "markdown",
   "id": "d7ef1193-0ee9-414f-9747-c44ef25b5902",
   "metadata": {},
   "source": [
    "source_dir は https://github.com/Stability-AI/lm-evaluation-harness/tree/jp-stable をコピーして使用。entrypoint.py のみ自作。  \n",
    "なぜか `device_map_option=auto` 引数が効かずに落ちたため、`lm_eval/models/huggingface.py` の `device_map=device_map,` を `device_map='auto'`,に書き換えた。"
   ]
  },
  {
   "cell_type": "code",
   "execution_count": 72,
   "id": "f9655ce8-198e-42ad-98a0-6ab4d9783e30",
   "metadata": {
    "scrolled": true,
    "tags": []
   },
   "outputs": [
    {
     "name": "stdout",
     "output_type": "stream",
     "text": [
      "eval-jsquad-62859\n",
      "sagemaker.config INFO - Not applying SDK defaults from location: /etc/xdg/sagemaker/config.yaml\n",
      "sagemaker.config INFO - Not applying SDK defaults from location: /root/.config/sagemaker/config.yaml\n",
      "Using provided s3_resource\n"
     ]
    },
    {
     "name": "stderr",
     "output_type": "stream",
     "text": [
      "INFO:sagemaker.image_uris:image_uri is not presented, retrieving image_uri based on instance_type, framework etc.\n",
      "INFO:sagemaker:Creating training-job with name: eval-jsquad-62859-2023-12-11-09-11-25-622\n"
     ]
    },
    {
     "name": "stdout",
     "output_type": "stream",
     "text": [
      "eval-jsquad-57086\n",
      "sagemaker.config INFO - Not applying SDK defaults from location: /etc/xdg/sagemaker/config.yaml\n",
      "sagemaker.config INFO - Not applying SDK defaults from location: /root/.config/sagemaker/config.yaml\n",
      "Using provided s3_resource\n"
     ]
    },
    {
     "name": "stderr",
     "output_type": "stream",
     "text": [
      "INFO:sagemaker.image_uris:image_uri is not presented, retrieving image_uri based on instance_type, framework etc.\n",
      "INFO:sagemaker:Creating training-job with name: eval-jsquad-57086-2023-12-11-09-11-29-583\n"
     ]
    },
    {
     "name": "stdout",
     "output_type": "stream",
     "text": [
      "eval-jsquad-45576\n",
      "sagemaker.config INFO - Not applying SDK defaults from location: /etc/xdg/sagemaker/config.yaml\n",
      "sagemaker.config INFO - Not applying SDK defaults from location: /root/.config/sagemaker/config.yaml\n"
     ]
    },
    {
     "name": "stderr",
     "output_type": "stream",
     "text": [
      "INFO:sagemaker.image_uris:image_uri is not presented, retrieving image_uri based on instance_type, framework etc.\n",
      "INFO:sagemaker:Creating training-job with name: eval-jsquad-45576-2023-12-11-09-11-32-632\n"
     ]
    },
    {
     "name": "stdout",
     "output_type": "stream",
     "text": [
      "Using provided s3_resource\n",
      "eval-jsquad-31105\n",
      "sagemaker.config INFO - Not applying SDK defaults from location: /etc/xdg/sagemaker/config.yaml\n",
      "sagemaker.config INFO - Not applying SDK defaults from location: /root/.config/sagemaker/config.yaml\n",
      "Using provided s3_resource\n"
     ]
    },
    {
     "name": "stderr",
     "output_type": "stream",
     "text": [
      "INFO:sagemaker.image_uris:image_uri is not presented, retrieving image_uri based on instance_type, framework etc.\n",
      "INFO:sagemaker:Creating training-job with name: eval-jsquad-31105-2023-12-11-09-11-35-680\n"
     ]
    },
    {
     "name": "stdout",
     "output_type": "stream",
     "text": [
      "eval-jsquad-15652\n",
      "sagemaker.config INFO - Not applying SDK defaults from location: /etc/xdg/sagemaker/config.yaml\n",
      "sagemaker.config INFO - Not applying SDK defaults from location: /root/.config/sagemaker/config.yaml\n"
     ]
    },
    {
     "name": "stderr",
     "output_type": "stream",
     "text": [
      "INFO:sagemaker.image_uris:image_uri is not presented, retrieving image_uri based on instance_type, framework etc.\n",
      "INFO:sagemaker:Creating training-job with name: eval-jsquad-15652-2023-12-11-09-11-38-964\n"
     ]
    },
    {
     "name": "stdout",
     "output_type": "stream",
     "text": [
      "Using provided s3_resource\n",
      "eval-jsquad-08192\n",
      "sagemaker.config INFO - Not applying SDK defaults from location: /etc/xdg/sagemaker/config.yaml\n",
      "sagemaker.config INFO - Not applying SDK defaults from location: /root/.config/sagemaker/config.yaml\n",
      "Using provided s3_resource\n"
     ]
    },
    {
     "name": "stderr",
     "output_type": "stream",
     "text": [
      "INFO:sagemaker.image_uris:image_uri is not presented, retrieving image_uri based on instance_type, framework etc.\n",
      "INFO:sagemaker:Creating training-job with name: eval-jsquad-08192-2023-12-11-09-11-41-845\n"
     ]
    },
    {
     "name": "stdout",
     "output_type": "stream",
     "text": [
      "eval-jsquad-04096\n",
      "sagemaker.config INFO - Not applying SDK defaults from location: /etc/xdg/sagemaker/config.yaml\n",
      "sagemaker.config INFO - Not applying SDK defaults from location: /root/.config/sagemaker/config.yaml\n"
     ]
    },
    {
     "name": "stderr",
     "output_type": "stream",
     "text": [
      "INFO:sagemaker.image_uris:image_uri is not presented, retrieving image_uri based on instance_type, framework etc.\n"
     ]
    },
    {
     "name": "stdout",
     "output_type": "stream",
     "text": [
      "Using provided s3_resource\n"
     ]
    },
    {
     "name": "stderr",
     "output_type": "stream",
     "text": [
      "INFO:sagemaker:Creating training-job with name: eval-jsquad-04096-2023-12-11-09-11-45-198\n"
     ]
    },
    {
     "name": "stdout",
     "output_type": "stream",
     "text": [
      "eval-jsquad-02048\n",
      "sagemaker.config INFO - Not applying SDK defaults from location: /etc/xdg/sagemaker/config.yaml\n",
      "sagemaker.config INFO - Not applying SDK defaults from location: /root/.config/sagemaker/config.yaml\n"
     ]
    },
    {
     "name": "stderr",
     "output_type": "stream",
     "text": [
      "INFO:sagemaker.image_uris:image_uri is not presented, retrieving image_uri based on instance_type, framework etc.\n"
     ]
    },
    {
     "name": "stdout",
     "output_type": "stream",
     "text": [
      "Using provided s3_resource\n"
     ]
    },
    {
     "name": "stderr",
     "output_type": "stream",
     "text": [
      "INFO:sagemaker:Creating training-job with name: eval-jsquad-02048-2023-12-11-09-11-47-975\n"
     ]
    },
    {
     "name": "stdout",
     "output_type": "stream",
     "text": [
      "eval-jsquad-01024\n",
      "sagemaker.config INFO - Not applying SDK defaults from location: /etc/xdg/sagemaker/config.yaml\n",
      "sagemaker.config INFO - Not applying SDK defaults from location: /root/.config/sagemaker/config.yaml\n",
      "Using provided s3_resource\n"
     ]
    },
    {
     "name": "stderr",
     "output_type": "stream",
     "text": [
      "INFO:sagemaker.image_uris:image_uri is not presented, retrieving image_uri based on instance_type, framework etc.\n",
      "INFO:sagemaker:Creating training-job with name: eval-jsquad-01024-2023-12-11-09-11-51-052\n"
     ]
    },
    {
     "name": "stdout",
     "output_type": "stream",
     "text": [
      "eval-jsquad-00512\n",
      "sagemaker.config INFO - Not applying SDK defaults from location: /etc/xdg/sagemaker/config.yaml\n",
      "sagemaker.config INFO - Not applying SDK defaults from location: /root/.config/sagemaker/config.yaml\n"
     ]
    },
    {
     "name": "stderr",
     "output_type": "stream",
     "text": [
      "INFO:sagemaker.image_uris:image_uri is not presented, retrieving image_uri based on instance_type, framework etc.\n"
     ]
    },
    {
     "name": "stdout",
     "output_type": "stream",
     "text": [
      "Using provided s3_resource\n"
     ]
    },
    {
     "name": "stderr",
     "output_type": "stream",
     "text": [
      "INFO:sagemaker:Creating training-job with name: eval-jsquad-00512-2023-12-11-09-11-54-154\n"
     ]
    },
    {
     "name": "stdout",
     "output_type": "stream",
     "text": [
      "eval-jsquad-00256\n",
      "sagemaker.config INFO - Not applying SDK defaults from location: /etc/xdg/sagemaker/config.yaml\n",
      "sagemaker.config INFO - Not applying SDK defaults from location: /root/.config/sagemaker/config.yaml\n",
      "Using provided s3_resource\n"
     ]
    },
    {
     "name": "stderr",
     "output_type": "stream",
     "text": [
      "INFO:sagemaker.image_uris:image_uri is not presented, retrieving image_uri based on instance_type, framework etc.\n",
      "INFO:sagemaker:Creating training-job with name: eval-jsquad-00256-2023-12-11-09-11-57-432\n"
     ]
    },
    {
     "name": "stdout",
     "output_type": "stream",
     "text": [
      "eval-jsquad-00128\n",
      "sagemaker.config INFO - Not applying SDK defaults from location: /etc/xdg/sagemaker/config.yaml\n",
      "sagemaker.config INFO - Not applying SDK defaults from location: /root/.config/sagemaker/config.yaml\n"
     ]
    },
    {
     "name": "stderr",
     "output_type": "stream",
     "text": [
      "INFO:sagemaker.image_uris:image_uri is not presented, retrieving image_uri based on instance_type, framework etc.\n"
     ]
    },
    {
     "name": "stdout",
     "output_type": "stream",
     "text": [
      "Using provided s3_resource\n"
     ]
    },
    {
     "name": "stderr",
     "output_type": "stream",
     "text": [
      "INFO:sagemaker:Creating training-job with name: eval-jsquad-00128-2023-12-11-09-12-00-449\n"
     ]
    },
    {
     "name": "stdout",
     "output_type": "stream",
     "text": [
      "eval-jsquad-00064\n",
      "sagemaker.config INFO - Not applying SDK defaults from location: /etc/xdg/sagemaker/config.yaml\n",
      "sagemaker.config INFO - Not applying SDK defaults from location: /root/.config/sagemaker/config.yaml\n"
     ]
    },
    {
     "name": "stderr",
     "output_type": "stream",
     "text": [
      "INFO:sagemaker.image_uris:image_uri is not presented, retrieving image_uri based on instance_type, framework etc.\n"
     ]
    },
    {
     "name": "stdout",
     "output_type": "stream",
     "text": [
      "Using provided s3_resource\n"
     ]
    },
    {
     "name": "stderr",
     "output_type": "stream",
     "text": [
      "INFO:sagemaker:Creating training-job with name: eval-jsquad-00064-2023-12-11-09-12-03-813\n"
     ]
    },
    {
     "name": "stdout",
     "output_type": "stream",
     "text": [
      "eval-jsquad-00032\n",
      "sagemaker.config INFO - Not applying SDK defaults from location: /etc/xdg/sagemaker/config.yaml\n",
      "sagemaker.config INFO - Not applying SDK defaults from location: /root/.config/sagemaker/config.yaml\n"
     ]
    },
    {
     "name": "stderr",
     "output_type": "stream",
     "text": [
      "INFO:sagemaker.image_uris:image_uri is not presented, retrieving image_uri based on instance_type, framework etc.\n",
      "INFO:sagemaker:Creating training-job with name: eval-jsquad-00032-2023-12-11-09-12-07-097\n"
     ]
    },
    {
     "name": "stdout",
     "output_type": "stream",
     "text": [
      "Using provided s3_resource\n",
      "eval-jsquad-00016\n",
      "sagemaker.config INFO - Not applying SDK defaults from location: /etc/xdg/sagemaker/config.yaml\n",
      "sagemaker.config INFO - Not applying SDK defaults from location: /root/.config/sagemaker/config.yaml\n",
      "Using provided s3_resource\n"
     ]
    },
    {
     "name": "stderr",
     "output_type": "stream",
     "text": [
      "INFO:sagemaker.image_uris:image_uri is not presented, retrieving image_uri based on instance_type, framework etc.\n",
      "INFO:sagemaker:Creating training-job with name: eval-jsquad-00016-2023-12-11-09-12-10-215\n"
     ]
    },
    {
     "name": "stdout",
     "output_type": "stream",
     "text": [
      "eval-jsquad-00008\n",
      "sagemaker.config INFO - Not applying SDK defaults from location: /etc/xdg/sagemaker/config.yaml\n",
      "sagemaker.config INFO - Not applying SDK defaults from location: /root/.config/sagemaker/config.yaml\n"
     ]
    },
    {
     "name": "stderr",
     "output_type": "stream",
     "text": [
      "INFO:sagemaker.image_uris:image_uri is not presented, retrieving image_uri based on instance_type, framework etc.\n",
      "INFO:sagemaker:Creating training-job with name: eval-jsquad-00008-2023-12-11-09-12-13-653\n"
     ]
    },
    {
     "name": "stdout",
     "output_type": "stream",
     "text": [
      "Using provided s3_resource\n",
      "sagemaker.config INFO - Not applying SDK defaults from location: /etc/xdg/sagemaker/config.yaml\n",
      "sagemaker.config INFO - Not applying SDK defaults from location: /root/.config/sagemaker/config.yaml\n",
      "Using provided s3_resource\n"
     ]
    },
    {
     "name": "stderr",
     "output_type": "stream",
     "text": [
      "INFO:sagemaker.image_uris:image_uri is not presented, retrieving image_uri based on instance_type, framework etc.\n",
      "INFO:sagemaker:Creating training-job with name: rinna-ppo-without-peft-2023-12-11-09-12-16-945\n"
     ]
    }
   ],
   "source": [
    "# with peft の評価\n",
    "for peft_s3_uri in peft_s3_list:\n",
    "    base_job_name=f\"eval-jsquad-{peft_s3_uri.split('/')[-1]}\"\n",
    "    print(base_job_name)\n",
    "    huggingface_estimator = HuggingFace(\n",
    "        base_job_name=base_job_name,\n",
    "        role=role,\n",
    "        entry_point='entrypoint.py',\n",
    "        source_dir='./lm-evaluation-harness/',\n",
    "        instance_type='ml.g5.2xlarge',\n",
    "        instance_count=1,\n",
    "        volume_size=200,\n",
    "        transformers_version='4.28.1',\n",
    "        pytorch_version='2.0.0',\n",
    "        py_version='py310',\n",
    "        max_run=3*24*60*60,\n",
    "        hyperparameters={\n",
    "            'model': 'rinna/japanese-gpt-neox-3.6b-instruction-ppo',\n",
    "            'peft' : 'peft',\n",
    "            'task' : 'jsquad-1.1-0.4',\n",
    "            'num_fewshot':'2'\n",
    "        }\n",
    "    )\n",
    "    huggingface_estimator.fit({'train': peft_s3_uri},wait=False)\n",
    "\n",
    "# without peft の評価\n",
    "huggingface_estimator = HuggingFace(\n",
    "    base_job_name='rinna-ppo-without-peft',\n",
    "    role=role,\n",
    "    entry_point='entrypoint.py',\n",
    "    source_dir='./lm-evaluation-harness/',\n",
    "    instance_type='ml.g5.2xlarge',\n",
    "    instance_count=1,\n",
    "    volume_size=200,\n",
    "    transformers_version='4.28.1',\n",
    "    pytorch_version='2.0.0',\n",
    "    py_version='py310',\n",
    "    max_run=3*24*60*60,\n",
    "    hyperparameters={\n",
    "        'model': 'rinna/japanese-gpt-neox-3.6b-instruction-ppo',\n",
    "        'task' : 'jsquad-1.1-0.4',\n",
    "        'num_fewshot':'2'\n",
    "    }\n",
    ")\n",
    "huggingface_estimator.fit(wait=False)"
   ]
  },
  {
   "cell_type": "markdown",
   "id": "d835c33b-ab98-4505-933f-e5e1cfdaebfb",
   "metadata": {},
   "source": [
    "## 評価結果の回収\n",
    "## 以下は、評価ジョブが全て終わってから実行のこと"
   ]
  },
  {
   "cell_type": "code",
   "execution_count": 74,
   "id": "fb6ef284-6c5e-4aa8-bf48-5a9c784404f8",
   "metadata": {
    "tags": []
   },
   "outputs": [],
   "source": [
    "paginator = sm_client.get_paginator('list_training_jobs')\n",
    "evaluate_jobs = []\n",
    "for i, page in enumerate(paginator.paginate()):\n",
    "    tmp_evaluate_jobs = [{'TrainingJobName':training_job['TrainingJobName']} for training_job in page['TrainingJobSummaries']]    \n",
    "    evaluate_jobs = [*evaluate_jobs, *tmp_evaluate_jobs]\n",
    "    if len(evaluate_jobs) > 20:\n",
    "        break"
   ]
  },
  {
   "cell_type": "code",
   "execution_count": 76,
   "id": "01eb9411-1947-4bcc-98e4-7ea94c638830",
   "metadata": {
    "tags": []
   },
   "outputs": [
    {
     "data": {
      "text/plain": [
       "[{'TrainingJobName': 'rinna-ppo-without-peft-2023-12-11-09-12-16-945'},\n",
       " {'TrainingJobName': 'eval-jsquad-00008-2023-12-11-09-12-13-653'},\n",
       " {'TrainingJobName': 'eval-jsquad-00016-2023-12-11-09-12-10-215'},\n",
       " {'TrainingJobName': 'eval-jsquad-00032-2023-12-11-09-12-07-097'},\n",
       " {'TrainingJobName': 'eval-jsquad-00064-2023-12-11-09-12-03-813'},\n",
       " {'TrainingJobName': 'eval-jsquad-00128-2023-12-11-09-12-00-449'},\n",
       " {'TrainingJobName': 'eval-jsquad-00256-2023-12-11-09-11-57-432'},\n",
       " {'TrainingJobName': 'eval-jsquad-00512-2023-12-11-09-11-54-154'},\n",
       " {'TrainingJobName': 'eval-jsquad-01024-2023-12-11-09-11-51-052'},\n",
       " {'TrainingJobName': 'eval-jsquad-02048-2023-12-11-09-11-47-975'},\n",
       " {'TrainingJobName': 'eval-jsquad-04096-2023-12-11-09-11-45-198'},\n",
       " {'TrainingJobName': 'eval-jsquad-08192-2023-12-11-09-11-41-845'},\n",
       " {'TrainingJobName': 'eval-jsquad-15652-2023-12-11-09-11-38-964'},\n",
       " {'TrainingJobName': 'eval-jsquad-31105-2023-12-11-09-11-35-680'},\n",
       " {'TrainingJobName': 'eval-jsquad-45576-2023-12-11-09-11-32-632'},\n",
       " {'TrainingJobName': 'eval-jsquad-57086-2023-12-11-09-11-29-583'},\n",
       " {'TrainingJobName': 'eval-jsquad-62859-2023-12-11-09-11-25-622'}]"
      ]
     },
     "execution_count": 76,
     "metadata": {},
     "output_type": "execute_result"
    }
   ],
   "source": [
    "evaluate_jobs = evaluate_jobs[0:17]\n",
    "evaluate_jobs"
   ]
  },
  {
   "cell_type": "code",
   "execution_count": null,
   "id": "a61e0469-5154-4ef5-875a-1dfda9c72f74",
   "metadata": {
    "tags": []
   },
   "outputs": [],
   "source": [
    "# evaluate_jobs = [\n",
    "#     {'TrainingJobName': 'eval-jsquad-00008-2023-12-04-00-28-38-320'}, \n",
    "#     {'TrainingJobName': 'eval-jsquad-00016-2023-12-04-00-28-35-338'}, \n",
    "#     {'TrainingJobName': 'eval-jsquad-00032-2023-12-04-00-28-32-532'}, \n",
    "#     {'TrainingJobName': 'eval-jsquad-00064-2023-12-04-00-28-29-460'}, \n",
    "#     {'TrainingJobName': 'eval-jsquad-00128-2023-12-04-00-28-26-510'}, \n",
    "#     {'TrainingJobName': 'eval-jsquad-15652-2023-12-04-00-28-23-847'}, \n",
    "#     {'TrainingJobName': 'eval-jsquad-31105-2023-12-04-00-28-20-894'}, \n",
    "#     {'TrainingJobName': 'eval-jsquad-45576-2023-12-04-00-28-18-034'}, \n",
    "#     {'TrainingJobName': 'eval-jsquad-57086-2023-12-04-00-28-14-813'}, \n",
    "#     {'TrainingJobName': 'eval-jsquad-62859-2023-12-04-00-28-11-201'}\n",
    "# ]"
   ]
  },
  {
   "cell_type": "code",
   "execution_count": 77,
   "id": "b848423c-9eb1-4743-a3a0-005a77102375",
   "metadata": {
    "tags": []
   },
   "outputs": [],
   "source": [
    "for i, evaluate_job in enumerate(evaluate_jobs):\n",
    "    evaluate_jobs[i]['S3ModelArtifacts'] = sm_client.describe_training_job(\n",
    "        TrainingJobName=evaluate_job['TrainingJobName'],\n",
    "    )['ModelArtifacts']['S3ModelArtifacts']"
   ]
  },
  {
   "cell_type": "code",
   "execution_count": 78,
   "id": "b0167a70-0d64-405a-ae63-c9ab2d4c366f",
   "metadata": {
    "tags": []
   },
   "outputs": [
    {
     "data": {
      "text/plain": [
       "[{'TrainingJobName': 'rinna-ppo-without-peft-2023-12-11-09-12-16-945',\n",
       "  'S3ModelArtifacts': 's3://sagemaker-us-east-1-290000338583/rinna-ppo-without-peft-2023-12-11-09-12-16-945/output/model.tar.gz'},\n",
       " {'TrainingJobName': 'eval-jsquad-00008-2023-12-11-09-12-13-653',\n",
       "  'S3ModelArtifacts': 's3://sagemaker-us-east-1-290000338583/eval-jsquad-00008-2023-12-11-09-12-13-653/output/model.tar.gz'},\n",
       " {'TrainingJobName': 'eval-jsquad-00016-2023-12-11-09-12-10-215',\n",
       "  'S3ModelArtifacts': 's3://sagemaker-us-east-1-290000338583/eval-jsquad-00016-2023-12-11-09-12-10-215/output/model.tar.gz'},\n",
       " {'TrainingJobName': 'eval-jsquad-00032-2023-12-11-09-12-07-097',\n",
       "  'S3ModelArtifacts': 's3://sagemaker-us-east-1-290000338583/eval-jsquad-00032-2023-12-11-09-12-07-097/output/model.tar.gz'},\n",
       " {'TrainingJobName': 'eval-jsquad-00064-2023-12-11-09-12-03-813',\n",
       "  'S3ModelArtifacts': 's3://sagemaker-us-east-1-290000338583/eval-jsquad-00064-2023-12-11-09-12-03-813/output/model.tar.gz'},\n",
       " {'TrainingJobName': 'eval-jsquad-00128-2023-12-11-09-12-00-449',\n",
       "  'S3ModelArtifacts': 's3://sagemaker-us-east-1-290000338583/eval-jsquad-00128-2023-12-11-09-12-00-449/output/model.tar.gz'},\n",
       " {'TrainingJobName': 'eval-jsquad-00256-2023-12-11-09-11-57-432',\n",
       "  'S3ModelArtifacts': 's3://sagemaker-us-east-1-290000338583/eval-jsquad-00256-2023-12-11-09-11-57-432/output/model.tar.gz'},\n",
       " {'TrainingJobName': 'eval-jsquad-00512-2023-12-11-09-11-54-154',\n",
       "  'S3ModelArtifacts': 's3://sagemaker-us-east-1-290000338583/eval-jsquad-00512-2023-12-11-09-11-54-154/output/model.tar.gz'},\n",
       " {'TrainingJobName': 'eval-jsquad-01024-2023-12-11-09-11-51-052',\n",
       "  'S3ModelArtifacts': 's3://sagemaker-us-east-1-290000338583/eval-jsquad-01024-2023-12-11-09-11-51-052/output/model.tar.gz'},\n",
       " {'TrainingJobName': 'eval-jsquad-02048-2023-12-11-09-11-47-975',\n",
       "  'S3ModelArtifacts': 's3://sagemaker-us-east-1-290000338583/eval-jsquad-02048-2023-12-11-09-11-47-975/output/model.tar.gz'},\n",
       " {'TrainingJobName': 'eval-jsquad-04096-2023-12-11-09-11-45-198',\n",
       "  'S3ModelArtifacts': 's3://sagemaker-us-east-1-290000338583/eval-jsquad-04096-2023-12-11-09-11-45-198/output/model.tar.gz'},\n",
       " {'TrainingJobName': 'eval-jsquad-08192-2023-12-11-09-11-41-845',\n",
       "  'S3ModelArtifacts': 's3://sagemaker-us-east-1-290000338583/eval-jsquad-08192-2023-12-11-09-11-41-845/output/model.tar.gz'},\n",
       " {'TrainingJobName': 'eval-jsquad-15652-2023-12-11-09-11-38-964',\n",
       "  'S3ModelArtifacts': 's3://sagemaker-us-east-1-290000338583/eval-jsquad-15652-2023-12-11-09-11-38-964/output/model.tar.gz'},\n",
       " {'TrainingJobName': 'eval-jsquad-31105-2023-12-11-09-11-35-680',\n",
       "  'S3ModelArtifacts': 's3://sagemaker-us-east-1-290000338583/eval-jsquad-31105-2023-12-11-09-11-35-680/output/model.tar.gz'},\n",
       " {'TrainingJobName': 'eval-jsquad-45576-2023-12-11-09-11-32-632',\n",
       "  'S3ModelArtifacts': 's3://sagemaker-us-east-1-290000338583/eval-jsquad-45576-2023-12-11-09-11-32-632/output/model.tar.gz'},\n",
       " {'TrainingJobName': 'eval-jsquad-57086-2023-12-11-09-11-29-583',\n",
       "  'S3ModelArtifacts': 's3://sagemaker-us-east-1-290000338583/eval-jsquad-57086-2023-12-11-09-11-29-583/output/model.tar.gz'},\n",
       " {'TrainingJobName': 'eval-jsquad-62859-2023-12-11-09-11-25-622',\n",
       "  'S3ModelArtifacts': 's3://sagemaker-us-east-1-290000338583/eval-jsquad-62859-2023-12-11-09-11-25-622/output/model.tar.gz'}]"
      ]
     },
     "execution_count": 78,
     "metadata": {},
     "output_type": "execute_result"
    }
   ],
   "source": [
    "evaluate_jobs"
   ]
  },
  {
   "cell_type": "code",
   "execution_count": 79,
   "id": "c27198a3-6329-4de0-a9c7-1400ecb9e72e",
   "metadata": {
    "scrolled": true,
    "tags": []
   },
   "outputs": [
    {
     "name": "stdout",
     "output_type": "stream",
     "text": [
      "download: s3://sagemaker-us-east-1-290000338583/rinna-ppo-without-peft-2023-12-11-09-12-16-945/output/model.tar.gz to eval_without/model.tar.gz\n",
      "tar: Ignoring unknown extended header keyword 'LIBARCHIVE.creationtime'\n",
      "result.json\n",
      "download: s3://sagemaker-us-east-1-290000338583/eval-jsquad-00008-2023-12-11-09-12-13-653/output/model.tar.gz to eval_00008/model.tar.gz\n",
      "tar: Ignoring unknown extended header keyword 'LIBARCHIVE.creationtime'\n",
      "result.json\n",
      "download: s3://sagemaker-us-east-1-290000338583/eval-jsquad-00016-2023-12-11-09-12-10-215/output/model.tar.gz to eval_00016/model.tar.gz\n",
      "tar: Ignoring unknown extended header keyword 'LIBARCHIVE.creationtime'\n",
      "result.json\n",
      "download: s3://sagemaker-us-east-1-290000338583/eval-jsquad-00032-2023-12-11-09-12-07-097/output/model.tar.gz to eval_00032/model.tar.gz\n",
      "tar: Ignoring unknown extended header keyword 'LIBARCHIVE.creationtime'\n",
      "result.json\n",
      "download: s3://sagemaker-us-east-1-290000338583/eval-jsquad-00064-2023-12-11-09-12-03-813/output/model.tar.gz to eval_00064/model.tar.gz\n",
      "tar: Ignoring unknown extended header keyword 'LIBARCHIVE.creationtime'\n",
      "result.json\n",
      "download: s3://sagemaker-us-east-1-290000338583/eval-jsquad-00128-2023-12-11-09-12-00-449/output/model.tar.gz to eval_00128/model.tar.gz\n",
      "tar: Ignoring unknown extended header keyword 'LIBARCHIVE.creationtime'\n",
      "result.json\n",
      "download: s3://sagemaker-us-east-1-290000338583/eval-jsquad-00256-2023-12-11-09-11-57-432/output/model.tar.gz to eval_00256/model.tar.gz\n",
      "tar: Ignoring unknown extended header keyword 'LIBARCHIVE.creationtime'\n",
      "result.json\n",
      "download: s3://sagemaker-us-east-1-290000338583/eval-jsquad-00512-2023-12-11-09-11-54-154/output/model.tar.gz to eval_00512/model.tar.gz\n",
      "tar: Ignoring unknown extended header keyword 'LIBARCHIVE.creationtime'\n",
      "result.json\n",
      "download: s3://sagemaker-us-east-1-290000338583/eval-jsquad-01024-2023-12-11-09-11-51-052/output/model.tar.gz to eval_01024/model.tar.gz\n",
      "tar: Ignoring unknown extended header keyword 'LIBARCHIVE.creationtime'\n",
      "result.json\n",
      "download: s3://sagemaker-us-east-1-290000338583/eval-jsquad-02048-2023-12-11-09-11-47-975/output/model.tar.gz to eval_02048/model.tar.gz\n",
      "tar: Ignoring unknown extended header keyword 'LIBARCHIVE.creationtime'\n",
      "result.json\n",
      "download: s3://sagemaker-us-east-1-290000338583/eval-jsquad-04096-2023-12-11-09-11-45-198/output/model.tar.gz to eval_04096/model.tar.gz\n",
      "tar: Ignoring unknown extended header keyword 'LIBARCHIVE.creationtime'\n",
      "result.json\n",
      "download: s3://sagemaker-us-east-1-290000338583/eval-jsquad-08192-2023-12-11-09-11-41-845/output/model.tar.gz to eval_08192/model.tar.gz\n",
      "tar: Ignoring unknown extended header keyword 'LIBARCHIVE.creationtime'\n",
      "result.json\n",
      "download: s3://sagemaker-us-east-1-290000338583/eval-jsquad-15652-2023-12-11-09-11-38-964/output/model.tar.gz to eval_15652/model.tar.gz\n",
      "tar: Ignoring unknown extended header keyword 'LIBARCHIVE.creationtime'\n",
      "result.json\n",
      "download: s3://sagemaker-us-east-1-290000338583/eval-jsquad-31105-2023-12-11-09-11-35-680/output/model.tar.gz to eval_31105/model.tar.gz\n",
      "tar: Ignoring unknown extended header keyword 'LIBARCHIVE.creationtime'\n",
      "result.json\n",
      "download: s3://sagemaker-us-east-1-290000338583/eval-jsquad-45576-2023-12-11-09-11-32-632/output/model.tar.gz to eval_45576/model.tar.gz\n",
      "tar: Ignoring unknown extended header keyword 'LIBARCHIVE.creationtime'\n",
      "result.json\n",
      "download: s3://sagemaker-us-east-1-290000338583/eval-jsquad-57086-2023-12-11-09-11-29-583/output/model.tar.gz to eval_57086/model.tar.gz\n",
      "tar: Ignoring unknown extended header keyword 'LIBARCHIVE.creationtime'\n",
      "result.json\n",
      "download: s3://sagemaker-us-east-1-290000338583/eval-jsquad-62859-2023-12-11-09-11-25-622/output/model.tar.gz to eval_62859/model.tar.gz\n",
      "tar: Ignoring unknown extended header keyword 'LIBARCHIVE.creationtime'\n",
      "result.json\n"
     ]
    }
   ],
   "source": [
    "result_path_list = []\n",
    "for i, evaluate_job in enumerate(evaluate_jobs):\n",
    "    model_uri = evaluate_job['S3ModelArtifacts']\n",
    "    result_path = 'eval_' + evaluate_job['TrainingJobName'].split('-')[2]\n",
    "    result_path_list.append(result_path)\n",
    "    !mkdir -p {result_path}\n",
    "    !aws s3 cp {model_uri} ./{result_path}\n",
    "    !tar zxvf ./{result_path}/model.tar.gz -C ./{result_path}/\n",
    "    !rm ./{result_path}/model.tar.gz"
   ]
  },
  {
   "cell_type": "code",
   "execution_count": 80,
   "id": "8e2a916c-8b7f-4a0f-a900-e26739c8c9c9",
   "metadata": {
    "tags": []
   },
   "outputs": [],
   "source": [
    "result = {\n",
    "    'data_num':[],\n",
    "    'f1':[],\n",
    "    'exact_match':[]\n",
    "}\n",
    "for result_path in result_path_list:\n",
    "    with open(os.path.join(result_path,'result.json')) as f:\n",
    "        data_num = result_path.split('_')[1]\n",
    "        data_num =  0 if result_path.split('_')[1] == 'without' else int(result_path.split('_')[1])\n",
    "        result_dict = json.loads(f.read())\n",
    "        f1 = result_dict['results']['jsquad-1.1-0.4']['f1']\n",
    "        exact_match = result_dict['results']['jsquad-1.1-0.4']['exact_match']\n",
    "        result['data_num'].append(data_num)\n",
    "        result['f1'].append(f1)\n",
    "        result['exact_match'].append(exact_match)"
   ]
  },
  {
   "cell_type": "code",
   "execution_count": 81,
   "id": "cfaf4aa4-a6d3-4261-bad0-88ef59c3810f",
   "metadata": {
    "tags": []
   },
   "outputs": [],
   "source": [
    "from matplotlib import pyplot as plt"
   ]
  },
  {
   "cell_type": "code",
   "execution_count": 83,
   "id": "f183aaa5-1709-4b62-bb73-50d3884ea4c6",
   "metadata": {
    "tags": []
   },
   "outputs": [
    {
     "data": {
      "text/plain": [
       "Text(0, 0.5, 'score')"
      ]
     },
     "execution_count": 83,
     "metadata": {},
     "output_type": "execute_result"
    },
    {
     "data": {
      "image/png": "[encoded data removed]",
      "text/plain": [
       "<Figure size 640x480 with 1 Axes>"
      ]
     },
     "metadata": {},
     "output_type": "display_data"
    }
   ],
   "source": [
    "fix,ax = plt.subplots()\n",
    "\n",
    "ax.plot(result['data_num'],result['f1'],color='red',label='f1')\n",
    "ax.plot(result['data_num'],result['exact_match'],color='blue',label='exact_match')\n",
    "\n",
    "plt.xscale('log')\n",
    "plt.legend()\n",
    "ax.set_xlabel('data num')\n",
    "ax.set_ylabel('score')"
   ]
  },
  {
   "cell_type": "code",
   "execution_count": 84,
   "id": "4403d4c7-b6e9-4480-965d-c413da06498c",
   "metadata": {
    "tags": []
   },
   "outputs": [
    {
     "data": {
      "text/plain": [
       "Text(0, 0.5, 'score')"
      ]
     },
     "execution_count": 84,
     "metadata": {},
     "output_type": "execute_result"
    },
    {
     "data": {
      "image/png": "[encoded data removed]",
      "text/plain": [
       "<Figure size 640x480 with 1 Axes>"
      ]
     },
     "metadata": {},
     "output_type": "display_data"
    }
   ],
   "source": [
    "fix,ax = plt.subplots()\n",
    "\n",
    "ax.plot(result['data_num'],result['f1'],color='red',label='f1')\n",
    "ax.plot(result['data_num'],result['exact_match'],color='blue',label='exact_match')\n",
    "\n",
    "plt.legend()\n",
    "ax.set_xlabel('data num')\n",
    "ax.set_ylabel('score')"
   ]
  },
  {
   "cell_type": "code",
   "execution_count": 89,
   "id": "672ed862-73be-4df6-9195-15987cfa0565",
   "metadata": {},
   "outputs": [
    {
     "data": {
      "text/html": [
       "<div>\n",
       "<style scoped>\n",
       "    .dataframe tbody tr th:only-of-type {\n",
       "        vertical-align: middle;\n",
       "    }\n",
       "\n",
       "    .dataframe tbody tr th {\n",
       "        vertical-align: top;\n",
       "    }\n",
       "\n",
       "    .dataframe thead th {\n",
       "        text-align: right;\n",
       "    }\n",
       "</style>\n",
       "<table border=\"1\" class=\"dataframe\">\n",
       "  <thead>\n",
       "    <tr style=\"text-align: right;\">\n",
       "      <th></th>\n",
       "      <th>data_num</th>\n",
       "      <th>f1</th>\n",
       "      <th>exact_match</th>\n",
       "    </tr>\n",
       "  </thead>\n",
       "  <tbody>\n",
       "    <tr>\n",
       "      <th>0</th>\n",
       "      <td>0</td>\n",
       "      <td>51.588303</td>\n",
       "      <td>27.960378</td>\n",
       "    </tr>\n",
       "    <tr>\n",
       "      <th>1</th>\n",
       "      <td>8</td>\n",
       "      <td>51.568292</td>\n",
       "      <td>28.027915</td>\n",
       "    </tr>\n",
       "    <tr>\n",
       "      <th>2</th>\n",
       "      <td>16</td>\n",
       "      <td>51.740004</td>\n",
       "      <td>28.275552</td>\n",
       "    </tr>\n",
       "    <tr>\n",
       "      <th>3</th>\n",
       "      <td>32</td>\n",
       "      <td>52.253612</td>\n",
       "      <td>29.018460</td>\n",
       "    </tr>\n",
       "    <tr>\n",
       "      <th>4</th>\n",
       "      <td>64</td>\n",
       "      <td>65.901630</td>\n",
       "      <td>51.418280</td>\n",
       "    </tr>\n",
       "    <tr>\n",
       "      <th>5</th>\n",
       "      <td>128</td>\n",
       "      <td>65.163149</td>\n",
       "      <td>50.877983</td>\n",
       "    </tr>\n",
       "    <tr>\n",
       "      <th>6</th>\n",
       "      <td>256</td>\n",
       "      <td>66.494346</td>\n",
       "      <td>51.755966</td>\n",
       "    </tr>\n",
       "    <tr>\n",
       "      <th>7</th>\n",
       "      <td>512</td>\n",
       "      <td>64.428221</td>\n",
       "      <td>51.530842</td>\n",
       "    </tr>\n",
       "    <tr>\n",
       "      <th>8</th>\n",
       "      <td>1024</td>\n",
       "      <td>65.802912</td>\n",
       "      <td>52.881585</td>\n",
       "    </tr>\n",
       "    <tr>\n",
       "      <th>9</th>\n",
       "      <td>2048</td>\n",
       "      <td>66.030597</td>\n",
       "      <td>53.219271</td>\n",
       "    </tr>\n",
       "    <tr>\n",
       "      <th>10</th>\n",
       "      <td>4096</td>\n",
       "      <td>68.831674</td>\n",
       "      <td>56.843764</td>\n",
       "    </tr>\n",
       "    <tr>\n",
       "      <th>11</th>\n",
       "      <td>8192</td>\n",
       "      <td>71.023555</td>\n",
       "      <td>58.532193</td>\n",
       "    </tr>\n",
       "    <tr>\n",
       "      <th>12</th>\n",
       "      <td>15652</td>\n",
       "      <td>69.627233</td>\n",
       "      <td>56.551103</td>\n",
       "    </tr>\n",
       "    <tr>\n",
       "      <th>13</th>\n",
       "      <td>31105</td>\n",
       "      <td>69.217395</td>\n",
       "      <td>55.898244</td>\n",
       "    </tr>\n",
       "    <tr>\n",
       "      <th>14</th>\n",
       "      <td>45576</td>\n",
       "      <td>70.152992</td>\n",
       "      <td>56.978838</td>\n",
       "    </tr>\n",
       "    <tr>\n",
       "      <th>15</th>\n",
       "      <td>57086</td>\n",
       "      <td>69.611307</td>\n",
       "      <td>55.470509</td>\n",
       "    </tr>\n",
       "    <tr>\n",
       "      <th>16</th>\n",
       "      <td>62859</td>\n",
       "      <td>68.784660</td>\n",
       "      <td>55.312922</td>\n",
       "    </tr>\n",
       "  </tbody>\n",
       "</table>\n",
       "</div>"
      ],
      "text/plain": [
       "    data_num         f1  exact_match\n",
       "0          0  51.588303    27.960378\n",
       "1          8  51.568292    28.027915\n",
       "2         16  51.740004    28.275552\n",
       "3         32  52.253612    29.018460\n",
       "4         64  65.901630    51.418280\n",
       "5        128  65.163149    50.877983\n",
       "6        256  66.494346    51.755966\n",
       "7        512  64.428221    51.530842\n",
       "8       1024  65.802912    52.881585\n",
       "9       2048  66.030597    53.219271\n",
       "10      4096  68.831674    56.843764\n",
       "11      8192  71.023555    58.532193\n",
       "12     15652  69.627233    56.551103\n",
       "13     31105  69.217395    55.898244\n",
       "14     45576  70.152992    56.978838\n",
       "15     57086  69.611307    55.470509\n",
       "16     62859  68.784660    55.312922"
      ]
     },
     "execution_count": 89,
     "metadata": {},
     "output_type": "execute_result"
    }
   ],
   "source": [
    "import pandas as pd\n",
    "pd.DataFrame(result)"
   ]
  },
  {
   "cell_type": "code",
   "execution_count": null,
   "id": "3f36477d-df56-41ab-a40b-27be51ed1d40",
   "metadata": {},
   "outputs": [],
   "source": []
  }
 ],
 "metadata": {
  "availableInstances": [
   {
    "_defaultOrder": 0,
    "_isFastLaunch": true,
    "category": "General purpose",
    "gpuNum": 0,
    "hideHardwareSpecs": false,
    "memoryGiB": 4,
    "name": "ml.t3.medium",
    "vcpuNum": 2
   },
   {
    "_defaultOrder": 1,
    "_isFastLaunch": false,
    "category": "General purpose",
    "gpuNum": 0,
    "hideHardwareSpecs": false,
    "memoryGiB": 8,
    "name": "ml.t3.large",
    "vcpuNum": 2
   },
   {
    "_defaultOrder": 2,
    "_isFastLaunch": false,
    "category": "General purpose",
    "gpuNum": 0,
    "hideHardwareSpecs": false,
    "memoryGiB": 16,
    "name": "ml.t3.xlarge",
    "vcpuNum": 4
   },
   {
    "_defaultOrder": 3,
    "_isFastLaunch": false,
    "category": "General purpose",
    "gpuNum": 0,
    "hideHardwareSpecs": false,
    "memoryGiB": 32,
    "name": "ml.t3.2xlarge",
    "vcpuNum": 8
   },
   {
    "_defaultOrder": 4,
    "_isFastLaunch": true,
    "category": "General purpose",
    "gpuNum": 0,
    "hideHardwareSpecs": false,
    "memoryGiB": 8,
    "name": "ml.m5.large",
    "vcpuNum": 2
   },
   {
    "_defaultOrder": 5,
    "_isFastLaunch": false,
    "category": "General purpose",
    "gpuNum": 0,
    "hideHardwareSpecs": false,
    "memoryGiB": 16,
    "name": "ml.m5.xlarge",
    "vcpuNum": 4
   },
   {
    "_defaultOrder": 6,
    "_isFastLaunch": false,
    "category": "General purpose",
    "gpuNum": 0,
    "hideHardwareSpecs": false,
    "memoryGiB": 32,
    "name": "ml.m5.2xlarge",
    "vcpuNum": 8
   },
   {
    "_defaultOrder": 7,
    "_isFastLaunch": false,
    "category": "General purpose",
    "gpuNum": 0,
    "hideHardwareSpecs": false,
    "memoryGiB": 64,
    "name": "ml.m5.4xlarge",
    "vcpuNum": 16
   },
   {
    "_defaultOrder": 8,
    "_isFastLaunch": false,
    "category": "General purpose",
    "gpuNum": 0,
    "hideHardwareSpecs": false,
    "memoryGiB": 128,
    "name": "ml.m5.8xlarge",
    "vcpuNum": 32
   },
   {
    "_defaultOrder": 9,
    "_isFastLaunch": false,
    "category": "General purpose",
    "gpuNum": 0,
    "hideHardwareSpecs": false,
    "memoryGiB": 192,
    "name": "ml.m5.12xlarge",
    "vcpuNum": 48
   },
   {
    "_defaultOrder": 10,
    "_isFastLaunch": false,
    "category": "General purpose",
    "gpuNum": 0,
    "hideHardwareSpecs": false,
    "memoryGiB": 256,
    "name": "ml.m5.16xlarge",
    "vcpuNum": 64
   },
   {
    "_defaultOrder": 11,
    "_isFastLaunch": false,
    "category": "General purpose",
    "gpuNum": 0,
    "hideHardwareSpecs": false,
    "memoryGiB": 384,
    "name": "ml.m5.24xlarge",
    "vcpuNum": 96
   },
   {
    "_defaultOrder": 12,
    "_isFastLaunch": false,
    "category": "General purpose",
    "gpuNum": 0,
    "hideHardwareSpecs": false,
    "memoryGiB": 8,
    "name": "ml.m5d.large",
    "vcpuNum": 2
   },
   {
    "_defaultOrder": 13,
    "_isFastLaunch": false,
    "category": "General purpose",
    "gpuNum": 0,
    "hideHardwareSpecs": false,
    "memoryGiB": 16,
    "name": "ml.m5d.xlarge",
    "vcpuNum": 4
   },
   {
    "_defaultOrder": 14,
    "_isFastLaunch": false,
    "category": "General purpose",
    "gpuNum": 0,
    "hideHardwareSpecs": false,
    "memoryGiB": 32,
    "name": "ml.m5d.2xlarge",
    "vcpuNum": 8
   },
   {
    "_defaultOrder": 15,
    "_isFastLaunch": false,
    "category": "General purpose",
    "gpuNum": 0,
    "hideHardwareSpecs": false,
    "memoryGiB": 64,
    "name": "ml.m5d.4xlarge",
    "vcpuNum": 16
   },
   {
    "_defaultOrder": 16,
    "_isFastLaunch": false,
    "category": "General purpose",
    "gpuNum": 0,
    "hideHardwareSpecs": false,
    "memoryGiB": 128,
    "name": "ml.m5d.8xlarge",
    "vcpuNum": 32
   },
   {
    "_defaultOrder": 17,
    "_isFastLaunch": false,
    "category": "General purpose",
    "gpuNum": 0,
    "hideHardwareSpecs": false,
    "memoryGiB": 192,
    "name": "ml.m5d.12xlarge",
    "vcpuNum": 48
   },
   {
    "_defaultOrder": 18,
    "_isFastLaunch": false,
    "category": "General purpose",
    "gpuNum": 0,
    "hideHardwareSpecs": false,
    "memoryGiB": 256,
    "name": "ml.m5d.16xlarge",
    "vcpuNum": 64
   },
   {
    "_defaultOrder": 19,
    "_isFastLaunch": false,
    "category": "General purpose",
    "gpuNum": 0,
    "hideHardwareSpecs": false,
    "memoryGiB": 384,
    "name": "ml.m5d.24xlarge",
    "vcpuNum": 96
   },
   {
    "_defaultOrder": 20,
    "_isFastLaunch": false,
    "category": "General purpose",
    "gpuNum": 0,
    "hideHardwareSpecs": true,
    "memoryGiB": 0,
    "name": "ml.geospatial.interactive",
    "supportedImageNames": [
     "sagemaker-geospatial-v1-0"
    ],
    "vcpuNum": 0
   },
   {
    "_defaultOrder": 21,
    "_isFastLaunch": true,
    "category": "Compute optimized",
    "gpuNum": 0,
    "hideHardwareSpecs": false,
    "memoryGiB": 4,
    "name": "ml.c5.large",
    "vcpuNum": 2
   },
   {
    "_defaultOrder": 22,
    "_isFastLaunch": false,
    "category": "Compute optimized",
    "gpuNum": 0,
    "hideHardwareSpecs": false,
    "memoryGiB": 8,
    "name": "ml.c5.xlarge",
    "vcpuNum": 4
   },
   {
    "_defaultOrder": 23,
    "_isFastLaunch": false,
    "category": "Compute optimized",
    "gpuNum": 0,
    "hideHardwareSpecs": false,
    "memoryGiB": 16,
    "name": "ml.c5.2xlarge",
    "vcpuNum": 8
   },
   {
    "_defaultOrder": 24,
    "_isFastLaunch": false,
    "category": "Compute optimized",
    "gpuNum": 0,
    "hideHardwareSpecs": false,
    "memoryGiB": 32,
    "name": "ml.c5.4xlarge",
    "vcpuNum": 16
   },
   {
    "_defaultOrder": 25,
    "_isFastLaunch": false,
    "category": "Compute optimized",
    "gpuNum": 0,
    "hideHardwareSpecs": false,
    "memoryGiB": 72,
    "name": "ml.c5.9xlarge",
    "vcpuNum": 36
   },
   {
    "_defaultOrder": 26,
    "_isFastLaunch": false,
    "category": "Compute optimized",
    "gpuNum": 0,
    "hideHardwareSpecs": false,
    "memoryGiB": 96,
    "name": "ml.c5.12xlarge",
    "vcpuNum": 48
   },
   {
    "_defaultOrder": 27,
    "_isFastLaunch": false,
    "category": "Compute optimized",
    "gpuNum": 0,
    "hideHardwareSpecs": false,
    "memoryGiB": 144,
    "name": "ml.c5.18xlarge",
    "vcpuNum": 72
   },
   {
    "_defaultOrder": 28,
    "_isFastLaunch": false,
    "category": "Compute optimized",
    "gpuNum": 0,
    "hideHardwareSpecs": false,
    "memoryGiB": 192,
    "name": "ml.c5.24xlarge",
    "vcpuNum": 96
   },
   {
    "_defaultOrder": 29,
    "_isFastLaunch": true,
    "category": "Accelerated computing",
    "gpuNum": 1,
    "hideHardwareSpecs": false,
    "memoryGiB": 16,
    "name": "ml.g4dn.xlarge",
    "vcpuNum": 4
   },
   {
    "_defaultOrder": 30,
    "_isFastLaunch": false,
    "category": "Accelerated computing",
    "gpuNum": 1,
    "hideHardwareSpecs": false,
    "memoryGiB": 32,
    "name": "ml.g4dn.2xlarge",
    "vcpuNum": 8
   },
   {
    "_defaultOrder": 31,
    "_isFastLaunch": false,
    "category": "Accelerated computing",
    "gpuNum": 1,
    "hideHardwareSpecs": false,
    "memoryGiB": 64,
    "name": "ml.g4dn.4xlarge",
    "vcpuNum": 16
   },
   {
    "_defaultOrder": 32,
    "_isFastLaunch": false,
    "category": "Accelerated computing",
    "gpuNum": 1,
    "hideHardwareSpecs": false,
    "memoryGiB": 128,
    "name": "ml.g4dn.8xlarge",
    "vcpuNum": 32
   },
   {
    "_defaultOrder": 33,
    "_isFastLaunch": false,
    "category": "Accelerated computing",
    "gpuNum": 4,
    "hideHardwareSpecs": false,
    "memoryGiB": 192,
    "name": "ml.g4dn.12xlarge",
    "vcpuNum": 48
   },
   {
    "_defaultOrder": 34,
    "_isFastLaunch": false,
    "category": "Accelerated computing",
    "gpuNum": 1,
    "hideHardwareSpecs": false,
    "memoryGiB": 256,
    "name": "ml.g4dn.16xlarge",
    "vcpuNum": 64
   },
   {
    "_defaultOrder": 35,
    "_isFastLaunch": false,
    "category": "Accelerated computing",
    "gpuNum": 1,
    "hideHardwareSpecs": false,
    "memoryGiB": 61,
    "name": "ml.p3.2xlarge",
    "vcpuNum": 8
   },
   {
    "_defaultOrder": 36,
    "_isFastLaunch": false,
    "category": "Accelerated computing",
    "gpuNum": 4,
    "hideHardwareSpecs": false,
    "memoryGiB": 244,
    "name": "ml.p3.8xlarge",
    "vcpuNum": 32
   },
   {
    "_defaultOrder": 37,
    "_isFastLaunch": false,
    "category": "Accelerated computing",
    "gpuNum": 8,
    "hideHardwareSpecs": false,
    "memoryGiB": 488,
    "name": "ml.p3.16xlarge",
    "vcpuNum": 64
   },
   {
    "_defaultOrder": 38,
    "_isFastLaunch": false,
    "category": "Accelerated computing",
    "gpuNum": 8,
    "hideHardwareSpecs": false,
    "memoryGiB": 768,
    "name": "ml.p3dn.24xlarge",
    "vcpuNum": 96
   },
   {
    "_defaultOrder": 39,
    "_isFastLaunch": false,
    "category": "Memory Optimized",
    "gpuNum": 0,
    "hideHardwareSpecs": false,
    "memoryGiB": 16,
    "name": "ml.r5.large",
    "vcpuNum": 2
   },
   {
    "_defaultOrder": 40,
    "_isFastLaunch": false,
    "category": "Memory Optimized",
    "gpuNum": 0,
    "hideHardwareSpecs": false,
    "memoryGiB": 32,
    "name": "ml.r5.xlarge",
    "vcpuNum": 4
   },
   {
    "_defaultOrder": 41,
    "_isFastLaunch": false,
    "category": "Memory Optimized",
    "gpuNum": 0,
    "hideHardwareSpecs": false,
    "memoryGiB": 64,
    "name": "ml.r5.2xlarge",
    "vcpuNum": 8
   },
   {
    "_defaultOrder": 42,
    "_isFastLaunch": false,
    "category": "Memory Optimized",
    "gpuNum": 0,
    "hideHardwareSpecs": false,
    "memoryGiB": 128,
    "name": "ml.r5.4xlarge",
    "vcpuNum": 16
   },
   {
    "_defaultOrder": 43,
    "_isFastLaunch": false,
    "category": "Memory Optimized",
    "gpuNum": 0,
    "hideHardwareSpecs": false,
    "memoryGiB": 256,
    "name": "ml.r5.8xlarge",
    "vcpuNum": 32
   },
   {
    "_defaultOrder": 44,
    "_isFastLaunch": false,
    "category": "Memory Optimized",
    "gpuNum": 0,
    "hideHardwareSpecs": false,
    "memoryGiB": 384,
    "name": "ml.r5.12xlarge",
    "vcpuNum": 48
   },
   {
    "_defaultOrder": 45,
    "_isFastLaunch": false,
    "category": "Memory Optimized",
    "gpuNum": 0,
    "hideHardwareSpecs": false,
    "memoryGiB": 512,
    "name": "ml.r5.16xlarge",
    "vcpuNum": 64
   },
   {
    "_defaultOrder": 46,
    "_isFastLaunch": false,
    "category": "Memory Optimized",
    "gpuNum": 0,
    "hideHardwareSpecs": false,
    "memoryGiB": 768,
    "name": "ml.r5.24xlarge",
    "vcpuNum": 96
   },
   {
    "_defaultOrder": 47,
    "_isFastLaunch": false,
    "category": "Accelerated computing",
    "gpuNum": 1,
    "hideHardwareSpecs": false,
    "memoryGiB": 16,
    "name": "ml.g5.xlarge",
    "vcpuNum": 4
   },
   {
    "_defaultOrder": 48,
    "_isFastLaunch": false,
    "category": "Accelerated computing",
    "gpuNum": 1,
    "hideHardwareSpecs": false,
    "memoryGiB": 32,
    "name": "ml.g5.2xlarge",
    "vcpuNum": 8
   },
   {
    "_defaultOrder": 49,
    "_isFastLaunch": false,
    "category": "Accelerated computing",
    "gpuNum": 1,
    "hideHardwareSpecs": false,
    "memoryGiB": 64,
    "name": "ml.g5.4xlarge",
    "vcpuNum": 16
   },
   {
    "_defaultOrder": 50,
    "_isFastLaunch": false,
    "category": "Accelerated computing",
    "gpuNum": 1,
    "hideHardwareSpecs": false,
    "memoryGiB": 128,
    "name": "ml.g5.8xlarge",
    "vcpuNum": 32
   },
   {
    "_defaultOrder": 51,
    "_isFastLaunch": false,
    "category": "Accelerated computing",
    "gpuNum": 1,
    "hideHardwareSpecs": false,
    "memoryGiB": 256,
    "name": "ml.g5.16xlarge",
    "vcpuNum": 64
   },
   {
    "_defaultOrder": 52,
    "_isFastLaunch": false,
    "category": "Accelerated computing",
    "gpuNum": 4,
    "hideHardwareSpecs": false,
    "memoryGiB": 192,
    "name": "ml.g5.12xlarge",
    "vcpuNum": 48
   },
   {
    "_defaultOrder": 53,
    "_isFastLaunch": false,
    "category": "Accelerated computing",
    "gpuNum": 4,
    "hideHardwareSpecs": false,
    "memoryGiB": 384,
    "name": "ml.g5.24xlarge",
    "vcpuNum": 96
   },
   {
    "_defaultOrder": 54,
    "_isFastLaunch": false,
    "category": "Accelerated computing",
    "gpuNum": 8,
    "hideHardwareSpecs": false,
    "memoryGiB": 768,
    "name": "ml.g5.48xlarge",
    "vcpuNum": 192
   },
   {
    "_defaultOrder": 55,
    "_isFastLaunch": false,
    "category": "Accelerated computing",
    "gpuNum": 8,
    "hideHardwareSpecs": false,
    "memoryGiB": 1152,
    "name": "ml.p4d.24xlarge",
    "vcpuNum": 96
   },
   {
    "_defaultOrder": 56,
    "_isFastLaunch": false,
    "category": "Accelerated computing",
    "gpuNum": 8,
    "hideHardwareSpecs": false,
    "memoryGiB": 1152,
    "name": "ml.p4de.24xlarge",
    "vcpuNum": 96
   }
  ],
  "kernelspec": {
   "display_name": "Python 3 (ipykernel)",
   "language": "python",
   "name": "python3"
  },
  "language_info": {
   "codemirror_mode": {
    "name": "ipython",
    "version": 3
   },
   "file_extension": ".py",
   "mimetype": "text/x-python",
   "name": "python",
   "nbconvert_exporter": "python",
   "pygments_lexer": "ipython3",
   "version": "3.10.13"
  }
 },
 "nbformat": 4,
 "nbformat_minor": 5
}
