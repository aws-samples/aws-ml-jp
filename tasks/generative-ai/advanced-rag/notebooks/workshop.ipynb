{
 "cells": [
  {
   "cell_type": "markdown",
   "metadata": {},
   "source": [
    "# Amazon Bedrock と Amazon Kendra を用いた Advanced RAG 構築\n",
    "\n",
    "本ノートブックでは、Amazon Bedrock を生成器、Amazon Kendra を検索器として RAG システムを構築します。下記の順番で、まずは抽象度低く Naive RAG を構築し、動作を理解してから LangChain や LangGraph を用いた Advanced RAG システムの構築を体験します。\n",
    "\n",
    "1. AWS SDK for Python (boto3) を用いて Naive RAG を構築\n",
    "2. LangChain を用いて Naive RAG を構築\n",
    "3. LangGraph を用いて Naive RAG & Advanced RAG を構築\n",
    "\n",
    "## 1. 事前準備\n",
    "\n",
    "Ctrl + \\` で Code Editor (OSS 版 VS Code) のターミナルを開き、以下のコマンドを実行してください。\n",
    "\n",
    "```bash:\n",
    "python3 -m venv .venv\n",
    "source .venv/bin/activate\n",
    "pip install -U pip\n",
    "pip install -r requirements.txt\n",
    "```"
   ]
  },
  {
   "cell_type": "markdown",
   "metadata": {},
   "source": [
    "## 2. boto3 を直接用いて RAG を構築"
   ]
  },
  {
   "cell_type": "markdown",
   "metadata": {},
   "source": [
    "### 必要なモジュールのインポートと boto3 クライアントの準備\n",
    "\n",
    "AWS SDK for Python (boto3) 等のモジュールをインポートし、事前準備を行います。\n",
    "ノートブックの各セルを実行するには `Shift + Enter` を押してください。"
   ]
  },
  {
   "cell_type": "code",
   "execution_count": 31,
   "metadata": {},
   "outputs": [],
   "source": [
    "import re  # 正規表現\n",
    "import json\n",
    "from pprint import pprint\n",
    "\n",
    "from IPython.display import (\n",
    "    display,\n",
    "    Markdown,\n",
    ")\n",
    "\n",
    "import boto3\n",
    "from botocore.exceptions import ClientError\n",
    "\n",
    "# Amazon Kendra と Amazon Bedrock のクライアント\n",
    "kendra = boto3.client(\"kendra\", region_name=\"us-west-2\")\n",
    "bedrock_runtime = boto3.client(\"bedrock-runtime\", region_name=\"us-west-2\")\n",
    "\n",
    "# Amazon Bedrock で利用する Claude 3 Haiku のモデル ID\n",
    "model_id = \"anthropic.claude-3-haiku-20240307-v1:0\"\n",
    "\n",
    "accept = \"application/json\"\n",
    "content_type = \"application/json\""
   ]
  },
  {
   "cell_type": "markdown",
   "metadata": {},
   "source": [
    "#### Amazon Kendra のインデックス ID を入力\n",
    "\n",
    "ワークショップの手順書のタイトルをクリックしてイベントのダッシュボードを開き、パラメーターのリスト (Event Outputs) にある `KendraIndexID` の値を以下にコピーしてください。"
   ]
  },
  {
   "cell_type": "code",
   "execution_count": 32,
   "metadata": {},
   "outputs": [],
   "source": [
    "# TODO: 自身の環境に合わせて書き換える\n",
    "kendra_index_id = \"1e74d846-4929-49a4-83bb-00f4c97baf2a\"  # 36 文字"
   ]
  },
  {
   "cell_type": "markdown",
   "metadata": {},
   "source": [
    "### まずは Amazon Bedrock に直接問いかけてみる\n",
    "\n",
    "`query_text` に好きな質問を入れて Claude 3 Haiku に問いかけてみましょう。"
   ]
  },
  {
   "cell_type": "code",
   "execution_count": 6,
   "metadata": {},
   "outputs": [],
   "source": [
    "# ユーザーの質問\n",
    "query_text = \"Amazon Bedrockのモデル評価機能ではどのようなことができますか？\""
   ]
  },
  {
   "cell_type": "code",
   "execution_count": 43,
   "metadata": {},
   "outputs": [
    {
     "data": {
      "text/markdown": [
       "Amazon Bedrockのモデル評価機能には以下のような主な機能があります:\n",
       "\n",
       "1. モデルの性能評価:\n",
       "   - 精度、再現率、F1スコアなどの指標を使ってモデルの性能を評価できます。\n",
       "   - 様々なデータセットを使ってモデルのパフォーマンスを比較できます。\n",
       "\n",
       "2. モデルの解釈性分析:\n",
       "   - モデルの内部動作を可視化して、どのような特徴が重要かを理解できます。\n",
       "   - 特徴の重要度を定量的に分析できます。\n",
       "\n",
       "3. モデルのロバスト性評価:\n",
       "   - 入力データに対するモデルの耐性を評価できます。\n",
       "   - 攻撃的な入力に対するモデルの挙動を分析できます。\n",
       "\n",
       "4. モデルのデプロイ準備:\n",
       "   - モデルの最適化や軽量化を行い、本番環境での利用を支援できます。\n",
       "   - モデルのリソース消費や推論時間などの指標を確認できます。\n",
       "\n",
       "5. モデルのモニタリング:\n",
       "   - 本番環境でのモデルの振る舞いを監視し、異常を検知できます。\n",
       "   - 継続的な学習や再トレーニングのタイミングを判断できます。\n",
       "\n",
       "このように、Amazon Bedrockのモデル評価機能は、機械学習モデルの開発から運用までのライフサイクル全体をサポートしています。"
      ],
      "text/plain": [
       "<IPython.core.display.Markdown object>"
      ]
     },
     "metadata": {},
     "output_type": "display_data"
    }
   ],
   "source": [
    "# Amazon Bedrock に送るリクエストのボディー\n",
    "body = json.dumps({\n",
    "    \"max_tokens\": 1024,  # 最大出力トークン数\n",
    "    \"messages\": [\n",
    "        {\"role\": \"user\", \"content\": query_text},\n",
    "        # {\"role\": \"assistant\", \"content\": \"いい質問ですね。\"},\n",
    "        # のように user -> assistant -> user -> ... の会話形式にすることも可能\n",
    "    ],\n",
    "    # https://docs.aws.amazon.com/bedrock/latest/userguide/model-parameters-anthropic-claude-messages.html\n",
    "    \"anthropic_version\": \"bedrock-2023-05-31\",  # 固定\n",
    "    \"temperature\": 0,  # 出力のランダム度\n",
    "})\n",
    "\n",
    "try:\n",
    "    # Amazon Bedrock の InvokeModel API を実行\n",
    "    response_bedrock = bedrock_runtime.invoke_model(\n",
    "        body=body, modelId=model_id, accept=accept, contentType=content_type,\n",
    "    )\n",
    "    response_body = json.loads(response_bedrock.get(\"body\").read())\n",
    "    display(Markdown(response_body.get(\"content\")[0][\"text\"]))\n",
    "except ClientError as error:\n",
    "    raise error"
   ]
  },
  {
   "cell_type": "markdown",
   "metadata": {},
   "source": [
    "#### InvokeModel API の理解を深める\n",
    "\n",
    "なお、`response_bedrock` の中身は以下のようになっており、`body` キーには `StreamingBody` の形で出力が格納されています。"
   ]
  },
  {
   "cell_type": "code",
   "execution_count": 35,
   "metadata": {},
   "outputs": [
    {
     "data": {
      "text/plain": [
       "{'ResponseMetadata': {'RequestId': '73b09d92-c520-471d-a929-25a68dda4f0e',\n",
       "  'HTTPStatusCode': 200,\n",
       "  'HTTPHeaders': {'date': 'Mon, 27 May 2024 08:18:02 GMT',\n",
       "   'content-type': 'application/json',\n",
       "   'content-length': '1755',\n",
       "   'connection': 'keep-alive',\n",
       "   'x-amzn-requestid': '73b09d92-c520-471d-a929-25a68dda4f0e',\n",
       "   'x-amzn-bedrock-invocation-latency': '5548',\n",
       "   'x-amzn-bedrock-output-token-count': '479',\n",
       "   'x-amzn-bedrock-input-token-count': '31'},\n",
       "  'RetryAttempts': 0},\n",
       " 'contentType': 'application/json',\n",
       " 'body': <botocore.response.StreamingBody at 0x1181f2740>}"
      ]
     },
     "execution_count": 35,
     "metadata": {},
     "output_type": "execute_result"
    }
   ],
   "source": [
    "response_bedrock"
   ]
  },
  {
   "cell_type": "markdown",
   "metadata": {},
   "source": [
    "`response_body` は JSON であり、`content` キーの中に辞書のリスト形式で出力文が格納されます。他にも例えば `usage` キーで入力と出力のトークン数を確認でき、実際にどの程度の料金がかかったかを計算することができます。"
   ]
  },
  {
   "cell_type": "code",
   "execution_count": 36,
   "metadata": {},
   "outputs": [
    {
     "name": "stdout",
     "output_type": "stream",
     "text": [
      "{'content': [{'text': 'Amazon Bedrockのモデル評価機能には以下のような主な機能があります:\\n'\n",
      "                      '\\n'\n",
      "                      '1. モデルの性能評価:\\n'\n",
      "                      '   - '\n",
      "                      '分類、回帰、クラスタリングなどのタスクに対するモデルの精度、再現率、F1スコアなどの指標を評価できます。\\n'\n",
      "                      '   - 複数のモデルを比較して、最適なモデルを選択することができます。\\n'\n",
      "                      '\\n'\n",
      "                      '2. モデルの解釈性分析:\\n'\n",
      "                      '   - モデルの内部構造や重要な特徴を可視化することで、モデルの動作を理解しやすくできます。\\n'\n",
      "                      '   - 特徴の重要度を確認したり、モデルの予測に影響を与える要因を特定できます。\\n'\n",
      "                      '\\n'\n",
      "                      '3. モデルのデータ依存性分析:\\n'\n",
      "                      '   - トレーニングデータの特性が予測結果に与える影響を分析できます。\\n'\n",
      "                      '   - データの偏りや欠落が及ぼすモデルの性能への影響を評価できます。\\n'\n",
      "                      '\\n'\n",
      "                      '4. モデルのロバスト性評価:\\n'\n",
      "                      '   - 入力データに対するモデルの耐性を確認できます。\\n'\n",
      "                      '   - 攻撃的な入力に対してモデルがどのように振る舞うかを分析できます。\\n'\n",
      "                      '\\n'\n",
      "                      '5. モデルのデプロイ準備:\\n'\n",
      "                      '   - モデルの出力形式の確認や、実運用環境への移行の準備ができます。\\n'\n",
      "                      '   - モデルのバージョン管理や、リリース管理の支援が可能です。\\n'\n",
      "                      '\\n'\n",
      "                      'これらの機能を活用することで、モデルの性能向上や信頼性の確保、運用準備などに役立てることができます。',\n",
      "              'type': 'text'}],\n",
      " 'id': 'msg_bdrk_01ETa7HLCMHEKG7oNHPZbx4D',\n",
      " 'model': 'claude-3-haiku-20240307',\n",
      " 'role': 'assistant',\n",
      " 'stop_reason': 'end_turn',\n",
      " 'stop_sequence': None,\n",
      " 'type': 'message',\n",
      " 'usage': {'input_tokens': 31, 'output_tokens': 479}}\n"
     ]
    }
   ],
   "source": [
    "pprint(response_body)"
   ]
  },
  {
   "cell_type": "markdown",
   "metadata": {},
   "source": [
    "### Amazon Kendra で検索する\n",
    "\n",
    "AWS のインテリジェント検索サービスである Amazon Kendra の検索を試してみましょう。\n",
    "\n",
    "Kendra でドキュメントを検索するには [Query API](https://docs.aws.amazon.com/ja_jp/kendra/latest/APIReference/API_Query.html) と [Retrieve API](https://docs.aws.amazon.com/ja_jp/kendra/latest/APIReference/API_Retrieve.html) のふたつの方法があります。今回は、RAG との親和性が高い Retrieve API を用いることで、データソースの中のドキュメントから、ユーザーの質問内容に関連する抜粋部分を抽出し、生成 AI への入力としていきます。\n",
    "\n",
    "なお、Retrieve API では `PageSize` (デフォルト値は10件) を超える抜粋部分が抽出された際、レスポンスがページングされ、追加の `PageSize` 分ごとに結果を再取得していく必要があります。本ワークショップで RAG を実装する際には、最初の10件の抜粋のみを後続の処理に渡していくこととします。"
   ]
  },
  {
   "cell_type": "code",
   "execution_count": 13,
   "metadata": {},
   "outputs": [
    {
     "name": "stdout",
     "output_type": "stream",
     "text": [
      "Query Text: Amazon Bedrockのモデル評価機能ではどのようなことができますか？\n",
      "Number of Retrieved Items: 3\n",
      "------------------------------\n",
      "Item 1\n",
      "DocumentTitle: モデルカスタマイズに関するガイドライン - Amazon Bedrock\n",
      "Content\n",
      "('AWSドキュメントAmazon Bedrockユーザーガイド Amazon Titan Text G1 - Express '\n",
      " '翻訳は機械翻訳により提供されています。 提供された翻訳内容と英語版の間で齟齬、不一致または矛盾がある場合、英語版が優先します。 '\n",
      " 'モデルカスタマイズに関するガイドライン モデルをカスタマイズする理想的なパラメータは、データセットと、モデルが対象とするタスクによって異なります。 '\n",
      " '値をいろいろ試して、どのパラメータがお客様自身のケースで最も適切に機能するかを確認する必要があります。 '\n",
      " '提供された翻訳内容と英語版の間で齟齬、不一致または矛盾がある場合、英語版が優先します。 モデルカスタマイズに関するガイドライン '\n",
      " 'モデルをカスタマイズする理想的なパラメータは、データセットと、モデルが対象とするタスクによって異なります。 '\n",
      " '値をいろいろ試して、どのパラメータがお客様自身のケースで最も適切に機能するかを確認する必要があります。 '\n",
      " '参考までに、モデル評価ジョブを実行してモデルを評価してください。 詳細については、「モデル評価」を参照してください。 このトピックでは、Amazon '\n",
      " 'Titan Text G1 - Express モデルをカスタマイズするための基準となるガイドラインと推奨値を示します。 '\n",
      " '他のモデルについては、プロバイダーのドキュメントを確認してください。 '\n",
      " 'ファインチューニングジョブの送信時に生成される出力ファイルに含まれるトレーニングと検証のメトリクスを使用して、パラメータを調整します。')\n",
      "------------------------------\n",
      "Item 2\n",
      "DocumentTitle: モデル評価ジョブの結果が Amazon S3 にどのように保存されるかを理解する - Amazon Bedrock\n",
      "Content\n",
      "('AWSドキュメントAmazon Bedrockユーザーガイド 出力データ (自動)出力データ (ヒューマンワーカー) '\n",
      " '翻訳は機械翻訳により提供されています。 提供された翻訳内容と英語版の間で齟齬、不一致または矛盾がある場合、英語版が優先します。 モデル評価ジョブの結果が '\n",
      " 'Amazon S3 にどのように保存されるかを理解する 注記 Amazon Bedrock '\n",
      " 'のモデル評価はプレビューリリースであり、変更される可能性があります。 モデル評価ジョブを使用するには、米国東部 (バージニア北部) '\n",
      " 'リージョンまたは米国西部 (オレゴン) リージョンを使用する必要があります。 モデル評価ジョブの結果が Amazon S3 '\n",
      " 'にどのように保存されるかを理解する 注記 Amazon Bedrock のモデル評価はプレビューリリースであり、変更される可能性があります。 '\n",
      " 'モデル評価ジョブを使用するには、米国東部 (バージニア北部) リージョンまたは米国西部 (オレゴン) リージョンを使用する必要があります。 '\n",
      " 'モデル評価ジョブの出力は、モデル評価ジョブの作成時に指定した Amazon S3 バケットに保存されます。 モデル評価ジョブの結果は JSON '\n",
      " 'Lines ファイル (.jsonl) として保存されます。 モデル評価ジョブの結果は、指定した S3 バケットに次のように保存されます。 '\n",
      " 'ヒューマンワーカーによるモデル評価ジョブの場合: '\n",
      " 's3://user-specified-model-evaluation-job-output-bucket/human-loop-name/output.jsonl')\n",
      "------------------------------\n",
      "Item 3\n",
      "DocumentTitle: モデル評価ジョブの結果が Amazon S3 にどのように保存されるかを理解する - Amazon Bedrock\n",
      "Content\n",
      "('AWSドキュメントAmazon Bedrockユーザーガイド 出力データ (自動)出力データ (ヒューマンワーカー) '\n",
      " '翻訳は機械翻訳により提供されています。 提供された翻訳内容と英語版の間で齟齬、不一致または矛盾がある場合、英語版が優先します。 モデル評価ジョブの結果が '\n",
      " 'Amazon S3 にどのように保存されるかを理解する 注記 Amazon Bedrock '\n",
      " 'のモデル評価はプレビューリリースであり、変更される可能性があります。 モデル評価ジョブを使用するには、米国東部 (バージニア北部) '\n",
      " 'リージョンまたは米国西部 (オレゴン) リージョンを使用する必要があります。 モデル評価ジョブの結果が Amazon S3 '\n",
      " 'にどのように保存されるかを理解する 注記 Amazon Bedrock のモデル評価はプレビューリリースであり、変更される可能性があります。 '\n",
      " 'モデル評価ジョブを使用するには、米国東部 (バージニア北部) リージョンまたは米国西部 (オレゴン) リージョンを使用する必要があります。 '\n",
      " 'モデル評価ジョブの出力は、モデル評価ジョブの作成時に指定した Amazon S3 バケットに保存されます。 モデル評価ジョブの結果は JSON '\n",
      " 'Lines ファイル (.jsonl) として保存されます。')\n"
     ]
    }
   ],
   "source": [
    "response_kendra = kendra.retrieve(\n",
    "    QueryText=query_text,  # 検索クエリ\n",
    "    IndexId=kendra_index_id,  # Kendra Index ID\n",
    "    AttributeFilter={\n",
    "        \"EqualsTo\": {\n",
    "            \"Key\": \"_language_code\",\n",
    "            \"Value\": {\n",
    "                \"StringValue\": \"ja\",  # 日本語ドキュメントを検索 (default: en)\n",
    "            }\n",
    "        }\n",
    "    },\n",
    "    #PageNumber=1,\n",
    "    PageSize=3,  # 一度に返すドキュメント抜粋の数 (default: 10)\n",
    ")\n",
    "\n",
    "print(\"Query Text:\", query_text)\n",
    "print(\"Number of Retrieved Items:\", len(response_kendra[\"ResultItems\"]))\n",
    "\n",
    "for ii, item in enumerate(response_kendra[\"ResultItems\"]):\n",
    "    print(\"-\" * 30)\n",
    "    print(\"Item\", ii + 1)\n",
    "    print(\"DocumentTitle:\", item[\"DocumentTitle\"])\n",
    "    print(\"Content\")\n",
    "    pprint(item[\"Content\"])"
   ]
  },
  {
   "cell_type": "markdown",
   "metadata": {},
   "source": [
    "#### Retrieve API の理解を深める\n",
    "\n",
    "Retrieve API の `response_kendra` の中にある `ResultItems` キーに、検索で得られたドキュメントの抜粋の情報が格納されています。"
   ]
  },
  {
   "cell_type": "code",
   "execution_count": 11,
   "metadata": {},
   "outputs": [
    {
     "data": {
      "text/plain": [
       "{'QueryId': '3797b6a2-1bf7-4002-8a3d-1fd2f695500c',\n",
       " 'ResultItems': [],\n",
       " 'ResponseMetadata': {'RequestId': '3ae704f9-7599-457b-a5a6-a73eb2db2ed3',\n",
       "  'HTTPStatusCode': 200,\n",
       "  'HTTPHeaders': {'x-amzn-requestid': '3ae704f9-7599-457b-a5a6-a73eb2db2ed3',\n",
       "   'content-type': 'application/x-amz-json-1.1',\n",
       "   'content-length': '67',\n",
       "   'date': 'Mon, 27 May 2024 07:06:50 GMT'},\n",
       "  'RetryAttempts': 0}}"
      ]
     },
     "execution_count": 11,
     "metadata": {},
     "output_type": "execute_result"
    }
   ],
   "source": [
    "response_kendra"
   ]
  },
  {
   "cell_type": "markdown",
   "metadata": {},
   "source": [
    "`ResultItems` の各項目の中身は [`RetrieveResultItem`](https://docs.aws.amazon.com/kendra/latest/APIReference/API_RetrieveResultItem.html) オブジェクトです。`RetrieveResulltItem` は以下の情報を含みます。\n",
    "\n",
    "- `Content`: 検索でヒットしたドキュメントの抜粋部分のテキスト\n",
    "- `DocumentAttributes`: ドキュメントのソース URI や抜粋のページ番号などの情報\n",
    "- `DocumentId`: ドキュメントの ID\n",
    "- `DocumentTitle`: ドキュメントのタイトル\n",
    "- `DocumentURI`: ドキュメントの URI\n",
    "- `Id`: ドキュメントの抜粋のユニークな ID\n",
    "- `ScoreAttribute`: クエリとの関連度合いのスコア (日本語は未対応で `NOT_AVAILABLE` が返る)"
   ]
  },
  {
   "cell_type": "code",
   "execution_count": 12,
   "metadata": {},
   "outputs": [
    {
     "ename": "IndexError",
     "evalue": "list index out of range",
     "output_type": "error",
     "traceback": [
      "\u001b[0;31m---------------------------------------------------------------------------\u001b[0m",
      "\u001b[0;31mIndexError\u001b[0m                                Traceback (most recent call last)",
      "Cell \u001b[0;32mIn[12], line 1\u001b[0m\n\u001b[0;32m----> 1\u001b[0m pprint(\u001b[43mresponse_kendra\u001b[49m\u001b[43m[\u001b[49m\u001b[38;5;124;43m\"\u001b[39;49m\u001b[38;5;124;43mResultItems\u001b[39;49m\u001b[38;5;124;43m\"\u001b[39;49m\u001b[43m]\u001b[49m\u001b[43m[\u001b[49m\u001b[38;5;241;43m0\u001b[39;49m\u001b[43m]\u001b[49m)\n",
      "\u001b[0;31mIndexError\u001b[0m: list index out of range"
     ]
    }
   ],
   "source": [
    "pprint(response_kendra[\"ResultItems\"][0])"
   ]
  },
  {
   "cell_type": "markdown",
   "metadata": {},
   "source": [
    "以下では、Amazon Kendra の Retrieve API で得られたドキュメントの抜粋を Amazon Bedrock に送るプロンプトに含めることで RAG を実現していきます。"
   ]
  },
  {
   "cell_type": "markdown",
   "metadata": {},
   "source": [
    "### Amazon Bedrock と Kendra を組み合わせて RAG を実行する\n",
    "\n",
    "ここまでの情報だけで RAG を実現することができます。LLM に与えるプロンプトの中に Kendra で取得したドキュメントの抜粋を入れ込み、質問に答えてもらうように指示します。\n",
    "\n",
    "#### RAG 用のプロンプト\n",
    "\n",
    "サンプルのプロンプトテンプレートは以下の通りです。ここでは、`<excerpt>` (抜粋) タグ内にドキュメントの抜粋を記載し、`<query>` タグ内に質問文を記載しています。タグ名は固定ではなく、任意の値を設定できます。\n",
    "\n",
    "XML タグを理解するように学習されているのは Claude の特徴であり、XML タグを利用することで構造化されたプロンプトを簡単に構築することができます。詳しくは [Anthropic のプロンプトエンジニアリングガイド](https://docs.anthropic.com/ja/docs/use-xml-tags)を参照してください。"
   ]
  },
  {
   "cell_type": "code",
   "execution_count": 11,
   "metadata": {},
   "outputs": [
    {
     "name": "stdout",
     "output_type": "stream",
     "text": [
      "\n",
      "あなたは親切なチャットアシスタントです。\n",
      "\n",
      "<excerpts>タグにはユーザーが知りたい情報を検索した結果のドキュメントの抜粋が含まれています。\n",
      "ドキュメントの抜粋は複数あり、それぞれの抜粋が<excerpt>タグで囲まれています。\n",
      "\n",
      "<excerpts>\n",
      "<excerpt>print( f\"Finished generating text with your provisioned custom model {model_id}.\") if __name__ == \"__main__\": main() モデルカスタマイズに関するガイドライン モデルをカスタマイズする理想的なパラメータは、データセットと、モデルが対象とするタスクに よって異なります。 値をいろいろ試して、どのパラメータがお客様自身のケースで最も適切に機能す るかを確認する必要があります。 参考までに、モデル評価ジョブを実行してモデルを評価してくださ い。 詳細については、「モデル評価」を参照してください。 このトピックでは、Amazon Titan Text G1 - Express モデルをカスタマイズするための基準となるガ イドラインと推奨値を示します。 他のモデルについては、プロバイダーのドキュメントを確認してく ださい。 ファインチューニングジョブの送信時に生成される出力ファイルに含まれるトレーニングと検証のメ トリクスを使用して、パラメータを調整します。 出力を書き込んだ Amazon S3 バケットでこれらの ファイルを検索するか、GetCustomModelオペレーションを使用してください。</excerpt>\n",
      "<excerpt>AWSドキュメントAmazon Bedrockユーザーガイド Amazon Titan Text G1 - Express 翻訳は機械翻訳により提供されています。 提供された翻訳内容と英語版の間で齟齬、不一致または矛盾がある場合、英語版が優先します。 モデルカスタマイズに関するガイドライン モデルをカスタマイズする理想的なパラメータは、データセットと、モデルが対象とするタスクによって異なります。 値をいろいろ試して、どのパラメータがお客様自身のケースで最も適切に機能するかを確認する必要があります。 提供された翻訳内容と英語版の間で齟齬、不一致または矛盾がある場合、英語版が優先します。 モデルカスタマイズに関するガイドライン モデルをカスタマイズする理想的なパラメータは、データセットと、モデルが対象とするタスクによって異なります。 値をいろいろ試して、どのパラメータがお客様自身のケースで最も適切に機能するかを確認する必要があります。 参考までに、モデル評価ジョブを実行してモデルを評価してください。 詳細については、「モデル評価」を参照してください。 このトピックでは、Amazon Titan Text G1 - Express モデルをカスタマイズするための基準となるガイドラインと推奨値を示します。 他のモデルについては、プロバイダーのドキュメントを確認してください。 ファインチューニングジョブの送信時に生成される出力ファイルに含まれるトレーニングと検証のメトリクスを使用して、パラメータを調整します。</excerpt>\n",
      "<excerpt>AWSドキュメントAmazon Bedrockユーザーガイド 出力データ (自動)出力データ (ヒューマンワーカー) 翻訳は機械翻訳により提供されています。 提供された翻訳内容と英語版の間で齟齬、不一致または矛盾がある場合、英語版が優先します。 モデル評価ジョブの結果が Amazon S3 にどのように保存されるかを理解する 注記 Amazon Bedrock のモデル評価はプレビューリリースであり、変更される可能性があります。 モデル評価ジョブを使用するには、米国東部 (バージニア北部) リージョンまたは米国西部 (オレゴン) リージョンを使用する必要があります。 モデル評価ジョブの結果が Amazon S3 にどのように保存されるかを理解する 注記 Amazon Bedrock のモデル評価はプレビューリリースであり、変更される可能性があります。 モデル評価ジョブを使用するには、米国東部 (バージニア北部) リージョンまたは米国西部 (オレゴン) リージョンを使用する必要があります。 モデル評価ジョブの出力は、モデル評価ジョブの作成時に指定した Amazon S3 バケットに保存されます。 モデル評価ジョブの結果は JSON Lines ファイル (.jsonl) として保存されます。 モデル評価ジョブの結果は、指定した S3 バケットに次のように保存されます。 ヒューマンワーカーによるモデル評価ジョブの場合: s3://user-specified-model-evaluation-job-output-bucket/human-loop-name/output.jsonl</excerpt>\n",
      "</excerpts>\n",
      "\n",
      "<excerpts>タグ内の情報を参考にして、<query>タグ内のユーザーの質問に答えてください。\n",
      "\n",
      "<query>\n",
      "Amazon Bedrockのモデル評価機能ではどのようなことができますか？\n",
      "</query>\n",
      "\n"
     ]
    }
   ],
   "source": [
    "prompt = \"\"\"\n",
    "あなたは親切なチャットアシスタントです。\n",
    "\n",
    "<excerpts>タグにはユーザーが知りたい情報を検索した結果のドキュメントの抜粋が含まれています。\n",
    "ドキュメントの抜粋は複数あり、それぞれの抜粋が<excerpt>タグで囲まれています。\n",
    "\n",
    "<excerpts>\n",
    "\"\"\"\n",
    "\n",
    "for item in response_kendra[\"ResultItems\"]:\n",
    "    prompt += f\"<excerpt>{item['Content']}</excerpt>\\n\"\n",
    "\n",
    "prompt += f\"\"\"</excerpts>\n",
    "\n",
    "<excerpts>タグ内の情報を参考にして、<query>タグ内のユーザーの質問に答えてください。\n",
    "\n",
    "<query>\n",
    "{query_text}\n",
    "</query>\n",
    "\"\"\"\n",
    "\n",
    "print(prompt)"
   ]
  },
  {
   "cell_type": "markdown",
   "metadata": {},
   "source": [
    "#### RAG の実行\n",
    "\n",
    "上記のプロンプトを利用して Amazon Bedrock の InvokeModel API を実行してみましょう。"
   ]
  },
  {
   "cell_type": "code",
   "execution_count": 44,
   "metadata": {},
   "outputs": [
    {
     "name": "stdout",
     "output_type": "stream",
     "text": [
      "以下の3つの検索クエリを提案します:\n",
      "\n",
      "1. \"Amazon Bedrock model evaluation\" \"機能\" \"capabilities\"\n",
      "2. \"Amazon Bedrock\" \"model assessment\" \"評価\" \"features\"\n",
      "3. \"Amazon Bedrock\" \"model\" \"評価\" \"performance\" \"analysis\"\n",
      "\n",
      "これらのクエリは、Amazon Bedrockのモデル評価機能に関する情報を幅広く検索できるよう設計されています。\n",
      "日本語と英語を組み合わせることで、より包括的な検索結果が得られると考えられます。\n",
      "各クエリは30トークン以内に収まっています。\n"
     ]
    }
   ],
   "source": [
    "def invoke_model(prompt, model_id=\"anthropic.claude-3-haiku-20240307-v1:0\"):\n",
    "    body = json.dumps({\n",
    "        \"max_tokens\": 1024,\n",
    "        \"messages\": [{\"role\": \"user\", \"content\": prompt}],\n",
    "        \"anthropic_version\": \"bedrock-2023-05-31\",\n",
    "        \"temperature\": 0,\n",
    "    })\n",
    "\n",
    "    try:\n",
    "        response_bedrock = bedrock_runtime.invoke_model(\n",
    "            body=body, modelId=model_id, accept=accept, contentType=content_type,\n",
    "        )\n",
    "        response_body = json.loads(response_bedrock.get(\"body\").read())\n",
    "        return response_body.get(\"content\")[0][\"text\"]\n",
    "    except ClientError as error:\n",
    "        raise error\n",
    "\n",
    "print(invoke_model(prompt, model_id))"
   ]
  },
  {
   "cell_type": "markdown",
   "metadata": {},
   "source": [
    "#### プロンプトエンジニアリング実践\n",
    "\n",
    "##### 1. 回答文に XML タグを含めないようにする\n",
    "\n",
    "`<excerpts>` や `<excerpt>` タグはシステム内部で用いるものであり、ユーザーからするとよくわからない謎の文字列です。\n",
    "このままではユーザーを不安にしてしまうので、回答生成に条件を追加し、回答に XML タグを含めないようにしましょう。"
   ]
  },
  {
   "cell_type": "code",
   "execution_count": 13,
   "metadata": {},
   "outputs": [
    {
     "name": "stdout",
     "output_type": "stream",
     "text": [
      "\n",
      "あなたは親切なチャットアシスタントです。\n",
      "\n",
      "<excerpts>タグにはユーザーが知りたい情報を検索した結果のドキュメントの抜粋が含まれています。\n",
      "ドキュメントの抜粋は複数あり、それぞれの抜粋が<excerpt>タグで囲まれています。\n",
      "\n",
      "<excerpts>\n",
      "<excerpt>print( f\"Finished generating text with your provisioned custom model {model_id}.\") if __name__ == \"__main__\": main() モデルカスタマイズに関するガイドライン モデルをカスタマイズする理想的なパラメータは、データセットと、モデルが対象とするタスクに よって異なります。 値をいろいろ試して、どのパラメータがお客様自身のケースで最も適切に機能す るかを確認する必要があります。 参考までに、モデル評価ジョブを実行してモデルを評価してくださ い。 詳細については、「モデル評価」を参照してください。 このトピックでは、Amazon Titan Text G1 - Express モデルをカスタマイズするための基準となるガ イドラインと推奨値を示します。 他のモデルについては、プロバイダーのドキュメントを確認してく ださい。 ファインチューニングジョブの送信時に生成される出力ファイルに含まれるトレーニングと検証のメ トリクスを使用して、パラメータを調整します。 出力を書き込んだ Amazon S3 バケットでこれらの ファイルを検索するか、GetCustomModelオペレーションを使用してください。</excerpt>\n",
      "<excerpt>AWSドキュメントAmazon Bedrockユーザーガイド Amazon Titan Text G1 - Express 翻訳は機械翻訳により提供されています。 提供された翻訳内容と英語版の間で齟齬、不一致または矛盾がある場合、英語版が優先します。 モデルカスタマイズに関するガイドライン モデルをカスタマイズする理想的なパラメータは、データセットと、モデルが対象とするタスクによって異なります。 値をいろいろ試して、どのパラメータがお客様自身のケースで最も適切に機能するかを確認する必要があります。 提供された翻訳内容と英語版の間で齟齬、不一致または矛盾がある場合、英語版が優先します。 モデルカスタマイズに関するガイドライン モデルをカスタマイズする理想的なパラメータは、データセットと、モデルが対象とするタスクによって異なります。 値をいろいろ試して、どのパラメータがお客様自身のケースで最も適切に機能するかを確認する必要があります。 参考までに、モデル評価ジョブを実行してモデルを評価してください。 詳細については、「モデル評価」を参照してください。 このトピックでは、Amazon Titan Text G1 - Express モデルをカスタマイズするための基準となるガイドラインと推奨値を示します。 他のモデルについては、プロバイダーのドキュメントを確認してください。 ファインチューニングジョブの送信時に生成される出力ファイルに含まれるトレーニングと検証のメトリクスを使用して、パラメータを調整します。</excerpt>\n",
      "<excerpt>AWSドキュメントAmazon Bedrockユーザーガイド 出力データ (自動)出力データ (ヒューマンワーカー) 翻訳は機械翻訳により提供されています。 提供された翻訳内容と英語版の間で齟齬、不一致または矛盾がある場合、英語版が優先します。 モデル評価ジョブの結果が Amazon S3 にどのように保存されるかを理解する 注記 Amazon Bedrock のモデル評価はプレビューリリースであり、変更される可能性があります。 モデル評価ジョブを使用するには、米国東部 (バージニア北部) リージョンまたは米国西部 (オレゴン) リージョンを使用する必要があります。 モデル評価ジョブの結果が Amazon S3 にどのように保存されるかを理解する 注記 Amazon Bedrock のモデル評価はプレビューリリースであり、変更される可能性があります。 モデル評価ジョブを使用するには、米国東部 (バージニア北部) リージョンまたは米国西部 (オレゴン) リージョンを使用する必要があります。 モデル評価ジョブの出力は、モデル評価ジョブの作成時に指定した Amazon S3 バケットに保存されます。 モデル評価ジョブの結果は JSON Lines ファイル (.jsonl) として保存されます。 モデル評価ジョブの結果は、指定した S3 バケットに次のように保存されます。 ヒューマンワーカーによるモデル評価ジョブの場合: s3://user-specified-model-evaluation-job-output-bucket/human-loop-name/output.jsonl</excerpt>\n",
      "</excerpts>\n",
      "\n",
      "<excerpts>タグ内の情報を参考にして、<query>タグ内のユーザーの質問に答えてください。\n",
      "\n",
      "<query>\n",
      "Amazon Bedrockのモデル評価機能ではどのようなことができますか？\n",
      "</query>\n",
      "\n",
      "ただし、<rule>タグ内の回答ルールを遵守してください。\n",
      "\n",
      "<rule>\n",
      "- 回答には<excerpts>, <excerpt>, <query>タグを含めないこと。\n",
      "</rule>\n",
      "\n",
      "-----\n",
      "Amazon Bedrockのモデル評価機能では以下のことができます:\n",
      "\n",
      "- モデルのパフォーマンスを評価することができます。モデル評価ジョブを実行して、トレーニングと検証のメトリクスを確認し、モデルのパラメータを調整することができます。\n",
      "- モデル評価ジョブの結果は、指定したAmazon S3バケットに保存されます。結果はJSONLinesファイル(.jsonl)として保存されます。\n",
      "- モデル評価ジョブには、自動評価と人間による評価の2種類があります。人間による評価の場合、結果はS3バケットの指定したパスに保存されます。\n",
      "- モデル評価機能はプレビューリリースであり、変更される可能性があります。また、米国東部(バージニア北部)リージョンまたは米国西部(オレゴン)リージョンでのみ利用可能です。\n"
     ]
    }
   ],
   "source": [
    "prompt = \"\"\"\n",
    "あなたは親切なチャットアシスタントです。\n",
    "\n",
    "<excerpts>タグにはユーザーが知りたい情報を検索した結果のドキュメントの抜粋が含まれています。\n",
    "ドキュメントの抜粋は複数あり、それぞれの抜粋が<excerpt>タグで囲まれています。\n",
    "\n",
    "<excerpts>\n",
    "\"\"\"\n",
    "\n",
    "for item in response_kendra[\"ResultItems\"]:\n",
    "    prompt += f\"<excerpt>{item['Content']}</excerpt>\\n\"\n",
    "\n",
    "prompt += f\"\"\"</excerpts>\n",
    "\n",
    "<excerpts>タグ内の情報を参考にして、<query>タグ内のユーザーの質問に答えてください。\n",
    "\n",
    "<query>\n",
    "{query_text}\n",
    "</query>\n",
    "\"\"\"\n",
    "\n",
    "rule = \"\"\"\n",
    "ただし、<rule>タグ内の回答ルールを遵守してください。\n",
    "\n",
    "<rule>\n",
    "- 回答には<excerpts>, <excerpt>, <query>タグを含めないこと。\n",
    "</rule>\n",
    "\"\"\"\n",
    "\n",
    "print(prompt + rule)\n",
    "print(\"-----\")\n",
    "print(invoke_model(prompt + rule, model_id))"
   ]
  },
  {
   "cell_type": "markdown",
   "metadata": {},
   "source": [
    "##### 2. 検索インデックスに含まれていない内容は答えないようにする\n",
    "\n",
    "ここまでのプロンプトでは、Kendra に含まれていない知識に関する質問をされても LLM (Claude 3 Haiku) の持っている知識で答えようとします。\n",
    "\n",
    "<!--例えば、Amazon SageMaker Studio の上でネイティブに利用できる開発環境は、JupyterLab、RStudio、SageMaker Canvas、Code Editor (OSS 版 Visual Studio Code)、SageMaker Studio Classic なのですが、RAG システムに問い合わせると間違った答え (ハルシネーション) が返ってきます。-->"
   ]
  },
  {
   "cell_type": "code",
   "execution_count": 17,
   "metadata": {},
   "outputs": [
    {
     "name": "stdout",
     "output_type": "stream",
     "text": [
      "\n",
      "あなたは親切なチャットアシスタントです。\n",
      "\n",
      "<excerpts>タグにはユーザーが知りたい情報を検索した結果のドキュメントの抜粋が含まれています。\n",
      "ドキュメントの抜粋は複数あり、それぞれの抜粋が<excerpt>タグで囲まれています。\n",
      "\n",
      "<excerpts>\n",
      "<excerpt>各エンティティには、エンティティタイプが正しく検出されたという Amazon Comprehend の信頼レベルを示すスコアも含まれます。 スコアの低いエンティティを除外して、誤検出を使ってしまう行うリスクを減らすことができます。 以下の表はエンティティのタイプをまとめています。 型\t説明 COMMERCIAL_ITEM ブランド製品 DATE 日付 (11/25/2017 など)、曜日 (Tuesday)、月 (May)、または時刻 (8:30 a.m.) EVENT フェスティバル、コンサート、選挙などのイベント LOCATION 国、都市、湖、建物などの特定の場所 ORGANIZATION 政府、企業、宗教、スポーツチームなどの大規模な組織 OTHER 他のどのエンティティカテゴリにも当てはまらないエンティティ PERSON 個人、グループ、ニックネーム、架空の人物 QUANTITY 通貨、パーセント、数値、バイト数などの数量。 TITLE 映画、本、歌など、あらゆる作品や創作作品に付けられた正式名称。 エンティティの検出オペレーションは、Amazon Comprehend がサポートする主要言語のいずれかを使用して実行できます。</excerpt>\n",
      "<excerpt>• コンソールを使用したリアルタイム分析 • ターゲット感情の出力例 ターゲット感情 26 https://aws.amazon.com/blogs/machine-learning/extract-granular-sentiment-in-text-with-amazon-comprehend-targeted-sentiment/ https://aws.amazon.com/blogs/machine-learning/extract-granular-sentiment-in-text-with-amazon-comprehend-targeted-sentiment/ Amazon Comprehend 開発者ガイド エンティティタイプ ターゲット感情は、次のエンティティタイプを識別します。 エンティティが他のどのカテゴリにも属 さない場合は、エンティティタイプ「OTHER」(その他) を割り当てます。 出力ファイル内の各エン ティティには、\"Type\": \"PERSON\" などのエンティティタイプが含まれます。 エンティティタイプの定義 エンティティタイプ 定義 PERSON 例としては、個人、グループ、ニックネーム、架空の人物、動物の名前な どがあります。 LOCATION 国、都市、州、住所、地形、水域、自然史跡、天文学的位置などの地理的 位置。 ORGANIZATION 例としては、政府、企業、スポーツチーム、宗教などがあります。 FACILITY 建物、空港、高速道路、橋、その他の恒久的な人工構造物および不動産の 改良。 BRAND 特定の商品または製品ラインの組織、グループ、または生産者。</excerpt>\n",
      "<excerpt>SWIFT コードは 8 文字または 11 文字で構成されています。 11 桁のコードは特定の支店を指し、8 桁のコード (または「XXX」で終わる 11 桁のコード) は本社または本店を表します。 URL www.example.com などのウェブアドレス。 USERNAME ログイン名、スクリーンネーム、ニックネーム、ハンドル名など、アカウントを識別するユーザー名。 VEHICLE_IDENTIFICATION_NUMBER 車両識別番号 (VIN) は、車両を一意に識別します。 VIN の内容と形式は ISO 3779 仕様で定義されています。 VIN のコードと形式は国ごとに異なります。 国固有の PII エンティティタイプ パスポート番号や政府発行のその他のID番号など、一部のPIIエンティティタイプは国固有のものです。 Amazon Comprehend は、以下の国固有の PII エンティティタイプを検出します。 CA_HEALTH_NUMBER カナダの医療保健番号で、個人が医療給付を受けるために必要な 10 桁の固有識別番号です。 CA_SOCIAL_INSURANCE_NUMBER カナダの社会保険番号 (SIN) は 9 桁の固有の識別子で、個人が政府のプログラムや特典を利用する際に必要です。</excerpt>\n",
      "</excerpts>\n",
      "\n",
      "<excerpts>タグ内の情報を参考にして、<query>タグ内のユーザーの質問に答えてください。\n",
      "\n",
      "<query>\n",
      "アマゾン川はどの国を通っていますか？\n",
      "</query>\n",
      "\n",
      "ただし、<rule>タグ内の回答ルールを遵守してください。\n",
      "\n",
      "<rule>\n",
      "- 回答には<excerpts>, <excerpt>, <query>タグを含めないこと。\n",
      "</rule>\n",
      "\n",
      "-----\n",
      "アマゾン川は南アメリカ大陸を流れる大河で、主に次の国を通っています:\n",
      "\n",
      "ブラジル、ペルー、コロンビア、ベネズエラ、ボリビア、ガイアナ。アマゾン川の源流はペルーにあり、ブラジルのアマゾナス州で大西洋に注ぎ込みます。アマゾン川は世界最長の河川の1つで、流域面積も世界最大です。\n"
     ]
    }
   ],
   "source": [
    "query_text = \"アマゾン川はどの国を通っていますか？\"\n",
    "\n",
    "# Kendra での検索 - 無関係なドキュメントが検索される\n",
    "response_kendra = kendra.retrieve(\n",
    "    QueryText=query_text,  # 検索クエリ\n",
    "    IndexId=kendra_index_id,  # Kendra Index ID\n",
    "    AttributeFilter={\n",
    "        \"EqualsTo\": {\n",
    "            \"Key\": \"_language_code\",\n",
    "            \"Value\": {\n",
    "                \"StringValue\": \"ja\",  # 日本語ドキュメントを検索 (default: en)\n",
    "            }\n",
    "        }\n",
    "    },\n",
    "    #PageNumber=1,\n",
    "    PageSize=3,  # 一度に返すドキュメント抜粋の数 (default: 10)\n",
    ")\n",
    "\n",
    "# LLM へのプロンプト\n",
    "prompt = \"\"\"\n",
    "あなたは親切なチャットアシスタントです。\n",
    "\n",
    "<excerpts>タグにはユーザーが知りたい情報を検索した結果のドキュメントの抜粋が含まれています。\n",
    "ドキュメントの抜粋は複数あり、それぞれの抜粋が<excerpt>タグで囲まれています。\n",
    "\n",
    "<excerpts>\n",
    "\"\"\"\n",
    "\n",
    "for item in response_kendra[\"ResultItems\"]:\n",
    "    prompt += f\"<excerpt>{item['Content']}</excerpt>\\n\"  # 質問と無関係なドキュメントを追加\n",
    "\n",
    "prompt += f\"\"\"</excerpts>\n",
    "\n",
    "<excerpts>タグ内の情報を参考にして、<query>タグ内のユーザーの質問に答えてください。\n",
    "\n",
    "<query>\n",
    "{query_text}\n",
    "</query>\n",
    "\"\"\"\n",
    "\n",
    "rule = \"\"\"\n",
    "ただし、<rule>タグ内の回答ルールを遵守してください。\n",
    "\n",
    "<rule>\n",
    "- 回答には<excerpts>, <excerpt>, <query>タグを含めないこと。\n",
    "</rule>\n",
    "\"\"\"\n",
    "\n",
    "print(prompt + rule)\n",
    "print(\"-----\")\n",
    "\n",
    "# RAG 実行\n",
    "print(invoke_model(prompt + rule, model_id))"
   ]
  },
  {
   "cell_type": "markdown",
   "metadata": {},
   "source": [
    "今回は、ナレッジベース (Kendra) から関連するドキュメントが検索できなかった場合には無理に回答しないようにプロンプトを工夫してみましょう。"
   ]
  },
  {
   "cell_type": "code",
   "execution_count": 18,
   "metadata": {},
   "outputs": [
    {
     "name": "stdout",
     "output_type": "stream",
     "text": [
      "\n",
      "あなたは親切なチャットアシスタントです。\n",
      "\n",
      "<excerpts>タグにはユーザーが知りたい情報を検索した結果のドキュメントの抜粋が含まれています。\n",
      "ドキュメントの抜粋は複数あり、それぞれの抜粋が<excerpt>タグで囲まれています。\n",
      "\n",
      "<excerpts>\n",
      "<excerpt>各エンティティには、エンティティタイプが正しく検出されたという Amazon Comprehend の信頼レベルを示すスコアも含まれます。 スコアの低いエンティティを除外して、誤検出を使ってしまう行うリスクを減らすことができます。 以下の表はエンティティのタイプをまとめています。 型\t説明 COMMERCIAL_ITEM ブランド製品 DATE 日付 (11/25/2017 など)、曜日 (Tuesday)、月 (May)、または時刻 (8:30 a.m.) EVENT フェスティバル、コンサート、選挙などのイベント LOCATION 国、都市、湖、建物などの特定の場所 ORGANIZATION 政府、企業、宗教、スポーツチームなどの大規模な組織 OTHER 他のどのエンティティカテゴリにも当てはまらないエンティティ PERSON 個人、グループ、ニックネーム、架空の人物 QUANTITY 通貨、パーセント、数値、バイト数などの数量。 TITLE 映画、本、歌など、あらゆる作品や創作作品に付けられた正式名称。 エンティティの検出オペレーションは、Amazon Comprehend がサポートする主要言語のいずれかを使用して実行できます。</excerpt>\n",
      "<excerpt>• コンソールを使用したリアルタイム分析 • ターゲット感情の出力例 ターゲット感情 26 https://aws.amazon.com/blogs/machine-learning/extract-granular-sentiment-in-text-with-amazon-comprehend-targeted-sentiment/ https://aws.amazon.com/blogs/machine-learning/extract-granular-sentiment-in-text-with-amazon-comprehend-targeted-sentiment/ Amazon Comprehend 開発者ガイド エンティティタイプ ターゲット感情は、次のエンティティタイプを識別します。 エンティティが他のどのカテゴリにも属 さない場合は、エンティティタイプ「OTHER」(その他) を割り当てます。 出力ファイル内の各エン ティティには、\"Type\": \"PERSON\" などのエンティティタイプが含まれます。 エンティティタイプの定義 エンティティタイプ 定義 PERSON 例としては、個人、グループ、ニックネーム、架空の人物、動物の名前な どがあります。 LOCATION 国、都市、州、住所、地形、水域、自然史跡、天文学的位置などの地理的 位置。 ORGANIZATION 例としては、政府、企業、スポーツチーム、宗教などがあります。 FACILITY 建物、空港、高速道路、橋、その他の恒久的な人工構造物および不動産の 改良。 BRAND 特定の商品または製品ラインの組織、グループ、または生産者。</excerpt>\n",
      "<excerpt>SWIFT コードは 8 文字または 11 文字で構成されています。 11 桁のコードは特定の支店を指し、8 桁のコード (または「XXX」で終わる 11 桁のコード) は本社または本店を表します。 URL www.example.com などのウェブアドレス。 USERNAME ログイン名、スクリーンネーム、ニックネーム、ハンドル名など、アカウントを識別するユーザー名。 VEHICLE_IDENTIFICATION_NUMBER 車両識別番号 (VIN) は、車両を一意に識別します。 VIN の内容と形式は ISO 3779 仕様で定義されています。 VIN のコードと形式は国ごとに異なります。 国固有の PII エンティティタイプ パスポート番号や政府発行のその他のID番号など、一部のPIIエンティティタイプは国固有のものです。 Amazon Comprehend は、以下の国固有の PII エンティティタイプを検出します。 CA_HEALTH_NUMBER カナダの医療保健番号で、個人が医療給付を受けるために必要な 10 桁の固有識別番号です。 CA_SOCIAL_INSURANCE_NUMBER カナダの社会保険番号 (SIN) は 9 桁の固有の識別子で、個人が政府のプログラムや特典を利用する際に必要です。</excerpt>\n",
      "</excerpts>\n",
      "\n",
      "<excerpts>タグ内の情報を参考にして、<query>タグ内のユーザーの質問に答えてください。\n",
      "\n",
      "<query>\n",
      "アマゾン川はどの国を通っていますか？\n",
      "</query>\n",
      "\n",
      "ただし、<rule>タグ内の回答ルールを遵守してください。\n",
      "\n",
      "<rule>\n",
      "- 回答には<excerpts>, <excerpt>, <query>タグを含めないこと。\n",
      "- 回答は<answer>タグで囲むこと。\n",
      "- 回答する前に、質問へ回答するために必要な情報が与えられているか考え、<thinking>タグに判断の理由を書いてください。\n",
      "</rule>\n",
      "\n",
      "-----\n",
      "<thinking>\n",
      "ドキュメントの抜粋には、アマゾン川に関する情報は含まれていません。抜粋には、Amazon Comprehendのエンティティ抽出機能に関する説明が記載されています。アマゾン川がどの国を通っているかについては、この情報からは判断できません。\n",
      "</thinking>\n",
      "\n",
      "<answer>\n",
      "申し訳ありませんが、提供された情報からはアマゾン川がどの国を通っているかを答えることはできません。アマゾン川に関する情報が含まれていないため、この質問に回答するのは難しいです。\n",
      "</answer>\n",
      "-----\n",
      "申し訳ありませんが、提供された情報からはアマゾン川がどの国を通っているかを答えることはできません。アマゾン川に関する情報が含まれていないため、この質問に回答するのは難しいです。\n"
     ]
    }
   ],
   "source": [
    "rule = \"\"\"\n",
    "ただし、<rule>タグ内の回答ルールを遵守してください。\n",
    "\n",
    "<rule>\n",
    "- 回答には<excerpts>, <excerpt>, <query>タグを含めないこと。\n",
    "- 回答は<answer>タグで囲むこと。\n",
    "- 回答する前に、質問へ回答するために必要な情報が与えられているか考え、<thinking>タグに判断の理由を書いてください。\n",
    "</rule>\n",
    "\"\"\"\n",
    "\n",
    "print(prompt + rule)\n",
    "print(\"-----\")\n",
    "\n",
    "# RAG 実行\n",
    "output = invoke_model(prompt + rule, model_id)\n",
    "print(output)\n",
    "print(\"-----\")\n",
    "\n",
    "match = re.search(r\"<answer>(.*?)</answer>\", output, re.DOTALL)\n",
    "if match:\n",
    "    answer = match.group(1).strip()\n",
    "    print(answer)\n"
   ]
  },
  {
   "cell_type": "markdown",
   "metadata": {},
   "source": [
    "この、最終的な答えを提供する前に Claude に考える時間を与える手法は「思考の連鎖 (Chain of Thoughts; CoT)」プロンプトと呼ばれます。\n",
    "Claude の段階的な推論と最終的な応答を区別しやすくするために、`<thinking>` や `<answer>` タグを使うことが推奨されています。\n",
    "詳しくは [Anthropic のプロンプトエンジニアリングガイド](https://docs.anthropic.com/ja/docs/let-claude-think#claude-2)を参照してください。"
   ]
  },
  {
   "cell_type": "markdown",
   "metadata": {},
   "source": [
    "##### 3. 回答の根拠となる引用を付ける\n",
    "\n",
    "本セクションの締めくくりとして、回答文だけでなく、回答の根拠となる文書を引用するようにしてみましょう。\n",
    "\n",
    "まず、プロンプトに Kendra で検索したドキュメントの抜粋だけでなく、ドキュメント ID やタイトルも含めるようにします。"
   ]
  },
  {
   "cell_type": "code",
   "execution_count": 22,
   "metadata": {},
   "outputs": [
    {
     "name": "stdout",
     "output_type": "stream",
     "text": [
      "\n",
      "あなたは親切なチャットアシスタントです。\n",
      "\n",
      "<excerpts>タグにはユーザーが知りたい情報を検索した結果のドキュメントの抜粋が含まれています。\n",
      "ドキュメントの抜粋は複数あり、それぞれの抜粋が<excerpt>タグで囲まれています。\n",
      "\n",
      "<excerpts>\n",
      "<excerpt><document_id>https://docs.aws.amazon.com/ja_jp/bedrock/latest/userguide/agents-manage.html</document_id><title>Amazon Bedrock エージェントを管理する - Amazon Bedrock</title><content>AWS ドキュメントを使用するには、JavaScript を有効にする必要があります。 手順については、使用するブラウザのヘルプページを参照してください。 ドキュメントの表記規則 イベントのトレース アクショングループの管理 このページは役に立ちましたか? - はい ページが役に立ったことをお知らせいただき、ありがとうございます。 お時間がある場合は、何が良かったかお知らせください。 今後の参考にさせていただきます。 このページは役に立ちましたか? - はい ページが役に立ったことをお知らせいただき、ありがとうございます。 お時間がある場合は、何が良かったかお知らせください。 今後の参考にさせていただきます。 このページは役に立ちましたか? - いいえ このページは修正が必要なことをお知らせいただき、ありがとうございます。 ご期待に沿うことができず申し訳ありません。 お時間がある場合は、ドキュメントを改善する方法についてお知らせください。</content></excerpt>\n",
      "<excerpt><document_id>https://docs.aws.amazon.com/ja_jp/bedrock/latest/userguide/quotas.html</document_id><title>Amazon Bedrock のクォータ - Amazon Bedrock</title><content>ブラウザで JavaScript が無効になっているか、使用できません。 AWS ドキュメントを使用するには、JavaScript を有効にする必要があります。 手順については、使用するブラウザのヘルプページを参照してください。 ドキュメントの表記規則 不正検出 API リファレンス このページは役に立ちましたか? - はい ページが役に立ったことをお知らせいただき、ありがとうございます。 お時間がある場合は、何が良かったかお知らせください。 API リファレンス このページは役に立ちましたか? - はい ページが役に立ったことをお知らせいただき、ありがとうございます。 お時間がある場合は、何が良かったかお知らせください。 今後の参考にさせていただきます。 このページは役に立ちましたか? - いいえ このページは修正が必要なことをお知らせいただき、ありがとうございます。 ご期待に沿うことができず申し訳ありません。 お時間がある場合は、ドキュメントを改善する方法についてお知らせください。</content></excerpt>\n",
      "<excerpt><document_id>https://docs.aws.amazon.com/ja_jp/bedrock/latest/userguide/security.html</document_id><title>Amazon Bedrock のセキュリティ - Amazon Bedrock</title><content>ブラウザで JavaScript が無効になっているか、使用できません。 AWS ドキュメントを使用するには、JavaScript を有効にする必要があります。 手順については、使用するブラウザのヘルプページを参照してください。 ドキュメントの表記規則 Amazon Titan Image Generator G1 データ保護 このページは役に立ちましたか? - はい ページが役に立ったことをお知らせいただき、ありがとうございます。 お時間がある場合は、何が良かったかお知らせください。 データ保護 このページは役に立ちましたか? - はい ページが役に立ったことをお知らせいただき、ありがとうございます。 お時間がある場合は、何が良かったかお知らせください。 今後の参考にさせていただきます。 このページは役に立ちましたか? - いいえ このページは修正が必要なことをお知らせいただき、ありがとうございます。 ご期待に沿うことができず申し訳ありません。 お時間がある場合は、ドキュメントを改善する方法についてお知らせください。</content></excerpt>\n",
      "<excerpt><document_id>https://docs.aws.amazon.com/ja_jp/bedrock/latest/userguide/advanced-prompts.html</document_id><title>Amazon Bedrock の高度なプロンプト - Amazon Bedrock</title><content>ブラウザで JavaScript が無効になっているか、使用できません。 AWS ドキュメントを使用するには、JavaScript を有効にする必要があります。 手順については、使用するブラウザのヘルプページを参照してください。 ドキュメントの表記規則 エージェントをカスタマイズする 用語 このページは役に立ちましたか? - はい ページが役に立ったことをお知らせいただき、ありがとうございます。 お時間がある場合は、何が良かったかお知らせください。 用語 このページは役に立ちましたか? - はい ページが役に立ったことをお知らせいただき、ありがとうございます。 お時間がある場合は、何が良かったかお知らせください。 今後の参考にさせていただきます。 このページは役に立ちましたか? - いいえ このページは修正が必要なことをお知らせいただき、ありがとうございます。 ご期待に沿うことができず申し訳ありません。 お時間がある場合は、ドキュメントを改善する方法についてお知らせください。</content></excerpt>\n",
      "<excerpt><document_id>https://docs.aws.amazon.com/ja_jp/bedrock/latest/userguide/agents-version-manage.html</document_id><title>Amazon Bedrock でエージェントのバージョンを管理する - Amazon Bedrock</title><content>AWS ドキュメントを使用するには、JavaScript を有効にする必要があります。 手順については、使用するブラウザのヘルプページを参照してください。 ドキュメントの表記規則 エージェントのデプロイ Manage aliases (エイリアスを管理する) このページは役に立ちましたか? - はい ページが役に立ったことをお知らせいただき、ありがとうございます。 お時間がある場合は、何が良かったかお知らせください。 今後の参考にさせていただきます。 このページは役に立ちましたか? - はい ページが役に立ったことをお知らせいただき、ありがとうございます。 お時間がある場合は、何が良かったかお知らせください。 今後の参考にさせていただきます。 このページは役に立ちましたか? - いいえ このページは修正が必要なことをお知らせいただき、ありがとうございます。 ご期待に沿うことができず申し訳ありません。 お時間がある場合は、ドキュメントを改善する方法についてお知らせください。</content></excerpt>\n",
      "<excerpt><document_id>https://docs.aws.amazon.com/ja_jp/bedrock/latest/userguide/infrastructure-security.html</document_id><title>Amazon Bedrock でのインフラストラクチャセキュリティ - Amazon Bedrock</title><content>AWS ドキュメントを使用するには、JavaScript を有効にする必要があります。 手順については、使用するブラウザのヘルプページを参照してください。 ドキュメントの表記規則 耐障害性 サービス間の混乱した代理の防止 このページは役に立ちましたか? - はい ページが役に立ったことをお知らせいただき、ありがとうございます。 お時間がある場合は、何が良かったかお知らせください。 今後の参考にさせていただきます。 このページは役に立ちましたか? - はい ページが役に立ったことをお知らせいただき、ありがとうございます。 お時間がある場合は、何が良かったかお知らせください。 今後の参考にさせていただきます。 このページは役に立ちましたか? - いいえ このページは修正が必要なことをお知らせいただき、ありがとうございます。 ご期待に沿うことができず申し訳ありません。 お時間がある場合は、ドキュメントを改善する方法についてお知らせください。</content></excerpt>\n",
      "<excerpt><document_id>https://docs.aws.amazon.com/ja_jp/bedrock/latest/userguide/what-is-bedrock.html</document_id><title>Amazon Bedrock とは - Amazon Bedrock</title><content>ブラウザで JavaScript が無効になっているか、使用できません。 AWS ドキュメントを使用するには、JavaScript を有効にする必要があります。 手順については、使用するブラウザのヘルプページを参照してください。 ドキュメントの表記規則 サポートされている AWS リージョン このページは役に立ちましたか? - はい ページが役に立ったことをお知らせいただき、ありがとうございます。 お時間がある場合は、何が良かったかお知らせください。 サポートされている AWS リージョン このページは役に立ちましたか? - はい ページが役に立ったことをお知らせいただき、ありがとうございます。 お時間がある場合は、何が良かったかお知らせください。 今後の参考にさせていただきます。 このページは役に立ちましたか? - いいえ このページは修正が必要なことをお知らせいただき、ありがとうございます。 ご期待に沿うことができず申し訳ありません。 お時間がある場合は、ドキュメントを改善する方法についてお知らせください。</content></excerpt>\n",
      "<excerpt><document_id>https://docs.aws.amazon.com/ja_jp/bedrock/latest/userguide/security-iam.html</document_id><title>Amazon Bedrock のためのアイデンティティとアクセス管理 - Amazon Bedrock</title><content>ブラウザで JavaScript が無効になっているか、使用できません。 AWS ドキュメントを使用するには、JavaScript を有効にする必要があります。 手順については、使用するブラウザのヘルプページを参照してください。 ドキュメントの表記規則 Amazon VPC と AWS PrivateLink Amazon Bedrock で IAM が機能する仕組み このページは役に立ちましたか? - はい ページが役に立ったことをお知らせいただき、ありがとうございます。 お時間がある場合は、何が良かったかお知らせください。 Amazon Bedrock で IAM が機能する仕組み このページは役に立ちましたか? - はい ページが役に立ったことをお知らせいただき、ありがとうございます。 お時間がある場合は、何が良かったかお知らせください。 今後の参考にさせていただきます。 このページは役に立ちましたか? - いいえ このページは修正が必要なことをお知らせいただき、ありがとうございます。 ご期待に沿うことができず申し訳ありません。 お時間がある場合は、ドキュメントを改善する方法についてお知らせください。</content></excerpt>\n",
      "<excerpt><document_id>https://docs.aws.amazon.com/ja_jp/bedrock/latest/userguide/security_iam_id-based-policy-examples.html</document_id><title>Amazon Bedrock のアイデンティティベースのポリシー例 - Amazon Bedrock</title><content>ブラウザで JavaScript が無効になっているか、使用できません。 AWS ドキュメントを使用するには、JavaScript を有効にする必要があります。 手順については、使用するブラウザのヘルプページを参照してください。 ドキュメントの表記規則 Amazon Bedrock で IAM が機能する仕組み Amazon Bedrockのエージェントの例 このページは役に立ちましたか? - はい ページが役に立ったことをお知らせいただき、ありがとうございます。 お時間がある場合は、何が良かったかお知らせください。 Amazon Bedrockのエージェントの例 このページは役に立ちましたか? - はい ページが役に立ったことをお知らせいただき、ありがとうございます。 お時間がある場合は、何が良かったかお知らせください。 今後の参考にさせていただきます。 このページは役に立ちましたか? - いいえ このページは修正が必要なことをお知らせいただき、ありがとうございます。 ご期待に沿うことができず申し訳ありません。 お時間がある場合は、ドキュメントを改善する方法についてお知らせください。</content></excerpt>\n",
      "<excerpt><document_id>https://docs.aws.amazon.com/ja_jp/bedrock/latest/userguide/trace-events.html</document_id><title>Amazon Bedrock でのトレースイベント - Amazon Bedrock</title><content>ブラウザで JavaScript が無効になっているか、使用できません。 AWS ドキュメントを使用するには、JavaScript を有効にする必要があります。 手順については、使用するブラウザのヘルプページを参照してください。 ドキュメントの表記規則 エージェントをテストする エージェントを管理する このページは役に立ちましたか? - はい ページが役に立ったことをお知らせいただき、ありがとうございます。 お時間がある場合は、何が良かったかお知らせください。 エージェントを管理する このページは役に立ちましたか? - はい ページが役に立ったことをお知らせいただき、ありがとうございます。 お時間がある場合は、何が良かったかお知らせください。 今後の参考にさせていただきます。 このページは役に立ちましたか? - いいえ このページは修正が必要なことをお知らせいただき、ありがとうございます。 ご期待に沿うことができず申し訳ありません。 お時間がある場合は、ドキュメントを改善する方法についてお知らせください。</content></excerpt>\n",
      "</excerpts>\n",
      "\n",
      "<excerpts>タグ内の情報を参考にして、<query>タグ内のユーザーの質問に答えてください。\n",
      "\n",
      "<query>\n",
      "Amazon Bedrockって何ですか？\n",
      "</query>\n",
      "\n"
     ]
    }
   ],
   "source": [
    "query_text = \"Amazon Bedrockって何ですか？\"\n",
    "\n",
    "response_kendra = kendra.retrieve(\n",
    "    QueryText=query_text,  # 検索クエリ\n",
    "    IndexId=kendra_index_id,  # Kendra Index ID\n",
    "    AttributeFilter={\n",
    "        \"EqualsTo\": {\n",
    "            \"Key\": \"_language_code\",\n",
    "            \"Value\": {\n",
    "                \"StringValue\": \"ja\",  # 日本語ドキュメントを検索 (default: en)\n",
    "            }\n",
    "        }\n",
    "    },\n",
    "    #PageNumber=1,\n",
    "    PageSize=10,  # 一度に返すドキュメント抜粋の数 (default: 10)\n",
    ")\n",
    "\n",
    "prompt = \"\"\"\n",
    "あなたは親切なチャットアシスタントです。\n",
    "\n",
    "<excerpts>タグにはユーザーが知りたい情報を検索した結果のドキュメントの抜粋が含まれています。\n",
    "ドキュメントの抜粋は複数あり、それぞれの抜粋が<excerpt>タグで囲まれています。\n",
    "\n",
    "<excerpts>\n",
    "\"\"\"\n",
    "\n",
    "for item in response_kendra[\"ResultItems\"]:\n",
    "    prompt += \"<excerpt>\"\n",
    "    prompt += f\"<document_id>{item['DocumentId']}</document_id>\"\n",
    "    prompt += f\"<title>{item['DocumentTitle']}</title>\"\n",
    "    prompt += f\"<content>{item['Content']}</content>\"\n",
    "    prompt += \"</excerpt>\\n\"\n",
    "\n",
    "\n",
    "prompt += f\"\"\"</excerpts>\n",
    "\n",
    "<excerpts>タグ内の情報を参考にして、<query>タグ内のユーザーの質問に答えてください。\n",
    "\n",
    "<query>\n",
    "{query_text}\n",
    "</query>\n",
    "\"\"\"\n",
    "\n",
    "print(prompt)"
   ]
  },
  {
   "cell_type": "markdown",
   "metadata": {},
   "source": [
    "追加したドキュメント ID やタイトルの情報をもとに、回答の根拠となるドキュメントを引用するようにします。ここでは、LLM の出力を XML タグで構造化し、それをレンダリングする際にパースする方針を取ります。"
   ]
  },
  {
   "cell_type": "code",
   "execution_count": 23,
   "metadata": {},
   "outputs": [],
   "source": [
    "rule = \"\"\"\n",
    "回答内で検索結果からの情報を参照する場合は、情報が見つかったソースのドキュメントへの引用を含める必要があります。\n",
    "各結果には、参照すべき対応するdocument_idとtitleを付与します。\n",
    "回答に複数のドキュメントの抜粋からの情報が含まれている場合、<sources>には複数の<source>が含まれる可能性があることに注意してください。\n",
    "<excerpts>を回答で直接引用しないでください。あなたの仕事は、ユーザーの質問に可能な限り簡潔に答えることです。\n",
    "以下の形式で回答を出力する必要があります。フォーマットとスペースに注意して、正確に従ってください。\n",
    "<answer>\n",
    "  <answer_part>\n",
    "    <text>\n",
    "      最初の回答テキスト\n",
    "    </text>\n",
    "    <sources>\n",
    "      <source>\n",
    "        <document_id>document_id</document_id>\n",
    "        <title>title</title>\n",
    "      </source>\n",
    "    </sources>\n",
    "  </answer_part>\n",
    "  <answer_part>\n",
    "    <text>\n",
    "      2番目の回答テキスト\n",
    "    </text>\n",
    "    <sources>\n",
    "      <source>\n",
    "        <document_id>document_id</document_id>\n",
    "        <title>title</title>\n",
    "      </source>\n",
    "    </sources>\n",
    "  </answer_part>\n",
    "</answer>\n",
    "\"\"\""
   ]
  },
  {
   "cell_type": "code",
   "execution_count": 24,
   "metadata": {},
   "outputs": [
    {
     "name": "stdout",
     "output_type": "stream",
     "text": [
      "\n",
      "あなたは親切なチャットアシスタントです。\n",
      "\n",
      "<excerpts>タグにはユーザーが知りたい情報を検索した結果のドキュメントの抜粋が含まれています。\n",
      "ドキュメントの抜粋は複数あり、それぞれの抜粋が<excerpt>タグで囲まれています。\n",
      "\n",
      "<excerpts>\n",
      "<excerpt><document_id>https://docs.aws.amazon.com/ja_jp/bedrock/latest/userguide/agents-manage.html</document_id><title>Amazon Bedrock エージェントを管理する - Amazon Bedrock</title><content>AWS ドキュメントを使用するには、JavaScript を有効にする必要があります。 手順については、使用するブラウザのヘルプページを参照してください。 ドキュメントの表記規則 イベントのトレース アクショングループの管理 このページは役に立ちましたか? - はい ページが役に立ったことをお知らせいただき、ありがとうございます。 お時間がある場合は、何が良かったかお知らせください。 今後の参考にさせていただきます。 このページは役に立ちましたか? - はい ページが役に立ったことをお知らせいただき、ありがとうございます。 お時間がある場合は、何が良かったかお知らせください。 今後の参考にさせていただきます。 このページは役に立ちましたか? - いいえ このページは修正が必要なことをお知らせいただき、ありがとうございます。 ご期待に沿うことができず申し訳ありません。 お時間がある場合は、ドキュメントを改善する方法についてお知らせください。</content></excerpt>\n",
      "<excerpt><document_id>https://docs.aws.amazon.com/ja_jp/bedrock/latest/userguide/quotas.html</document_id><title>Amazon Bedrock のクォータ - Amazon Bedrock</title><content>ブラウザで JavaScript が無効になっているか、使用できません。 AWS ドキュメントを使用するには、JavaScript を有効にする必要があります。 手順については、使用するブラウザのヘルプページを参照してください。 ドキュメントの表記規則 不正検出 API リファレンス このページは役に立ちましたか? - はい ページが役に立ったことをお知らせいただき、ありがとうございます。 お時間がある場合は、何が良かったかお知らせください。 API リファレンス このページは役に立ちましたか? - はい ページが役に立ったことをお知らせいただき、ありがとうございます。 お時間がある場合は、何が良かったかお知らせください。 今後の参考にさせていただきます。 このページは役に立ちましたか? - いいえ このページは修正が必要なことをお知らせいただき、ありがとうございます。 ご期待に沿うことができず申し訳ありません。 お時間がある場合は、ドキュメントを改善する方法についてお知らせください。</content></excerpt>\n",
      "<excerpt><document_id>https://docs.aws.amazon.com/ja_jp/bedrock/latest/userguide/security.html</document_id><title>Amazon Bedrock のセキュリティ - Amazon Bedrock</title><content>ブラウザで JavaScript が無効になっているか、使用できません。 AWS ドキュメントを使用するには、JavaScript を有効にする必要があります。 手順については、使用するブラウザのヘルプページを参照してください。 ドキュメントの表記規則 Amazon Titan Image Generator G1 データ保護 このページは役に立ちましたか? - はい ページが役に立ったことをお知らせいただき、ありがとうございます。 お時間がある場合は、何が良かったかお知らせください。 データ保護 このページは役に立ちましたか? - はい ページが役に立ったことをお知らせいただき、ありがとうございます。 お時間がある場合は、何が良かったかお知らせください。 今後の参考にさせていただきます。 このページは役に立ちましたか? - いいえ このページは修正が必要なことをお知らせいただき、ありがとうございます。 ご期待に沿うことができず申し訳ありません。 お時間がある場合は、ドキュメントを改善する方法についてお知らせください。</content></excerpt>\n",
      "<excerpt><document_id>https://docs.aws.amazon.com/ja_jp/bedrock/latest/userguide/advanced-prompts.html</document_id><title>Amazon Bedrock の高度なプロンプト - Amazon Bedrock</title><content>ブラウザで JavaScript が無効になっているか、使用できません。 AWS ドキュメントを使用するには、JavaScript を有効にする必要があります。 手順については、使用するブラウザのヘルプページを参照してください。 ドキュメントの表記規則 エージェントをカスタマイズする 用語 このページは役に立ちましたか? - はい ページが役に立ったことをお知らせいただき、ありがとうございます。 お時間がある場合は、何が良かったかお知らせください。 用語 このページは役に立ちましたか? - はい ページが役に立ったことをお知らせいただき、ありがとうございます。 お時間がある場合は、何が良かったかお知らせください。 今後の参考にさせていただきます。 このページは役に立ちましたか? - いいえ このページは修正が必要なことをお知らせいただき、ありがとうございます。 ご期待に沿うことができず申し訳ありません。 お時間がある場合は、ドキュメントを改善する方法についてお知らせください。</content></excerpt>\n",
      "<excerpt><document_id>https://docs.aws.amazon.com/ja_jp/bedrock/latest/userguide/agents-version-manage.html</document_id><title>Amazon Bedrock でエージェントのバージョンを管理する - Amazon Bedrock</title><content>AWS ドキュメントを使用するには、JavaScript を有効にする必要があります。 手順については、使用するブラウザのヘルプページを参照してください。 ドキュメントの表記規則 エージェントのデプロイ Manage aliases (エイリアスを管理する) このページは役に立ちましたか? - はい ページが役に立ったことをお知らせいただき、ありがとうございます。 お時間がある場合は、何が良かったかお知らせください。 今後の参考にさせていただきます。 このページは役に立ちましたか? - はい ページが役に立ったことをお知らせいただき、ありがとうございます。 お時間がある場合は、何が良かったかお知らせください。 今後の参考にさせていただきます。 このページは役に立ちましたか? - いいえ このページは修正が必要なことをお知らせいただき、ありがとうございます。 ご期待に沿うことができず申し訳ありません。 お時間がある場合は、ドキュメントを改善する方法についてお知らせください。</content></excerpt>\n",
      "<excerpt><document_id>https://docs.aws.amazon.com/ja_jp/bedrock/latest/userguide/infrastructure-security.html</document_id><title>Amazon Bedrock でのインフラストラクチャセキュリティ - Amazon Bedrock</title><content>AWS ドキュメントを使用するには、JavaScript を有効にする必要があります。 手順については、使用するブラウザのヘルプページを参照してください。 ドキュメントの表記規則 耐障害性 サービス間の混乱した代理の防止 このページは役に立ちましたか? - はい ページが役に立ったことをお知らせいただき、ありがとうございます。 お時間がある場合は、何が良かったかお知らせください。 今後の参考にさせていただきます。 このページは役に立ちましたか? - はい ページが役に立ったことをお知らせいただき、ありがとうございます。 お時間がある場合は、何が良かったかお知らせください。 今後の参考にさせていただきます。 このページは役に立ちましたか? - いいえ このページは修正が必要なことをお知らせいただき、ありがとうございます。 ご期待に沿うことができず申し訳ありません。 お時間がある場合は、ドキュメントを改善する方法についてお知らせください。</content></excerpt>\n",
      "<excerpt><document_id>https://docs.aws.amazon.com/ja_jp/bedrock/latest/userguide/what-is-bedrock.html</document_id><title>Amazon Bedrock とは - Amazon Bedrock</title><content>ブラウザで JavaScript が無効になっているか、使用できません。 AWS ドキュメントを使用するには、JavaScript を有効にする必要があります。 手順については、使用するブラウザのヘルプページを参照してください。 ドキュメントの表記規則 サポートされている AWS リージョン このページは役に立ちましたか? - はい ページが役に立ったことをお知らせいただき、ありがとうございます。 お時間がある場合は、何が良かったかお知らせください。 サポートされている AWS リージョン このページは役に立ちましたか? - はい ページが役に立ったことをお知らせいただき、ありがとうございます。 お時間がある場合は、何が良かったかお知らせください。 今後の参考にさせていただきます。 このページは役に立ちましたか? - いいえ このページは修正が必要なことをお知らせいただき、ありがとうございます。 ご期待に沿うことができず申し訳ありません。 お時間がある場合は、ドキュメントを改善する方法についてお知らせください。</content></excerpt>\n",
      "<excerpt><document_id>https://docs.aws.amazon.com/ja_jp/bedrock/latest/userguide/security-iam.html</document_id><title>Amazon Bedrock のためのアイデンティティとアクセス管理 - Amazon Bedrock</title><content>ブラウザで JavaScript が無効になっているか、使用できません。 AWS ドキュメントを使用するには、JavaScript を有効にする必要があります。 手順については、使用するブラウザのヘルプページを参照してください。 ドキュメントの表記規則 Amazon VPC と AWS PrivateLink Amazon Bedrock で IAM が機能する仕組み このページは役に立ちましたか? - はい ページが役に立ったことをお知らせいただき、ありがとうございます。 お時間がある場合は、何が良かったかお知らせください。 Amazon Bedrock で IAM が機能する仕組み このページは役に立ちましたか? - はい ページが役に立ったことをお知らせいただき、ありがとうございます。 お時間がある場合は、何が良かったかお知らせください。 今後の参考にさせていただきます。 このページは役に立ちましたか? - いいえ このページは修正が必要なことをお知らせいただき、ありがとうございます。 ご期待に沿うことができず申し訳ありません。 お時間がある場合は、ドキュメントを改善する方法についてお知らせください。</content></excerpt>\n",
      "<excerpt><document_id>https://docs.aws.amazon.com/ja_jp/bedrock/latest/userguide/security_iam_id-based-policy-examples.html</document_id><title>Amazon Bedrock のアイデンティティベースのポリシー例 - Amazon Bedrock</title><content>ブラウザで JavaScript が無効になっているか、使用できません。 AWS ドキュメントを使用するには、JavaScript を有効にする必要があります。 手順については、使用するブラウザのヘルプページを参照してください。 ドキュメントの表記規則 Amazon Bedrock で IAM が機能する仕組み Amazon Bedrockのエージェントの例 このページは役に立ちましたか? - はい ページが役に立ったことをお知らせいただき、ありがとうございます。 お時間がある場合は、何が良かったかお知らせください。 Amazon Bedrockのエージェントの例 このページは役に立ちましたか? - はい ページが役に立ったことをお知らせいただき、ありがとうございます。 お時間がある場合は、何が良かったかお知らせください。 今後の参考にさせていただきます。 このページは役に立ちましたか? - いいえ このページは修正が必要なことをお知らせいただき、ありがとうございます。 ご期待に沿うことができず申し訳ありません。 お時間がある場合は、ドキュメントを改善する方法についてお知らせください。</content></excerpt>\n",
      "<excerpt><document_id>https://docs.aws.amazon.com/ja_jp/bedrock/latest/userguide/trace-events.html</document_id><title>Amazon Bedrock でのトレースイベント - Amazon Bedrock</title><content>ブラウザで JavaScript が無効になっているか、使用できません。 AWS ドキュメントを使用するには、JavaScript を有効にする必要があります。 手順については、使用するブラウザのヘルプページを参照してください。 ドキュメントの表記規則 エージェントをテストする エージェントを管理する このページは役に立ちましたか? - はい ページが役に立ったことをお知らせいただき、ありがとうございます。 お時間がある場合は、何が良かったかお知らせください。 エージェントを管理する このページは役に立ちましたか? - はい ページが役に立ったことをお知らせいただき、ありがとうございます。 お時間がある場合は、何が良かったかお知らせください。 今後の参考にさせていただきます。 このページは役に立ちましたか? - いいえ このページは修正が必要なことをお知らせいただき、ありがとうございます。 ご期待に沿うことができず申し訳ありません。 お時間がある場合は、ドキュメントを改善する方法についてお知らせください。</content></excerpt>\n",
      "</excerpts>\n",
      "\n",
      "<excerpts>タグ内の情報を参考にして、<query>タグ内のユーザーの質問に答えてください。\n",
      "\n",
      "<query>\n",
      "Amazon Bedrockって何ですか？\n",
      "</query>\n",
      "\n",
      "回答内で検索結果からの情報を参照する場合は、情報が見つかったソースのドキュメントへの引用を含める必要があります。\n",
      "各結果には、参照すべき対応するdocument_idとtitleを付与します。\n",
      "回答に複数のドキュメントの抜粋からの情報が含まれている場合、<sources>には複数の<source>が含まれる可能性があることに注意してください。\n",
      "<excerpts>を回答で直接引用しないでください。あなたの仕事は、ユーザーの質問に可能な限り簡潔に答えることです。\n",
      "以下の形式で回答を出力する必要があります。フォーマットとスペースに注意して、正確に従ってください。\n",
      "<answer>\n",
      "  <answer_part>\n",
      "    <text>\n",
      "      最初の回答テキスト\n",
      "    </text>\n",
      "    <sources>\n",
      "      <source>\n",
      "        <document_id>document_id</document_id>\n",
      "        <title>title</title>\n",
      "      </source>\n",
      "    </sources>\n",
      "  </answer_part>\n",
      "  <answer_part>\n",
      "    <text>\n",
      "      2番目の回答テキスト\n",
      "    </text>\n",
      "    <sources>\n",
      "      <source>\n",
      "        <document_id>document_id</document_id>\n",
      "        <title>title</title>\n",
      "      </source>\n",
      "    </sources>\n",
      "  </answer_part>\n",
      "</answer>\n",
      "\n",
      "-----\n",
      "<answer>\n",
      "  <answer_part>\n",
      "    <text>\n",
      "Amazon Bedrock は、AWS が提供するマネージドサービスで、自然言語処理 (NLP) や対話型 AI アプリケーションの構築を容易にするものです。Amazon Bedrock を使用すると、開発者は事前に構築されたエージェントを使用して、対話型 AI アプリケーションを迅速に構築できます。\n",
      "    </text>\n",
      "    <sources>\n",
      "      <source>\n",
      "        <document_id>https://docs.aws.amazon.com/ja_jp/bedrock/latest/userguide/what-is-bedrock.html</document_id>\n",
      "        <title>Amazon Bedrock とは - Amazon Bedrock</title>\n",
      "      </source>\n",
      "    </sources>\n",
      "  </answer_part>\n",
      "</answer>\n",
      "-----\n"
     ]
    }
   ],
   "source": [
    "print(prompt + rule)\n",
    "print(\"-----\")\n",
    "\n",
    "# RAG 実行\n",
    "output = invoke_model(prompt + rule, model_id)\n",
    "print(output)\n",
    "print(\"-----\")"
   ]
  },
  {
   "cell_type": "markdown",
   "metadata": {},
   "source": [
    "正規表現を使って XML タグをパースします"
   ]
  },
  {
   "cell_type": "code",
   "execution_count": 28,
   "metadata": {},
   "outputs": [
    {
     "data": {
      "text/markdown": [
       "Amazon Bedrock は、AWS が提供するマネージドサービスで、自然言語処理 (NLP) や対話型 AI アプリケーションの構築を容易にするものです。Amazon Bedrock を使用すると、開発者は事前に構築されたエージェントを使用して、対話型 AI アプリケーションを迅速に構築できます。 \\[1\\]\n",
       "\n",
       "\n",
       "\n",
       "\\[1\\] [Amazon Bedrock とは - Amazon Bedrock](https://docs.aws.amazon.com/ja_jp/bedrock/latest/userguide/what-is-bedrock.html)  \n"
      ],
      "text/plain": [
       "<IPython.core.display.Markdown object>"
      ]
     },
     "metadata": {},
     "output_type": "display_data"
    }
   ],
   "source": [
    "def parse_answer(xml):\n",
    "    # XMLデータから<answer_part>タグで囲まれた部分を抽出する\n",
    "    answer_parts = re.findall(r'<answer_part>(.*?)</answer_part>', xml, re.DOTALL)\n",
    "    result = \"\"  # 結果を格納する変数\n",
    "    source_refs = \"\"  # ソース情報を格納する変数\n",
    "    source_index = 1  # ソースに付与する連番\n",
    "    unique_refs = set()  # 重複するソースのタイトルを避けるための集合\n",
    "    source_dic = {}  # ソースのタイトルと番号のマッピング\n",
    "    for part in answer_parts:\n",
    "        # 回答の本文を抽出する\n",
    "        text = re.search(r'<text>(.*?)</text>', part, re.DOTALL).group(1).strip()\n",
    "        # ソース情報を抽出する\n",
    "        sources = re.findall(r'<source>(.*?)</source>', part, re.DOTALL)\n",
    "        source_str = \"\"  # 現在の部分のソース情報 (e.g. [1]) を格納する文字列\n",
    "        for source in sources:\n",
    "            document_id = re.search(r'<document_id>(.*?)</document_id>', source).group(1)\n",
    "            title = re.search(r'<title>(.*?)</title>', source).group(1)\n",
    "            # ソースのタイトルが重複する場合は、前に出現したものと同じ番号を付与する\n",
    "            if title in unique_refs:\n",
    "                source_str += f\" \\[{source_dic[title]}\\]\"\n",
    "            else:\n",
    "                source_str += f\" \\[{source_index}\\]\"\n",
    "                unique_refs.add(title)\n",
    "                source_dic[title] = source_index\n",
    "                source_refs += f\"\\[{source_index}\\] [{title}]({document_id})  \\n\"  # ソース情報を追加\n",
    "                source_index += 1\n",
    "        # 回答の本文とソース情報を結果に追加する\n",
    "        result += f\"{text}{source_str}\\n\\n\"\n",
    "    # 最後にソースの連番とタイトルを追加する\n",
    "    return result + \"\\n\\n\" + source_refs\n",
    "\n",
    "\n",
    "display(Markdown(parse_answer(output)))"
   ]
  },
  {
   "cell_type": "markdown",
   "metadata": {},
   "source": [
    "### Pre-retrieval: クエリ拡張\n",
    "\n",
    "クエリ拡張は、単一のクエリを複数のクエリに拡張することで多様な検索結果を取得し、生成される回答の適合性を高めるための手法です。クエリ拡張にも、単純に複数の異なるクエリを作成するマルチクエリ (multi query) や、元の質問を分解して個々の質問に答えるためのクエリを作成するサブクエリ (sub query) などさまざまなアプローチがありますが、今回はシンプルなマルチクエリのアプローチを採用しています。LLM は generator と同様に Claude 3 Haiku を用いてクエリを拡張します。\n",
    "\n",
    "必ずしもユーザーのクエリとソースドキュメントの表現が一致しているわけではありません。「ナレッジベース」と「Knowledge Bases」等、日本語と英語との表記揺れや、類義語、タイポなど、さまざまな要因で初期のクエリでは回答に必要な情報が十分に取得できないことがあります。クエリを拡張し、類似するキーワードを複数用いることで、キーワード検索とベクトル検索のハイブリッド検索のような、確実性と曖昧性を兼ね備えた検索が実現されることが期待されます。"
   ]
  },
  {
   "cell_type": "code",
   "execution_count": 52,
   "metadata": {},
   "outputs": [
    {
     "name": "stdout",
     "output_type": "stream",
     "text": [
      "以下の3つの検索クエリを提案します:\n",
      "\n",
      "1. \"Amazon Bedrock model evaluation\" OR \"Amazon Bedrock モデル評価\"\n",
      "2. \"Amazon Bedrock model assessment\" OR \"Amazon Bedrock モデル評価機能\"\n",
      "3. \"Amazon Bedrock model performance\" OR \"Amazon Bedrock モデル性能評価\"\n",
      "\n",
      "これらのクエリは、Amazon Bedrockのモデル評価機能に関する情報を幅広く検索できるよう、日本語と英語を組み合わせて設計しています。\n",
      "モデル評価、モデル性能、モデル assessment といった関連キーワードを含むことで、より適切な検索結果が得られると考えられます。\n",
      "各クエリは30トークン以内に収まっています。\n"
     ]
    }
   ],
   "source": [
    "n_queries = 3\n",
    "\n",
    "prompt = f\"\"\"\n",
    "検索エンジンに入力するクエリを最適化し、様々な角度から検索を行うことで、より適切で幅広い検索結果が得られるようにします。 \n",
    "以下の<question>タグ内にはユーザーの入力した質問文が入ります。\n",
    "この質問文に基づいて、{n_queries}個の検索用クエリを生成してください。\n",
    "各クエリは30トークン以内とし、日本語と英語を適切に混ぜて使用することで、広範囲の文書が取得できるようにしてください。\n",
    "\n",
    "<question>\n",
    "{query_text}\n",
    "<question>\n",
    "\"\"\"\n",
    "\n",
    "print(invoke_model(prompt))"
   ]
  },
  {
   "cell_type": "markdown",
   "metadata": {},
   "source": [
    "このままだとプログラム的に扱いづらいので出力フォーマットを指定します。"
   ]
  },
  {
   "cell_type": "code",
   "execution_count": 53,
   "metadata": {},
   "outputs": [
    {
     "name": "stdout",
     "output_type": "stream",
     "text": [
      "<question>\n",
      "Amazon Bedrockのモデル評価機能ではどのようなことができますか？\n",
      "</question>\n",
      "\n",
      "query 1: Amazon Bedrock model evaluation capabilities 評価 機能 分析 性能 測定 検証 モデル 品質 改善\n",
      "query 2: Amazon Bedrock モデル評価 機能 使用方法 ユースケース 機能概要 性能指標 モデル検証\n",
      "query 3: Amazon Bedrock model assessment features 評価指標 モデル改善 model performance analysis 品質管理\n"
     ]
    }
   ],
   "source": [
    "output_format = \"\"\n",
    "for i in range(n_queries):\n",
    "    output_format += f\"query {i+1}: fill a query here\\n\"\n",
    "\n",
    "format = f\"\"\"\n",
    "生成されたクエリは、<format>タグ内のフォーマットに従って出力してください。\n",
    "\n",
    "<format>\n",
    "{output_format}\n",
    "</format>\n",
    "\"\"\"\n",
    "\n",
    "queries = invoke_model(prompt + output_format)\n",
    "print(queries)"
   ]
  },
  {
   "cell_type": "markdown",
   "metadata": {},
   "source": [
    "あとは正規表現で抜き出してあげれば後段の Kendra への入力にすることができます。"
   ]
  },
  {
   "cell_type": "code",
   "execution_count": 54,
   "metadata": {},
   "outputs": [
    {
     "data": {
      "text/plain": [
       "['query 1: Amazon Bedrock model evaluation capabilities 評価 機能 分析 性能 測定 検証 モデル 品質 改善',\n",
       " 'query 2: Amazon Bedrock モデル評価 機能 使用方法 ユースケース 機能概要 性能指標 モデル検証',\n",
       " 'query 3: Amazon Bedrock model assessment features 評価指標 モデル改善 model performance analysis 品質管理']"
      ]
     },
     "execution_count": 54,
     "metadata": {},
     "output_type": "execute_result"
    }
   ],
   "source": [
    "queries = [query for query in queries.split(\"\\n\") if re.match(r'query \\d+:[^:]+$', query)]\n",
    "queries"
   ]
  },
  {
   "cell_type": "markdown",
   "metadata": {},
   "source": [
    "### Post-retrieval: 検索結果の関連度評価\n",
    "\n",
    "このステップでは検索結果が、元のユーザーからの質問に関連したものになっているかを評価します。検索で得られたドキュメントの抜粋 (チャンク) というのは必ずしも質問に回答するための情報を含んでいるとは限らず、誤った回答を誘発するような内容も含んでしまっていることがあります。例えば、“[Corrective Retrieval Augmented Generation](https://arxiv.org/abs/2401.15884)” \\[Shi-Qi Yan et al. (2024)\\] の論文で提案されている手法 (Corrective RAG; CRAG) では、検索結果の関連度を評価し、その評価結果をもとに最終回答を生成します。CRAG ではドキュメントの抜粋をそれぞれ Correct (正確) / Ambiguous (曖昧) / Incorrect (不正確) のカテゴリに分類しますが、今回は簡単のために関連しているか否かの yes / no の二値に分類します。LLM は他のステップと同様に Claude 3 Haiku を用います。"
   ]
  },
  {
   "cell_type": "code",
   "execution_count": 75,
   "metadata": {},
   "outputs": [
    {
     "name": "stdout",
     "output_type": "stream",
     "text": [
      "['------------------------------\\n'\n",
      " 'Item 1\\n'\n",
      " 'DocumentTitle:基盤モデルに関する情報の取得 - Amazon Bedrock\\n'\n",
      " 'Content\\n'\n",
      " 'レスポンスは、プロビジョニングされたスループットグラフのベースモデル IDs またはベースモデル ID に含まれていないモデル ID も返します。 '\n",
      " 'Amazon Bedrock ベースモデル ID (オンデマンドスループット)   IDs   これらのモデル IDs '\n",
      " 'は、下位互換性のために廃止されました。 特定の基盤モデルに関する情報を返すには、モデル ID を指定して '\n",
      " 'GetFoundationModelリクエストを送信します。 タブを選択すると、インターフェイスまたは言語でのコード例が表示されます。 AWS CLI '\n",
      " 'Amazon Bedrock 基盤モデルを一覧表示します。 aws bedrock list-foundation-models v2 '\n",
      " 'Anthropic Claude に関する情報を取得します。 aws bedrock get-foundation-model '\n",
      " '--model-identifier anthropic.claude-v2 Python Amazon Bedrock 基盤モデルを一覧表示します。 '\n",
      " \"import boto3 bedrock = boto3.client(service_name='bedrock') \"\n",
      " 'bedrock.list_foundation_models() v2 Anthropic Claude に関する情報を取得します。 import '\n",
      " \"boto3 bedrock = boto3.client(service_name='bedrock') \"\n",
      " \"bedrock.get_foundation_model(modelIdentifier='anthropic.claude-v2')\\n\",\n",
      " '------------------------------\\n'\n",
      " 'Item 2\\n'\n",
      " 'DocumentTitle:Amazon Bedrock でマルチモーダルプロンプトで Anthropic Claude 3 を呼び出す - '\n",
      " 'Amazon Bedrock\\n'\n",
      " 'Content\\n'\n",
      " 'Amazon Bedrock でマルチモーダルプロンプトで Anthropic Claude 3 を呼び出す 以下のコード例は、Amazon '\n",
      " 'Bedrock で Anthropic Claude 3 をマルチモーダルプロンプトで呼び出す方法を示しています。 '\n",
      " 'アクション例は、より大きなプログラムからのコードの抜粋であり、コンテキスト内で実行する必要があります。 '\n",
      " '次のコード例で、このアクションのコンテキストを確認できます。 インタラクティブテキストプレイグラウンド Amazon Bedrock '\n",
      " 'で複数の基盤モデルを呼び出す Amazon Bedrock で複数の LLM を呼び出す Python SDK for Python (Boto3) '\n",
      " '注記 にはまだまだあります GitHub。 用例一覧を検索し、AWS コードサンプルリポジトリでの設定と実行の方法を確認してください。 '\n",
      " 'マルチモーダルプロンプトで Anthropic Claude 3 を呼び出し、画像を分析します。 def '\n",
      " 'invoke_claude_3_multimodal(self, prompt, base64_image_data): \"\"\" Invokes '\n",
      " 'Anthropic Claude 3 Sonnet to run a multimodal inference using the input '\n",
      " 'provided in the request body. :param prompt:            The prompt that you '\n",
      " 'want Claude 3 to use. :param base64_image_data: The base64-encoded image '\n",
      " 'that you want to add to the request. :return: Inference response from the '\n",
      " 'model. \"\"\" # Initialize the Amazon Bedrock runtime client client = '\n",
      " 'self.client or boto3.client( service_name=\"bedrock-runtime\", '\n",
      " 'region_name=\"us-east-1\"\\n',\n",
      " '------------------------------\\n'\n",
      " 'Item 3\\n'\n",
      " 'DocumentTitle:基盤モデルに関する情報の取得 - Amazon Bedrock\\n'\n",
      " 'Content\\n'\n",
      " 'タブを選択すると、インターフェイスまたは言語でのコード例が表示されます。 AWS CLI Amazon Bedrock 基盤モデルを一覧表示します。 '\n",
      " 'aws bedrock list-foundation-models v2 Anthropic Claude に関する情報を取得します。 aws '\n",
      " 'bedrock get-foundation-model --model-identifier anthropic.claude-v2 Python '\n",
      " 'Amazon Bedrock 基盤モデルを一覧表示します。 import boto3 bedrock = '\n",
      " \"boto3.client(service_name='bedrock') bedrock.list_foundation_models() v2 \"\n",
      " 'Anthropic Claude に関する情報を取得します。 import boto3 bedrock = '\n",
      " \"boto3.client(service_name='bedrock') \"\n",
      " \"bedrock.get_foundation_model(modelIdentifier='anthropic.claude-v2') ブラウザで \"\n",
      " 'JavaScript が無効になっているか、使用できません。 AWS ドキュメントを使用するには、JavaScript を有効にする必要があります。 '\n",
      " '手順については、使用するブラウザのヘルプページを参照してください。 ドキュメントの表記規則 基盤モデルの使用 AWS 地域別のモデルサポート '\n",
      " 'このページは役に立ちましたか? - はい ページが役に立ったことをお知らせいただき、ありがとうございます。 '\n",
      " 'お時間がある場合は、何が良かったかお知らせください。\\n',\n",
      " '------------------------------\\n'\n",
      " 'Item 4\\n'\n",
      " 'DocumentTitle:基盤モデルに関する情報の取得 - Amazon Bedrock\\n'\n",
      " 'Content\\n'\n",
      " 'Amazon Bedrock が提供するすべての基盤モデルに関する情報を返すには、 ListFoundationModelsリクエストを送信します。 '\n",
      " '注記 レスポンスは、プロビジョニングされたスループットグラフのベースモデル IDs またはベースモデル ID に含まれていないモデル ID も返します。 '\n",
      " 'Amazon Bedrock ベースモデル ID (オンデマンドスループット)   IDs   これらのモデル IDs '\n",
      " 'は、下位互換性のために廃止されました。 特定の基盤モデルに関する情報を返すには、モデル ID を指定して '\n",
      " 'GetFoundationModelリクエストを送信します。 タブを選択すると、インターフェイスまたは言語でのコード例が表示されます。 AWS CLI '\n",
      " 'Amazon Bedrock 基盤モデルを一覧表示します。 aws bedrock list-foundation-models v2 '\n",
      " 'Anthropic Claude に関する情報を取得します。 aws bedrock get-foundation-model '\n",
      " '--model-identifier anthropic.claude-v2 Python Amazon Bedrock 基盤モデルを一覧表示します。 '\n",
      " \"import boto3 bedrock = boto3.client(service_name='bedrock') \"\n",
      " 'bedrock.list_foundation_models() v2 Anthropic Claude に関する情報を取得します。\\n',\n",
      " '------------------------------\\n'\n",
      " 'Item 5\\n'\n",
      " 'DocumentTitle:Amazon Bedrock でマルチモーダルプロンプトで Anthropic Claude 3 を呼び出す - '\n",
      " 'Amazon Bedrock\\n'\n",
      " 'Content\\n'\n",
      " 'AWSドキュメントAmazon Bedrockユーザーガイド 翻訳は機械翻訳により提供されています。 '\n",
      " '提供された翻訳内容と英語版の間で齟齬、不一致または矛盾がある場合、英語版が優先します。 Amazon Bedrock でマルチモーダルプロンプトで '\n",
      " 'Anthropic Claude 3 を呼び出す 以下のコード例は、Amazon Bedrock で Anthropic Claude 3 '\n",
      " 'をマルチモーダルプロンプトで呼び出す方法を示しています。 '\n",
      " 'アクション例は、より大きなプログラムからのコードの抜粋であり、コンテキスト内で実行する必要があります。 '\n",
      " '次のコード例で、このアクションのコンテキストを確認できます。 インタラクティブテキストプレイグラウンド Amazon Bedrock '\n",
      " 'で複数の基盤モデルを呼び出す Amazon Bedrock で複数の LLM を呼び出す Python SDK for Python (Boto3) '\n",
      " '注記 にはまだまだあります GitHub。 用例一覧を検索し、AWS コードサンプルリポジトリでの設定と実行の方法を確認してください。 '\n",
      " 'マルチモーダルプロンプトで Anthropic Claude 3 を呼び出し、画像を分析します。\\n']\n"
     ]
    }
   ],
   "source": [
    "query_text = \"Amazon Bedrock で Claude 3 Sonnet の基盤モデルに関する情報を取得する Python コードを教えて\"\n",
    "response_kendra = kendra.retrieve(\n",
    "    QueryText=query_text,  # 検索クエリ\n",
    "    IndexId=kendra_index_id,  # Kendra Index ID\n",
    "    AttributeFilter={\"EqualsTo\": {\"Key\": \"_language_code\", \"Value\": {\"StringValue\": \"ja\",}}},\n",
    "    PageSize=5,  # 一度に返すドキュメント抜粋の数 (default: 10)\n",
    ")\n",
    "\n",
    "result_items = []\n",
    "\n",
    "for ii, item in enumerate(response_kendra[\"ResultItems\"]):\n",
    "    result_item = \"\"\n",
    "    result_item += \"-\" * 30 + \"\\n\"\n",
    "    result_item += f\"Item {ii+1}\\n\"\n",
    "    result_item += f\"DocumentTitle:{item['DocumentTitle']}\\n\"\n",
    "    result_item += \"Content\\n\"\n",
    "    result_item += item[\"Content\"] + \"\\n\"\n",
    "    result_items.append(result_item)\n",
    "\n",
    "pprint(result_items)"
   ]
  },
  {
   "cell_type": "code",
   "execution_count": 77,
   "metadata": {},
   "outputs": [
    {
     "name": "stdout",
     "output_type": "stream",
     "text": [
      "<related>no</related>\n",
      "\n",
      "この抜粋には、Amazon Bedrock で Claude 3 Sonnet の基盤モデルに関する情報を取得するためのコードは含まれていません。抜粋には、Anthropic Claude v2 モデルに関する情報を取得するコードが含まれていますが、Claude 3 Sonnet モデルに関する情報は含まれていません。\n",
      "-----\n",
      "<related>yes</related>\n",
      "\n",
      "このドキュメントの抜粋には、Amazon Bedrock で Claude 3 Sonnet の基盤モデルを呼び出す Python コードの例が含まれています。具体的には、`invoke_claude_3_multimodal()` 関数の定義が示されており、この関数を使ってマルチモーダルプロンプトで Claude 3 を呼び出す方法が説明されています。したがって、この抜粋は、ユーザーの質問に回答するための正確な情報を含んでいると判断できます。\n",
      "-----\n",
      "<related>no</related>\n",
      "\n",
      "このドキュメントの抜粋には、Amazon Bedrock で Claude 3 Sonnet の基盤モデルに関する情報は含まれていません。抜粋には、Anthropic Claude v2 モデルに関する情報が記載されていますが、Claude 3 Sonnet モデルに関する情報は見つかりませんでした。\n",
      "-----\n",
      "<related>no</related>\n",
      "\n",
      "この抜粋には、Amazon Bedrock の Claude 3 Sonnet の基盤モデルに関する情報は含まれていません。抜粋には、Amazon Bedrock の基盤モデルの一覧表示や特定のモデルに関する情報の取得方法が記載されていますが、Claude 3 Sonnet のモデルに関する情報は見つかりません。したがって、この抜粋は、ユーザーの質問に回答するための正確な情報を含んでいないと判断しました。\n",
      "-----\n",
      "<related>no</related>\n",
      "\n",
      "この抜粋には、Amazon Bedrock で Claude 3 Sonnet の基盤モデルに関する情報は含まれていません。この抜粋は、Amazon Bedrock でマルチモーダルプロンプトを使って Anthropic Claude 3 を呼び出す方法について説明しています。ユーザーの質問に直接関連する情報は見つかりませんでした。\n",
      "-----\n"
     ]
    }
   ],
   "source": [
    "for result_item in result_items:\n",
    "    prompt = f\"\"\"\n",
    "    あなたは、ユーザーからの質問と検索で得られたドキュメントの関連性を評価する専門家です。\n",
    "    <excerpt>タグ内は、検索により取得したドキュメントの抜粋です。\n",
    "\n",
    "    <excerpt>{result_item}</excerpt>\n",
    "    \n",
    "    <question>タグ内は、ユーザーからの質問です。\n",
    "\n",
    "    <question>{query_text}</question>\n",
    "    \n",
    "    このドキュメントの抜粋は、ユーザーの質問に回答するための正確な情報を含んでいるかを慎重に判断してください。\n",
    "    正確な情報を含んでいる場合は 'yes'、含んでいない場合は 'no' のバイナリスコアを返してください。\n",
    "    バイナリスコアは<related></related>タグ内に格納してください。\n",
    "    \"\"\"\n",
    "\n",
    "    print(invoke_model(prompt))\n",
    "    print(\"-----\")"
   ]
  },
  {
   "cell_type": "markdown",
   "metadata": {},
   "source": [
    "ここでは、Kendra の Retrieve API で得られたドキュメントの抜粋ひとつひとつに対して関連度評価を行っています。クエリ拡張と組み合わせた場合 (元のクエリ + 3つの拡張クエリ) は、4クエリ×10抜粋=40抜粋分、Claude 3 Haiku を呼び出すことになります。1抜粋当たり、プロンプト全体で800トークン前後になるため、一回の検索における関連度評価だけで30,000トークン程度消費するケースがあることになります。レイテンシーの影響も最小限に抑えるため、クエリ拡張と同様に非同期処理として実行するのが望ましいですが、運用の際には RPM (Requests processed per minute) や TPM (Tokens processed per minute) のクォータには注意してください。"
   ]
  },
  {
   "cell_type": "markdown",
   "metadata": {},
   "source": [
    "## Naive RAG を LangChain で構築する\n",
    "\n",
    "LangChain は、大規模言語モデル (LLM) を活用したアプリケーション開発のためのオープンソースフレームワークです。様々な言語モデル、データソース、API を組み合わせて、コンテキストを理解し推論できるアプリケーションを構築できます。プロンプトテンプレート、メモリ管理、モジュール化されたアーキテクチャなどの機能を備えており、チャットボット、質問応答システム、要約ツールなど、多様なユースケースに適用可能です。\n",
    "\n",
    "langchain_aws は、LangChain と AWS を連携させる Python パッケージです。Amazon Bedrock、Amazon Kendra などのサービスと連携でき、AmazonKendraRetriever や ChatBedrock など AWS 固有のコンポーネントを提供しています。AmazonKendraRetriever は Amazon Kendra を利用したドキュメント検索、ChatBedrock は Amazon Bedrock の LLM を使ったチャットモデルです。\n",
    "\n",
    "langchain_aws を使えば、AWS の豊富な機能と LangChain の柔軟性を組み合わせ、実用的で拡張性の高い自然言語処理アプリケーションを構築できます。LLM の能力をさらに引き出し、外部データと統合させた高度なアプリケーション開発が可能になります。"
   ]
  },
  {
   "cell_type": "markdown",
   "metadata": {},
   "source": [
    "### 必要なモジュールのインポート"
   ]
  },
  {
   "cell_type": "code",
   "execution_count": 28,
   "metadata": {},
   "outputs": [],
   "source": [
    "from langchain_aws import AmazonKendraRetriever\n",
    "from langchain_aws import ChatBedrock\n",
    "from langchain.chains.combine_documents import create_stuff_documents_chain\n",
    "from langchain.chains import create_retrieval_chain\n",
    "from langchain_core.prompts import (\n",
    "    ChatPromptTemplate,\n",
    "    HumanMessagePromptTemplate,\n",
    ")\n",
    "import langchain\n",
    "\n",
    "langchain.verbose = True"
   ]
  },
  {
   "cell_type": "markdown",
   "metadata": {},
   "source": [
    "### AmazonKendraRetriever"
   ]
  },
  {
   "cell_type": "code",
   "execution_count": 18,
   "metadata": {},
   "outputs": [
    {
     "name": "stdout",
     "output_type": "stream",
     "text": [
      "[Document(page_content='Document Title: モデルカスタマイズに関するガイドライン - Amazon Bedrock\\nDocument Excerpt: \\nAWSドキュメントAmazon Bedrockユーザーガイド Amazon Titan Text G1 - Express 翻訳は機械翻訳により提供されています。 提供された翻訳内容と英語版の間で齟齬、不一致または矛盾がある場合、英語版が優先します。 モデルカスタマイズに関するガイドライン モデルをカスタマイズする理想的なパラメータは、データセットと、モデルが対象とするタスクによって異なります。 値をいろいろ試して、どのパラメータがお客様自身のケースで最も適切に機能するかを確認する必要があります。 提供された翻訳内容と英語版の間で齟齬、不一致または矛盾がある場合、英語版が優先します。 モデルカスタマイズに関するガイドライン モデルをカスタマイズする理想的なパラメータは、データセットと、モデルが対象とするタスクによって異なります。 値をいろいろ試して、どのパラメータがお客様自身のケースで最も適切に機能するかを確認する必要があります。 参考までに、モデル評価ジョブを実行してモデルを評価してください。 詳細については、「モデル評価」を参照してください。 このトピックでは、Amazon Titan Text G1 - Express モデルをカスタマイズするための基準となるガイドラインと推奨値を示します。 他のモデルについては、プロバイダーのドキュメントを確認してください。 ファインチューニングジョブの送信時に生成される出力ファイルに含まれるトレーニングと検証のメトリクスを使用して、パラメータを調整します。\\n', metadata={'result_id': '72259ad9-8f8e-4966-8d33-b1323981ee55-66e81669-dfcf-421c-a00c-ba3a07991a45', 'document_id': 's3://arag-workshop-kendra-04-809078683005/docs/20240525/bedrock/model-customization-guidelines.html', 'source': 'https://s3.us-west-2.amazonaws.com/arag-workshop-kendra-04-809078683005/docs/20240525/bedrock/model-customization-guidelines.html', 'title': 'モデルカスタマイズに関するガイドライン - Amazon Bedrock', 'excerpt': 'AWSドキュメントAmazon Bedrockユーザーガイド Amazon Titan Text G1 - Express 翻訳は機械翻訳により提供されています。 提供された翻訳内容と英語版の間で齟齬、不一致または矛盾がある場合、英語版が優先します。 モデルカスタマイズに関するガイドライン モデルをカスタマイズする理想的なパラメータは、データセットと、モデルが対象とするタスクによって異なります。 値をいろいろ試して、どのパラメータがお客様自身のケースで最も適切に機能するかを確認する必要があります。 提供された翻訳内容と英語版の間で齟齬、不一致または矛盾がある場合、英語版が優先します。 モデルカスタマイズに関するガイドライン モデルをカスタマイズする理想的なパラメータは、データセットと、モデルが対象とするタスクによって異なります。 値をいろいろ試して、どのパラメータがお客様自身のケースで最も適切に機能するかを確認する必要があります。 参考までに、モデル評価ジョブを実行してモデルを評価してください。 詳細については、「モデル評価」を参照してください。 このトピックでは、Amazon Titan Text G1 - Express モデルをカスタマイズするための基準となるガイドラインと推奨値を示します。 他のモデルについては、プロバイダーのドキュメントを確認してください。 ファインチューニングジョブの送信時に生成される出力ファイルに含まれるトレーニングと検証のメトリクスを使用して、パラメータを調整します。', 'document_attributes': {'_source_uri': 'https://s3.us-west-2.amazonaws.com/arag-workshop-kendra-04-809078683005/docs/20240525/bedrock/model-customization-guidelines.html'}, 'score': 'NOT_AVAILABLE'}),\n",
      " Document(page_content='Document Title: モデル評価ジョブの結果が Amazon S3 にどのように保存されるかを理解する - Amazon Bedrock\\nDocument Excerpt: \\nAWSドキュメントAmazon Bedrockユーザーガイド 出力データ (自動)出力データ (ヒューマンワーカー) 翻訳は機械翻訳により提供されています。 提供された翻訳内容と英語版の間で齟齬、不一致または矛盾がある場合、英語版が優先します。 モデル評価ジョブの結果が Amazon S3 にどのように保存されるかを理解する 注記 Amazon Bedrock のモデル評価はプレビューリリースであり、変更される可能性があります。 モデル評価ジョブを使用するには、米国東部 (バージニア北部) リージョンまたは米国西部 (オレゴン) リージョンを使用する必要があります。 モデル評価ジョブの結果が Amazon S3 にどのように保存されるかを理解する 注記 Amazon Bedrock のモデル評価はプレビューリリースであり、変更される可能性があります。 モデル評価ジョブを使用するには、米国東部 (バージニア北部) リージョンまたは米国西部 (オレゴン) リージョンを使用する必要があります。 モデル評価ジョブの出力は、モデル評価ジョブの作成時に指定した Amazon S3 バケットに保存されます。 モデル評価ジョブの結果は JSON Lines ファイル (.jsonl) として保存されます。 モデル評価ジョブの結果は、指定した S3 バケットに次のように保存されます。 ヒューマンワーカーによるモデル評価ジョブの場合: s3://user-specified-model-evaluation-job-output-bucket/human-loop-name/output.jsonl\\n', metadata={'result_id': '72259ad9-8f8e-4966-8d33-b1323981ee55-4ecd9f6f-d244-4f28-90c1-e78046d22a26', 'document_id': 's3://arag-workshop-kendra-04-809078683005/docs/20240525/bedrock/model-evaluation-report-s3.html', 'source': 'https://s3.us-west-2.amazonaws.com/arag-workshop-kendra-04-809078683005/docs/20240525/bedrock/model-evaluation-report-s3.html', 'title': 'モデル評価ジョブの結果が Amazon S3 にどのように保存されるかを理解する - Amazon Bedrock', 'excerpt': 'AWSドキュメントAmazon Bedrockユーザーガイド 出力データ (自動)出力データ (ヒューマンワーカー) 翻訳は機械翻訳により提供されています。 提供された翻訳内容と英語版の間で齟齬、不一致または矛盾がある場合、英語版が優先します。 モデル評価ジョブの結果が Amazon S3 にどのように保存されるかを理解する 注記 Amazon Bedrock のモデル評価はプレビューリリースであり、変更される可能性があります。 モデル評価ジョブを使用するには、米国東部 (バージニア北部) リージョンまたは米国西部 (オレゴン) リージョンを使用する必要があります。 モデル評価ジョブの結果が Amazon S3 にどのように保存されるかを理解する 注記 Amazon Bedrock のモデル評価はプレビューリリースであり、変更される可能性があります。 モデル評価ジョブを使用するには、米国東部 (バージニア北部) リージョンまたは米国西部 (オレゴン) リージョンを使用する必要があります。 モデル評価ジョブの出力は、モデル評価ジョブの作成時に指定した Amazon S3 バケットに保存されます。 モデル評価ジョブの結果は JSON Lines ファイル (.jsonl) として保存されます。 モデル評価ジョブの結果は、指定した S3 バケットに次のように保存されます。 ヒューマンワーカーによるモデル評価ジョブの場合: s3://user-specified-model-evaluation-job-output-bucket/human-loop-name/output.jsonl', 'document_attributes': {'_source_uri': 'https://s3.us-west-2.amazonaws.com/arag-workshop-kendra-04-809078683005/docs/20240525/bedrock/model-evaluation-report-s3.html'}, 'score': 'NOT_AVAILABLE'}),\n",
      " Document(page_content='Document Title: モデル評価ジョブの結果が Amazon S3 にどのように保存されるかを理解する - Amazon Bedrock\\nDocument Excerpt: \\nAWSドキュメントAmazon Bedrockユーザーガイド 出力データ (自動)出力データ (ヒューマンワーカー) 翻訳は機械翻訳により提供されています。 提供された翻訳内容と英語版の間で齟齬、不一致または矛盾がある場合、英語版が優先します。 モデル評価ジョブの結果が Amazon S3 にどのように保存されるかを理解する 注記 Amazon Bedrock のモデル評価はプレビューリリースであり、変更される可能性があります。 モデル評価ジョブを使用するには、米国東部 (バージニア北部) リージョンまたは米国西部 (オレゴン) リージョンを使用する必要があります。 モデル評価ジョブの結果が Amazon S3 にどのように保存されるかを理解する 注記 Amazon Bedrock のモデル評価はプレビューリリースであり、変更される可能性があります。 モデル評価ジョブを使用するには、米国東部 (バージニア北部) リージョンまたは米国西部 (オレゴン) リージョンを使用する必要があります。 モデル評価ジョブの出力は、モデル評価ジョブの作成時に指定した Amazon S3 バケットに保存されます。 モデル評価ジョブの結果は JSON Lines ファイル (.jsonl) として保存されます。\\n', metadata={'result_id': '72259ad9-8f8e-4966-8d33-b1323981ee55-8fe1c42d-e38e-4bb7-9e52-d0d38030f3b4', 'document_id': 's3://arag-workshop-kendra-04-809078683005/docs/20240525/bedrock/model-evaluation-report-s3.html', 'source': 'https://s3.us-west-2.amazonaws.com/arag-workshop-kendra-04-809078683005/docs/20240525/bedrock/model-evaluation-report-s3.html', 'title': 'モデル評価ジョブの結果が Amazon S3 にどのように保存されるかを理解する - Amazon Bedrock', 'excerpt': 'AWSドキュメントAmazon Bedrockユーザーガイド 出力データ (自動)出力データ (ヒューマンワーカー) 翻訳は機械翻訳により提供されています。 提供された翻訳内容と英語版の間で齟齬、不一致または矛盾がある場合、英語版が優先します。 モデル評価ジョブの結果が Amazon S3 にどのように保存されるかを理解する 注記 Amazon Bedrock のモデル評価はプレビューリリースであり、変更される可能性があります。 モデル評価ジョブを使用するには、米国東部 (バージニア北部) リージョンまたは米国西部 (オレゴン) リージョンを使用する必要があります。 モデル評価ジョブの結果が Amazon S3 にどのように保存されるかを理解する 注記 Amazon Bedrock のモデル評価はプレビューリリースであり、変更される可能性があります。 モデル評価ジョブを使用するには、米国東部 (バージニア北部) リージョンまたは米国西部 (オレゴン) リージョンを使用する必要があります。 モデル評価ジョブの出力は、モデル評価ジョブの作成時に指定した Amazon S3 バケットに保存されます。 モデル評価ジョブの結果は JSON Lines ファイル (.jsonl) として保存されます。', 'document_attributes': {'_source_uri': 'https://s3.us-west-2.amazonaws.com/arag-workshop-kendra-04-809078683005/docs/20240525/bedrock/model-evaluation-report-s3.html'}, 'score': 'NOT_AVAILABLE'}),\n",
      " Document(page_content='Document Title: ヒューマンワーカーによるモデル評価ジョブの作成 - Amazon Bedrock\\nDocument Excerpt: \\nヒューマンワーカーによるモデル評価ジョブでは、最大 2 つのモデルのレスポンスを比較できます。 推奨メトリクスのリストから選択することも、自分で定義したメトリクスを使用することもできます。 各 AWS リージョン のアカウントで、最大 20 個の進行中のヒューマンワーカーによるモデル評価ジョブを持つことができます。 使用するメトリクスごとに、[評価方法] を定義する必要があります。 評価方法は、選択したモデルから得たレスポンスをヒューマンワーカーがどのように評価するかを定義します。 使用できるさまざまな評価方法と、作業者向けの質の高い指示を作成する方法の詳細については、「Amazon Bedrock で作業チームを作成し管理する」を参照してください。 Amazon Bedrock コンソールを使用したモデル評価ジョブの結果の表示 モデル評価ジョブが完了すると、結果は指定した Amazon S3 バケットに保存されます。 結果の場所を何らかの方法で変更すると、モデル評価レポートカードはコンソールに表示されなくなります。 ヒューマンワーカーによるモデル評価ジョブを作成するには\\n', metadata={'result_id': '72259ad9-8f8e-4966-8d33-b1323981ee55-487ceb3c-bc93-481d-9eea-1d316757e7fb', 'document_id': 's3://arag-workshop-kendra-04-809078683005/docs/20240525/bedrock/model-evaluation-type-human-customer.html', 'source': 'https://s3.us-west-2.amazonaws.com/arag-workshop-kendra-04-809078683005/docs/20240525/bedrock/model-evaluation-type-human-customer.html', 'title': 'ヒューマンワーカーによるモデル評価ジョブの作成 - Amazon Bedrock', 'excerpt': 'ヒューマンワーカーによるモデル評価ジョブでは、最大 2 つのモデルのレスポンスを比較できます。 推奨メトリクスのリストから選択することも、自分で定義したメトリクスを使用することもできます。 各  AWS リージョン のアカウントで、最大 20 個の進行中のヒューマンワーカーによるモデル評価ジョブを持つことができます。 使用するメトリクスごとに、[評価方法] を定義する必要があります。 評価方法は、選択したモデルから得たレスポンスをヒューマンワーカーがどのように評価するかを定義します。 使用できるさまざまな評価方法と、作業者向けの質の高い指示を作成する方法の詳細については、「Amazon Bedrock で作業チームを作成し管理する」を参照してください。 Amazon Bedrock コンソールを使用したモデル評価ジョブの結果の表示 モデル評価ジョブが完了すると、結果は指定した Amazon S3 バケットに保存されます。 結果の場所を何らかの方法で変更すると、モデル評価レポートカードはコンソールに表示されなくなります。 ヒューマンワーカーによるモデル評価ジョブを作成するには', 'document_attributes': {'_source_uri': 'https://s3.us-west-2.amazonaws.com/arag-workshop-kendra-04-809078683005/docs/20240525/bedrock/model-evaluation-type-human-customer.html'}, 'score': 'NOT_AVAILABLE'}),\n",
      " Document(page_content='Document Title: モデル評価ジョブの結果が Amazon S3 にどのように保存されるかを理解する - Amazon Bedrock\\nDocument Excerpt: \\nBut it requires motivation to push yourself during the intense intervals. \\\\n\\\\n- Not suitable for beginners due to the high-intensity. Start with steady-state cardio and build up endurance before trying HIIT. \\\\n\\\\nIn summary, HIIT intersperses intense bursts of\" }] } } 次の表では、Amazon Bedrock コンソールで各メトリクスに対して選択した [評価方法] が Amazon S3 バケットでどのように返されるかについて説明しています。 evaluationResults の下の最初の子キーは、選択した [評価方法] が返される方法を示します。 Amazon Bedrock コンソールで選択した評価方法が Amazon S3 に保存される仕組み 選択された評価方法 Amazon S3 に保存 リッカート尺度 - 個別 approvalStrength リッカート尺度 - 比較 preferenceStrength 選択ボタン preferenceRate 序数ランク preferenceRank 高く評価/低く評価 approvalRate ブラウザで JavaScript が無効になっているか、使用できません。 AWS ドキュメントを使用するには、JavaScript を有効にする必要があります。 手順については、使用するブラウザのヘルプページを参照してください。\\n', metadata={'result_id': '72259ad9-8f8e-4966-8d33-b1323981ee55-759cecc8-7e16-40a3-a874-82f47647c773', 'document_id': 's3://arag-workshop-kendra-04-809078683005/docs/20240525/bedrock/model-evaluation-report-s3.html', 'source': 'https://s3.us-west-2.amazonaws.com/arag-workshop-kendra-04-809078683005/docs/20240525/bedrock/model-evaluation-report-s3.html', 'title': 'モデル評価ジョブの結果が Amazon S3 にどのように保存されるかを理解する - Amazon Bedrock', 'excerpt': 'But it requires motivation to push yourself during the intense intervals. \\\\n\\\\n- Not suitable for beginners due to the high-intensity. Start with steady-state cardio and build up endurance before trying HIIT. \\\\n\\\\nIn summary, HIIT intersperses intense bursts of\" }] } } 次の表では、Amazon Bedrock コンソールで各メトリクスに対して選択した [評価方法] が Amazon S3 バケットでどのように返されるかについて説明しています。 evaluationResults の下の最初の子キーは、選択した [評価方法] が返される方法を示します。 Amazon Bedrock コンソールで選択した評価方法が Amazon S3 に保存される仕組み 選択された評価方法\\tAmazon S3 に保存 リッカート尺度 - 個別\\tapprovalStrength リッカート尺度 - 比較\\tpreferenceStrength 選択ボタン\\tpreferenceRate 序数ランク\\tpreferenceRank 高く評価/低く評価\\tapprovalRate ブラウザで JavaScript が無効になっているか、使用できません。 AWS ドキュメントを使用するには、JavaScript を有効にする必要があります。 手順については、使用するブラウザのヘルプページを参照してください。', 'document_attributes': {'_source_uri': 'https://s3.us-west-2.amazonaws.com/arag-workshop-kendra-04-809078683005/docs/20240525/bedrock/model-evaluation-report-s3.html'}, 'score': 'NOT_AVAILABLE'}),\n",
      " Document(page_content='Document Title: モデル評価ジョブの結果が Amazon S3 にどのように保存されるかを理解する - Amazon Bedrock\\nDocument Excerpt: \\n\"modelResponses\": [{ \"modelIdentifier\": \"arn:aws:bedrock:us-east-1::foundation-model/anthropic.claude-v2\", \"responseText\": \"the-models-response-to-the-prompt\" }] モデルからの個々のレスポンス。 inputRecord JSON オブジェクトのリスト 次のコードサンプルを参照 へのリクエスト SageMaker で に送信された入力コンテンツStartHumanLoop。 以下は、モデル評価ジョブからの出力データの例です。 { \"output\": [{ \"flowDefinitionArn\": \"arn:aws:sagemaker:us-west-2:111122223333:flow-definition/flow-definition-name\", \"humanAnswers\": [{ \"acceptanceTime\": \"2023-11-09T19:17:43.107Z\", \"answerContent\": { \"evaluationResults\": { \"approvalRate\": [{ \"metric\": \"Coherence\", \"metricName\": \"Coherence\", \"modelResponseId\": \"0\", \"result\": false }, { \"metric\": \"Accuracy\",\\n', metadata={'result_id': '72259ad9-8f8e-4966-8d33-b1323981ee55-f364501a-a277-4536-af8f-5cd845db38e0', 'document_id': 's3://arag-workshop-kendra-04-809078683005/docs/20240525/bedrock/model-evaluation-report-s3.html', 'source': 'https://s3.us-west-2.amazonaws.com/arag-workshop-kendra-04-809078683005/docs/20240525/bedrock/model-evaluation-report-s3.html', 'title': 'モデル評価ジョブの結果が Amazon S3 にどのように保存されるかを理解する - Amazon Bedrock', 'excerpt': '\"modelResponses\": [{ \"modelIdentifier\": \"arn:aws:bedrock:us-east-1::foundation-model/anthropic.claude-v2\", \"responseText\": \"the-models-response-to-the-prompt\" }] モデルからの個々のレスポンス。 inputRecord JSON オブジェクトのリスト 次のコードサンプルを参照 へのリクエスト SageMaker で に送信された入力コンテンツStartHumanLoop。 以下は、モデル評価ジョブからの出力データの例です。 { \"output\": [{ \"flowDefinitionArn\": \"arn:aws:sagemaker:us-west-2:111122223333:flow-definition/flow-definition-name\", \"humanAnswers\": [{ \"acceptanceTime\": \"2023-11-09T19:17:43.107Z\", \"answerContent\": { \"evaluationResults\": { \"approvalRate\": [{ \"metric\": \"Coherence\", \"metricName\": \"Coherence\", \"modelResponseId\": \"0\", \"result\": false }, { \"metric\": \"Accuracy\",', 'document_attributes': {'_source_uri': 'https://s3.us-west-2.amazonaws.com/arag-workshop-kendra-04-809078683005/docs/20240525/bedrock/model-evaluation-report-s3.html'}, 'score': 'NOT_AVAILABLE'}),\n",
      " Document(page_content='Document Title: ヒューマンワーカーによるモデル評価ジョブの作成 - Amazon Bedrock\\nDocument Excerpt: \\n詳細については、「必要なアクセス許可」を参照してください。 Amazon Bedrock コンソールにアクセスするユーザー、グループ、またはロールには、必要な Amazon S3 バケットにアクセスするために必要な権限が必要です。 ヒューマンワーカーによるモデル評価ジョブでは、最大 2 つのモデルのレスポンスを比較できます。 推奨メトリクスのリストから選択することも、自分で定義したメトリクスを使用することもできます。 各 AWS リージョン のアカウントで、最大 20 個の進行中のヒューマンワーカーによるモデル評価ジョブを持つことができます。 使用するメトリクスごとに、[評価方法] を定義する必要があります。 評価方法は、選択したモデルから得たレスポンスをヒューマンワーカーがどのように評価するかを定義します。 使用できるさまざまな評価方法と、作業者向けの質の高い指示を作成する方法の詳細については、「Amazon Bedrock で作業チームを作成し管理する」を参照してください。 Amazon Bedrock コンソールを使用したモデル評価ジョブの結果の表示\\n', metadata={'result_id': '72259ad9-8f8e-4966-8d33-b1323981ee55-6d8825e1-53c2-4629-89f8-7fc5e206a06c', 'document_id': 's3://arag-workshop-kendra-04-809078683005/docs/20240525/bedrock/model-evaluation-type-human-customer.html', 'source': 'https://s3.us-west-2.amazonaws.com/arag-workshop-kendra-04-809078683005/docs/20240525/bedrock/model-evaluation-type-human-customer.html', 'title': 'ヒューマンワーカーによるモデル評価ジョブの作成 - Amazon Bedrock', 'excerpt': '詳細については、「必要なアクセス許可」を参照してください。 Amazon Bedrock コンソールにアクセスするユーザー、グループ、またはロールには、必要な Amazon S3 バケットにアクセスするために必要な権限が必要です。 ヒューマンワーカーによるモデル評価ジョブでは、最大 2 つのモデルのレスポンスを比較できます。 推奨メトリクスのリストから選択することも、自分で定義したメトリクスを使用することもできます。 各  AWS リージョン のアカウントで、最大 20 個の進行中のヒューマンワーカーによるモデル評価ジョブを持つことができます。 使用するメトリクスごとに、[評価方法] を定義する必要があります。 評価方法は、選択したモデルから得たレスポンスをヒューマンワーカーがどのように評価するかを定義します。 使用できるさまざまな評価方法と、作業者向けの質の高い指示を作成する方法の詳細については、「Amazon Bedrock で作業チームを作成し管理する」を参照してください。 Amazon Bedrock コンソールを使用したモデル評価ジョブの結果の表示', 'document_attributes': {'_source_uri': 'https://s3.us-west-2.amazonaws.com/arag-workshop-kendra-04-809078683005/docs/20240525/bedrock/model-evaluation-type-human-customer.html'}, 'score': 'NOT_AVAILABLE'}),\n",
      " Document(page_content='Document Title: モデル評価ジョブの結果が Amazon S3 にどのように保存されるかを理解する - Amazon Bedrock\\nDocument Excerpt: \\nモデル評価ジョブの結果が Amazon S3 にどのように保存されるかを理解する 注記 Amazon Bedrock のモデル評価はプレビューリリースであり、変更される可能性があります。 モデル評価ジョブを使用するには、米国東部 (バージニア北部) リージョンまたは米国西部 (オレゴン) リージョンを使用する必要があります。 モデル評価ジョブの出力は、モデル評価ジョブの作成時に指定した Amazon S3 バケットに保存されます。 モデル評価ジョブの結果は JSON Lines ファイル (.jsonl) として保存されます。 モデル評価ジョブの結果は、指定した S3 バケットに次のように保存されます。 ヒューマンワーカーによるモデル評価ジョブの場合: s3://user-specified-model-evaluation-job-output-bucket/human-loop-name/output.jsonl 自動モデル評価ジョブの場合: s3://user-specified-model-evaluation-job-output-bucket/output/system-generated-id-tag/datasets\\n', metadata={'result_id': '72259ad9-8f8e-4966-8d33-b1323981ee55-1cba4d69-ed9f-452b-9438-a4a95334feeb', 'document_id': 's3://arag-workshop-kendra-04-809078683005/docs/20240525/bedrock/model-evaluation-report-s3.html', 'source': 'https://s3.us-west-2.amazonaws.com/arag-workshop-kendra-04-809078683005/docs/20240525/bedrock/model-evaluation-report-s3.html', 'title': 'モデル評価ジョブの結果が Amazon S3 にどのように保存されるかを理解する - Amazon Bedrock', 'excerpt': 'モデル評価ジョブの結果が Amazon S3 にどのように保存されるかを理解する 注記 Amazon Bedrock のモデル評価はプレビューリリースであり、変更される可能性があります。 モデル評価ジョブを使用するには、米国東部 (バージニア北部) リージョンまたは米国西部 (オレゴン) リージョンを使用する必要があります。 モデル評価ジョブの出力は、モデル評価ジョブの作成時に指定した Amazon S3 バケットに保存されます。 モデル評価ジョブの結果は JSON Lines ファイル (.jsonl) として保存されます。 モデル評価ジョブの結果は、指定した S3 バケットに次のように保存されます。 ヒューマンワーカーによるモデル評価ジョブの場合: s3://user-specified-model-evaluation-job-output-bucket/human-loop-name/output.jsonl 自動モデル評価ジョブの場合: s3://user-specified-model-evaluation-job-output-bucket/output/system-generated-id-tag/datasets', 'document_attributes': {'_source_uri': 'https://s3.us-west-2.amazonaws.com/arag-workshop-kendra-04-809078683005/docs/20240525/bedrock/model-evaluation-report-s3.html'}, 'score': 'NOT_AVAILABLE'}),\n",
      " Document(page_content='Document Title: モデル評価ジョブの結果 - Amazon Bedrock\\nDocument Excerpt: \\nモデル評価ジョブの結果は、Amazon Bedrock コンソールで確認できます。 また、ジョブの作成時に指定した Amazon S3 バケットから結果をダウンロードすることもできます。 ジョブのステータスが [準備完了] に変わったら、ジョブの作成時に指定した S3 バケットを検索できます。 実行するには、[モデル評価] のホームページの [モデル評価] の表に移動して選択します。 モデル評価レポートへのアクセス方法、およびモデル評価ジョブの結果の Amazon S3 への保存方法については、以下のトピックを参照してください。 トピック 自動モデル評価ジョブのレポートカード (コンソール) 人間によるモデル評価ジョブレポートカード (コンソール) モデル評価ジョブの結果が Amazon S3 にどのように保存されるかを理解する ブラウザで JavaScript が無効になっているか、使用できません。 AWS ドキュメントを使用するには、JavaScript を有効にする必要があります。 手順については、使用するブラウザのヘルプページを参照してください。 ドキュメントの表記規則 作業チームを管理する\\n', metadata={'result_id': '72259ad9-8f8e-4966-8d33-b1323981ee55-b1ff4b86-3017-4489-b97d-8e12538a0e4d', 'document_id': 's3://arag-workshop-kendra-04-809078683005/docs/20240525/bedrock/model-evaluation-report.html', 'source': 'https://s3.us-west-2.amazonaws.com/arag-workshop-kendra-04-809078683005/docs/20240525/bedrock/model-evaluation-report.html', 'title': 'モデル評価ジョブの結果 - Amazon Bedrock', 'excerpt': 'モデル評価ジョブの結果は、Amazon Bedrock コンソールで確認できます。 また、ジョブの作成時に指定した Amazon S3 バケットから結果をダウンロードすることもできます。 ジョブのステータスが [準備完了] に変わったら、ジョブの作成時に指定した S3 バケットを検索できます。 実行するには、[モデル評価] のホームページの [モデル評価] の表に移動して選択します。 モデル評価レポートへのアクセス方法、およびモデル評価ジョブの結果の Amazon S3 への保存方法については、以下のトピックを参照してください。 トピック 自動モデル評価ジョブのレポートカード (コンソール) 人間によるモデル評価ジョブレポートカード (コンソール) モデル評価ジョブの結果が Amazon S3 にどのように保存されるかを理解する ブラウザで JavaScript が無効になっているか、使用できません。 AWS ドキュメントを使用するには、JavaScript を有効にする必要があります。 手順については、使用するブラウザのヘルプページを参照してください。 ドキュメントの表記規則 作業チームを管理する', 'document_attributes': {'_source_uri': 'https://s3.us-west-2.amazonaws.com/arag-workshop-kendra-04-809078683005/docs/20240525/bedrock/model-evaluation-report.html'}, 'score': 'NOT_AVAILABLE'}),\n",
      " Document(page_content='Document Title: モデル評価ジョブの結果が Amazon S3 にどのように保存されるかを理解する - Amazon Bedrock\\nDocument Excerpt: \\nモデル評価ジョブの結果は、指定した S3 バケットに次のように保存されます。 ヒューマンワーカーによるモデル評価ジョブの場合: s3://user-specified-model-evaluation-job-output-bucket/human-loop-name/output.jsonl 自動モデル評価ジョブの場合: s3://user-specified-model-evaluation-job-output-bucket/output/system-generated-id-tag/datasets 以下のトピックでは、自動モデル評価ジョブおよびヒューマンワーカーベースのモデル評価ジョブの結果を Amazon S3 に保存する方法について説明します。 自動モデル評価ジョブからの出力データ 自動評価ジョブの結果は、ジョブのステータスが [完了] に変わると datasets ディレクトリに保存されます。 モデル評価ジョブの作成時に選択したメトリクスとそれに対応するプロンプトデータセットごとに、JSON Lines ファイルが datasets ディレクトリに生成されます。 このファイルには、命名規則 metric_input-dataset.jsonl が使用されます。\\n', metadata={'result_id': '72259ad9-8f8e-4966-8d33-b1323981ee55-20dacacf-990f-48b8-834f-c815e18c026b', 'document_id': 's3://arag-workshop-kendra-04-809078683005/docs/20240525/bedrock/model-evaluation-report-s3.html', 'source': 'https://s3.us-west-2.amazonaws.com/arag-workshop-kendra-04-809078683005/docs/20240525/bedrock/model-evaluation-report-s3.html', 'title': 'モデル評価ジョブの結果が Amazon S3 にどのように保存されるかを理解する - Amazon Bedrock', 'excerpt': 'モデル評価ジョブの結果は、指定した S3 バケットに次のように保存されます。 ヒューマンワーカーによるモデル評価ジョブの場合: s3://user-specified-model-evaluation-job-output-bucket/human-loop-name/output.jsonl 自動モデル評価ジョブの場合: s3://user-specified-model-evaluation-job-output-bucket/output/system-generated-id-tag/datasets 以下のトピックでは、自動モデル評価ジョブおよびヒューマンワーカーベースのモデル評価ジョブの結果を Amazon S3 に保存する方法について説明します。 自動モデル評価ジョブからの出力データ 自動評価ジョブの結果は、ジョブのステータスが [完了] に変わると datasets ディレクトリに保存されます。 モデル評価ジョブの作成時に選択したメトリクスとそれに対応するプロンプトデータセットごとに、JSON Lines ファイルが datasets ディレクトリに生成されます。 このファイルには、命名規則 metric_input-dataset.jsonl が使用されます。', 'document_attributes': {'_source_uri': 'https://s3.us-west-2.amazonaws.com/arag-workshop-kendra-04-809078683005/docs/20240525/bedrock/model-evaluation-report-s3.html'}, 'score': 'NOT_AVAILABLE'})]\n"
     ]
    }
   ],
   "source": [
    "retriever = AmazonKendraRetriever(\n",
    "    index_id=kendra_index_id,\n",
    "    region_name=\"us-west-2\",\n",
    "    attribute_filter={\"EqualsTo\": {\"Key\": \"_language_code\", \"Value\": {\"StringValue\": \"ja\"}}},\n",
    "    top_k=10,\n",
    ")\n",
    "retriever.invoke(input=query_text)"
   ]
  },
  {
   "cell_type": "markdown",
   "metadata": {},
   "source": [
    "### ChatBedrock"
   ]
  },
  {
   "cell_type": "code",
   "execution_count": 19,
   "metadata": {},
   "outputs": [
    {
     "name": "stdout",
     "output_type": "stream",
     "text": [
      "AIMessage(content='Amazon Bedrockのモデル評価機能には以下のような主な機能があります:\\n\\n1. モデルの性能評価:\\n   - 分類、回帰、クラスタリングなどのタスクに対するモデルの精度、再現率、F1スコアなどの指標を評価できます。\\n   - 複数のモデルを比較して、最適なモデルを選択することができます。\\n\\n2. モデルのデバッグ:\\n   - モデルの予測結果を詳細に分析し、エラーの原因を特定することができます。\\n   - 特徴量の重要度を可視化したり、モデルの内部動作を理解するためのツールが提供されます。\\n\\n3. モデルのチューニング:\\n   - ハイパーパラメータの最適化を自動で行うことができます。\\n   - 様々な手法(グリッドサーチ、ランダムサーチ、ベイズ最適化など)を使ってチューニングを行えます。\\n\\n4. モデルのデプロイ:\\n   - 評価済みのモデルをプロダクション環境にデプロイする機能が用意されています。\\n   - モデルのバージョン管理や A/B テストなども行えます。\\n\\n5. モデルのモニタリング:\\n   - デプロイ後のモデルの振る舞いを監視し、性能の劣化を検知することができます。\\n   - 必要に応じてモデルの再トレーニングや更新を行えます。\\n\\nこのように、Amazon Bedrockのモデル評価機能は、モデルの開発から運用までのライフサイクル全体をサポートしています。', additional_kwargs={'usage': {'prompt_tokens': 31, 'completion_tokens': 492, 'total_tokens': 523}}, response_metadata={'model_id': 'anthropic.claude-3-haiku-20240307-v1:0', 'usage': {'prompt_tokens': 31, 'completion_tokens': 492, 'total_tokens': 523}}, id='run-05ac0bbb-22ba-4222-8fcb-57046673f38c-0')\n"
     ]
    }
   ],
   "source": [
    "\n",
    "chat = ChatBedrock(\n",
    "    model_id=model_id,\n",
    "    region_name=\"us-west-2\",\n",
    "    model_kwargs={\n",
    "        \"temperature\": 0,\n",
    "        \"max_tokens\": 1024,\n",
    "    }\n",
    ")\n",
    "chat.invoke(input=query_text)"
   ]
  },
  {
   "cell_type": "markdown",
   "metadata": {},
   "source": [
    "### ChatPromptTemplate"
   ]
  },
  {
   "cell_type": "code",
   "execution_count": 25,
   "metadata": {},
   "outputs": [],
   "source": [
    "system_template = \"\"\"\n",
    "あなたは親切なチャットアシスタントです。\n",
    "\n",
    "<excerpts>タグにはユーザーが知りたい情報を検索した結果のドキュメントの抜粋が含まれています。\n",
    "ドキュメントの抜粋は複数あり、それぞれの抜粋が<excerpt>タグで囲まれています。\n",
    "\n",
    "<excerpts>\n",
    "{context}\n",
    "</excerpts>\n",
    "\n",
    "<excerpts>タグ内の情報を参考にして、ユーザーの質問に答えてください。\n",
    "\"\"\"\n",
    "\n",
    "prompt = ChatPromptTemplate.from_messages(\n",
    "    [\n",
    "        (\"system\", system_template),\n",
    "        (\"human\", \"{input}\")\n",
    "    ]\n",
    ")"
   ]
  },
  {
   "cell_type": "markdown",
   "metadata": {},
   "source": [
    "### Chain\n",
    "\n",
    "ここまでは boto3 を直接叩くのと対して変わらないですが、LamgChain はその名の通り各コンポーネントをチェーンのように繋ぐことができるのが便利なところです。単純な RAG システムを構築するためのモジュールが用意されており、以下のようにして全体のフローをひとつのチェーンとして実行できます。"
   ]
  },
  {
   "cell_type": "code",
   "execution_count": null,
   "metadata": {},
   "outputs": [],
   "source": [
    "\n",
    "question_answer_chain = create_stuff_documents_chain(chat, prompt)\n",
    "chain = create_retrieval_chain(retriever, question_answer_chain)\n",
    "\n",
    "chain.invoke({\"input\": query_text})\n"
   ]
  },
  {
   "cell_type": "markdown",
   "metadata": {},
   "source": [
    "#### 参考\n",
    "LangChain において文書を要約したり質問に答えたりする際に、複数の文書をどのように処理するかはいくつか方式があります。主に以下の4つのタイプがあります。\n",
    "1. stuff\n",
    "- 全ての文書を1つのプロンプトに詰め込んで (stuff)、1回の API 呼び出しで処理する最もシンプルな方式。\n",
    "- 文書が小さく数が少ない場合に適している。\n",
    "- 大きな文書にはあまり向かない。\n",
    "2. map_reduce\n",
    "- 各文書に対して個別に LLM を適用し (map)、その結果を新しい文書とみなす。\n",
    "- それらの新しい文書を別の文書結合チェーンに渡して単一の出力を得る (reduce)。\n",
    "- 必要に応じて map された文書を再帰的に圧縮する。\n",
    "- 大きな文書を扱うのに適している。\n",
    "- API 呼び出し回数が多くなる。\n",
    "3. refine\n",
    "- 入力文書をループして反復的に回答を更新していく方式。\n",
    "- 各文書について、現在の中間回答と共に LLM に渡し、新しい回答を得る。\n",
    "- 1度に1つの文書しか LLM に渡さないため、多くの文書を分析するのに適している。\n",
    "- stuff よりもはるかに多くの LLM 呼び出しが必要。\n",
    "4. map_rerank\n",
    "- 各文書に対してプロンプトを実行し、タスクを完了させるだけでなく、回答の確からしさもスコア付けさせる。\n",
    "- スコアが最も高い回答を返す。\n",
    "以上のように、扱う文書の量や目的に応じて適切な chain type を選択することで、LangChain を使った文書の要約や質問応答をより効果的に行うことができます。\n",
    "\n",
    "https://github.com/langchain-ai/langchain/tree/master/libs/langchain/langchain/chains/combine_documents"
   ]
  },
  {
   "cell_type": "markdown",
   "metadata": {},
   "source": [
    "## LangGraph\n",
    "\n",
    "LangGraph は、LangChain をベースに構築された大規模言語モデルを用いたステートフルなマルチエージェントアプリケーションを開発するための Python ライブラリです。主な特徴は以下の通りです。\n",
    "\n",
    "1. サイクル(循環)の実装が容易で、LLM をループで呼び出しながら次のアクションを決定するようなフローを簡単に実装できる。\n",
    "2. グラフベースでエージェントのワークフローを定義し、グラフの状態を変更することで動的な応答が可能。\n",
    "3. アプリケーション全体の状態を管理する GraphState を定義でき、状態管理が容易。\n",
    "4. 複数の独立したエージェントを連携させて協調動作させることができる。\n",
    "5. 永続化機能により、長時間実行のマルチセッションアプリケーションに対応。\n",
    "6. LangChain エコシステムと統合されており、様々な機能を活用できる。\n",
    "\n",
    "他にも、Advanced RAG のような複雑なフローをグラフベースのアーキテクチャによって簡単に実装できることもメリットです。LangGraph を用いると高度な自然言語処理アプリケーションをモジュール形式で容易に実装できます。"
   ]
  },
  {
   "cell_type": "markdown",
   "metadata": {},
   "source": [
    "例えば、以下のようなフローを作る際、Retrieve や Grade などのノードをエッジ (矢印) で繋ぐことで状態 (state) 遷移の流れを構築します。\n",
    "条件分岐も conditional edge と呼ばれるコンポーネントを利用することで簡単に実現できます。\n",
    "![langgraph_crag](img/crag.png)\n",
    "出典: [Corrective RAG (CRAG) - langchain-ai/langgraph](https://github.com/langchain-ai/langgraph/blob/main/examples/rag/langgraph_crag.ipynb)"
   ]
  },
  {
   "cell_type": "markdown",
   "metadata": {},
   "source": [
    "<!--![langgraph_crag](img/crag.png)\n",
    "出典: [Corrective RAG (CRAG) - langchain-ai/langgraph](https://github.com/langchain-ai/langgraph/blob/main/examples/rag/langgraph_crag.ipynb?ref=blog.langchain.dev)-->"
   ]
  },
  {
   "cell_type": "markdown",
   "metadata": {},
   "source": [
    "### 各モジュールの構築\n",
    "\n",
    "今回構築するグラフ構造は下図の通りです。質問が投げられたら `entry_point` を経由して、ひとつ目の条件分岐に入ります。`n_queries` パラメータが1以上であれば `generate_queries` ノードで `n_queries` 個のクエリ拡張を行い、`retrieve` ノードで検索を行います。ふたつ目の条件分岐では、`grade_documents_enabled` パラメータが `\"Yes\"` であれば `grade_documents` ノードを実行し、フィルタされたドキュメントの抜粋を元に `generate` ノードで回答生成を行います。\n",
    "\n",
    "![graph](img/final_graph.png)\n",
    "\n",
    "#### State\n",
    "\n",
    "ノード間の状態 (state) は辞書形式で持つことにします。"
   ]
  },
  {
   "cell_type": "code",
   "execution_count": 5,
   "metadata": {},
   "outputs": [],
   "source": [
    "from typing import Dict, TypedDict\n",
    "from langchain_core.output_parsers import StrOutputParser\n",
    "\n",
    "\n",
    "class GraphState(TypedDict):\n",
    "    \"\"\"Represents the state of our graph.\n",
    "\n",
    "    Attributes:\n",
    "        keys: A dictionary where each key is a string.\n",
    "    \"\"\"\n",
    "\n",
    "    keys: Dict[str, any]\n"
   ]
  },
  {
   "cell_type": "markdown",
   "metadata": {},
   "source": [
    "#### Entry Point\n",
    "\n",
    "はじめに条件分岐を置きたいため、グラフのエントリーポイントとしてはパススルーのノードをセットします。"
   ]
  },
  {
   "cell_type": "code",
   "execution_count": 18,
   "metadata": {},
   "outputs": [],
   "source": [
    "def entry_point(state):\n",
    "    \"\"\"Pass through\"\"\"\n",
    "    return state"
   ]
  },
  {
   "cell_type": "markdown",
   "metadata": {},
   "source": [
    "#### ひとつ目の条件分岐\n",
    "\n",
    "`n_queries` パラメータが1以上であれば `generate_queries_enable`、0以下であれば `generate_queries_not_enable` と判断するエッジのロジックを書きます。\n",
    "\n",
    "![decide_to_generate_queries](img/decide_to_generate_queries.png)"
   ]
  },
  {
   "cell_type": "code",
   "execution_count": 19,
   "metadata": {},
   "outputs": [],
   "source": [
    "def decide_to_generate_queries(state):\n",
    "    \"\"\"\n",
    "    Determines whether to generate queries, or use the original query.\n",
    "\n",
    "    Args:\n",
    "        state (dict): The current graph state\n",
    "\n",
    "    Returns:\n",
    "        str: Binary decision for next node to call\n",
    "    \"\"\"\n",
    "\n",
    "    print(\"---DECIDE TO GENERATE QUERIES---\")\n",
    "    n_queries = state[\"keys\"][\"n_queries\"]\n",
    "\n",
    "    if n_queries > 0:\n",
    "        print(\n",
    "            \"---DECISION: GENERATE QUERIES---\"\n",
    "        )\n",
    "        return \"generate_queries_enabled\"\n",
    "    else:\n",
    "        print(\"---DECISION: NOT GENERATE QUERIES---\")\n",
    "        return \"generate_queries_not_enabled\""
   ]
  },
  {
   "cell_type": "markdown",
   "metadata": {},
   "source": [
    "#### Generate Queries: クエリ拡張\n",
    "\n",
    "元のクエリ (`question`) に加えて `n_queries` のクエリを拡張するノードを定義します。\n",
    "\n",
    "![generate_queries](img/generate_queries.png)"
   ]
  },
  {
   "cell_type": "code",
   "execution_count": 20,
   "metadata": {},
   "outputs": [],
   "source": [
    "def generate_queries(state):\n",
    "    \"\"\"Generate a variety of queries (RAG-Fusion).\n",
    "\n",
    "    Args:\n",
    "        state (dict): The current graph state\n",
    "\n",
    "    Returns:\n",
    "        state (dict): The updated graph state with generated queries.\n",
    "    \"\"\"\n",
    "    print(\"---GENERATE QUERIES---\")\n",
    "    state_dict = state[\"keys\"]\n",
    "    question = state_dict[\"question\"]\n",
    "    n_queries = state_dict[\"n_queries\"]\n",
    "\n",
    "    llm = ChatBedrock(\n",
    "        model_id=\"anthropic.claude-3-haiku-20240307-v1:0\",\n",
    "        region_name=\"us-west-2\",\n",
    "        model_kwargs={\n",
    "            \"temperature\": 0,\n",
    "            \"max_tokens\": 512,\n",
    "        }\n",
    "    )\n",
    "\n",
    "    output_format = \"\"\n",
    "    for i in range(n_queries):\n",
    "        output_format += f\"{i+1}: fill a query here\\n\"\n",
    "\n",
    "    prompt_template = \"\"\"\n",
    "検索エンジンに入力するクエリを最適化し、様々な角度から検索を行うことで、より適切で幅広い検索結果が得られるようにします。 \n",
    "具体的には、類義語や日本語と英語の表記揺れを考慮し、多角的な視点からクエリを生成します。\n",
    "\n",
    "以下の<question>タグ内にはユーザーの入力した質問文が入ります。\n",
    "この質問文に基づいて、{n_queries}個の検索用クエリを生成してください。\n",
    "各クエリは30トークン以内とし、日本語と英語を適切に混ぜて使用することで、広範囲の文書が取得できるようにしてください。\n",
    "\n",
    "生成されたクエリは、<format>タグ内のフォーマットに従って出力してください。\n",
    "\n",
    "<example>\n",
    "question: Knowledge Bases for Amazon Bedrock ではどのベクトルデータベースを使えますか？\n",
    "query 1: Knowledge Bases for Amazon Bedrock vector databases engine DB store\n",
    "query 2: Amazon Bedrock ナレッジベース ベクトル ベクター エンジン データベース ストア インデックス\n",
    "query 3: Amazon Bedrock RAG 検索拡張生成 埋め込み embedding ベクトル データベース エンジン\n",
    "</example>\n",
    "\n",
    "<format>\n",
    "{output_format}\n",
    "</format> \n",
    "\n",
    "<question>\n",
    "{question}\n",
    "</question>\n",
    "\"\"\".format(\n",
    "        output_format=output_format,\n",
    "        n_queries=n_queries,\n",
    "        question=\"{question}\",  # as-is\n",
    "    )\n",
    "    prompt = ChatPromptTemplate.from_template(prompt_template)\n",
    "\n",
    "    chain = prompt | llm | StrOutputParser() | (lambda x: x.split(\"\\n\"))\n",
    "    queries = chain.invoke({\"question\": question})\n",
    "    queries = [query.replace('\"', '') for query in queries]\n",
    "    queries = [query for query in queries if re.match(r'^\\d+:[^:]+$', query)]  # 数字:文字列の項目のみ抽出\n",
    "    queries = [f\"0: {question}\"] + queries\n",
    "    print(queries)\n",
    "\n",
    "    state_dict[\"queries\"] = queries\n",
    "\n",
    "    return {\"keys\": state_dict}"
   ]
  },
  {
   "cell_type": "markdown",
   "metadata": {},
   "source": [
    "#### Retrieve: Amazon Kendra を用いた検索\n",
    "\n",
    "Amazon Kendra でクエリに基づいて検索するノードを定義します。\n",
    "\n",
    "![retrieve](img/retrieve.png)"
   ]
  },
  {
   "cell_type": "code",
   "execution_count": 21,
   "metadata": {},
   "outputs": [],
   "source": [
    "def retrieve(state):\n",
    "    \"\"\"Retrieve documents\n",
    "\n",
    "    Args:\n",
    "        state (dict): The current graph state\n",
    "\n",
    "    Returns:\n",
    "        state (dict): New key added to state, documents, that contains retrieved documents\n",
    "    \"\"\"\n",
    "    print(\"---RETRIEVE---\")\n",
    "    state_dict = state[\"keys\"]\n",
    "    question = state_dict[\"question\"]\n",
    "    retriever = AmazonKendraRetriever(\n",
    "        index_id=kendra_index_id,\n",
    "        region_name=\"us-west-2\",\n",
    "        attribute_filter={\"EqualsTo\": {\"Key\": \"_language_code\", \"Value\": {\"StringValue\": \"ja\"}}},\n",
    "        top_k=10\n",
    "    )\n",
    "    documents = []\n",
    "    if \"queries\" in state_dict:\n",
    "        queries = state_dict[\"queries\"]\n",
    "        for query in queries:\n",
    "            documents.extend(retriever.invoke(query))\n",
    "    else:\n",
    "        documents = retriever.invoke(question)\n",
    "    state_dict[\"documents\"] = documents\n",
    "    return {\"keys\": state_dict}"
   ]
  },
  {
   "cell_type": "markdown",
   "metadata": {},
   "source": [
    "#### ふたつ目の条件分岐\n",
    "\n",
    "`grade_documents_enabled` パラメータが `\"Yes\"` であれば `grade_documents_enabled` を返し、`\"No\"` であれば `grade_documents_not_enabled` を返すロジックを書きます。\n",
    "\n",
    "![decide_to_grade_documents](img/decide_to_grade_documents.png)"
   ]
  },
  {
   "cell_type": "code",
   "execution_count": 22,
   "metadata": {},
   "outputs": [],
   "source": [
    "def decide_to_grade_documents(state):\n",
    "    \"\"\"\n",
    "    Determines whether to grade documents or not.\n",
    "\n",
    "    Args:\n",
    "        state (dict): The current graph state\n",
    "\n",
    "    Returns:\n",
    "        str: Binary decision for next node to call\n",
    "    \"\"\"\n",
    "\n",
    "    print(\"---DECIDE TO GRADE DOCUMENTS---\")\n",
    "    grade_documents_enabled = state[\"keys\"][\"grade_documents_enabled\"]\n",
    "\n",
    "    if grade_documents_enabled == \"Yes\":\n",
    "        print(\n",
    "            \"---DECISION: GRADE DOCUMENTS---\"\n",
    "        )\n",
    "        return \"grade_documents_enabled\"\n",
    "    else:\n",
    "        print(\"---DECISION: NOT GRADE DOCUMENTS---\")\n",
    "        return \"grade_documents_not_enabled\""
   ]
  },
  {
   "cell_type": "markdown",
   "metadata": {},
   "source": [
    "#### Grade Documents: 検索結果の関連度評価\n",
    "\n",
    "Amazon Kendra の検索結果が元の質問 (`question`) に関連したものになっているかを判断し、関連しないようであれば除外するノードを定義する。\n",
    "\n",
    "![grade_documents](img/grade_documents.png)"
   ]
  },
  {
   "cell_type": "code",
   "execution_count": 23,
   "metadata": {},
   "outputs": [],
   "source": [
    "def grade_documents(state):\n",
    "    \"\"\"Determines whether the retrieved documents are relevant to the question.\n",
    "\n",
    "    Args:\n",
    "        state (dict): The current graph state\n",
    "\n",
    "    Returns:\n",
    "        state (dict): Updates documents key with relevant documents\n",
    "    \"\"\"\n",
    "\n",
    "    print(\"---CHECK RELEVANCE---\")\n",
    "    state_dict = state[\"keys\"]\n",
    "    question = state_dict[\"question\"]\n",
    "    documents = state_dict[\"documents\"]\n",
    "\n",
    "    llm = ChatBedrock(\n",
    "        model_id=model_id,\n",
    "        region_name=\"us-west-2\",\n",
    "        model_kwargs={\n",
    "            \"temperature\": 0,\n",
    "            \"max_tokens\": 128,\n",
    "        }\n",
    "    )\n",
    "\n",
    "    system_template = \"\"\"\n",
    "あなたはユーザーからの質問と取得したドキュメントの関連性を評価します。\n",
    "\n",
    "<excerpt>タグ内は、検索により取得したドキュメントの抜粋です。\n",
    "\n",
    "<excerpt>\n",
    "{context}\n",
    "</excerpt>\n",
    "\n",
    "ドキュメントの抜粋が、ユーザーの質問に関連するものであるかを判別してください。\n",
    "関連していれば 'yes'、していなければ 'no' の binary score を返してください。\n",
    "binary score は<related>タグに格納し、出力は <related>yes</related> もしくは <related>no</related> のみとしてください。\n",
    "\"\"\"\n",
    "\n",
    "    #parser = XMLOutputParser(tags=[\"related\"])\n",
    "    #print(parser.get_format_instructions())\n",
    "\n",
    "    prompt = ChatPromptTemplate.from_messages(\n",
    "        [\n",
    "            (\"system\", system_template),\n",
    "            (\"human\", \"{question}\")\n",
    "        ]\n",
    "    )\n",
    "    \n",
    "\n",
    "    chain = prompt | llm | StrOutputParser()\n",
    "\n",
    "    filtered_docs = []\n",
    "\n",
    "    for doc in documents:\n",
    "        output = chain.invoke(\n",
    "            {\n",
    "                \"question\": question,\n",
    "                \"context\": doc.page_content,\n",
    "                #\"format_instructions\": parser.get_format_instructions(),\n",
    "            }\n",
    "        )\n",
    "        pattern = r\"<related>(.*?)</related>\"\n",
    "        match = re.search(pattern, output)\n",
    "\n",
    "        if match:\n",
    "            score = match.group(1)\n",
    "            if score == \"yes\":\n",
    "                print(\"---GRADE: DOCUMENT RELEVANT---\")\n",
    "                filtered_docs.append(doc)\n",
    "            else:\n",
    "                print(\"---GRADE: DOCUMENT NOT RELEVANT---\")\n",
    "                continue\n",
    "        else:\n",
    "            print(\"マッチする文字列がありません。\")\n",
    "\n",
    "    search = \"Yes\" if len(filtered_docs) == 0 else \"No\"\n",
    "\n",
    "    state_dict[\"documents\"] = filtered_docs\n",
    "    state_dict[\"run_web_search\"] = search\n",
    "\n",
    "    return {\n",
    "        \"keys\": state_dict\n",
    "    }"
   ]
  },
  {
   "cell_type": "markdown",
   "metadata": {},
   "source": [
    "#### Generate\n",
    "\n",
    "検索で得られたドキュメントの抜粋をもとに質問への回答生成を行うノードを定義する。\n",
    "\n",
    "![generate](img/generate.png)"
   ]
  },
  {
   "cell_type": "code",
   "execution_count": 24,
   "metadata": {},
   "outputs": [],
   "source": [
    "def generate(state):\n",
    "    \"\"\"Generate documents\n",
    "\n",
    "    Args:\n",
    "        state (dict): The current graph state\n",
    "\n",
    "    Returns:\n",
    "        state (dict): New key added to state, generation, that contains LLM generation\n",
    "    \"\"\"\n",
    "    print(\"---GENERATE---\")\n",
    "    state_dict = state[\"keys\"]\n",
    "    question = state_dict[\"question\"]\n",
    "    documents = state_dict[\"documents\"]\n",
    "\n",
    "    system_template = \"\"\"\n",
    "あなたは親切なチャットアシスタントです。\n",
    "\n",
    "<excerpts>タグにはユーザーが知りたい情報を検索した結果のドキュメントの抜粋が含まれています。\n",
    "ドキュメントの抜粋は複数あり、それぞれの抜粋が<excerpt>タグで囲まれています。\n",
    "\n",
    "<excerpts>\n",
    "{context}\n",
    "</excerpts>\n",
    "\n",
    "<excerpts>タグ内の情報を参考にして、ユーザーの質問に答えてください。\n",
    "ただし、<rule>タグ内の回答ルールを遵守してください。\n",
    "\n",
    "<rule>\n",
    "- 回答には<excerpts>, <excerpt>, <query>タグを含めないこと。\n",
    "- 回答は<answer>タグで囲むこと。\n",
    "- 回答する前に、質問へ回答するために必要な情報が与えられているか考え、<thinking>タグに判断の理由を書いてください。\n",
    "</rule>\n",
    "\"\"\"\n",
    "\n",
    "    prompt = ChatPromptTemplate.from_messages(\n",
    "        [\n",
    "            (\"system\", system_template),\n",
    "            (\"human\", \"{question}\")\n",
    "        ]\n",
    "    )\n",
    "\n",
    "    llm = ChatBedrock(\n",
    "        model_id=model_id,\n",
    "        region_name=\"us-west-2\",\n",
    "        model_kwargs={\n",
    "            \"temperature\": 0,\n",
    "            \"max_tokens\": 1024,\n",
    "        }\n",
    "    )\n",
    "\n",
    "    rag_chain = prompt | llm | StrOutputParser()\n",
    "\n",
    "    output = rag_chain.invoke({\"context\": documents, \"question\": question})\n",
    "\n",
    "    match = re.search(r\"<answer>(.*?)</answer>\", output, re.DOTALL)\n",
    "    if match:\n",
    "        generation = match.group(1).strip()\n",
    "    else:\n",
    "        generation = \"\"\n",
    "\n",
    "    state_dict[\"generation\"] = generation\n",
    "    return {\n",
    "        \"keys\": state_dict\n",
    "    }\n",
    "    "
   ]
  },
  {
   "cell_type": "markdown",
   "metadata": {},
   "source": [
    "### Graph 全体を構築\n",
    "\n",
    "![final_graph](img/final_graph.png)"
   ]
  },
  {
   "cell_type": "code",
   "execution_count": 25,
   "metadata": {},
   "outputs": [],
   "source": [
    "from langgraph.graph import END, StateGraph\n",
    "\n",
    "workflow = StateGraph(GraphState)\n",
    "\n",
    "# ノードを追加\n",
    "workflow.add_node(\"entry_point\", entry_point)\n",
    "workflow.add_node(\"generate_queries\", generate_queries)\n",
    "workflow.add_node(\"retrieve\", retrieve)\n",
    "workflow.add_node(\"grade_documents\", grade_documents)\n",
    "workflow.add_node(\"generate\", generate)\n",
    "\n",
    "# グラフのフローを定義\n",
    "workflow.set_entry_point(\"entry_point\")\n",
    "workflow.add_conditional_edges(\n",
    "    \"entry_point\",\n",
    "    decide_to_generate_queries,\n",
    "    {\n",
    "        \"generate_queries_enabled\": \"generate_queries\",\n",
    "        \"generate_queries_not_enabled\": \"retrieve\",\n",
    "    },\n",
    ")\n",
    "workflow.add_edge(\"generate_queries\", \"retrieve\")\n",
    "workflow.add_conditional_edges(\n",
    "    \"retrieve\",\n",
    "    decide_to_grade_documents,\n",
    "    {\n",
    "        \"grade_documents_enabled\": \"grade_documents\",\n",
    "        \"grade_documents_not_enabled\": \"generate\",\n",
    "    }\n",
    ")\n",
    "workflow.add_edge(\"grade_documents\", \"generate\")\n",
    "workflow.add_edge(\"generate\", END)\n",
    "\n",
    "# グラフのコンパイル\n",
    "app = workflow.compile()"
   ]
  },
  {
   "cell_type": "markdown",
   "metadata": {},
   "source": [
    "### Graph を実行\n",
    "\n",
    "LangGraph で構築したグラフは `app.stream(inputs)` で実行できます。for loop を用いることでグラフ構造に従ってそれぞれのノードが実行されていきます。"
   ]
  },
  {
   "cell_type": "code",
   "execution_count": 29,
   "metadata": {},
   "outputs": [],
   "source": [
    "def invoke_graph(app, inputs):\n",
    "    for output in app.stream(inputs):\n",
    "        for key, value in output.items():\n",
    "            pprint(f\"Node '{key}':\")\n",
    "        print(\"\\n---\\n\")\n",
    "\n",
    "    pprint(value[\"keys\"][\"generation\"])"
   ]
  },
  {
   "cell_type": "markdown",
   "metadata": {},
   "source": [
    "以下で `question` や `n_queries`、`grade_documents_enabled` の値を変えることで Advanced RAG の手法をオンオフしながら質問してみましょう。\n",
    "\n",
    "<b> ＊ 今回の実装では負荷の軽減のため Kendra の検索や関連度評価は同期的に実行していますが、非同期的に並列で実行することでレイテンシーを大幅に削減することができます。 </b>"
   ]
  },
  {
   "cell_type": "code",
   "execution_count": 35,
   "metadata": {},
   "outputs": [
    {
     "name": "stdout",
     "output_type": "stream",
     "text": [
      "\"Node 'entry_point':\"\n",
      "\n",
      "---\n",
      "\n",
      "---DECIDE TO GENERATE QUERIES---\n",
      "---DECISION: GENERATE QUERIES---\n",
      "---GENERATE QUERIES---\n"
     ]
    },
    {
     "name": "stdout",
     "output_type": "stream",
     "text": [
      "['0: Knowledge Bases for Amazon Bedrock ではどういったベクトルデータベースを利用できますか？', '1: Amazon Bedrock knowledge base vector database engine storage', '2: Amazon Bedrock ナレッジベース ベクトルデータベース エンジン DB ストア', '3: Amazon Bedrock vector database engine index embedding']\n",
      "\"Node 'generate_queries':\"\n",
      "\n",
      "---\n",
      "\n",
      "---RETRIEVE---\n",
      "\"Node 'retrieve':\"\n",
      "\n",
      "---\n",
      "\n",
      "---DECIDE TO GRADE DOCUMENTS---\n",
      "---DECISION: NOT GRADE DOCUMENTS---\n",
      "---GENERATE---\n",
      "\"Node 'generate':\"\n",
      "\n",
      "---\n",
      "\n",
      "\"Node '__end__':\"\n",
      "\n",
      "---\n",
      "\n",
      "('Knowledge Bases for Amazon Bedrock では、Amazon OpenSearch Serverless ベクターストアや '\n",
      " 'Amazon Aurora データベースクラスターなどのベクトルデータベースを利用できます。\\n'\n",
      " 'ベクトルデータベースの設定時には、faissベクターインデックスがエンジンで設定されていることを確認する必要があります。nmslibベクトルインデックスがエンジンで設定されている場合は、別のベクトルインデックスを作成し、faissエンジンを選択する必要があります。')\n"
     ]
    }
   ],
   "source": [
    "\n",
    "# 質問集\n",
    "question = \"Knowledge Bases for Amazon Bedrock ではどういったベクトルデータベースを利用できますか？\"\n",
    "#question = \"Amazon Kendraを使ってWebサイトのコンテンツを検索可能にしたいと考えています。クロールの対象とするURLを制限する方法はありますか?\"\n",
    "#question = \"Kendra で使用できるデータソースを全部教えて\"\n",
    "#question = \"Amazon Kendra がサポートしているユーザーアクセス制御の方法は？\"\n",
    "#question = \"Amazon Kendra の検索分析のメトリクスには何がありますか？\"\n",
    "#question = \"Amazon Bedrock で Claude 3 Sonnet の基盤モデルに関する情報を取得する Python コードを教えて\"\n",
    "#question = \"ナレッジベースでのembeddingモデルの選択肢は？\"\n",
    "#question = \"Amazon Kendraで検索結果のランキングロジックをカスタマイズできますか？\"\n",
    "#question = \"Amazon Kendraにはどんなエディションがありますか？\"\n",
    "#question = \"Amazon Bedrock でモデルにアクセスするには何が必要ですか？\"\n",
    "#question = \"Bedrockのagent機能は東京リージョンでは使えますか？\"\n",
    "#question = \"外国語学習を効果的に進めるコツとは？\"\n",
    "#question = \"Amazon CloudFrontの仕組みについて説明してください。\"\n",
    "#question = \"Amazon EC2の特徴は何ですか？\"\n",
    "\n",
    "inputs = {\"keys\": {\n",
    "    \"question\": question, \n",
    "    \"n_queries\": -1,  # generate_queries_not_enabled\n",
    "    \"grade_documents_enabled\": \"No\",\n",
    "    #\"n_queries\": 3,  # generate_queries_enabled\n",
    "    #\"grade_documents_enabled\": \"Yes\",\n",
    "}}\n",
    "\n",
    "invoke_graph(app, inputs)"
   ]
  },
  {
   "cell_type": "markdown",
   "metadata": {},
   "source": [
    "## まとめ\n",
    "\n",
    "本ノートブックでは、Amazon Bedrock と Amazon Kendra を用いて Naive RAG から Advanced RAG までを段階的に構築する方法について学びました。\n",
    "\n",
    "今回の Naive RAG の構成は、Amazon Kendra でドキュメントを検索し、その検索結果を Amazon Bedrock の Claude モデルに渡して回答を生成するシンプルなアプローチです。\n",
    "boto3 を直接使う方法と、LangChain を使ってコンポーネント化する方法を紹介しました。\n",
    "\n",
    "Advanced RAGでは、いくつかの手法を組み合わせることで、より高度な検索と回答生成を実現しました。\n",
    "\n",
    "- Pre-retrieval のクエリ拡張により、元のクエリだけでなく関連する複数のクエリで検索することで、より多様で適切な検索結果を得られるようにしました。\n",
    "- Post-retrieval の関連度評価では、検索結果の各ドキュメントが元の質問に関連しているかを判定し、無関係なドキュメントを除外することで、回答の精度向上を図りました。\n",
    "\n",
    "最後に、LangGraph というグラフベースのフレームワークを使って、Advanced RAG の一連の処理フローをモジュール化し、パラメータを切り替えるだけで簡単に実行できるようにしました。\n",
    "\n",
    "本ノートブックで紹介したテクニックを応用することで、LLM とナレッジベース、検索エンジンを組み合わせた高度な質問応答システムを構築することができます。実務への適用の際は、非同期処理の導入などパフォーマンスチューニングも必要になるでしょう。\n",
    "\n",
    "LLM の性能は目覚ましい発展を遂げていますが、すべての知識を言語モデル内に詰め込むのは現実的ではありません。社内の情報資産を安全に利活用しながら、言語モデルの汎用的な能力と組み合わせる本アプローチは、企業の生産性を高め、イノベーションを加速する有望な手段になると考えられます。ぜひ参考にしていただければ幸いです。"
   ]
  },
  {
   "cell_type": "markdown",
   "metadata": {},
   "source": []
  }
 ],
 "metadata": {
  "kernelspec": {
   "display_name": ".venv",
   "language": "python",
   "name": "python3"
  },
  "language_info": {
   "codemirror_mode": {
    "name": "ipython",
    "version": 3
   },
   "file_extension": ".py",
   "mimetype": "text/x-python",
   "name": "python",
   "nbconvert_exporter": "python",
   "pygments_lexer": "ipython3",
   "version": "3.10.7"
  }
 },
 "nbformat": 4,
 "nbformat_minor": 2
}
